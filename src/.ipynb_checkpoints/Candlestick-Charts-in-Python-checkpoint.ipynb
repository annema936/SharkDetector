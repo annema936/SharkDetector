{
    "cells": [
        {
            "source": [
                "# Plotly Candlestick Chart in Python"
            ],
            "metadata": {
                "collapsed": false
            },
            "cell_type": "markdown"
        },
        {
            "source": [
                "import pandas.io.data as web\n",
                "from datetime import datetime\n",
                "import numpy as np\n",
                "import pandas as pd\n",
                "import plotly.plotly as py"
            ],
            "outputs": [],
            "metadata": {
                "collapsed": false
            },
            "cell_type": "code",
            "execution_count": 489
        },
        {
            "source": [
                "df = web.DataReader(\"gs\", 'yahoo', datetime(2008, 1, 1), datetime(2008, 12, 28))"
            ],
            "outputs": [],
            "metadata": {
                "collapsed": true
            },
            "cell_type": "code",
            "execution_count": 490
        },
        {
            "source": [
                "df.head()"
            ],
            "outputs": [
                {
                    "data": {
                        "text/html": [
                            "<div>\n",
                            "<table border=\"1\" class=\"dataframe\">\n",
                            "  <thead>\n",
                            "    <tr style=\"text-align: right;\">\n",
                            "      <th></th>\n",
                            "      <th>Open</th>\n",
                            "      <th>High</th>\n",
                            "      <th>Low</th>\n",
                            "      <th>Close</th>\n",
                            "      <th>Volume</th>\n",
                            "      <th>Adj Close</th>\n",
                            "    </tr>\n",
                            "    <tr>\n",
                            "      <th>Date</th>\n",
                            "      <th></th>\n",
                            "      <th></th>\n",
                            "      <th></th>\n",
                            "      <th></th>\n",
                            "      <th></th>\n",
                            "      <th></th>\n",
                            "    </tr>\n",
                            "  </thead>\n",
                            "  <tbody>\n",
                            "    <tr>\n",
                            "      <th>2008-01-02</th>\n",
                            "      <td>214.800003</td>\n",
                            "      <td>215.050003</td>\n",
                            "      <td>206.600006</td>\n",
                            "      <td>207.600006</td>\n",
                            "      <td>9573500</td>\n",
                            "      <td>185.414549</td>\n",
                            "    </tr>\n",
                            "    <tr>\n",
                            "      <th>2008-01-03</th>\n",
                            "      <td>208.919998</td>\n",
                            "      <td>209.039993</td>\n",
                            "      <td>204.139999</td>\n",
                            "      <td>204.839996</td>\n",
                            "      <td>7751700</td>\n",
                            "      <td>182.949492</td>\n",
                            "    </tr>\n",
                            "    <tr>\n",
                            "      <th>2008-01-04</th>\n",
                            "      <td>201.000000</td>\n",
                            "      <td>204.000000</td>\n",
                            "      <td>198.289993</td>\n",
                            "      <td>199.929993</td>\n",
                            "      <td>10157900</td>\n",
                            "      <td>178.564202</td>\n",
                            "    </tr>\n",
                            "    <tr>\n",
                            "      <th>2008-01-07</th>\n",
                            "      <td>200.229996</td>\n",
                            "      <td>200.250000</td>\n",
                            "      <td>189.990005</td>\n",
                            "      <td>194.729996</td>\n",
                            "      <td>16044400</td>\n",
                            "      <td>173.919910</td>\n",
                            "    </tr>\n",
                            "    <tr>\n",
                            "      <th>2008-01-08</th>\n",
                            "      <td>195.809998</td>\n",
                            "      <td>199.500000</td>\n",
                            "      <td>189.000000</td>\n",
                            "      <td>189.500000</td>\n",
                            "      <td>13553700</td>\n",
                            "      <td>169.248825</td>\n",
                            "    </tr>\n",
                            "  </tbody>\n",
                            "</table>\n",
                            "</div>"
                        ],
                        "text/plain": [
                            "                  Open        High         Low       Close    Volume  \\\n",
                            "Date                                                                   \n",
                            "2008-01-02  214.800003  215.050003  206.600006  207.600006   9573500   \n",
                            "2008-01-03  208.919998  209.039993  204.139999  204.839996   7751700   \n",
                            "2008-01-04  201.000000  204.000000  198.289993  199.929993  10157900   \n",
                            "2008-01-07  200.229996  200.250000  189.990005  194.729996  16044400   \n",
                            "2008-01-08  195.809998  199.500000  189.000000  189.500000  13553700   \n",
                            "\n",
                            "             Adj Close  \n",
                            "Date                    \n",
                            "2008-01-02  185.414549  \n",
                            "2008-01-03  182.949492  \n",
                            "2008-01-04  178.564202  \n",
                            "2008-01-07  173.919910  \n",
                            "2008-01-08  169.248825  "
                        ]
                    },
                    "metadata": {},
                    "output_type": "execute_result",
                    "execution_count": 491
                }
            ],
            "metadata": {
                "collapsed": false
            },
            "cell_type": "code",
            "execution_count": 491
        },
        {
            "source": [
                "### Initial candlestick chart"
            ],
            "metadata": {},
            "cell_type": "markdown"
        },
        {
            "source": [
                "INCREASING_COLOR = '#17BECF'\n",
                "DECREASING_COLOR = '#7F7F7F'"
            ],
            "outputs": [],
            "metadata": {
                "collapsed": true
            },
            "cell_type": "code",
            "execution_count": 492
        },
        {
            "source": [
                "data = [ dict(\n",
                "    type = 'candlestick',\n",
                "    open = df.Open,\n",
                "    high = df.High,\n",
                "    low = df.Low,\n",
                "    close = df.Close,\n",
                "    x = df.index,\n",
                "    yaxis = 'y2',\n",
                "    name = 'GS',\n",
                "    increasing = dict( line = dict( color = INCREASING_COLOR ) ),\n",
                "    decreasing = dict( line = dict( color = DECREASING_COLOR ) ),\n",
                ") ]\n",
                "\n",
                "layout=dict()\n",
                "\n",
                "fig = dict( data=data, layout=layout )"
            ],
            "outputs": [],
            "metadata": {
                "collapsed": false
            },
            "cell_type": "code",
            "execution_count": 493
        },
        {
            "source": [
                "### Create the layout object"
            ],
            "metadata": {},
            "cell_type": "markdown"
        },
        {
            "source": [
                "fig['layout'] = dict()\n",
                "fig['layout']['plot_bgcolor'] = 'rgb(250, 250, 250)'\n",
                "fig['layout']['xaxis'] = dict( rangeselector = dict( visible = True ) )\n",
                "fig['layout']['yaxis'] = dict( domain = [0, 0.2], showticklabels = False )\n",
                "fig['layout']['yaxis2'] = dict( domain = [0.2, 0.8] )\n",
                "fig['layout']['legend'] = dict( orientation = 'h', y=0.9, x=0.3, yanchor='bottom' )\n",
                "fig['layout']['margin'] = dict( t=40, b=40, r=40, l=40 )"
            ],
            "outputs": [],
            "metadata": {
                "collapsed": true
            },
            "cell_type": "code",
            "execution_count": 502
        },
        {
            "source": [
                "### Add range buttons"
            ],
            "metadata": {},
            "cell_type": "markdown"
        },
        {
            "source": [
                "rangeselector=dict(\n",
                "    visibe = True,\n",
                "    x = 0, y = 0.9,\n",
                "    bgcolor = 'rgba(150, 200, 250, 0.4)',\n",
                "    font = dict( size = 13 ),\n",
                "    buttons=list([\n",
                "        dict(count=1,\n",
                "             label='reset',\n",
                "             step='all'),\n",
                "        dict(count=1,\n",
                "             label='1yr',\n",
                "             step='year',\n",
                "             stepmode='backward'),\n",
                "        dict(count=3,\n",
                "            label='3 mo',\n",
                "            step='month',\n",
                "            stepmode='backward'),\n",
                "        dict(count=1,\n",
                "            label='1 mo',\n",
                "            step='month',\n",
                "            stepmode='backward'),\n",
                "        dict(step='all')\n",
                "    ]))\n",
                "    \n",
                "fig['layout']['xaxis']['rangeselector'] = rangeselector"
            ],
            "outputs": [],
            "metadata": {
                "collapsed": false
            },
            "cell_type": "code",
            "execution_count": 504
        },
        {
            "source": [
                "### Add moving average"
            ],
            "metadata": {},
            "cell_type": "markdown"
        },
        {
            "source": [
                "def movingaverage(interval, window_size=10):\n",
                "    window = np.ones(int(window_size))/float(window_size)\n",
                "    return np.convolve(interval, window, 'same')"
            ],
            "outputs": [],
            "metadata": {
                "collapsed": true
            },
            "cell_type": "code",
            "execution_count": 496
        },
        {
            "source": [
                "mv_y = movingaverage(df.Close)\n",
                "mv_x = list(df.index)\n",
                "\n",
                "# Clip the ends\n",
                "mv_x = mv_x[5:-5]\n",
                "mv_y = mv_y[5:-5]\n",
                "\n",
                "fig['data'].append( dict( x=mv_x, y=mv_y, type='scatter', mode='lines', \n",
                "                         line = dict( width = 1 ),\n",
                "                         marker = dict( color = '#E377C2' ),\n",
                "                         yaxis = 'y2', name='Moving Average' ) )"
            ],
            "outputs": [],
            "metadata": {
                "collapsed": false
            },
            "cell_type": "code",
            "execution_count": 497
        },
        {
            "source": [
                "### Set volume bar chart colors"
            ],
            "metadata": {},
            "cell_type": "markdown"
        },
        {
            "source": [
                "colors = []\n",
                "\n",
                "for i in range(len(df.Close)):\n",
                "    if i != 0:\n",
                "        if df.Close[i] > df.Close[i-1]:\n",
                "            colors.append(INCREASING_COLOR)\n",
                "        else:\n",
                "            colors.append(DECREASING_COLOR)\n",
                "    else:\n",
                "        colors.append(DECREASING_COLOR)"
            ],
            "outputs": [],
            "metadata": {
                "collapsed": true
            },
            "cell_type": "code",
            "execution_count": 498
        },
        {
            "source": [
                "### Add volume bar chart"
            ],
            "metadata": {},
            "cell_type": "markdown"
        },
        {
            "source": [
                "fig['data'].append( dict( x=df.index, y=df.Volume,                         \n",
                "                         marker=dict( color=colors ),\n",
                "                         type='bar', yaxis='y', name='Volume' ) )"
            ],
            "outputs": [],
            "metadata": {
                "collapsed": true
            },
            "cell_type": "code",
            "execution_count": 499
        },
        {
            "source": [
                "### Add bollinger bands"
            ],
            "metadata": {},
            "cell_type": "markdown"
        },
        {
            "source": [
                "def bbands(price, window_size=10, num_of_std=5):\n",
                "    rolling_mean = price.rolling(window=window_size).mean()\n",
                "    rolling_std  = price.rolling(window=window_size).std()\n",
                "    upper_band = rolling_mean + (rolling_std*num_of_std)\n",
                "    lower_band = rolling_mean - (rolling_std*num_of_std)\n",
                "    return rolling_mean, upper_band, lower_band\n",
                "\n",
                "bb_avg, bb_upper, bb_lower = bbands(df.Close)\n",
                "\n",
                "fig['data'].append( dict( x=df.index, y=bb_upper, type='scatter', yaxis='y2', \n",
                "                         line = dict( width = 1 ),\n",
                "                         marker=dict(color='#ccc'), hoverinfo='none', \n",
                "                         legendgroup='Bollinger Bands', name='Bollinger Bands') )\n",
                "\n",
                "fig['data'].append( dict( x=df.index, y=bb_lower, type='scatter', yaxis='y2',\n",
                "                         line = dict( width = 1 ),\n",
                "                         marker=dict(color='#ccc'), hoverinfo='none',\n",
                "                         legendgroup='Bollinger Bands', showlegend=False ) )"
            ],
            "outputs": [],
            "metadata": {
                "collapsed": false
            },
            "cell_type": "code",
            "execution_count": 500
        },
        {
            "source": [
                "### Plot"
            ],
            "metadata": {},
            "cell_type": "markdown"
        },
        {
            "source": [
                "py.iplot( fig, filename = 'candlestick-test-3', validate = False )"
            ],
            "outputs": [
                {
                    "data": {
                        "text/html": [
                            "<iframe id=\"igraph\" scrolling=\"no\" style=\"border:none;\" seamless=\"seamless\" src=\"https://plot.ly/~jackp/17419.embed\" height=\"525px\" width=\"100%\"></iframe>"
                        ],
                        "text/plain": [
                            "<plotly.tools.PlotlyDisplay object>"
                        ]
                    },
                    "metadata": {},
                    "output_type": "execute_result",
                    "execution_count": 505
                }
            ],
            "metadata": {
                "scrolled": false,
                "collapsed": false
            },
            "cell_type": "code",
            "execution_count": 505
        },
        {
            "source": [],
            "outputs": [],
            "metadata": {
                "collapsed": true
            },
            "cell_type": "code",
            "execution_count": null
        }
    ],
    "metadata": {
        "kernelspec": {
            "name": "conda-root-py",
            "language": "python",
            "display_name": "Python [conda root]"
        },
        "language_info": {
            "name": "python",
            "version": "2.7.12",
            "mimetype": "text/x-python",
            "file_extension": ".py",
            "pygments_lexer": "ipython2",
            "codemirror_mode": {
                "name": "ipython",
                "version": 2
            },
            "nbconvert_exporter": "python"
        },
        "anaconda-cloud": {}
    },
    "nbformat": 4,
    "nbformat_minor": 1
}