{
 "cells": [
  {
   "cell_type": "code",
   "execution_count": null,
   "metadata": {},
   "outputs": [],
   "source": [
    "import requests\n",
    "from bs4 import BeautifulSoup\n",
    "import pandas as pd"
   ]
  },
  {
   "cell_type": "code",
   "execution_count": null,
   "metadata": {},
   "outputs": [],
   "source": [
    "def live_avg_volume(counter):\n",
    "    URL = 'https://www.klsescreener.com/v2/stocks/view/'+str(counter)\n",
    "    page = requests.get(URL)\n",
    "    soup = BeautifulSoup(page.content, 'html.parser')\n",
    "    avg_vol=soup.find(\"td\", text=\"Relative Volume\").find_next_sibling(\"td\").text\n",
    "    avg_vol = int(avg_vol.split()[0].replace(',',''))\n",
    "    return avg_vol"
   ]
  },
  {
   "cell_type": "code",
   "execution_count": null,
   "metadata": {},
   "outputs": [],
   "source": [
    "volume=live_avg_volume(5199)"
   ]
  },
  {
   "cell_type": "code",
   "execution_count": null,
   "metadata": {},
   "outputs": [],
   "source": [
    "from klse_scrapper import *"
   ]
  },
  {
   "cell_type": "code",
   "execution_count": null,
   "metadata": {},
   "outputs": [],
   "source": [
    "live_volume_stats(5199)"
   ]
  },
  {
   "cell_type": "code",
   "execution_count": null,
   "metadata": {},
   "outputs": [],
   "source": [
    "def live_avg_volume(counter):\n",
    "    URL = 'https://www.klsescreener.com/v2/stocks/view/'+str(counter)\n",
    "    page = requests.get(URL)\n",
    "    soup = BeautifulSoup(page.content, 'html.parser')\n",
    "    stoc=soup.find(\"td\", text=\"RSI(14)\").find_next_sibling(\"td\").text\n",
    "    print(float(stoc.split()[1].replace(',','')))"
   ]
  },
  {
   "cell_type": "code",
   "execution_count": null,
   "metadata": {},
   "outputs": [],
   "source": [
    "live_avg_volume(5199)"
   ]
  },
  {
   "cell_type": "code",
   "execution_count": null,
   "metadata": {},
   "outputs": [],
   "source": [
    "def get_listing_companies():\n",
    "    URL = 'https://www.klsescreener.com/v2/screener/quote_results?getquote=1&board=1'\n",
    "    page = requests.get(URL)\n",
    "    soup = BeautifulSoup(page.content, 'html.parser')\n",
    "    lists = soup.findAll('tr', {'class': 'list'})\n",
    "    co_={\"title\":[],\"code\":[],\"board\":[],\"cat\":[],\"capital\":[],\"vol\":[]}\n",
    "    for list_ in lists:\n",
    "        title_=list_.find('td')['title'] #find will return the first element in td list\n",
    "        code_=list_.find('td', {'title':'Code'}).text.strip()\n",
    "        cat_=raw_cat_[0]\n",
    "        if(len(raw_cat_)>1):\n",
    "            board_=raw_cat_[1].strip()\n",
    "            print(board_)\n",
    "        else:\n",
    "            board_=''\n",
    "        capital_=float(list_.find('td', {'title':'Market Capital'}).text)\n",
    "        vol_=float(list_.find('td', {'title':'Volume'}).text)\n",
    "        raw_cat_=list_.find('td', {'title':'Category'}).text.split(',')\n",
    "        co_[\"title\"].append(title_)\n",
    "        co_[\"code\"].append(code_)\n",
    "        co_[\"board\"].append(board_)\n",
    "        co_[\"cat\"].append(cat_)\n",
    "        co_[\"capital\"].append(capital_)\n",
    "        co_[\"vol\"].append(vol_)\n",
    "    df = pd.DataFrame(data=co_)\n",
    "    return df"
   ]
  },
  {
   "cell_type": "code",
   "execution_count": null,
   "metadata": {},
   "outputs": [],
   "source": [
    "lists=get_listing_companies()\n"
   ]
  },
  {
   "cell_type": "code",
   "execution_count": 97,
   "metadata": {},
   "outputs": [],
   "source": [
    "df.to_csv('klse_listed_companies.csv',index=False)"
   ]
  },
  {
   "cell_type": "code",
   "execution_count": 91,
   "metadata": {},
   "outputs": [
    {
     "data": {
      "text/plain": [
       "<pandas.core.groupby.generic.DataFrameGroupBy object at 0x00000227C18B70F0>"
      ]
     },
     "execution_count": 91,
     "metadata": {},
     "output_type": "execute_result"
    }
   ],
   "source": [
    "df.groupby('board').get_group('Main Market').groupby('cat')"
   ]
  },
  {
   "cell_type": "code",
   "execution_count": 96,
   "metadata": {},
   "outputs": [
    {
     "data": {
      "text/plain": [
       "array(['Telecommunications & Media', 'Consumer Products & Services',\n",
       "       'Industrial Products & Services', 'Plantation', 'Health Care',\n",
       "       'Property', 'Technology', 'Financial Services', 'Construction',\n",
       "       'Transportation & Logistics', 'Utilities', 'Energy',\n",
       "       'Real Estate Investment Trusts', 'Closed-End Fund', 'SPAC'],\n",
       "      dtype=object)"
      ]
     },
     "execution_count": 96,
     "metadata": {},
     "output_type": "execute_result"
    }
   ],
   "source": [
    "df.groupby('board').get_group('Main Market').cat.unique()"
   ]
  },
  {
   "cell_type": "code",
   "execution_count": null,
   "metadata": {},
   "outputs": [],
   "source": []
  }
 ],
 "metadata": {
  "kernelspec": {
   "display_name": "Python 3",
   "language": "python",
   "name": "python3"
  },
  "language_info": {
   "codemirror_mode": {
    "name": "ipython",
    "version": 3
   },
   "file_extension": ".py",
   "mimetype": "text/x-python",
   "name": "python",
   "nbconvert_exporter": "python",
   "pygments_lexer": "ipython3",
   "version": "3.6.10"
  }
 },
 "nbformat": 4,
 "nbformat_minor": 4
}
