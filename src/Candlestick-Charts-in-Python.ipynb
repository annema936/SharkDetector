{
 "cells": [
  {
   "cell_type": "markdown",
   "metadata": {},
   "source": [
    "# Plotly Candlestick Chart in Python"
   ]
  },
  {
   "cell_type": "code",
   "execution_count": 9,
   "metadata": {
    "collapsed": false,
    "jupyter": {
     "outputs_hidden": false
    }
   },
   "outputs": [],
   "source": [
    "import pandas_datareader.data as web\n",
    "from datetime import datetime\n",
    "import numpy as np\n",
    "import pandas as pd\n",
    "import chart_studio.plotly as py"
   ]
  },
  {
   "cell_type": "code",
   "execution_count": 28,
   "metadata": {},
   "outputs": [],
   "source": [
    "df = web.DataReader(\"5199.KL\", 'yahoo', datetime(2020, 1, 1), datetime(2020, 6, 1))"
   ]
  },
  {
   "cell_type": "code",
   "execution_count": 30,
   "metadata": {
    "collapsed": false,
    "jupyter": {
     "outputs_hidden": false
    }
   },
   "outputs": [
    {
     "data": {
      "text/html": [
       "<div>\n",
       "<style scoped>\n",
       "    .dataframe tbody tr th:only-of-type {\n",
       "        vertical-align: middle;\n",
       "    }\n",
       "\n",
       "    .dataframe tbody tr th {\n",
       "        vertical-align: top;\n",
       "    }\n",
       "\n",
       "    .dataframe thead th {\n",
       "        text-align: right;\n",
       "    }\n",
       "</style>\n",
       "<table border=\"1\" class=\"dataframe\">\n",
       "  <thead>\n",
       "    <tr style=\"text-align: right;\">\n",
       "      <th></th>\n",
       "      <th>High</th>\n",
       "      <th>Low</th>\n",
       "      <th>Open</th>\n",
       "      <th>Close</th>\n",
       "      <th>Volume</th>\n",
       "      <th>Adj Close</th>\n",
       "    </tr>\n",
       "    <tr>\n",
       "      <th>Date</th>\n",
       "      <th></th>\n",
       "      <th></th>\n",
       "      <th></th>\n",
       "      <th></th>\n",
       "      <th></th>\n",
       "      <th></th>\n",
       "    </tr>\n",
       "  </thead>\n",
       "  <tbody>\n",
       "    <tr>\n",
       "      <th>2020-01-02</th>\n",
       "      <td>0.97</td>\n",
       "      <td>0.935</td>\n",
       "      <td>0.94</td>\n",
       "      <td>0.970</td>\n",
       "      <td>9899400</td>\n",
       "      <td>0.970</td>\n",
       "    </tr>\n",
       "    <tr>\n",
       "      <th>2020-01-03</th>\n",
       "      <td>1.03</td>\n",
       "      <td>0.955</td>\n",
       "      <td>0.97</td>\n",
       "      <td>0.995</td>\n",
       "      <td>69226100</td>\n",
       "      <td>0.995</td>\n",
       "    </tr>\n",
       "    <tr>\n",
       "      <th>2020-01-06</th>\n",
       "      <td>1.07</td>\n",
       "      <td>1.020</td>\n",
       "      <td>1.02</td>\n",
       "      <td>1.050</td>\n",
       "      <td>86078500</td>\n",
       "      <td>1.050</td>\n",
       "    </tr>\n",
       "    <tr>\n",
       "      <th>2020-01-07</th>\n",
       "      <td>1.04</td>\n",
       "      <td>1.000</td>\n",
       "      <td>1.04</td>\n",
       "      <td>1.000</td>\n",
       "      <td>33397400</td>\n",
       "      <td>1.000</td>\n",
       "    </tr>\n",
       "    <tr>\n",
       "      <th>2020-01-08</th>\n",
       "      <td>1.07</td>\n",
       "      <td>1.010</td>\n",
       "      <td>1.05</td>\n",
       "      <td>1.030</td>\n",
       "      <td>58464000</td>\n",
       "      <td>1.030</td>\n",
       "    </tr>\n",
       "  </tbody>\n",
       "</table>\n",
       "</div>"
      ],
      "text/plain": [
       "            High    Low  Open  Close    Volume  Adj Close\n",
       "Date                                                     \n",
       "2020-01-02  0.97  0.935  0.94  0.970   9899400      0.970\n",
       "2020-01-03  1.03  0.955  0.97  0.995  69226100      0.995\n",
       "2020-01-06  1.07  1.020  1.02  1.050  86078500      1.050\n",
       "2020-01-07  1.04  1.000  1.04  1.000  33397400      1.000\n",
       "2020-01-08  1.07  1.010  1.05  1.030  58464000      1.030"
      ]
     },
     "execution_count": 30,
     "metadata": {},
     "output_type": "execute_result"
    }
   ],
   "source": [
    "df.head()"
   ]
  },
  {
   "cell_type": "markdown",
   "metadata": {},
   "source": [
    "### Initial candlestick chart"
   ]
  },
  {
   "cell_type": "code",
   "execution_count": 31,
   "metadata": {},
   "outputs": [],
   "source": [
    "INCREASING_COLOR = '#17BECF'\n",
    "DECREASING_COLOR = '#7F7F7F'"
   ]
  },
  {
   "cell_type": "code",
   "execution_count": 32,
   "metadata": {
    "collapsed": false,
    "jupyter": {
     "outputs_hidden": false
    }
   },
   "outputs": [],
   "source": [
    "data = [ dict(\n",
    "    type = 'candlestick',\n",
    "    open = df.Open,\n",
    "    high = df.High,\n",
    "    low = df.Low,\n",
    "    close = df.Close,\n",
    "    x = df.index,\n",
    "    yaxis = 'y2',\n",
    "    name = 'GS',\n",
    "    increasing = dict( line = dict( color = INCREASING_COLOR ) ),\n",
    "    decreasing = dict( line = dict( color = DECREASING_COLOR ) ),\n",
    ") ]\n",
    "\n",
    "layout=dict()\n",
    "\n",
    "fig = dict( data=data, layout=layout )"
   ]
  },
  {
   "cell_type": "markdown",
   "metadata": {},
   "source": [
    "### Create the layout object"
   ]
  },
  {
   "cell_type": "code",
   "execution_count": 33,
   "metadata": {},
   "outputs": [],
   "source": [
    "fig['layout'] = dict()\n",
    "fig['layout']['plot_bgcolor'] = 'rgb(250, 250, 250)'\n",
    "fig['layout']['xaxis'] = dict( rangeselector = dict( visible = True ) )\n",
    "fig['layout']['yaxis'] = dict( domain = [0, 0.2], showticklabels = False )\n",
    "fig['layout']['yaxis2'] = dict( domain = [0.2, 0.8] )\n",
    "fig['layout']['legend'] = dict( orientation = 'h', y=0.9, x=0.3, yanchor='bottom' )\n",
    "fig['layout']['margin'] = dict( t=40, b=40, r=40, l=40 )"
   ]
  },
  {
   "cell_type": "markdown",
   "metadata": {},
   "source": [
    "### Add range buttons"
   ]
  },
  {
   "cell_type": "code",
   "execution_count": 34,
   "metadata": {
    "collapsed": false,
    "jupyter": {
     "outputs_hidden": false
    }
   },
   "outputs": [],
   "source": [
    "rangeselector=dict(\n",
    "    visibe = True,\n",
    "    x = 0, y = 0.9,\n",
    "    bgcolor = 'rgba(150, 200, 250, 0.4)',\n",
    "    font = dict( size = 13 ),\n",
    "    buttons=list([\n",
    "        dict(count=1,\n",
    "             label='reset',\n",
    "             step='all'),\n",
    "        dict(count=1,\n",
    "             label='1yr',\n",
    "             step='year',\n",
    "             stepmode='backward'),\n",
    "        dict(count=3,\n",
    "            label='3 mo',\n",
    "            step='month',\n",
    "            stepmode='backward'),\n",
    "        dict(count=1,\n",
    "            label='1 mo',\n",
    "            step='month',\n",
    "            stepmode='backward'),\n",
    "        dict(step='all')\n",
    "    ]))\n",
    "    \n",
    "fig['layout']['xaxis']['rangeselector'] = rangeselector"
   ]
  },
  {
   "cell_type": "markdown",
   "metadata": {},
   "source": [
    "### Add moving average"
   ]
  },
  {
   "cell_type": "code",
   "execution_count": 35,
   "metadata": {},
   "outputs": [],
   "source": [
    "def movingaverage(interval, window_size=10):\n",
    "    window = np.ones(int(window_size))/float(window_size)\n",
    "    return np.convolve(interval, window, 'same')"
   ]
  },
  {
   "cell_type": "code",
   "execution_count": 36,
   "metadata": {
    "collapsed": false,
    "jupyter": {
     "outputs_hidden": false
    }
   },
   "outputs": [],
   "source": [
    "mv_y = movingaverage(df.Close)\n",
    "mv_x = list(df.index)\n",
    "\n",
    "# Clip the ends\n",
    "mv_x = mv_x[5:-5]\n",
    "mv_y = mv_y[5:-5]\n",
    "\n",
    "fig['data'].append( dict( x=mv_x, y=mv_y, type='scatter', mode='lines', \n",
    "                         line = dict( width = 1 ),\n",
    "                         marker = dict( color = '#E377C2' ),\n",
    "                         yaxis = 'y2', name='Moving Average' ) )"
   ]
  },
  {
   "cell_type": "markdown",
   "metadata": {},
   "source": [
    "### Set volume bar chart colors"
   ]
  },
  {
   "cell_type": "code",
   "execution_count": 37,
   "metadata": {},
   "outputs": [],
   "source": [
    "colors = []\n",
    "\n",
    "for i in range(len(df.Close)):\n",
    "    if i != 0:\n",
    "        if df.Close[i] > df.Close[i-1]:\n",
    "            colors.append(INCREASING_COLOR)\n",
    "        else:\n",
    "            colors.append(DECREASING_COLOR)\n",
    "    else:\n",
    "        colors.append(DECREASING_COLOR)"
   ]
  },
  {
   "cell_type": "markdown",
   "metadata": {},
   "source": [
    "### Add volume bar chart"
   ]
  },
  {
   "cell_type": "code",
   "execution_count": 38,
   "metadata": {},
   "outputs": [],
   "source": [
    "fig['data'].append( dict( x=df.index, y=df.Volume,                         \n",
    "                         marker=dict( color=colors ),\n",
    "                         type='bar', yaxis='y', name='Volume' ) )"
   ]
  },
  {
   "cell_type": "markdown",
   "metadata": {},
   "source": [
    "### Add bollinger bands"
   ]
  },
  {
   "cell_type": "code",
   "execution_count": 39,
   "metadata": {
    "collapsed": false,
    "jupyter": {
     "outputs_hidden": false
    }
   },
   "outputs": [],
   "source": [
    "def bbands(price, window_size=10, num_of_std=5):\n",
    "    rolling_mean = price.rolling(window=window_size).mean()\n",
    "    rolling_std  = price.rolling(window=window_size).std()\n",
    "    upper_band = rolling_mean + (rolling_std*num_of_std)\n",
    "    lower_band = rolling_mean - (rolling_std*num_of_std)\n",
    "    return rolling_mean, upper_band, lower_band\n",
    "\n",
    "bb_avg, bb_upper, bb_lower = bbands(df.Close)\n",
    "\n",
    "fig['data'].append( dict( x=df.index, y=bb_upper, type='scatter', yaxis='y2', \n",
    "                         line = dict( width = 1 ),\n",
    "                         marker=dict(color='#ccc'), hoverinfo='none', \n",
    "                         legendgroup='Bollinger Bands', name='Bollinger Bands') )\n",
    "\n",
    "fig['data'].append( dict( x=df.index, y=bb_lower, type='scatter', yaxis='y2',\n",
    "                         line = dict( width = 1 ),\n",
    "                         marker=dict(color='#ccc'), hoverinfo='none',\n",
    "                         legendgroup='Bollinger Bands', showlegend=False ) )"
   ]
  },
  {
   "cell_type": "markdown",
   "metadata": {},
   "source": [
    "### Plot"
   ]
  },
  {
   "cell_type": "code",
   "execution_count": 40,
   "metadata": {
    "collapsed": false,
    "jupyter": {
     "outputs_hidden": false
    }
   },
   "outputs": [
    {
     "data": {
      "text/html": [
       "\n",
       "        <iframe\n",
       "            width=\"100%\"\n",
       "            height=\"525px\"\n",
       "            src=\"https://plotly.com/~chiupc/1.embed\"\n",
       "            frameborder=\"0\"\n",
       "            allowfullscreen\n",
       "        ></iframe>\n",
       "        "
      ],
      "text/plain": [
       "<IPython.lib.display.IFrame at 0x2c5cc076908>"
      ]
     },
     "execution_count": 40,
     "metadata": {},
     "output_type": "execute_result"
    }
   ],
   "source": [
    "py.iplot( fig, filename = 'candlestick-test-3', validate = False )"
   ]
  },
  {
   "cell_type": "code",
   "execution_count": null,
   "metadata": {
    "collapsed": true,
    "jupyter": {
     "outputs_hidden": true
    }
   },
   "outputs": [],
   "source": []
  }
 ],
 "metadata": {
  "anaconda-cloud": {},
  "kernelspec": {
   "display_name": "Python 3",
   "language": "python",
   "name": "python3"
  },
  "language_info": {
   "codemirror_mode": {
    "name": "ipython",
    "version": 3
   },
   "file_extension": ".py",
   "mimetype": "text/x-python",
   "name": "python",
   "nbconvert_exporter": "python",
   "pygments_lexer": "ipython3",
   "version": "3.6.10"
  }
 },
 "nbformat": 4,
 "nbformat_minor": 4
}
