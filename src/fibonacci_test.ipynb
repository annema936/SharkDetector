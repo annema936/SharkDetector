{
 "cells": [
  {
   "cell_type": "code",
   "execution_count": 1,
   "metadata": {},
   "outputs": [],
   "source": [
    "import os\n",
    "from session_handler import *\n",
    "from shareinvestor_scrapper import *\n",
    "from fibonacci import *\n",
    "from datetime import timedelta,datetime,date,time"
   ]
  },
  {
   "cell_type": "code",
   "execution_count": null,
   "metadata": {},
   "outputs": [
    {
     "name": "stdout",
     "output_type": "stream",
     "text": [
      "https://www.klsescreener.com/v2/trading_view/history?symbol=6947&resolution=D&from=1585476000&to=1593219600\n"
     ]
    },
    {
     "name": "stderr",
     "output_type": "stream",
     "text": [
      "D:\\SharkDetector\\src\\fibonacci.py:30: SettingWithCopyWarning:\n",
      "\n",
      "\n",
      "A value is trying to be set on a copy of a slice from a DataFrame.\n",
      "Try using .loc[row_indexer,col_indexer] = value instead\n",
      "\n",
      "See the caveats in the documentation: https://pandas.pydata.org/pandas-docs/stable/user_guide/indexing.html#returning-a-view-versus-a-copy\n",
      "\n",
      "D:\\SharkDetector\\src\\fibonacci.py:34: SettingWithCopyWarning:\n",
      "\n",
      "\n",
      "A value is trying to be set on a copy of a slice from a DataFrame.\n",
      "Try using .loc[row_indexer,col_indexer] = value instead\n",
      "\n",
      "See the caveats in the documentation: https://pandas.pydata.org/pandas-docs/stable/user_guide/indexing.html#returning-a-view-versus-a-copy\n",
      "\n",
      "D:\\SharkDetector\\src\\fibonacci.py:35: SettingWithCopyWarning:\n",
      "\n",
      "\n",
      "A value is trying to be set on a copy of a slice from a DataFrame.\n",
      "Try using .loc[row_indexer,col_indexer] = value instead\n",
      "\n",
      "See the caveats in the documentation: https://pandas.pydata.org/pandas-docs/stable/user_guide/indexing.html#returning-a-view-versus-a-copy\n",
      "\n",
      "D:\\SharkDetector\\src\\fibonacci.py:36: SettingWithCopyWarning:\n",
      "\n",
      "\n",
      "A value is trying to be set on a copy of a slice from a DataFrame.\n",
      "Try using .loc[row_indexer,col_indexer] = value instead\n",
      "\n",
      "See the caveats in the documentation: https://pandas.pydata.org/pandas-docs/stable/user_guide/indexing.html#returning-a-view-versus-a-copy\n",
      "\n",
      "D:\\SharkDetector\\src\\fibonacci.py:37: SettingWithCopyWarning:\n",
      "\n",
      "\n",
      "A value is trying to be set on a copy of a slice from a DataFrame.\n",
      "Try using .loc[row_indexer,col_indexer] = value instead\n",
      "\n",
      "See the caveats in the documentation: https://pandas.pydata.org/pandas-docs/stable/user_guide/indexing.html#returning-a-view-versus-a-copy\n",
      "\n",
      "D:\\SharkDetector\\src\\fibonacci.py:38: SettingWithCopyWarning:\n",
      "\n",
      "\n",
      "A value is trying to be set on a copy of a slice from a DataFrame.\n",
      "Try using .loc[row_indexer,col_indexer] = value instead\n",
      "\n",
      "See the caveats in the documentation: https://pandas.pydata.org/pandas-docs/stable/user_guide/indexing.html#returning-a-view-versus-a-copy\n",
      "\n",
      "D:\\SharkDetector\\src\\fibonacci.py:40: SettingWithCopyWarning:\n",
      "\n",
      "\n",
      "A value is trying to be set on a copy of a slice from a DataFrame.\n",
      "Try using .loc[row_indexer,col_indexer] = value instead\n",
      "\n",
      "See the caveats in the documentation: https://pandas.pydata.org/pandas-docs/stable/user_guide/indexing.html#returning-a-view-versus-a-copy\n",
      "\n",
      "D:\\SharkDetector\\src\\fibonacci.py:41: SettingWithCopyWarning:\n",
      "\n",
      "\n",
      "A value is trying to be set on a copy of a slice from a DataFrame.\n",
      "Try using .loc[row_indexer,col_indexer] = value instead\n",
      "\n",
      "See the caveats in the documentation: https://pandas.pydata.org/pandas-docs/stable/user_guide/indexing.html#returning-a-view-versus-a-copy\n",
      "\n"
     ]
    },
    {
     "name": "stdout",
     "output_type": "stream",
     "text": [
      "https://www.klsescreener.com/v2/trading_view/history?symbol=2836&resolution=D&from=1585476000&to=1593219600\n",
      "https://www.klsescreener.com/v2/trading_view/history?symbol=4162&resolution=D&from=1585476000&to=1593219600\n",
      "https://www.klsescreener.com/v2/trading_view/history?symbol=5181&resolution=D&from=1585476000&to=1593219600\n",
      "https://www.klsescreener.com/v2/trading_view/history?symbol=6399&resolution=D&from=1585476000&to=1593219600\n",
      "https://www.klsescreener.com/v2/trading_view/history?symbol=4707&resolution=D&from=1585476000&to=1593219600\n",
      "https://www.klsescreener.com/v2/trading_view/history?symbol=3026&resolution=D&from=1585476000&to=1593219600\n",
      "https://www.klsescreener.com/v2/trading_view/history?symbol=3255&resolution=D&from=1585476000&to=1593219600\n",
      "https://www.klsescreener.com/v2/trading_view/history?symbol=7195&resolution=D&from=1585476000&to=1593219600\n",
      "https://www.klsescreener.com/v2/trading_view/history?symbol=03017&resolution=D&from=1585476000&to=1593219600\n",
      "https://www.klsescreener.com/v2/trading_view/history?symbol=03007&resolution=D&from=1585476000&to=1593219600\n",
      "https://www.klsescreener.com/v2/trading_view/history?symbol=5250&resolution=D&from=1585476000&to=1593219600\n",
      "https://www.klsescreener.com/v2/trading_view/history?symbol=9792&resolution=D&from=1585476000&to=1593219600\n",
      "https://www.klsescreener.com/v2/trading_view/history?symbol=7100&resolution=D&from=1585476000&to=1593219600\n",
      "https://www.klsescreener.com/v2/trading_view/history?symbol=0150&resolution=D&from=1585476000&to=1593219600\n",
      "https://www.klsescreener.com/v2/trading_view/history?symbol=1902&resolution=D&from=1585476000&to=1593219600\n",
      "https://www.klsescreener.com/v2/trading_view/history?symbol=0829EB&resolution=D&from=1585476000&to=1593219600\n",
      "https://www.klsescreener.com/v2/trading_view/history?symbol=7191&resolution=D&from=1585476000&to=1593219600\n",
      "https://www.klsescreener.com/v2/trading_view/history?symbol=5105&resolution=D&from=1585476000&to=1593219600\n",
      "https://www.klsescreener.com/v2/trading_view/history?symbol=1724&resolution=D&from=1585476000&to=1593219600\n",
      "https://www.klsescreener.com/v2/trading_view/history?symbol=0138&resolution=D&from=1585476000&to=1593219600\n",
      "https://www.klsescreener.com/v2/trading_view/history?symbol=5248&resolution=D&from=1585476000&to=1593219600\n",
      "https://www.klsescreener.com/v2/trading_view/history?symbol=03006&resolution=D&from=1585476000&to=1593219600\n",
      "https://www.klsescreener.com/v2/trading_view/history?symbol=0126&resolution=D&from=1585476000&to=1593219600\n",
      "https://www.klsescreener.com/v2/trading_view/history?symbol=7231&resolution=D&from=1585476000&to=1593219600\n",
      "https://www.klsescreener.com/v2/trading_view/history?symbol=5024&resolution=D&from=1585476000&to=1593219600\n",
      "https://www.klsescreener.com/v2/trading_view/history?symbol=03010&resolution=D&from=1585476000&to=1593219600\n",
      "https://www.klsescreener.com/v2/trading_view/history?symbol=6139&resolution=D&from=1585476000&to=1593219600\n",
      "https://www.klsescreener.com/v2/trading_view/history?symbol=0208&resolution=D&from=1585476000&to=1593219600\n",
      "https://www.klsescreener.com/v2/trading_view/history?symbol=1818&resolution=D&from=1585476000&to=1593219600\n",
      "https://www.klsescreener.com/v2/trading_view/history?symbol=7181&resolution=D&from=1585476000&to=1593219600\n",
      "https://www.klsescreener.com/v2/trading_view/history?symbol=03008&resolution=D&from=1585476000&to=1593219600\n",
      "https://www.klsescreener.com/v2/trading_view/history?symbol=7183&resolution=D&from=1585476000&to=1593219600\n",
      "https://www.klsescreener.com/v2/trading_view/history?symbol=0198&resolution=D&from=1585476000&to=1593219600\n",
      "https://www.klsescreener.com/v2/trading_view/history?symbol=0106&resolution=D&from=1585476000&to=1593219600\n",
      "https://www.klsescreener.com/v2/trading_view/history?symbol=6645&resolution=D&from=1585476000&to=1593219600\n",
      "https://www.klsescreener.com/v2/trading_view/history?symbol=5292&resolution=D&from=1585476000&to=1593219600\n",
      "https://www.klsescreener.com/v2/trading_view/history?symbol=5246&resolution=D&from=1585476000&to=1593219600\n",
      "https://www.klsescreener.com/v2/trading_view/history?symbol=03005&resolution=D&from=1585476000&to=1593219600\n",
      "https://www.klsescreener.com/v2/trading_view/history?symbol=7077&resolution=D&from=1585476000&to=1593219600\n",
      "https://www.klsescreener.com/v2/trading_view/history?symbol=6351&resolution=D&from=1585476000&to=1593219600\n",
      "https://www.klsescreener.com/v2/trading_view/history?symbol=7233&resolution=D&from=1585476000&to=1593219600\n",
      "https://www.klsescreener.com/v2/trading_view/history?symbol=5102&resolution=D&from=1585476000&to=1593219600\n",
      "https://www.klsescreener.com/v2/trading_view/history?symbol=03003&resolution=D&from=1585476000&to=1593219600\n"
     ]
    }
   ],
   "source": [
    "df_=mine_retracement_level()"
   ]
  },
  {
   "cell_type": "code",
   "execution_count": null,
   "metadata": {},
   "outputs": [],
   "source": [
    "from_=datetime.combine(date.today()-timedelta(days=90), time(18)).timestamp()\n",
    "to_=datetime.combine(date.today(), time(9)).timestamp()\n",
    "event={'symbol':'VS','counter':'6963','from':int(from_),'to':int(to_),'resolution':'D'}\n",
    "df=klse_price_data(event)\n",
    "df['Datetime']=pd.to_datetime(df['Datetime'])\n",
    "df['Close']=df['Close'].astype(float)"
   ]
  },
  {
   "cell_type": "code",
   "execution_count": null,
   "metadata": {},
   "outputs": [],
   "source": [
    "df_max_time=df_fibo['Datetime'].iloc[0].timestamp()\n",
    "df_filtered=df[df['Datetime'].apply(lambda x: x.timestamp()) > df_max_time]\n",
    "#df_filtered[df_filtered['Close'].astype(float)<df_max['Fibo382'].values[0]]\n",
    "df_dist=calc_fibonacci_dist(df_filtered,df_fibo)\n",
    "df_dist=df_dist.abs()\n",
    "df_dist.loc[df_dist['Close'].idxmin()].idxmin()"
   ]
  },
  {
   "cell_type": "code",
   "execution_count": null,
   "metadata": {},
   "outputs": [],
   "source": [
    "plot_fibonacci(df,df_fibo,event['symbol'])"
   ]
  },
  {
   "cell_type": "code",
   "execution_count": null,
   "metadata": {},
   "outputs": [],
   "source": []
  }
 ],
 "metadata": {
  "kernelspec": {
   "display_name": "Python 3",
   "language": "python",
   "name": "python3"
  },
  "language_info": {
   "codemirror_mode": {
    "name": "ipython",
    "version": 3
   },
   "file_extension": ".py",
   "mimetype": "text/x-python",
   "name": "python",
   "nbconvert_exporter": "python",
   "pygments_lexer": "ipython3",
   "version": "3.6.10"
  }
 },
 "nbformat": 4,
 "nbformat_minor": 4
}
