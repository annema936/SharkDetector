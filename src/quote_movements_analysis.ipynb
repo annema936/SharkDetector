{
 "cells": [
  {
   "cell_type": "code",
   "execution_count": 1,
   "metadata": {},
   "outputs": [
    {
     "name": "stderr",
     "output_type": "stream",
     "text": [
      "C:\\ProgramData\\Anaconda3\\envs\\fastai\\lib\\site-packages\\sklearn\\utils\\deprecation.py:144: FutureWarning:\n",
      "\n",
      "The sklearn.ensemble.forest module is  deprecated in version 0.22 and will be removed in version 0.24. The corresponding classes / functions should instead be imported from sklearn.ensemble. Anything that cannot be imported from sklearn.ensemble is now part of the private API.\n",
      "\n"
     ]
    }
   ],
   "source": [
    "import pandas as pd\n",
    "from klse_scrapper import *\n",
    "from plot_utils import *\n",
    "from utils import *\n",
    "from fastai.imports import *\n",
    "from fastai.structured import *\n",
    "from loess.loess_1d import loess_1d\n",
    "from datetime import datetime, date, time, timedelta\n",
    "from workalendar.asia import Malaysia\n",
    "from counter import Counter\n",
    "import os\n",
    "from session_handler import *"
   ]
  },
  {
   "cell_type": "code",
   "execution_count": 2,
   "metadata": {},
   "outputs": [
    {
     "data": {
      "text/html": [
       "        <script type=\"text/javascript\">\n",
       "        window.PlotlyConfig = {MathJaxConfig: 'local'};\n",
       "        if (window.MathJax) {MathJax.Hub.Config({SVG: {font: \"STIX-Web\"}});}\n",
       "        if (typeof require !== 'undefined') {\n",
       "        require.undef(\"plotly\");\n",
       "        requirejs.config({\n",
       "            paths: {\n",
       "                'plotly': ['https://cdn.plot.ly/plotly-latest.min']\n",
       "            }\n",
       "        });\n",
       "        require(['plotly'], function(Plotly) {\n",
       "            window._Plotly = Plotly;\n",
       "        });\n",
       "        }\n",
       "        </script>\n",
       "        "
      ]
     },
     "metadata": {},
     "output_type": "display_data"
    },
    {
     "data": {
      "text/html": [
       "        <script type=\"text/javascript\">\n",
       "        window.PlotlyConfig = {MathJaxConfig: 'local'};\n",
       "        if (window.MathJax) {MathJax.Hub.Config({SVG: {font: \"STIX-Web\"}});}\n",
       "        if (typeof require !== 'undefined') {\n",
       "        require.undef(\"plotly\");\n",
       "        requirejs.config({\n",
       "            paths: {\n",
       "                'plotly': ['https://cdn.plot.ly/plotly-latest.min']\n",
       "            }\n",
       "        });\n",
       "        require(['plotly'], function(Plotly) {\n",
       "            window._Plotly = Plotly;\n",
       "        });\n",
       "        }\n",
       "        </script>\n",
       "        "
      ]
     },
     "metadata": {},
     "output_type": "display_data"
    }
   ],
   "source": [
    "from ggplot import *\n",
    "# Standard plotly imports\n",
    "import chart_studio.plotly as py\n",
    "import plotly.graph_objs as go\n",
    "from plotly.subplots import make_subplots\n",
    "from plotly.offline import iplot, init_notebook_mode\n",
    "# Using plotly + cufflinks in offline mode\n",
    "import cufflinks as cf\n",
    "cf.go_offline(connected=True)\n",
    "init_notebook_mode(connected=True)\n",
    "from loess.loess_1d import loess_1d\n",
    "import plotly.figure_factory as ff\n",
    "import plotly.express as px\n",
    "from statsmodels.tsa.seasonal import seasonal_decompose\n",
    "import plotly.offline as py"
   ]
  },
  {
   "cell_type": "code",
   "execution_count": 3,
   "metadata": {},
   "outputs": [],
   "source": [
    "def split_buy_sell_queue(df_):\n",
    "    def split_queue(col):\n",
    "        test=df_[col].str.split(\" \", n = 1, expand = True)\n",
    "        buy_vol_chg=list()\n",
    "        buy_vol = list()\n",
    "        for item in list(test[0].fillna('0').values):\n",
    "            try:\n",
    "                buy_vol_chg.append(int(item.replace(',','').replace('(','').replace(')','')))\n",
    "            except Exception as e:\n",
    "                buy_vol_chg.append(0)\n",
    "        for item in list(test[1].fillna('0').values):\n",
    "            try:\n",
    "                buy_vol.append(int(item.replace(',','')))\n",
    "            except Exception as e:\n",
    "                buy_vol.append(0)\n",
    "        return buy_vol_chg,buy_vol \n",
    "    buy_vol_chg,buy_vol =split_queue('buy_queue_vol')\n",
    "    sell_vol_chg,sell_vol =split_queue('sell_queue_vol')\n",
    "    df_['buy_queue_vol']=buy_vol\n",
    "    df_['buy_vol_chg']=buy_vol_chg\n",
    "    df_['sell_queue_vol']=sell_vol\n",
    "    df_['sell_vol_chg']=sell_vol_chg\n",
    "    return df_"
   ]
  },
  {
   "cell_type": "code",
   "execution_count": 4,
   "metadata": {},
   "outputs": [],
   "source": [
    "def construct_series(df,title):\n",
    "    series={'title':title,'x':list(df.index),'y':list(df.values)}\n",
    "    return series"
   ]
  },
  {
   "cell_type": "code",
   "execution_count": 5,
   "metadata": {},
   "outputs": [],
   "source": [
    "def calculate_force_data(event_,interval='1min'):\n",
    "    date_=datetime.fromtimestamp(event_['to']).strftime(\"%Y-%m-%d\")\n",
    "    csv_path=build_quote_movements_csv(event_)\n",
    "    row={'symbol':event_['symbol'],'counter':event_['counter'],'date':date_}\n",
    "    if os.path.exists(csv_path):\n",
    "        df_=pd.read_csv(csv_path,parse_dates=['time'])\n",
    "        df_=split_buy_sell_queue(df_)\n",
    "        df_=df_.iloc[::-1]\n",
    "        df_=df_.set_index('time')\n",
    "        dfcal_=pd.DataFrame()\n",
    "        dfcal_=df_[df_['type'].notna()].resample(interval).agg({'last_done_vol':'sum','last_done_price':'last'})\n",
    "        dfcal_['price_change_pct']=dfcal_['last_done_price'].pct_change()*100\n",
    "        dfcal_['force']=dfcal_['price_change_pct']*dfcal_['last_done_vol']\n",
    "        row['force_sum']=dfcal_['force'].sum()\n",
    "        row['force_max']=dfcal_['force'].max()\n",
    "        row['force_min']=dfcal_['force'].min()\n",
    "        row['force_mean']=dfcal_['force'].mean()\n",
    "        row['force_std']=dfcal_['force'].std()\n",
    "        row['price_change_min']=dfcal_['price_change_pct'].min()\n",
    "        row['price_change_max']=dfcal_['price_change_pct'].max()\n",
    "        row['price_change_std']=dfcal_['price_change_pct'].std()\n",
    "        row['buy_vol_chg_max']=df_.resample(interval).agg({'buy_vol_chg':'max'})['buy_vol_chg'].max()\n",
    "        row['buy_vol_chg_mean']=df_.resample(interval).agg({'buy_vol_chg':'mean'})['buy_vol_chg'].mean()\n",
    "        row['sell_vol_chg_max']=df_.resample(interval).agg({'sell_vol_chg':'max'})['sell_vol_chg'].max()\n",
    "        row['sell_vol_chg_mean']=df_.resample(interval).agg({'sell_vol_chg':'mean'})['sell_vol_chg'].mean()\n",
    "        return row"
   ]
  },
  {
   "cell_type": "code",
   "execution_count": 6,
   "metadata": {},
   "outputs": [],
   "source": [
    "def mine_force_data(board,category,from_,to_,interval):\n",
    "    date_start=datetime.fromtimestamp(from_).strftime(\"%Y-%m-%d\")\n",
    "    date_end=datetime.fromtimestamp(to_).strftime(\"%Y-%m-%d\")\n",
    "    dir_=build_force_dir(category)\n",
    "    if not os.path.exists(dir_): os.makedirs(dir_)   \n",
    "    df=get_board_category_listings(board,category)\n",
    "    lists_=df[['symbol','code','cat']].to_dict('records')\n",
    "    events=build_event_lists(lists_=lists_,from_=from_,to_=to_)\n",
    "    rows=[]\n",
    "    for event in events:\n",
    "        events_=distribute_requests(event)\n",
    "        for event_ in events_:\n",
    "            csv_path=build_quote_movements_csv(event_)\n",
    "            if os.path.exists(csv_path):\n",
    "                try:\n",
    "                    row=calculate_force_data(event_,interval)\n",
    "                    rows.append(row)\n",
    "                except Exception as e:\n",
    "                    print('Error occurred when processing: '+csv_path + '\\nError: ' + str(e))\n",
    "    df_=pd.DataFrame(rows)\n",
    "    path=build_force_csv(category)\n",
    "    #return df_\n",
    "    df_.to_csv(path,index=False)"
   ]
  },
  {
   "cell_type": "code",
   "execution_count": 7,
   "metadata": {},
   "outputs": [],
   "source": [
    "def bulk_update_threshold(category,interval):\n",
    "    df_cal=pd.DataFrame()\n",
    "    dir_='./history/calculated_data/'+ category +'/force/'\n",
    "    filename=category.replace('&','').replace(' ','').lower()+'_force'\n",
    "    df_=pd.read_csv(dir_+filename+'.csv',parse_dates=['date'],index_col='date')\n",
    "    df_=df_.iloc[::-1]\n",
    "    df_cal['buy_vol_chg_max_mean']=df_.groupby(['symbol','counter']).rolling(interval).agg({'buy_vol_chg_max':'mean'})['buy_vol_chg_max']\n",
    "    df_cal['buy_vol_chg_max_std']=df_.groupby(['symbol','counter']).rolling(interval).agg({'buy_vol_chg_max':'std'})['buy_vol_chg_max']\n",
    "    df_cal['sell_vol_chg_max_mean']=df_.groupby(['symbol','counter']).rolling(interval).agg({'sell_vol_chg_max':'mean'})['sell_vol_chg_max']\n",
    "    df_cal['sell_vol_chg_max_std']=df_.groupby(['symbol','counter']).rolling(interval).agg({'sell_vol_chg_max':'std'})['sell_vol_chg_max']\n",
    "    #df_cal['buy_vol_chg_max_mean']=df_.groupby(['symbol','counter']).resample(interval).agg({'buy_vol_chg_max':'mean'})['buy_vol_chg_max']\n",
    "    #df_cal['buy_vol_chg_max_std']=df_.groupby(['symbol','counter']).resample(interval).agg({'buy_vol_chg_max':'std'})['buy_vol_chg_max']\n",
    "    #df_cal['sell_vol_chg_max_mean']=df_.groupby(['symbol','counter']).resample(interval).agg({'sell_vol_chg_max':'mean'})['sell_vol_chg_max']\n",
    "    #df_cal['sell_vol_chg_max_std']=df_.groupby(['symbol','counter']).resample(interval).agg({'sell_vol_chg_max':'std'})['sell_vol_chg_max']\n",
    "    df_cal.reset_index().to_feather(dir_+filename)\n",
    "    return df_cal"
   ]
  },
  {
   "cell_type": "code",
   "execution_count": 28,
   "metadata": {},
   "outputs": [
    {
     "data": {
      "text/html": [
       "<div>\n",
       "<style scoped>\n",
       "    .dataframe tbody tr th:only-of-type {\n",
       "        vertical-align: middle;\n",
       "    }\n",
       "\n",
       "    .dataframe tbody tr th {\n",
       "        vertical-align: top;\n",
       "    }\n",
       "\n",
       "    .dataframe thead th {\n",
       "        text-align: right;\n",
       "    }\n",
       "</style>\n",
       "<table border=\"1\" class=\"dataframe\">\n",
       "  <thead>\n",
       "    <tr style=\"text-align: right;\">\n",
       "      <th></th>\n",
       "      <th>symbol</th>\n",
       "      <th>counter</th>\n",
       "      <th>date</th>\n",
       "      <th>buy_vol_chg_max_mean</th>\n",
       "      <th>buy_vol_chg_max_std</th>\n",
       "      <th>sell_vol_chg_max_mean</th>\n",
       "      <th>sell_vol_chg_max_std</th>\n",
       "    </tr>\n",
       "  </thead>\n",
       "  <tbody>\n",
       "    <tr>\n",
       "      <th>275</th>\n",
       "      <td>TOPGLOV</td>\n",
       "      <td>7113</td>\n",
       "      <td>2020-05-05</td>\n",
       "      <td>NaN</td>\n",
       "      <td>NaN</td>\n",
       "      <td>NaN</td>\n",
       "      <td>NaN</td>\n",
       "    </tr>\n",
       "    <tr>\n",
       "      <th>276</th>\n",
       "      <td>TOPGLOV</td>\n",
       "      <td>7113</td>\n",
       "      <td>2020-05-06</td>\n",
       "      <td>NaN</td>\n",
       "      <td>NaN</td>\n",
       "      <td>NaN</td>\n",
       "      <td>NaN</td>\n",
       "    </tr>\n",
       "    <tr>\n",
       "      <th>277</th>\n",
       "      <td>TOPGLOV</td>\n",
       "      <td>7113</td>\n",
       "      <td>2020-05-08</td>\n",
       "      <td>NaN</td>\n",
       "      <td>NaN</td>\n",
       "      <td>NaN</td>\n",
       "      <td>NaN</td>\n",
       "    </tr>\n",
       "    <tr>\n",
       "      <th>278</th>\n",
       "      <td>TOPGLOV</td>\n",
       "      <td>7113</td>\n",
       "      <td>2020-05-12</td>\n",
       "      <td>NaN</td>\n",
       "      <td>NaN</td>\n",
       "      <td>NaN</td>\n",
       "      <td>NaN</td>\n",
       "    </tr>\n",
       "    <tr>\n",
       "      <th>279</th>\n",
       "      <td>TOPGLOV</td>\n",
       "      <td>7113</td>\n",
       "      <td>2020-05-13</td>\n",
       "      <td>NaN</td>\n",
       "      <td>NaN</td>\n",
       "      <td>NaN</td>\n",
       "      <td>NaN</td>\n",
       "    </tr>\n",
       "    <tr>\n",
       "      <th>280</th>\n",
       "      <td>TOPGLOV</td>\n",
       "      <td>7113</td>\n",
       "      <td>2020-05-14</td>\n",
       "      <td>NaN</td>\n",
       "      <td>NaN</td>\n",
       "      <td>NaN</td>\n",
       "      <td>NaN</td>\n",
       "    </tr>\n",
       "    <tr>\n",
       "      <th>281</th>\n",
       "      <td>TOPGLOV</td>\n",
       "      <td>7113</td>\n",
       "      <td>2020-05-15</td>\n",
       "      <td>NaN</td>\n",
       "      <td>NaN</td>\n",
       "      <td>NaN</td>\n",
       "      <td>NaN</td>\n",
       "    </tr>\n",
       "    <tr>\n",
       "      <th>282</th>\n",
       "      <td>TOPGLOV</td>\n",
       "      <td>7113</td>\n",
       "      <td>2020-05-18</td>\n",
       "      <td>NaN</td>\n",
       "      <td>NaN</td>\n",
       "      <td>NaN</td>\n",
       "      <td>NaN</td>\n",
       "    </tr>\n",
       "    <tr>\n",
       "      <th>283</th>\n",
       "      <td>TOPGLOV</td>\n",
       "      <td>7113</td>\n",
       "      <td>2020-05-19</td>\n",
       "      <td>NaN</td>\n",
       "      <td>NaN</td>\n",
       "      <td>NaN</td>\n",
       "      <td>NaN</td>\n",
       "    </tr>\n",
       "    <tr>\n",
       "      <th>284</th>\n",
       "      <td>TOPGLOV</td>\n",
       "      <td>7113</td>\n",
       "      <td>2020-05-20</td>\n",
       "      <td>NaN</td>\n",
       "      <td>NaN</td>\n",
       "      <td>NaN</td>\n",
       "      <td>NaN</td>\n",
       "    </tr>\n",
       "    <tr>\n",
       "      <th>285</th>\n",
       "      <td>TOPGLOV</td>\n",
       "      <td>7113</td>\n",
       "      <td>2020-05-21</td>\n",
       "      <td>NaN</td>\n",
       "      <td>NaN</td>\n",
       "      <td>NaN</td>\n",
       "      <td>NaN</td>\n",
       "    </tr>\n",
       "    <tr>\n",
       "      <th>286</th>\n",
       "      <td>TOPGLOV</td>\n",
       "      <td>7113</td>\n",
       "      <td>2020-05-22</td>\n",
       "      <td>NaN</td>\n",
       "      <td>NaN</td>\n",
       "      <td>NaN</td>\n",
       "      <td>NaN</td>\n",
       "    </tr>\n",
       "    <tr>\n",
       "      <th>287</th>\n",
       "      <td>TOPGLOV</td>\n",
       "      <td>7113</td>\n",
       "      <td>2020-05-27</td>\n",
       "      <td>NaN</td>\n",
       "      <td>NaN</td>\n",
       "      <td>NaN</td>\n",
       "      <td>NaN</td>\n",
       "    </tr>\n",
       "    <tr>\n",
       "      <th>288</th>\n",
       "      <td>TOPGLOV</td>\n",
       "      <td>7113</td>\n",
       "      <td>2020-05-28</td>\n",
       "      <td>NaN</td>\n",
       "      <td>NaN</td>\n",
       "      <td>NaN</td>\n",
       "      <td>NaN</td>\n",
       "    </tr>\n",
       "    <tr>\n",
       "      <th>289</th>\n",
       "      <td>TOPGLOV</td>\n",
       "      <td>7113</td>\n",
       "      <td>2020-05-29</td>\n",
       "      <td>NaN</td>\n",
       "      <td>NaN</td>\n",
       "      <td>NaN</td>\n",
       "      <td>NaN</td>\n",
       "    </tr>\n",
       "    <tr>\n",
       "      <th>290</th>\n",
       "      <td>TOPGLOV</td>\n",
       "      <td>7113</td>\n",
       "      <td>2020-06-01</td>\n",
       "      <td>NaN</td>\n",
       "      <td>NaN</td>\n",
       "      <td>NaN</td>\n",
       "      <td>NaN</td>\n",
       "    </tr>\n",
       "    <tr>\n",
       "      <th>291</th>\n",
       "      <td>TOPGLOV</td>\n",
       "      <td>7113</td>\n",
       "      <td>2020-06-02</td>\n",
       "      <td>NaN</td>\n",
       "      <td>NaN</td>\n",
       "      <td>NaN</td>\n",
       "      <td>NaN</td>\n",
       "    </tr>\n",
       "    <tr>\n",
       "      <th>292</th>\n",
       "      <td>TOPGLOV</td>\n",
       "      <td>7113</td>\n",
       "      <td>2020-06-03</td>\n",
       "      <td>NaN</td>\n",
       "      <td>NaN</td>\n",
       "      <td>NaN</td>\n",
       "      <td>NaN</td>\n",
       "    </tr>\n",
       "    <tr>\n",
       "      <th>293</th>\n",
       "      <td>TOPGLOV</td>\n",
       "      <td>7113</td>\n",
       "      <td>2020-06-04</td>\n",
       "      <td>NaN</td>\n",
       "      <td>NaN</td>\n",
       "      <td>NaN</td>\n",
       "      <td>NaN</td>\n",
       "    </tr>\n",
       "    <tr>\n",
       "      <th>294</th>\n",
       "      <td>TOPGLOV</td>\n",
       "      <td>7113</td>\n",
       "      <td>2020-06-05</td>\n",
       "      <td>2341.85</td>\n",
       "      <td>1523.196441</td>\n",
       "      <td>6579.00</td>\n",
       "      <td>6182.052521</td>\n",
       "    </tr>\n",
       "    <tr>\n",
       "      <th>295</th>\n",
       "      <td>TOPGLOV</td>\n",
       "      <td>7113</td>\n",
       "      <td>2020-06-09</td>\n",
       "      <td>2362.50</td>\n",
       "      <td>1500.788477</td>\n",
       "      <td>6601.70</td>\n",
       "      <td>6172.910992</td>\n",
       "    </tr>\n",
       "    <tr>\n",
       "      <th>296</th>\n",
       "      <td>TOPGLOV</td>\n",
       "      <td>7113</td>\n",
       "      <td>2020-06-10</td>\n",
       "      <td>2387.50</td>\n",
       "      <td>1472.018932</td>\n",
       "      <td>6687.80</td>\n",
       "      <td>6115.578921</td>\n",
       "    </tr>\n",
       "    <tr>\n",
       "      <th>297</th>\n",
       "      <td>TOPGLOV</td>\n",
       "      <td>7113</td>\n",
       "      <td>2020-06-11</td>\n",
       "      <td>2451.05</td>\n",
       "      <td>1423.278590</td>\n",
       "      <td>6873.75</td>\n",
       "      <td>6096.079222</td>\n",
       "    </tr>\n",
       "    <tr>\n",
       "      <th>298</th>\n",
       "      <td>TOPGLOV</td>\n",
       "      <td>7113</td>\n",
       "      <td>2020-06-12</td>\n",
       "      <td>2341.80</td>\n",
       "      <td>1439.181953</td>\n",
       "      <td>7020.25</td>\n",
       "      <td>6084.254207</td>\n",
       "    </tr>\n",
       "    <tr>\n",
       "      <th>299</th>\n",
       "      <td>TOPGLOV</td>\n",
       "      <td>7113</td>\n",
       "      <td>2020-06-15</td>\n",
       "      <td>2244.90</td>\n",
       "      <td>1461.989088</td>\n",
       "      <td>6971.45</td>\n",
       "      <td>6097.342160</td>\n",
       "    </tr>\n",
       "  </tbody>\n",
       "</table>\n",
       "</div>"
      ],
      "text/plain": [
       "      symbol  counter       date  buy_vol_chg_max_mean  buy_vol_chg_max_std  \\\n",
       "275  TOPGLOV     7113 2020-05-05                   NaN                  NaN   \n",
       "276  TOPGLOV     7113 2020-05-06                   NaN                  NaN   \n",
       "277  TOPGLOV     7113 2020-05-08                   NaN                  NaN   \n",
       "278  TOPGLOV     7113 2020-05-12                   NaN                  NaN   \n",
       "279  TOPGLOV     7113 2020-05-13                   NaN                  NaN   \n",
       "280  TOPGLOV     7113 2020-05-14                   NaN                  NaN   \n",
       "281  TOPGLOV     7113 2020-05-15                   NaN                  NaN   \n",
       "282  TOPGLOV     7113 2020-05-18                   NaN                  NaN   \n",
       "283  TOPGLOV     7113 2020-05-19                   NaN                  NaN   \n",
       "284  TOPGLOV     7113 2020-05-20                   NaN                  NaN   \n",
       "285  TOPGLOV     7113 2020-05-21                   NaN                  NaN   \n",
       "286  TOPGLOV     7113 2020-05-22                   NaN                  NaN   \n",
       "287  TOPGLOV     7113 2020-05-27                   NaN                  NaN   \n",
       "288  TOPGLOV     7113 2020-05-28                   NaN                  NaN   \n",
       "289  TOPGLOV     7113 2020-05-29                   NaN                  NaN   \n",
       "290  TOPGLOV     7113 2020-06-01                   NaN                  NaN   \n",
       "291  TOPGLOV     7113 2020-06-02                   NaN                  NaN   \n",
       "292  TOPGLOV     7113 2020-06-03                   NaN                  NaN   \n",
       "293  TOPGLOV     7113 2020-06-04                   NaN                  NaN   \n",
       "294  TOPGLOV     7113 2020-06-05               2341.85          1523.196441   \n",
       "295  TOPGLOV     7113 2020-06-09               2362.50          1500.788477   \n",
       "296  TOPGLOV     7113 2020-06-10               2387.50          1472.018932   \n",
       "297  TOPGLOV     7113 2020-06-11               2451.05          1423.278590   \n",
       "298  TOPGLOV     7113 2020-06-12               2341.80          1439.181953   \n",
       "299  TOPGLOV     7113 2020-06-15               2244.90          1461.989088   \n",
       "\n",
       "     sell_vol_chg_max_mean  sell_vol_chg_max_std  \n",
       "275                    NaN                   NaN  \n",
       "276                    NaN                   NaN  \n",
       "277                    NaN                   NaN  \n",
       "278                    NaN                   NaN  \n",
       "279                    NaN                   NaN  \n",
       "280                    NaN                   NaN  \n",
       "281                    NaN                   NaN  \n",
       "282                    NaN                   NaN  \n",
       "283                    NaN                   NaN  \n",
       "284                    NaN                   NaN  \n",
       "285                    NaN                   NaN  \n",
       "286                    NaN                   NaN  \n",
       "287                    NaN                   NaN  \n",
       "288                    NaN                   NaN  \n",
       "289                    NaN                   NaN  \n",
       "290                    NaN                   NaN  \n",
       "291                    NaN                   NaN  \n",
       "292                    NaN                   NaN  \n",
       "293                    NaN                   NaN  \n",
       "294                6579.00           6182.052521  \n",
       "295                6601.70           6172.910992  \n",
       "296                6687.80           6115.578921  \n",
       "297                6873.75           6096.079222  \n",
       "298                7020.25           6084.254207  \n",
       "299                6971.45           6097.342160  "
      ]
     },
     "execution_count": 28,
     "metadata": {},
     "output_type": "execute_result"
    }
   ],
   "source": [
    "#Test Calculate threshold\n",
    "interval=20\n",
    "category='Health Care'\n",
    "df_=bulk_update_threshold(category,interval)\n",
    "df_=df_.reset_index()\n",
    "df_[df_['counter']==7113]"
   ]
  },
  {
   "cell_type": "code",
   "execution_count": null,
   "metadata": {},
   "outputs": [],
   "source": [
    "dir_='./history/calculated_data/'+ category +'/force/'\n",
    "filename=category.replace('&','').replace(' ','').lower()+'_force'\n",
    "df_=pd.read_feather(dir_+filename)\n",
    "df_[df_['counter']==7113]\n",
    "#print(len(df_))\n",
    "#df_.iloc[-1]"
   ]
  },
  {
   "cell_type": "code",
   "execution_count": null,
   "metadata": {},
   "outputs": [],
   "source": [
    "from messenger_handler import *\n",
    "response=send_volume_alert('test')\n",
    "if response.status_code==200:\n",
    "    print('Successfully sent alert')"
   ]
  },
  {
   "cell_type": "code",
   "execution_count": null,
   "metadata": {
    "scrolled": true
   },
   "outputs": [],
   "source": [
    "#event={'symbol':'COMFORT','counter':'2127','category':'Industrial Products & Services','to':1591891200}\n",
    "#row=calculate_force_data(event)\n",
    "#Test mine force data\n",
    "%time df_=mine_force_data('Main Market','Health Care',1588554000,1592182800,'1min')"
   ]
  },
  {
   "cell_type": "code",
   "execution_count": null,
   "metadata": {},
   "outputs": [],
   "source": [
    "#datelist_=['2020-05-29','2020-05-28','2020-05-27']\n",
    "datelist_=['2020-06-05','2020-06-04','2020-06-03','2020-06-02','2020-06-01','2020-05-29','2020-05-28','2020-05-27']\n",
    "#datelist_=['2020-05-29']\n",
    "df = pd.DataFrame()\n",
    "for date_ in datelist_:\n",
    "    df1=pd.read_csv('./history/quote_movements/Technology/INARI_0166/INARI_0166_' + date_ + '.csv')\n",
    "    df=df.append(df1)\n",
    "split_buy_sell_queue()\n",
    "df=df.groupby('time').agg({'buy_queue_vol': 'sum',\n",
    "                        'buy_queue_price': 'mean',\n",
    "                        'last_done_vol':'sum', \n",
    "                        'last_done_price': 'mean',\n",
    "                        'type': 'first',\n",
    "                        'sell_queue_vol':'sum',\n",
    "                        'sell_queue_price':'mean',\n",
    "                        'buy_vol_chg':'sum',\n",
    "                        'sell_vol_chg':'sum'\n",
    "                       })\n",
    "df['last_done_sell_down']=df[df['type']=='Sell Down'].last_done_vol\n",
    "df['last_done_buy_up']=df[df['type']=='Buy Up'].last_done_vol\n",
    "#df=df.set_index('time')\n",
    "series=[]\n",
    "series.append(construct_series(df['sell_queue_vol'],'Sell Queue Volume'))\n",
    "series.append(construct_series(df['buy_queue_vol'],'Buy Queue Volume'))\n",
    "series.append(construct_series(df['last_done_price'],'Lost Done Price'))\n",
    "plot_multi_axes(series,'Queue Volume VS Last Done Price')\n",
    "series1=[]\n",
    "series1.append(construct_series(df['last_done_sell_down'],'Sell Down Volume'))\n",
    "series1.append(construct_series(df['last_done_buy_up'],'Buy Up Volume'))\n",
    "series1.append(construct_series(df['last_done_price'],'Lost Done Price'))\n",
    "plot_multi_axes(series1,'Last Done Volume VS Last Done Price')\n",
    "series2=[]\n",
    "series2.append(construct_series(df['sell_queue_vol'],'Sell Queue Volume'))\n",
    "series2.append(construct_series(df['buy_queue_vol'],'Buy Queue Volume'))\n",
    "series2.append(construct_series(df['last_done_price'],'Last Done Price'))\n",
    "plot_multi_axes(series2,'Last Done Volume VS Last Done Price')\n",
    "series2=[]\n",
    "series2.append(construct_series(df['sell_queue_vol'],'Sell Queue Volume'))\n",
    "series2.append(construct_series(df['buy_queue_vol'],'Buy Queue Volume'))\n",
    "series2.append(construct_series(df['buy_queue_price'],'Buy Queue Price'))\n",
    "plot_multi_axes(series2,'Last Done Volume VS Buy Queue Price')"
   ]
  },
  {
   "cell_type": "code",
   "execution_count": null,
   "metadata": {
    "scrolled": true
   },
   "outputs": [],
   "source": [
    "#Case Study: Analyze buy and sell queue in bull market\n",
    "interval='10min'\n",
    "#cat='Industrial Products & Services'\n",
    "cat='Energy'\n",
    "symbol='HIBISCS'\n",
    "counter='5199'\n",
    "name_=symbol+'_'+counter\n",
    "date_='2020-06-10'\n",
    "df=pd.read_csv('./history/quote_movements/'+ cat +'/'+name_+'/'+name_ + '_' + date_ + '.csv',parse_dates=['time'])\n",
    "df['hour']=df['time'].transform(lambda x: x.hour)\n",
    "df['minute']=df['time'].transform(lambda x: 5*(x.minute//5))\n",
    "df=split_buy_sell_queue(df)\n",
    "df=df.iloc[::-1]\n",
    "#df1=df.groupby(['hour','minute','sell_queue_price']).agg({'sell_vol_chg':'sum','sell_queue_vol':'last'}).reset_index()\n",
    "df1=df.set_index('time')\n",
    "df_agg=pd.DataFrame()\n",
    "df_agg1=pd.DataFrame()\n",
    "#for sellqp in df1['sell_queue_price'].dropna().unique():\n",
    "#    df_resampled=pd.DataFrame()\n",
    "#    df_resampled1=pd.DataFrame()\n",
    "    #group by sell queue price\n",
    "    #df_resampled_=df1[df1['sell_queue_price']==sellqp].resample(interval).agg({'sell_vol_chg':'max','sell_queue_vol':'last'}).dropna()\n",
    "#    df_resampled_=df1.resample(interval).agg({'sell_vol_chg':'max','sell_queue_vol':'last'}).dropna()\n",
    "#    df_resampled[str(sellqp)+'_sell_queue_vol']=df_resampled_['sell_queue_vol']\n",
    "#    df_resampled1[str(sellqp)+'_sell_vol_chg']=df_resampled_['sell_vol_chg']\n",
    "#    df_agg=df_agg.append(df_resampled)\n",
    "#    df_agg1=df_agg1.append(df_resampled1)\n",
    "df_resampled=pd.DataFrame()\n",
    "df_resampled1=pd.DataFrame()\n",
    "df_resampled_=df1.resample(interval).agg({'sell_vol_chg':'max','sell_queue_vol':'last'}).dropna()\n",
    "df_resampled['sell_queue_vol']=df_resampled_['sell_queue_vol']\n",
    "df_resampled1['sell_vol_chg']=df_resampled_['sell_vol_chg']\n",
    "df_agg=df_agg.append(df_resampled)\n",
    "df_agg1=df_agg1.append(df_resampled1)\n",
    "df_agg.iplot()\n",
    "df_agg1.iplot()\n",
    "\n",
    "df_ldp=df1.resample(interval).agg({'last_done_price':'last'})\n",
    "df_ldp['price_change_rate']=df_ldp['last_done_price'].pct_change()*100\n",
    "df_ldp.iplot()\n",
    "\n",
    "#Last done volume by type (Sell Down & Buy Up)\n",
    "df_ldv=pd.DataFrame()\n",
    "df_resampled=pd.DataFrame()\n",
    "df_resampled_=df1[df1['type']=='Sell Down'].resample(interval).agg({'last_done_vol':'sum','last_done_price':'last'})\n",
    "df_resampled['Sell Down']=df_resampled_['last_done_vol']\n",
    "df_ldv=df_ldv.append(df_resampled)\n",
    "df_resampled=pd.DataFrame()\n",
    "df_resampled_=df1[df1['type']=='Buy Up'].resample(interval).agg({'last_done_vol':'sum','last_done_price':'last'})\n",
    "df_resampled['Buy Up']=df_resampled_['last_done_vol']\n",
    "df_ldv=df_ldv.append(df_resampled)\n",
    "df_ldv.iplot()\n",
    "\n",
    "#Last done volume \n",
    "df_resampled_=pd.DataFrame()\n",
    "df_resampled_=df1[df1['type'].notna()].resample(interval).agg({'last_done_vol':'sum','last_done_price':'last'})\n",
    "df_resampled_['price_change_pct']=df_resampled_['last_done_price'].pct_change()*100\n",
    "df_resampled_['force']=df_resampled_['price_change_pct']*df_resampled_['last_done_vol']\n",
    "series=[]\n",
    "series.append(construct_series(df_resampled_['force'],'Force'))\n",
    "series.append(construct_series(df_resampled_['force'],'Force'))\n",
    "series.append(construct_series(df_resampled_['price_change_pct'],'Price Change Percentage'))\n",
    "plot_multi_axes(series,'Force VS Price Change Percentage')\n",
    "total_force=df_resampled_['force'].sum()\n",
    "print(total_force)\n",
    "#df_resampled_.iplot()\n",
    "\n",
    "df_agg=pd.DataFrame()\n",
    "df_agg1=pd.DataFrame()\n",
    "#for sellqp in df1['buy_queue_price'].dropna().unique():\n",
    "#    df_resampled=pd.DataFrame()\n",
    "#    df_resampled1=pd.DataFrame()\n",
    "#    df_resampled_=df1[df1['buy_queue_price']==sellqp].resample(interval).agg({'buy_vol_chg':'max','buy_queue_vol':'last'}).dropna()\n",
    "#    df_resampled[str(sellqp)+'_buy_queue_vol']=df_resampled_['buy_queue_vol']\n",
    "#    df_resampled1[str(sellqp)+'_buy_vol_chg']=df_resampled_['buy_vol_chg']\n",
    "#    df_agg=df_agg.append(df_resampled)\n",
    "#    df_agg1=df_agg1.append(df_resampled1)\n",
    "df_resampled=pd.DataFrame()\n",
    "df_resampled1=pd.DataFrame()\n",
    "df_resampled_=df1.resample(interval).agg({'buy_vol_chg':'max','buy_queue_vol':'last'}).dropna()\n",
    "df_resampled['buy_queue_vol']=df_resampled_['buy_queue_vol']\n",
    "df_resampled1['buy_vol_chg']=df_resampled_['buy_vol_chg']\n",
    "df_agg=df_agg.append(df_resampled)\n",
    "df_agg1=df_agg1.append(df_resampled1)\n",
    "df_agg.iplot()\n",
    "df_agg1.iplot()"
   ]
  },
  {
   "cell_type": "code",
   "execution_count": 12,
   "metadata": {},
   "outputs": [
    {
     "data": {
      "text/plain": [
       "<requests.sessions.Session at 0x28ce97aa7f0>"
      ]
     },
     "execution_count": 12,
     "metadata": {},
     "output_type": "execute_result"
    }
   ],
   "source": [
    "generate_session()"
   ]
  },
  {
   "cell_type": "code",
   "execution_count": 8,
   "metadata": {},
   "outputs": [
    {
     "name": "stdout",
     "output_type": "stream",
     "text": [
      "Health Care\n"
     ]
    }
   ],
   "source": [
    "topglov=Counter('SUPERMX','7106',scheduler_on=False)\n",
    "topglov.set_timestamp(datetime.combine(date.today()-timedelta(days=2), time(9)).timestamp())\n",
    "topglov.get_day_volume()\n",
    "topglov.detect_shark()"
   ]
  },
  {
   "cell_type": "code",
   "execution_count": 9,
   "metadata": {},
   "outputs": [
    {
     "data": {
      "text/html": [
       "<div>\n",
       "<style scoped>\n",
       "    .dataframe tbody tr th:only-of-type {\n",
       "        vertical-align: middle;\n",
       "    }\n",
       "\n",
       "    .dataframe tbody tr th {\n",
       "        vertical-align: top;\n",
       "    }\n",
       "\n",
       "    .dataframe thead th {\n",
       "        text-align: right;\n",
       "    }\n",
       "</style>\n",
       "<table border=\"1\" class=\"dataframe\">\n",
       "  <thead>\n",
       "    <tr style=\"text-align: right;\">\n",
       "      <th></th>\n",
       "      <th>time</th>\n",
       "      <th>buy_vol_chg</th>\n",
       "      <th>buy_queue_price</th>\n",
       "      <th>last_done_price</th>\n",
       "      <th>last_done_buy_vol</th>\n",
       "      <th>last_done_sell_vol</th>\n",
       "    </tr>\n",
       "  </thead>\n",
       "  <tbody>\n",
       "    <tr>\n",
       "      <th>5297</th>\n",
       "      <td>2020-06-16 09:11:16</td>\n",
       "      <td>1080</td>\n",
       "      <td>7.41</td>\n",
       "      <td>7.42</td>\n",
       "      <td>19106.0</td>\n",
       "      <td>26226.0</td>\n",
       "    </tr>\n",
       "    <tr>\n",
       "      <th>5681</th>\n",
       "      <td>2020-06-16 09:12:18</td>\n",
       "      <td>2190</td>\n",
       "      <td>7.45</td>\n",
       "      <td>7.45</td>\n",
       "      <td>21267.0</td>\n",
       "      <td>27452.0</td>\n",
       "    </tr>\n",
       "    <tr>\n",
       "      <th>6708</th>\n",
       "      <td>2020-06-16 09:14:25</td>\n",
       "      <td>1720</td>\n",
       "      <td>7.56</td>\n",
       "      <td>7.57</td>\n",
       "      <td>30329.0</td>\n",
       "      <td>29900.0</td>\n",
       "    </tr>\n",
       "    <tr>\n",
       "      <th>7071</th>\n",
       "      <td>2020-06-16 09:15:29</td>\n",
       "      <td>1444</td>\n",
       "      <td>7.57</td>\n",
       "      <td>7.57</td>\n",
       "      <td>31903.0</td>\n",
       "      <td>31900.0</td>\n",
       "    </tr>\n",
       "    <tr>\n",
       "      <th>13776</th>\n",
       "      <td>2020-06-16 10:08:44</td>\n",
       "      <td>1627</td>\n",
       "      <td>7.28</td>\n",
       "      <td>7.29</td>\n",
       "      <td>55118.0</td>\n",
       "      <td>65259.0</td>\n",
       "    </tr>\n",
       "    <tr>\n",
       "      <th>14179</th>\n",
       "      <td>2020-06-16 10:11:09</td>\n",
       "      <td>1000</td>\n",
       "      <td>7.31</td>\n",
       "      <td>7.31</td>\n",
       "      <td>59138.0</td>\n",
       "      <td>67360.0</td>\n",
       "    </tr>\n",
       "    <tr>\n",
       "      <th>15898</th>\n",
       "      <td>2020-06-16 10:34:56</td>\n",
       "      <td>987</td>\n",
       "      <td>7.36</td>\n",
       "      <td>7.37</td>\n",
       "      <td>68744.0</td>\n",
       "      <td>71436.0</td>\n",
       "    </tr>\n",
       "    <tr>\n",
       "      <th>18389</th>\n",
       "      <td>2020-06-16 10:52:46</td>\n",
       "      <td>2000</td>\n",
       "      <td>7.49</td>\n",
       "      <td>7.50</td>\n",
       "      <td>86713.0</td>\n",
       "      <td>82144.0</td>\n",
       "    </tr>\n",
       "    <tr>\n",
       "      <th>21055</th>\n",
       "      <td>2020-06-16 11:11:32</td>\n",
       "      <td>1230</td>\n",
       "      <td>7.50</td>\n",
       "      <td>7.51</td>\n",
       "      <td>101391.0</td>\n",
       "      <td>96562.0</td>\n",
       "    </tr>\n",
       "    <tr>\n",
       "      <th>21767</th>\n",
       "      <td>2020-06-16 11:20:24</td>\n",
       "      <td>1070</td>\n",
       "      <td>7.50</td>\n",
       "      <td>7.50</td>\n",
       "      <td>104861.0</td>\n",
       "      <td>99108.0</td>\n",
       "    </tr>\n",
       "    <tr>\n",
       "      <th>21919</th>\n",
       "      <td>2020-06-16 11:22:20</td>\n",
       "      <td>1266</td>\n",
       "      <td>7.51</td>\n",
       "      <td>7.51</td>\n",
       "      <td>105547.0</td>\n",
       "      <td>99511.0</td>\n",
       "    </tr>\n",
       "    <tr>\n",
       "      <th>38971</th>\n",
       "      <td>2020-06-16 16:23:46</td>\n",
       "      <td>1000</td>\n",
       "      <td>7.25</td>\n",
       "      <td>7.25</td>\n",
       "      <td>170803.0</td>\n",
       "      <td>170658.0</td>\n",
       "    </tr>\n",
       "  </tbody>\n",
       "</table>\n",
       "</div>"
      ],
      "text/plain": [
       "                     time  buy_vol_chg  buy_queue_price  last_done_price  \\\n",
       "5297  2020-06-16 09:11:16         1080             7.41             7.42   \n",
       "5681  2020-06-16 09:12:18         2190             7.45             7.45   \n",
       "6708  2020-06-16 09:14:25         1720             7.56             7.57   \n",
       "7071  2020-06-16 09:15:29         1444             7.57             7.57   \n",
       "13776 2020-06-16 10:08:44         1627             7.28             7.29   \n",
       "14179 2020-06-16 10:11:09         1000             7.31             7.31   \n",
       "15898 2020-06-16 10:34:56          987             7.36             7.37   \n",
       "18389 2020-06-16 10:52:46         2000             7.49             7.50   \n",
       "21055 2020-06-16 11:11:32         1230             7.50             7.51   \n",
       "21767 2020-06-16 11:20:24         1070             7.50             7.50   \n",
       "21919 2020-06-16 11:22:20         1266             7.51             7.51   \n",
       "38971 2020-06-16 16:23:46         1000             7.25             7.25   \n",
       "\n",
       "       last_done_buy_vol  last_done_sell_vol  \n",
       "5297             19106.0             26226.0  \n",
       "5681             21267.0             27452.0  \n",
       "6708             30329.0             29900.0  \n",
       "7071             31903.0             31900.0  \n",
       "13776            55118.0             65259.0  \n",
       "14179            59138.0             67360.0  \n",
       "15898            68744.0             71436.0  \n",
       "18389            86713.0             82144.0  \n",
       "21055           101391.0             96562.0  \n",
       "21767           104861.0             99108.0  \n",
       "21919           105547.0             99511.0  \n",
       "38971           170803.0            170658.0  "
      ]
     },
     "execution_count": 9,
     "metadata": {},
     "output_type": "execute_result"
    }
   ],
   "source": [
    "topglov.sharks.sort_index(ascending=True)"
   ]
  },
  {
   "cell_type": "code",
   "execution_count": 9,
   "metadata": {},
   "outputs": [
    {
     "ename": "KeyError",
     "evalue": "\"None of ['time'] are in the columns\"",
     "output_type": "error",
     "traceback": [
      "\u001b[1;31m---------------------------------------------------------------------------\u001b[0m",
      "\u001b[1;31mKeyError\u001b[0m                                  Traceback (most recent call last)",
      "\u001b[1;32m<ipython-input-9-24287451b86a>\u001b[0m in \u001b[0;36m<module>\u001b[1;34m\u001b[0m\n\u001b[0;32m      6\u001b[0m \u001b[1;31m#df_['']=df_.resample(interval).agg({'last_done_price':'last'}).dropna().pct_change()\u001b[0m\u001b[1;33m\u001b[0m\u001b[1;33m\u001b[0m\u001b[1;33m\u001b[0m\u001b[0m\n\u001b[0;32m      7\u001b[0m \u001b[0mdf__\u001b[0m\u001b[1;33m=\u001b[0m\u001b[0mpd\u001b[0m\u001b[1;33m.\u001b[0m\u001b[0mDataFrame\u001b[0m\u001b[1;33m(\u001b[0m\u001b[1;33m)\u001b[0m\u001b[1;33m\u001b[0m\u001b[1;33m\u001b[0m\u001b[0m\n\u001b[1;32m----> 8\u001b[1;33m \u001b[0mdf__\u001b[0m\u001b[1;33m=\u001b[0m\u001b[0mdf__\u001b[0m\u001b[1;33m.\u001b[0m\u001b[0mappend\u001b[0m\u001b[1;33m(\u001b[0m\u001b[0mtopglov\u001b[0m\u001b[1;33m.\u001b[0m\u001b[0msharks\u001b[0m\u001b[1;33m.\u001b[0m\u001b[0mset_index\u001b[0m\u001b[1;33m(\u001b[0m\u001b[1;34m'time'\u001b[0m\u001b[1;33m)\u001b[0m\u001b[1;33m.\u001b[0m\u001b[0mresample\u001b[0m\u001b[1;33m(\u001b[0m\u001b[0minterval\u001b[0m\u001b[1;33m)\u001b[0m\u001b[1;33m.\u001b[0m\u001b[0magg\u001b[0m\u001b[1;33m(\u001b[0m\u001b[1;33m{\u001b[0m\u001b[1;34m'buy_vol_chg'\u001b[0m\u001b[1;33m:\u001b[0m\u001b[1;34m'count'\u001b[0m\u001b[1;33m}\u001b[0m\u001b[1;33m)\u001b[0m\u001b[1;33m)\u001b[0m\u001b[1;33m\u001b[0m\u001b[1;33m\u001b[0m\u001b[0m\n\u001b[0m\u001b[0;32m      9\u001b[0m \u001b[0mdf__\u001b[0m\u001b[1;33m[\u001b[0m\u001b[1;34m'last_done_price_diff'\u001b[0m\u001b[1;33m]\u001b[0m\u001b[1;33m=\u001b[0m\u001b[0mdf_\u001b[0m\u001b[1;33m.\u001b[0m\u001b[0mresample\u001b[0m\u001b[1;33m(\u001b[0m\u001b[0minterval\u001b[0m\u001b[1;33m)\u001b[0m\u001b[1;33m.\u001b[0m\u001b[0magg\u001b[0m\u001b[1;33m(\u001b[0m\u001b[1;33m{\u001b[0m\u001b[1;34m'last_done_price'\u001b[0m\u001b[1;33m:\u001b[0m\u001b[1;34m'last'\u001b[0m\u001b[1;33m}\u001b[0m\u001b[1;33m)\u001b[0m\u001b[1;33m.\u001b[0m\u001b[0mdropna\u001b[0m\u001b[1;33m(\u001b[0m\u001b[1;33m)\u001b[0m\u001b[1;33m.\u001b[0m\u001b[0mdiff\u001b[0m\u001b[1;33m(\u001b[0m\u001b[1;33m)\u001b[0m\u001b[1;33m\u001b[0m\u001b[1;33m\u001b[0m\u001b[0m\n\u001b[0;32m     10\u001b[0m \u001b[0mdf__\u001b[0m\u001b[1;33m[\u001b[0m\u001b[1;34m'last_done_price_pct'\u001b[0m\u001b[1;33m]\u001b[0m\u001b[1;33m=\u001b[0m\u001b[0mdf_\u001b[0m\u001b[1;33m.\u001b[0m\u001b[0mresample\u001b[0m\u001b[1;33m(\u001b[0m\u001b[0minterval\u001b[0m\u001b[1;33m)\u001b[0m\u001b[1;33m.\u001b[0m\u001b[0magg\u001b[0m\u001b[1;33m(\u001b[0m\u001b[1;33m{\u001b[0m\u001b[1;34m'last_done_price'\u001b[0m\u001b[1;33m:\u001b[0m\u001b[1;34m'last'\u001b[0m\u001b[1;33m}\u001b[0m\u001b[1;33m)\u001b[0m\u001b[1;33m.\u001b[0m\u001b[0mdropna\u001b[0m\u001b[1;33m(\u001b[0m\u001b[1;33m)\u001b[0m\u001b[1;33m.\u001b[0m\u001b[0mpct_change\u001b[0m\u001b[1;33m(\u001b[0m\u001b[1;33m)\u001b[0m\u001b[1;33m\u001b[0m\u001b[1;33m\u001b[0m\u001b[0m\n",
      "\u001b[1;32mC:\\ProgramData\\Anaconda3\\envs\\fastai\\lib\\site-packages\\pandas\\core\\frame.py\u001b[0m in \u001b[0;36mset_index\u001b[1;34m(self, keys, drop, append, inplace, verify_integrity)\u001b[0m\n\u001b[0;32m   4301\u001b[0m \u001b[1;33m\u001b[0m\u001b[0m\n\u001b[0;32m   4302\u001b[0m         \u001b[1;32mif\u001b[0m \u001b[0mmissing\u001b[0m\u001b[1;33m:\u001b[0m\u001b[1;33m\u001b[0m\u001b[1;33m\u001b[0m\u001b[0m\n\u001b[1;32m-> 4303\u001b[1;33m             \u001b[1;32mraise\u001b[0m \u001b[0mKeyError\u001b[0m\u001b[1;33m(\u001b[0m\u001b[1;34mf\"None of {missing} are in the columns\"\u001b[0m\u001b[1;33m)\u001b[0m\u001b[1;33m\u001b[0m\u001b[1;33m\u001b[0m\u001b[0m\n\u001b[0m\u001b[0;32m   4304\u001b[0m \u001b[1;33m\u001b[0m\u001b[0m\n\u001b[0;32m   4305\u001b[0m         \u001b[1;32mif\u001b[0m \u001b[0minplace\u001b[0m\u001b[1;33m:\u001b[0m\u001b[1;33m\u001b[0m\u001b[1;33m\u001b[0m\u001b[0m\n",
      "\u001b[1;31mKeyError\u001b[0m: \"None of ['time'] are in the columns\""
     ]
    }
   ],
   "source": [
    "interval='5min'\n",
    "df_=pd.DataFrame()\n",
    "df_=topglov.buffer.iloc[::-1]\n",
    "df_=df_.set_index('time')\n",
    "df_['last_done_price']=df_['last_done_price'].fillna(method='ffill').fillna(topglov.today_open)\n",
    "#df_['']=df_.resample(interval).agg({'last_done_price':'last'}).dropna().pct_change()\n",
    "df__=pd.DataFrame()\n",
    "df__=df__.append(topglov.sharks.set_index('time').resample(interval).agg({'buy_vol_chg':'count'}))\n",
    "df__['last_done_price_diff']=df_.resample(interval).agg({'last_done_price':'last'}).dropna().diff()\n",
    "df__['last_done_price_pct']=df_.resample(interval).agg({'last_done_price':'last'}).dropna().pct_change()\n",
    "df__['last_done_vol_sum']=df_.resample(interval).agg({'last_done_vol':'cumsum'}).dropna()\n",
    "df__['last_done_vol_sum']=df__['last_done_vol_sum'].cumsum()\n",
    "df__['last_done_price_pct']=df__['last_done_price_pct']*100\n",
    "df__['last_done_price']=df_.resample(interval).agg({'last_done_price':'last'}).dropna()\n",
    "df__['last_open_price_diff']=df__['last_done_price']-topglov.today_open\n",
    "df__['last_open_price_pct']=df__['last_done_price'].transform(lambda x: (x - topglov.today_open)/topglov.today_open * 100)\n"
   ]
  },
  {
   "cell_type": "code",
   "execution_count": 19,
   "metadata": {},
   "outputs": [
    {
     "data": {
      "text/html": [
       "<div>\n",
       "<style scoped>\n",
       "    .dataframe tbody tr th:only-of-type {\n",
       "        vertical-align: middle;\n",
       "    }\n",
       "\n",
       "    .dataframe tbody tr th {\n",
       "        vertical-align: top;\n",
       "    }\n",
       "\n",
       "    .dataframe thead th {\n",
       "        text-align: right;\n",
       "    }\n",
       "</style>\n",
       "<table border=\"1\" class=\"dataframe\">\n",
       "  <thead>\n",
       "    <tr style=\"text-align: right;\">\n",
       "      <th></th>\n",
       "      <th>buy_vol_chg</th>\n",
       "      <th>last_done_price_diff</th>\n",
       "      <th>last_done_price_pct</th>\n",
       "      <th>last_done_vol_sum</th>\n",
       "      <th>last_done_price</th>\n",
       "      <th>last_open_price_diff</th>\n",
       "      <th>last_open_price_pct</th>\n",
       "    </tr>\n",
       "    <tr>\n",
       "      <th>time</th>\n",
       "      <th></th>\n",
       "      <th></th>\n",
       "      <th></th>\n",
       "      <th></th>\n",
       "      <th></th>\n",
       "      <th></th>\n",
       "      <th></th>\n",
       "    </tr>\n",
       "  </thead>\n",
       "  <tbody>\n",
       "    <tr>\n",
       "      <th>2020-06-16 09:10:00</th>\n",
       "      <td>3</td>\n",
       "      <td>0.17</td>\n",
       "      <td>2.297297</td>\n",
       "      <td>21860.0</td>\n",
       "      <td>7.57</td>\n",
       "      <td>0.36</td>\n",
       "      <td>4.993065</td>\n",
       "    </tr>\n",
       "    <tr>\n",
       "      <th>2020-06-16 09:15:00</th>\n",
       "      <td>1</td>\n",
       "      <td>-0.11</td>\n",
       "      <td>-1.453104</td>\n",
       "      <td>38510.0</td>\n",
       "      <td>7.46</td>\n",
       "      <td>0.25</td>\n",
       "      <td>3.467406</td>\n",
       "    </tr>\n",
       "    <tr>\n",
       "      <th>2020-06-16 09:20:00</th>\n",
       "      <td>0</td>\n",
       "      <td>-0.09</td>\n",
       "      <td>-1.206434</td>\n",
       "      <td>47288.0</td>\n",
       "      <td>7.37</td>\n",
       "      <td>0.16</td>\n",
       "      <td>2.219140</td>\n",
       "    </tr>\n",
       "    <tr>\n",
       "      <th>2020-06-16 09:25:00</th>\n",
       "      <td>0</td>\n",
       "      <td>-0.07</td>\n",
       "      <td>-0.949796</td>\n",
       "      <td>52086.0</td>\n",
       "      <td>7.30</td>\n",
       "      <td>0.09</td>\n",
       "      <td>1.248266</td>\n",
       "    </tr>\n",
       "    <tr>\n",
       "      <th>2020-06-16 09:30:00</th>\n",
       "      <td>0</td>\n",
       "      <td>0.03</td>\n",
       "      <td>0.410959</td>\n",
       "      <td>61072.0</td>\n",
       "      <td>7.33</td>\n",
       "      <td>0.12</td>\n",
       "      <td>1.664355</td>\n",
       "    </tr>\n",
       "    <tr>\n",
       "      <th>...</th>\n",
       "      <td>...</td>\n",
       "      <td>...</td>\n",
       "      <td>...</td>\n",
       "      <td>...</td>\n",
       "      <td>...</td>\n",
       "      <td>...</td>\n",
       "      <td>...</td>\n",
       "    </tr>\n",
       "    <tr>\n",
       "      <th>2020-06-16 16:00:00</th>\n",
       "      <td>0</td>\n",
       "      <td>0.01</td>\n",
       "      <td>0.139665</td>\n",
       "      <td>290930.0</td>\n",
       "      <td>7.17</td>\n",
       "      <td>-0.04</td>\n",
       "      <td>-0.554785</td>\n",
       "    </tr>\n",
       "    <tr>\n",
       "      <th>2020-06-16 16:05:00</th>\n",
       "      <td>0</td>\n",
       "      <td>0.00</td>\n",
       "      <td>0.000000</td>\n",
       "      <td>292122.0</td>\n",
       "      <td>7.17</td>\n",
       "      <td>-0.04</td>\n",
       "      <td>-0.554785</td>\n",
       "    </tr>\n",
       "    <tr>\n",
       "      <th>2020-06-16 16:10:00</th>\n",
       "      <td>0</td>\n",
       "      <td>0.01</td>\n",
       "      <td>0.139470</td>\n",
       "      <td>293378.0</td>\n",
       "      <td>7.18</td>\n",
       "      <td>-0.03</td>\n",
       "      <td>-0.416089</td>\n",
       "    </tr>\n",
       "    <tr>\n",
       "      <th>2020-06-16 16:15:00</th>\n",
       "      <td>0</td>\n",
       "      <td>0.02</td>\n",
       "      <td>0.278552</td>\n",
       "      <td>296356.0</td>\n",
       "      <td>7.20</td>\n",
       "      <td>-0.01</td>\n",
       "      <td>-0.138696</td>\n",
       "    </tr>\n",
       "    <tr>\n",
       "      <th>2020-06-16 16:20:00</th>\n",
       "      <td>1</td>\n",
       "      <td>0.07</td>\n",
       "      <td>0.972222</td>\n",
       "      <td>302976.0</td>\n",
       "      <td>7.27</td>\n",
       "      <td>0.06</td>\n",
       "      <td>0.832178</td>\n",
       "    </tr>\n",
       "  </tbody>\n",
       "</table>\n",
       "<p>87 rows × 7 columns</p>\n",
       "</div>"
      ],
      "text/plain": [
       "                     buy_vol_chg  last_done_price_diff  last_done_price_pct  \\\n",
       "time                                                                          \n",
       "2020-06-16 09:10:00            3                  0.17             2.297297   \n",
       "2020-06-16 09:15:00            1                 -0.11            -1.453104   \n",
       "2020-06-16 09:20:00            0                 -0.09            -1.206434   \n",
       "2020-06-16 09:25:00            0                 -0.07            -0.949796   \n",
       "2020-06-16 09:30:00            0                  0.03             0.410959   \n",
       "...                          ...                   ...                  ...   \n",
       "2020-06-16 16:00:00            0                  0.01             0.139665   \n",
       "2020-06-16 16:05:00            0                  0.00             0.000000   \n",
       "2020-06-16 16:10:00            0                  0.01             0.139470   \n",
       "2020-06-16 16:15:00            0                  0.02             0.278552   \n",
       "2020-06-16 16:20:00            1                  0.07             0.972222   \n",
       "\n",
       "                     last_done_vol_sum  last_done_price  last_open_price_diff  \\\n",
       "time                                                                            \n",
       "2020-06-16 09:10:00            21860.0             7.57                  0.36   \n",
       "2020-06-16 09:15:00            38510.0             7.46                  0.25   \n",
       "2020-06-16 09:20:00            47288.0             7.37                  0.16   \n",
       "2020-06-16 09:25:00            52086.0             7.30                  0.09   \n",
       "2020-06-16 09:30:00            61072.0             7.33                  0.12   \n",
       "...                                ...              ...                   ...   \n",
       "2020-06-16 16:00:00           290930.0             7.17                 -0.04   \n",
       "2020-06-16 16:05:00           292122.0             7.17                 -0.04   \n",
       "2020-06-16 16:10:00           293378.0             7.18                 -0.03   \n",
       "2020-06-16 16:15:00           296356.0             7.20                 -0.01   \n",
       "2020-06-16 16:20:00           302976.0             7.27                  0.06   \n",
       "\n",
       "                     last_open_price_pct  \n",
       "time                                      \n",
       "2020-06-16 09:10:00             4.993065  \n",
       "2020-06-16 09:15:00             3.467406  \n",
       "2020-06-16 09:20:00             2.219140  \n",
       "2020-06-16 09:25:00             1.248266  \n",
       "2020-06-16 09:30:00             1.664355  \n",
       "...                                  ...  \n",
       "2020-06-16 16:00:00            -0.554785  \n",
       "2020-06-16 16:05:00            -0.554785  \n",
       "2020-06-16 16:10:00            -0.416089  \n",
       "2020-06-16 16:15:00            -0.138696  \n",
       "2020-06-16 16:20:00             0.832178  \n",
       "\n",
       "[87 rows x 7 columns]"
      ]
     },
     "execution_count": 19,
     "metadata": {},
     "output_type": "execute_result"
    }
   ],
   "source": [
    "last_done_df=df_.groupby('type').agg({'last_done_vol':'cumsum'})"
   ]
  },
  {
   "cell_type": "code",
   "execution_count": 43,
   "metadata": {},
   "outputs": [
    {
     "data": {
      "application/vnd.plotly.v1+json": {
       "config": {
        "linkText": "Export to plotly.com",
        "plotlyServerURL": "https://plotly.com",
        "showLink": true
       },
       "data": [
        {
         "line": {
          "color": "rgba(255, 153, 51, 1.0)",
          "dash": "solid",
          "shape": "linear",
          "width": 1.3
         },
         "mode": "lines",
         "name": "last_done_price_pct",
         "text": "",
         "type": "scatter",
         "x": [
          "2020-06-16 09:10:00",
          "2020-06-16 09:15:00",
          "2020-06-16 09:20:00",
          "2020-06-16 09:25:00",
          "2020-06-16 09:30:00",
          "2020-06-16 09:35:00",
          "2020-06-16 09:40:00",
          "2020-06-16 09:45:00",
          "2020-06-16 09:50:00",
          "2020-06-16 09:55:00",
          "2020-06-16 10:00:00",
          "2020-06-16 10:05:00",
          "2020-06-16 10:10:00",
          "2020-06-16 10:15:00",
          "2020-06-16 10:20:00",
          "2020-06-16 10:25:00",
          "2020-06-16 10:30:00",
          "2020-06-16 10:35:00",
          "2020-06-16 10:40:00",
          "2020-06-16 10:45:00",
          "2020-06-16 10:50:00",
          "2020-06-16 10:55:00",
          "2020-06-16 11:00:00",
          "2020-06-16 11:05:00",
          "2020-06-16 11:10:00",
          "2020-06-16 11:15:00",
          "2020-06-16 11:20:00",
          "2020-06-16 11:25:00",
          "2020-06-16 11:30:00",
          "2020-06-16 11:35:00",
          "2020-06-16 11:40:00",
          "2020-06-16 11:45:00",
          "2020-06-16 11:50:00",
          "2020-06-16 11:55:00",
          "2020-06-16 12:00:00",
          "2020-06-16 12:05:00",
          "2020-06-16 12:10:00",
          "2020-06-16 12:15:00",
          "2020-06-16 12:20:00",
          "2020-06-16 12:25:00",
          "2020-06-16 14:00:00",
          "2020-06-16 14:05:00",
          "2020-06-16 14:15:00",
          "2020-06-16 14:25:00",
          "2020-06-16 14:30:00",
          "2020-06-16 14:35:00",
          "2020-06-16 14:40:00",
          "2020-06-16 14:45:00",
          "2020-06-16 14:50:00",
          "2020-06-16 14:55:00",
          "2020-06-16 15:00:00",
          "2020-06-16 15:05:00",
          "2020-06-16 15:10:00",
          "2020-06-16 15:15:00",
          "2020-06-16 15:20:00",
          "2020-06-16 15:25:00",
          "2020-06-16 15:30:00",
          "2020-06-16 15:35:00",
          "2020-06-16 15:40:00",
          "2020-06-16 15:45:00",
          "2020-06-16 15:50:00",
          "2020-06-16 15:55:00",
          "2020-06-16 16:00:00",
          "2020-06-16 16:05:00",
          "2020-06-16 16:10:00",
          "2020-06-16 16:15:00",
          "2020-06-16 16:20:00"
         ],
         "y": [
          2.297297297297307,
          -1.4531043593130843,
          -1.2064343163538882,
          -0.9497964721845387,
          0.4109589041095818,
          -0.13642564802182067,
          -0.2732240437158584,
          0,
          0,
          -0.1369863013698569,
          -0.2743484224965731,
          0.8253094910591452,
          -0.545702592087316,
          0.137174211248281,
          0.5479452054794498,
          -0.13623978201634523,
          0.5457025920873049,
          0.4070556309362372,
          0.40540540540539016,
          0.5383580080753791,
          0.9370816599732379,
          0,
          0.13262599469496816,
          -0.3973509933774877,
          -0.13297872340425343,
          -0.13315579227696217,
          0.2666666666666595,
          0.13297872340425343,
          0,
          -0.13280212483400833,
          -0.930851063829774,
          0.13422818791946067,
          0.13404825737264314,
          -0.1338688085676054,
          -0.2680965147452974,
          -0.13440860215054862,
          -0.40376850605652326,
          0.2702702702702675,
          -0.13477088948786742,
          -0.26990553306343035,
          -0.4059539918809141,
          0,
          0,
          0,
          0.40760869565217295,
          -0.4059539918809141,
          -0.40760869565217295,
          -0.4092769440654842,
          -0.1369863013698569,
          -0.6858710562414272,
          -0.13812154696132284,
          -0.6915629322268413,
          0,
          0,
          -0.41782729805013297,
          0.41958041958041203,
          0.278551532033422,
          -0.2777777777777879,
          0.1392757660167332,
          -0.13908205841447474,
          -0.5571030640668551,
          0.2801120448179262,
          0.13966480446927498,
          0,
          0.1394700139470073,
          0.278551532033422,
          0.9722222222222188
         ]
        },
        {
         "line": {
          "color": "rgba(55, 128, 191, 1.0)",
          "dash": "solid",
          "shape": "linear",
          "width": 1.3
         },
         "mode": "lines",
         "name": "buy_vol_chg",
         "text": "",
         "type": "scatter",
         "x": [
          "2020-06-16 09:10:00",
          "2020-06-16 09:15:00",
          "2020-06-16 09:20:00",
          "2020-06-16 09:25:00",
          "2020-06-16 09:30:00",
          "2020-06-16 09:35:00",
          "2020-06-16 09:40:00",
          "2020-06-16 09:45:00",
          "2020-06-16 09:50:00",
          "2020-06-16 09:55:00",
          "2020-06-16 10:00:00",
          "2020-06-16 10:05:00",
          "2020-06-16 10:10:00",
          "2020-06-16 10:15:00",
          "2020-06-16 10:20:00",
          "2020-06-16 10:25:00",
          "2020-06-16 10:30:00",
          "2020-06-16 10:35:00",
          "2020-06-16 10:40:00",
          "2020-06-16 10:45:00",
          "2020-06-16 10:50:00",
          "2020-06-16 10:55:00",
          "2020-06-16 11:00:00",
          "2020-06-16 11:05:00",
          "2020-06-16 11:10:00",
          "2020-06-16 11:15:00",
          "2020-06-16 11:20:00",
          "2020-06-16 11:25:00",
          "2020-06-16 11:30:00",
          "2020-06-16 11:35:00",
          "2020-06-16 11:40:00",
          "2020-06-16 11:45:00",
          "2020-06-16 11:50:00",
          "2020-06-16 11:55:00",
          "2020-06-16 12:00:00",
          "2020-06-16 12:05:00",
          "2020-06-16 12:10:00",
          "2020-06-16 12:15:00",
          "2020-06-16 12:20:00",
          "2020-06-16 12:25:00",
          "2020-06-16 14:00:00",
          "2020-06-16 14:05:00",
          "2020-06-16 14:15:00",
          "2020-06-16 14:25:00",
          "2020-06-16 14:30:00",
          "2020-06-16 14:35:00",
          "2020-06-16 14:40:00",
          "2020-06-16 14:45:00",
          "2020-06-16 14:50:00",
          "2020-06-16 14:55:00",
          "2020-06-16 15:00:00",
          "2020-06-16 15:05:00",
          "2020-06-16 15:10:00",
          "2020-06-16 15:15:00",
          "2020-06-16 15:20:00",
          "2020-06-16 15:25:00",
          "2020-06-16 15:30:00",
          "2020-06-16 15:35:00",
          "2020-06-16 15:40:00",
          "2020-06-16 15:45:00",
          "2020-06-16 15:50:00",
          "2020-06-16 15:55:00",
          "2020-06-16 16:00:00",
          "2020-06-16 16:05:00",
          "2020-06-16 16:10:00",
          "2020-06-16 16:15:00",
          "2020-06-16 16:20:00"
         ],
         "y": [
          3,
          1,
          0,
          0,
          0,
          0,
          0,
          0,
          0,
          0,
          0,
          1,
          1,
          0,
          0,
          0,
          1,
          0,
          0,
          0,
          1,
          0,
          0,
          0,
          1,
          0,
          2,
          0,
          0,
          0,
          0,
          0,
          0,
          0,
          0,
          0,
          0,
          0,
          0,
          0,
          0,
          0,
          0,
          0,
          0,
          0,
          0,
          0,
          0,
          0,
          0,
          0,
          0,
          0,
          0,
          0,
          0,
          0,
          0,
          0,
          0,
          0,
          0,
          0,
          0,
          0,
          1
         ]
        }
       ],
       "layout": {
        "legend": {
         "bgcolor": "#F5F6F9",
         "font": {
          "color": "#4D5663"
         }
        },
        "paper_bgcolor": "#F5F6F9",
        "plot_bgcolor": "#F5F6F9",
        "template": {
         "data": {
          "bar": [
           {
            "error_x": {
             "color": "#2a3f5f"
            },
            "error_y": {
             "color": "#2a3f5f"
            },
            "marker": {
             "line": {
              "color": "#E5ECF6",
              "width": 0.5
             }
            },
            "type": "bar"
           }
          ],
          "barpolar": [
           {
            "marker": {
             "line": {
              "color": "#E5ECF6",
              "width": 0.5
             }
            },
            "type": "barpolar"
           }
          ],
          "carpet": [
           {
            "aaxis": {
             "endlinecolor": "#2a3f5f",
             "gridcolor": "white",
             "linecolor": "white",
             "minorgridcolor": "white",
             "startlinecolor": "#2a3f5f"
            },
            "baxis": {
             "endlinecolor": "#2a3f5f",
             "gridcolor": "white",
             "linecolor": "white",
             "minorgridcolor": "white",
             "startlinecolor": "#2a3f5f"
            },
            "type": "carpet"
           }
          ],
          "choropleth": [
           {
            "colorbar": {
             "outlinewidth": 0,
             "ticks": ""
            },
            "type": "choropleth"
           }
          ],
          "contour": [
           {
            "colorbar": {
             "outlinewidth": 0,
             "ticks": ""
            },
            "colorscale": [
             [
              0,
              "#0d0887"
             ],
             [
              0.1111111111111111,
              "#46039f"
             ],
             [
              0.2222222222222222,
              "#7201a8"
             ],
             [
              0.3333333333333333,
              "#9c179e"
             ],
             [
              0.4444444444444444,
              "#bd3786"
             ],
             [
              0.5555555555555556,
              "#d8576b"
             ],
             [
              0.6666666666666666,
              "#ed7953"
             ],
             [
              0.7777777777777778,
              "#fb9f3a"
             ],
             [
              0.8888888888888888,
              "#fdca26"
             ],
             [
              1,
              "#f0f921"
             ]
            ],
            "type": "contour"
           }
          ],
          "contourcarpet": [
           {
            "colorbar": {
             "outlinewidth": 0,
             "ticks": ""
            },
            "type": "contourcarpet"
           }
          ],
          "heatmap": [
           {
            "colorbar": {
             "outlinewidth": 0,
             "ticks": ""
            },
            "colorscale": [
             [
              0,
              "#0d0887"
             ],
             [
              0.1111111111111111,
              "#46039f"
             ],
             [
              0.2222222222222222,
              "#7201a8"
             ],
             [
              0.3333333333333333,
              "#9c179e"
             ],
             [
              0.4444444444444444,
              "#bd3786"
             ],
             [
              0.5555555555555556,
              "#d8576b"
             ],
             [
              0.6666666666666666,
              "#ed7953"
             ],
             [
              0.7777777777777778,
              "#fb9f3a"
             ],
             [
              0.8888888888888888,
              "#fdca26"
             ],
             [
              1,
              "#f0f921"
             ]
            ],
            "type": "heatmap"
           }
          ],
          "heatmapgl": [
           {
            "colorbar": {
             "outlinewidth": 0,
             "ticks": ""
            },
            "colorscale": [
             [
              0,
              "#0d0887"
             ],
             [
              0.1111111111111111,
              "#46039f"
             ],
             [
              0.2222222222222222,
              "#7201a8"
             ],
             [
              0.3333333333333333,
              "#9c179e"
             ],
             [
              0.4444444444444444,
              "#bd3786"
             ],
             [
              0.5555555555555556,
              "#d8576b"
             ],
             [
              0.6666666666666666,
              "#ed7953"
             ],
             [
              0.7777777777777778,
              "#fb9f3a"
             ],
             [
              0.8888888888888888,
              "#fdca26"
             ],
             [
              1,
              "#f0f921"
             ]
            ],
            "type": "heatmapgl"
           }
          ],
          "histogram": [
           {
            "marker": {
             "colorbar": {
              "outlinewidth": 0,
              "ticks": ""
             }
            },
            "type": "histogram"
           }
          ],
          "histogram2d": [
           {
            "colorbar": {
             "outlinewidth": 0,
             "ticks": ""
            },
            "colorscale": [
             [
              0,
              "#0d0887"
             ],
             [
              0.1111111111111111,
              "#46039f"
             ],
             [
              0.2222222222222222,
              "#7201a8"
             ],
             [
              0.3333333333333333,
              "#9c179e"
             ],
             [
              0.4444444444444444,
              "#bd3786"
             ],
             [
              0.5555555555555556,
              "#d8576b"
             ],
             [
              0.6666666666666666,
              "#ed7953"
             ],
             [
              0.7777777777777778,
              "#fb9f3a"
             ],
             [
              0.8888888888888888,
              "#fdca26"
             ],
             [
              1,
              "#f0f921"
             ]
            ],
            "type": "histogram2d"
           }
          ],
          "histogram2dcontour": [
           {
            "colorbar": {
             "outlinewidth": 0,
             "ticks": ""
            },
            "colorscale": [
             [
              0,
              "#0d0887"
             ],
             [
              0.1111111111111111,
              "#46039f"
             ],
             [
              0.2222222222222222,
              "#7201a8"
             ],
             [
              0.3333333333333333,
              "#9c179e"
             ],
             [
              0.4444444444444444,
              "#bd3786"
             ],
             [
              0.5555555555555556,
              "#d8576b"
             ],
             [
              0.6666666666666666,
              "#ed7953"
             ],
             [
              0.7777777777777778,
              "#fb9f3a"
             ],
             [
              0.8888888888888888,
              "#fdca26"
             ],
             [
              1,
              "#f0f921"
             ]
            ],
            "type": "histogram2dcontour"
           }
          ],
          "mesh3d": [
           {
            "colorbar": {
             "outlinewidth": 0,
             "ticks": ""
            },
            "type": "mesh3d"
           }
          ],
          "parcoords": [
           {
            "line": {
             "colorbar": {
              "outlinewidth": 0,
              "ticks": ""
             }
            },
            "type": "parcoords"
           }
          ],
          "pie": [
           {
            "automargin": true,
            "type": "pie"
           }
          ],
          "scatter": [
           {
            "marker": {
             "colorbar": {
              "outlinewidth": 0,
              "ticks": ""
             }
            },
            "type": "scatter"
           }
          ],
          "scatter3d": [
           {
            "line": {
             "colorbar": {
              "outlinewidth": 0,
              "ticks": ""
             }
            },
            "marker": {
             "colorbar": {
              "outlinewidth": 0,
              "ticks": ""
             }
            },
            "type": "scatter3d"
           }
          ],
          "scattercarpet": [
           {
            "marker": {
             "colorbar": {
              "outlinewidth": 0,
              "ticks": ""
             }
            },
            "type": "scattercarpet"
           }
          ],
          "scattergeo": [
           {
            "marker": {
             "colorbar": {
              "outlinewidth": 0,
              "ticks": ""
             }
            },
            "type": "scattergeo"
           }
          ],
          "scattergl": [
           {
            "marker": {
             "colorbar": {
              "outlinewidth": 0,
              "ticks": ""
             }
            },
            "type": "scattergl"
           }
          ],
          "scattermapbox": [
           {
            "marker": {
             "colorbar": {
              "outlinewidth": 0,
              "ticks": ""
             }
            },
            "type": "scattermapbox"
           }
          ],
          "scatterpolar": [
           {
            "marker": {
             "colorbar": {
              "outlinewidth": 0,
              "ticks": ""
             }
            },
            "type": "scatterpolar"
           }
          ],
          "scatterpolargl": [
           {
            "marker": {
             "colorbar": {
              "outlinewidth": 0,
              "ticks": ""
             }
            },
            "type": "scatterpolargl"
           }
          ],
          "scatterternary": [
           {
            "marker": {
             "colorbar": {
              "outlinewidth": 0,
              "ticks": ""
             }
            },
            "type": "scatterternary"
           }
          ],
          "surface": [
           {
            "colorbar": {
             "outlinewidth": 0,
             "ticks": ""
            },
            "colorscale": [
             [
              0,
              "#0d0887"
             ],
             [
              0.1111111111111111,
              "#46039f"
             ],
             [
              0.2222222222222222,
              "#7201a8"
             ],
             [
              0.3333333333333333,
              "#9c179e"
             ],
             [
              0.4444444444444444,
              "#bd3786"
             ],
             [
              0.5555555555555556,
              "#d8576b"
             ],
             [
              0.6666666666666666,
              "#ed7953"
             ],
             [
              0.7777777777777778,
              "#fb9f3a"
             ],
             [
              0.8888888888888888,
              "#fdca26"
             ],
             [
              1,
              "#f0f921"
             ]
            ],
            "type": "surface"
           }
          ],
          "table": [
           {
            "cells": {
             "fill": {
              "color": "#EBF0F8"
             },
             "line": {
              "color": "white"
             }
            },
            "header": {
             "fill": {
              "color": "#C8D4E3"
             },
             "line": {
              "color": "white"
             }
            },
            "type": "table"
           }
          ]
         },
         "layout": {
          "annotationdefaults": {
           "arrowcolor": "#2a3f5f",
           "arrowhead": 0,
           "arrowwidth": 1
          },
          "coloraxis": {
           "colorbar": {
            "outlinewidth": 0,
            "ticks": ""
           }
          },
          "colorscale": {
           "diverging": [
            [
             0,
             "#8e0152"
            ],
            [
             0.1,
             "#c51b7d"
            ],
            [
             0.2,
             "#de77ae"
            ],
            [
             0.3,
             "#f1b6da"
            ],
            [
             0.4,
             "#fde0ef"
            ],
            [
             0.5,
             "#f7f7f7"
            ],
            [
             0.6,
             "#e6f5d0"
            ],
            [
             0.7,
             "#b8e186"
            ],
            [
             0.8,
             "#7fbc41"
            ],
            [
             0.9,
             "#4d9221"
            ],
            [
             1,
             "#276419"
            ]
           ],
           "sequential": [
            [
             0,
             "#0d0887"
            ],
            [
             0.1111111111111111,
             "#46039f"
            ],
            [
             0.2222222222222222,
             "#7201a8"
            ],
            [
             0.3333333333333333,
             "#9c179e"
            ],
            [
             0.4444444444444444,
             "#bd3786"
            ],
            [
             0.5555555555555556,
             "#d8576b"
            ],
            [
             0.6666666666666666,
             "#ed7953"
            ],
            [
             0.7777777777777778,
             "#fb9f3a"
            ],
            [
             0.8888888888888888,
             "#fdca26"
            ],
            [
             1,
             "#f0f921"
            ]
           ],
           "sequentialminus": [
            [
             0,
             "#0d0887"
            ],
            [
             0.1111111111111111,
             "#46039f"
            ],
            [
             0.2222222222222222,
             "#7201a8"
            ],
            [
             0.3333333333333333,
             "#9c179e"
            ],
            [
             0.4444444444444444,
             "#bd3786"
            ],
            [
             0.5555555555555556,
             "#d8576b"
            ],
            [
             0.6666666666666666,
             "#ed7953"
            ],
            [
             0.7777777777777778,
             "#fb9f3a"
            ],
            [
             0.8888888888888888,
             "#fdca26"
            ],
            [
             1,
             "#f0f921"
            ]
           ]
          },
          "colorway": [
           "#636efa",
           "#EF553B",
           "#00cc96",
           "#ab63fa",
           "#FFA15A",
           "#19d3f3",
           "#FF6692",
           "#B6E880",
           "#FF97FF",
           "#FECB52"
          ],
          "font": {
           "color": "#2a3f5f"
          },
          "geo": {
           "bgcolor": "white",
           "lakecolor": "white",
           "landcolor": "#E5ECF6",
           "showlakes": true,
           "showland": true,
           "subunitcolor": "white"
          },
          "hoverlabel": {
           "align": "left"
          },
          "hovermode": "closest",
          "mapbox": {
           "style": "light"
          },
          "paper_bgcolor": "white",
          "plot_bgcolor": "#E5ECF6",
          "polar": {
           "angularaxis": {
            "gridcolor": "white",
            "linecolor": "white",
            "ticks": ""
           },
           "bgcolor": "#E5ECF6",
           "radialaxis": {
            "gridcolor": "white",
            "linecolor": "white",
            "ticks": ""
           }
          },
          "scene": {
           "xaxis": {
            "backgroundcolor": "#E5ECF6",
            "gridcolor": "white",
            "gridwidth": 2,
            "linecolor": "white",
            "showbackground": true,
            "ticks": "",
            "zerolinecolor": "white"
           },
           "yaxis": {
            "backgroundcolor": "#E5ECF6",
            "gridcolor": "white",
            "gridwidth": 2,
            "linecolor": "white",
            "showbackground": true,
            "ticks": "",
            "zerolinecolor": "white"
           },
           "zaxis": {
            "backgroundcolor": "#E5ECF6",
            "gridcolor": "white",
            "gridwidth": 2,
            "linecolor": "white",
            "showbackground": true,
            "ticks": "",
            "zerolinecolor": "white"
           }
          },
          "shapedefaults": {
           "line": {
            "color": "#2a3f5f"
           }
          },
          "ternary": {
           "aaxis": {
            "gridcolor": "white",
            "linecolor": "white",
            "ticks": ""
           },
           "baxis": {
            "gridcolor": "white",
            "linecolor": "white",
            "ticks": ""
           },
           "bgcolor": "#E5ECF6",
           "caxis": {
            "gridcolor": "white",
            "linecolor": "white",
            "ticks": ""
           }
          },
          "title": {
           "x": 0.05
          },
          "xaxis": {
           "automargin": true,
           "gridcolor": "white",
           "linecolor": "white",
           "ticks": "",
           "title": {
            "standoff": 15
           },
           "zerolinecolor": "white",
           "zerolinewidth": 2
          },
          "yaxis": {
           "automargin": true,
           "gridcolor": "white",
           "linecolor": "white",
           "ticks": "",
           "title": {
            "standoff": 15
           },
           "zerolinecolor": "white",
           "zerolinewidth": 2
          }
         }
        },
        "title": {
         "font": {
          "color": "#4D5663"
         }
        },
        "xaxis": {
         "gridcolor": "#E1E5ED",
         "showgrid": true,
         "tickfont": {
          "color": "#4D5663"
         },
         "title": {
          "font": {
           "color": "#4D5663"
          },
          "text": ""
         },
         "zerolinecolor": "#E1E5ED"
        },
        "yaxis": {
         "gridcolor": "#E1E5ED",
         "showgrid": true,
         "tickfont": {
          "color": "#4D5663"
         },
         "title": {
          "font": {
           "color": "#4D5663"
          },
          "text": ""
         },
         "zerolinecolor": "#E1E5ED"
        }
       }
      },
      "text/html": [
       "<div>\n",
       "        \n",
       "        \n",
       "            <div id=\"85561a24-d3ed-4c3b-8141-de0c13c00aef\" class=\"plotly-graph-div\" style=\"height:525px; width:100%;\"></div>\n",
       "            <script type=\"text/javascript\">\n",
       "                require([\"plotly\"], function(Plotly) {\n",
       "                    window.PLOTLYENV=window.PLOTLYENV || {};\n",
       "                    window.PLOTLYENV.BASE_URL='https://plotly.com';\n",
       "                    \n",
       "                if (document.getElementById(\"85561a24-d3ed-4c3b-8141-de0c13c00aef\")) {\n",
       "                    Plotly.newPlot(\n",
       "                        '85561a24-d3ed-4c3b-8141-de0c13c00aef',\n",
       "                        [{\"line\": {\"color\": \"rgba(255, 153, 51, 1.0)\", \"dash\": \"solid\", \"shape\": \"linear\", \"width\": 1.3}, \"mode\": \"lines\", \"name\": \"last_done_price_pct\", \"text\": \"\", \"type\": \"scatter\", \"x\": [\"2020-06-16 09:10:00\", \"2020-06-16 09:15:00\", \"2020-06-16 09:20:00\", \"2020-06-16 09:25:00\", \"2020-06-16 09:30:00\", \"2020-06-16 09:35:00\", \"2020-06-16 09:40:00\", \"2020-06-16 09:45:00\", \"2020-06-16 09:50:00\", \"2020-06-16 09:55:00\", \"2020-06-16 10:00:00\", \"2020-06-16 10:05:00\", \"2020-06-16 10:10:00\", \"2020-06-16 10:15:00\", \"2020-06-16 10:20:00\", \"2020-06-16 10:25:00\", \"2020-06-16 10:30:00\", \"2020-06-16 10:35:00\", \"2020-06-16 10:40:00\", \"2020-06-16 10:45:00\", \"2020-06-16 10:50:00\", \"2020-06-16 10:55:00\", \"2020-06-16 11:00:00\", \"2020-06-16 11:05:00\", \"2020-06-16 11:10:00\", \"2020-06-16 11:15:00\", \"2020-06-16 11:20:00\", \"2020-06-16 11:25:00\", \"2020-06-16 11:30:00\", \"2020-06-16 11:35:00\", \"2020-06-16 11:40:00\", \"2020-06-16 11:45:00\", \"2020-06-16 11:50:00\", \"2020-06-16 11:55:00\", \"2020-06-16 12:00:00\", \"2020-06-16 12:05:00\", \"2020-06-16 12:10:00\", \"2020-06-16 12:15:00\", \"2020-06-16 12:20:00\", \"2020-06-16 12:25:00\", \"2020-06-16 14:00:00\", \"2020-06-16 14:05:00\", \"2020-06-16 14:15:00\", \"2020-06-16 14:25:00\", \"2020-06-16 14:30:00\", \"2020-06-16 14:35:00\", \"2020-06-16 14:40:00\", \"2020-06-16 14:45:00\", \"2020-06-16 14:50:00\", \"2020-06-16 14:55:00\", \"2020-06-16 15:00:00\", \"2020-06-16 15:05:00\", \"2020-06-16 15:10:00\", \"2020-06-16 15:15:00\", \"2020-06-16 15:20:00\", \"2020-06-16 15:25:00\", \"2020-06-16 15:30:00\", \"2020-06-16 15:35:00\", \"2020-06-16 15:40:00\", \"2020-06-16 15:45:00\", \"2020-06-16 15:50:00\", \"2020-06-16 15:55:00\", \"2020-06-16 16:00:00\", \"2020-06-16 16:05:00\", \"2020-06-16 16:10:00\", \"2020-06-16 16:15:00\", \"2020-06-16 16:20:00\"], \"y\": [2.297297297297307, -1.4531043593130843, -1.2064343163538882, -0.9497964721845387, 0.4109589041095818, -0.13642564802182067, -0.2732240437158584, 0.0, 0.0, -0.1369863013698569, -0.2743484224965731, 0.8253094910591452, -0.545702592087316, 0.137174211248281, 0.5479452054794498, -0.13623978201634523, 0.5457025920873049, 0.4070556309362372, 0.40540540540539016, 0.5383580080753791, 0.9370816599732379, 0.0, 0.13262599469496816, -0.3973509933774877, -0.13297872340425343, -0.13315579227696217, 0.2666666666666595, 0.13297872340425343, 0.0, -0.13280212483400833, -0.930851063829774, 0.13422818791946067, 0.13404825737264314, -0.1338688085676054, -0.2680965147452974, -0.13440860215054862, -0.40376850605652326, 0.2702702702702675, -0.13477088948786742, -0.26990553306343035, -0.4059539918809141, 0.0, 0.0, 0.0, 0.40760869565217295, -0.4059539918809141, -0.40760869565217295, -0.4092769440654842, -0.1369863013698569, -0.6858710562414272, -0.13812154696132284, -0.6915629322268413, 0.0, 0.0, -0.41782729805013297, 0.41958041958041203, 0.278551532033422, -0.2777777777777879, 0.1392757660167332, -0.13908205841447474, -0.5571030640668551, 0.2801120448179262, 0.13966480446927498, 0.0, 0.1394700139470073, 0.278551532033422, 0.9722222222222188]}, {\"line\": {\"color\": \"rgba(55, 128, 191, 1.0)\", \"dash\": \"solid\", \"shape\": \"linear\", \"width\": 1.3}, \"mode\": \"lines\", \"name\": \"buy_vol_chg\", \"text\": \"\", \"type\": \"scatter\", \"x\": [\"2020-06-16 09:10:00\", \"2020-06-16 09:15:00\", \"2020-06-16 09:20:00\", \"2020-06-16 09:25:00\", \"2020-06-16 09:30:00\", \"2020-06-16 09:35:00\", \"2020-06-16 09:40:00\", \"2020-06-16 09:45:00\", \"2020-06-16 09:50:00\", \"2020-06-16 09:55:00\", \"2020-06-16 10:00:00\", \"2020-06-16 10:05:00\", \"2020-06-16 10:10:00\", \"2020-06-16 10:15:00\", \"2020-06-16 10:20:00\", \"2020-06-16 10:25:00\", \"2020-06-16 10:30:00\", \"2020-06-16 10:35:00\", \"2020-06-16 10:40:00\", \"2020-06-16 10:45:00\", \"2020-06-16 10:50:00\", \"2020-06-16 10:55:00\", \"2020-06-16 11:00:00\", \"2020-06-16 11:05:00\", \"2020-06-16 11:10:00\", \"2020-06-16 11:15:00\", \"2020-06-16 11:20:00\", \"2020-06-16 11:25:00\", \"2020-06-16 11:30:00\", \"2020-06-16 11:35:00\", \"2020-06-16 11:40:00\", \"2020-06-16 11:45:00\", \"2020-06-16 11:50:00\", \"2020-06-16 11:55:00\", \"2020-06-16 12:00:00\", \"2020-06-16 12:05:00\", \"2020-06-16 12:10:00\", \"2020-06-16 12:15:00\", \"2020-06-16 12:20:00\", \"2020-06-16 12:25:00\", \"2020-06-16 14:00:00\", \"2020-06-16 14:05:00\", \"2020-06-16 14:15:00\", \"2020-06-16 14:25:00\", \"2020-06-16 14:30:00\", \"2020-06-16 14:35:00\", \"2020-06-16 14:40:00\", \"2020-06-16 14:45:00\", \"2020-06-16 14:50:00\", \"2020-06-16 14:55:00\", \"2020-06-16 15:00:00\", \"2020-06-16 15:05:00\", \"2020-06-16 15:10:00\", \"2020-06-16 15:15:00\", \"2020-06-16 15:20:00\", \"2020-06-16 15:25:00\", \"2020-06-16 15:30:00\", \"2020-06-16 15:35:00\", \"2020-06-16 15:40:00\", \"2020-06-16 15:45:00\", \"2020-06-16 15:50:00\", \"2020-06-16 15:55:00\", \"2020-06-16 16:00:00\", \"2020-06-16 16:05:00\", \"2020-06-16 16:10:00\", \"2020-06-16 16:15:00\", \"2020-06-16 16:20:00\"], \"y\": [3, 1, 0, 0, 0, 0, 0, 0, 0, 0, 0, 1, 1, 0, 0, 0, 1, 0, 0, 0, 1, 0, 0, 0, 1, 0, 2, 0, 0, 0, 0, 0, 0, 0, 0, 0, 0, 0, 0, 0, 0, 0, 0, 0, 0, 0, 0, 0, 0, 0, 0, 0, 0, 0, 0, 0, 0, 0, 0, 0, 0, 0, 0, 0, 0, 0, 1]}],\n",
       "                        {\"legend\": {\"bgcolor\": \"#F5F6F9\", \"font\": {\"color\": \"#4D5663\"}}, \"paper_bgcolor\": \"#F5F6F9\", \"plot_bgcolor\": \"#F5F6F9\", \"template\": {\"data\": {\"bar\": [{\"error_x\": {\"color\": \"#2a3f5f\"}, \"error_y\": {\"color\": \"#2a3f5f\"}, \"marker\": {\"line\": {\"color\": \"#E5ECF6\", \"width\": 0.5}}, \"type\": \"bar\"}], \"barpolar\": [{\"marker\": {\"line\": {\"color\": \"#E5ECF6\", \"width\": 0.5}}, \"type\": \"barpolar\"}], \"carpet\": [{\"aaxis\": {\"endlinecolor\": \"#2a3f5f\", \"gridcolor\": \"white\", \"linecolor\": \"white\", \"minorgridcolor\": \"white\", \"startlinecolor\": \"#2a3f5f\"}, \"baxis\": {\"endlinecolor\": \"#2a3f5f\", \"gridcolor\": \"white\", \"linecolor\": \"white\", \"minorgridcolor\": \"white\", \"startlinecolor\": \"#2a3f5f\"}, \"type\": \"carpet\"}], \"choropleth\": [{\"colorbar\": {\"outlinewidth\": 0, \"ticks\": \"\"}, \"type\": \"choropleth\"}], \"contour\": [{\"colorbar\": {\"outlinewidth\": 0, \"ticks\": \"\"}, \"colorscale\": [[0.0, \"#0d0887\"], [0.1111111111111111, \"#46039f\"], [0.2222222222222222, \"#7201a8\"], [0.3333333333333333, \"#9c179e\"], [0.4444444444444444, \"#bd3786\"], [0.5555555555555556, \"#d8576b\"], [0.6666666666666666, \"#ed7953\"], [0.7777777777777778, \"#fb9f3a\"], [0.8888888888888888, \"#fdca26\"], [1.0, \"#f0f921\"]], \"type\": \"contour\"}], \"contourcarpet\": [{\"colorbar\": {\"outlinewidth\": 0, \"ticks\": \"\"}, \"type\": \"contourcarpet\"}], \"heatmap\": [{\"colorbar\": {\"outlinewidth\": 0, \"ticks\": \"\"}, \"colorscale\": [[0.0, \"#0d0887\"], [0.1111111111111111, \"#46039f\"], [0.2222222222222222, \"#7201a8\"], [0.3333333333333333, \"#9c179e\"], [0.4444444444444444, \"#bd3786\"], [0.5555555555555556, \"#d8576b\"], [0.6666666666666666, \"#ed7953\"], [0.7777777777777778, \"#fb9f3a\"], [0.8888888888888888, \"#fdca26\"], [1.0, \"#f0f921\"]], \"type\": \"heatmap\"}], \"heatmapgl\": [{\"colorbar\": {\"outlinewidth\": 0, \"ticks\": \"\"}, \"colorscale\": [[0.0, \"#0d0887\"], [0.1111111111111111, \"#46039f\"], [0.2222222222222222, \"#7201a8\"], [0.3333333333333333, \"#9c179e\"], [0.4444444444444444, \"#bd3786\"], [0.5555555555555556, \"#d8576b\"], [0.6666666666666666, \"#ed7953\"], [0.7777777777777778, \"#fb9f3a\"], [0.8888888888888888, \"#fdca26\"], [1.0, \"#f0f921\"]], \"type\": \"heatmapgl\"}], \"histogram\": [{\"marker\": {\"colorbar\": {\"outlinewidth\": 0, \"ticks\": \"\"}}, \"type\": \"histogram\"}], \"histogram2d\": [{\"colorbar\": {\"outlinewidth\": 0, \"ticks\": \"\"}, \"colorscale\": [[0.0, \"#0d0887\"], [0.1111111111111111, \"#46039f\"], [0.2222222222222222, \"#7201a8\"], [0.3333333333333333, \"#9c179e\"], [0.4444444444444444, \"#bd3786\"], [0.5555555555555556, \"#d8576b\"], [0.6666666666666666, \"#ed7953\"], [0.7777777777777778, \"#fb9f3a\"], [0.8888888888888888, \"#fdca26\"], [1.0, \"#f0f921\"]], \"type\": \"histogram2d\"}], \"histogram2dcontour\": [{\"colorbar\": {\"outlinewidth\": 0, \"ticks\": \"\"}, \"colorscale\": [[0.0, \"#0d0887\"], [0.1111111111111111, \"#46039f\"], [0.2222222222222222, \"#7201a8\"], [0.3333333333333333, \"#9c179e\"], [0.4444444444444444, \"#bd3786\"], [0.5555555555555556, \"#d8576b\"], [0.6666666666666666, \"#ed7953\"], [0.7777777777777778, \"#fb9f3a\"], [0.8888888888888888, \"#fdca26\"], [1.0, \"#f0f921\"]], \"type\": \"histogram2dcontour\"}], \"mesh3d\": [{\"colorbar\": {\"outlinewidth\": 0, \"ticks\": \"\"}, \"type\": \"mesh3d\"}], \"parcoords\": [{\"line\": {\"colorbar\": {\"outlinewidth\": 0, \"ticks\": \"\"}}, \"type\": \"parcoords\"}], \"pie\": [{\"automargin\": true, \"type\": \"pie\"}], \"scatter\": [{\"marker\": {\"colorbar\": {\"outlinewidth\": 0, \"ticks\": \"\"}}, \"type\": \"scatter\"}], \"scatter3d\": [{\"line\": {\"colorbar\": {\"outlinewidth\": 0, \"ticks\": \"\"}}, \"marker\": {\"colorbar\": {\"outlinewidth\": 0, \"ticks\": \"\"}}, \"type\": \"scatter3d\"}], \"scattercarpet\": [{\"marker\": {\"colorbar\": {\"outlinewidth\": 0, \"ticks\": \"\"}}, \"type\": \"scattercarpet\"}], \"scattergeo\": [{\"marker\": {\"colorbar\": {\"outlinewidth\": 0, \"ticks\": \"\"}}, \"type\": \"scattergeo\"}], \"scattergl\": [{\"marker\": {\"colorbar\": {\"outlinewidth\": 0, \"ticks\": \"\"}}, \"type\": \"scattergl\"}], \"scattermapbox\": [{\"marker\": {\"colorbar\": {\"outlinewidth\": 0, \"ticks\": \"\"}}, \"type\": \"scattermapbox\"}], \"scatterpolar\": [{\"marker\": {\"colorbar\": {\"outlinewidth\": 0, \"ticks\": \"\"}}, \"type\": \"scatterpolar\"}], \"scatterpolargl\": [{\"marker\": {\"colorbar\": {\"outlinewidth\": 0, \"ticks\": \"\"}}, \"type\": \"scatterpolargl\"}], \"scatterternary\": [{\"marker\": {\"colorbar\": {\"outlinewidth\": 0, \"ticks\": \"\"}}, \"type\": \"scatterternary\"}], \"surface\": [{\"colorbar\": {\"outlinewidth\": 0, \"ticks\": \"\"}, \"colorscale\": [[0.0, \"#0d0887\"], [0.1111111111111111, \"#46039f\"], [0.2222222222222222, \"#7201a8\"], [0.3333333333333333, \"#9c179e\"], [0.4444444444444444, \"#bd3786\"], [0.5555555555555556, \"#d8576b\"], [0.6666666666666666, \"#ed7953\"], [0.7777777777777778, \"#fb9f3a\"], [0.8888888888888888, \"#fdca26\"], [1.0, \"#f0f921\"]], \"type\": \"surface\"}], \"table\": [{\"cells\": {\"fill\": {\"color\": \"#EBF0F8\"}, \"line\": {\"color\": \"white\"}}, \"header\": {\"fill\": {\"color\": \"#C8D4E3\"}, \"line\": {\"color\": \"white\"}}, \"type\": \"table\"}]}, \"layout\": {\"annotationdefaults\": {\"arrowcolor\": \"#2a3f5f\", \"arrowhead\": 0, \"arrowwidth\": 1}, \"coloraxis\": {\"colorbar\": {\"outlinewidth\": 0, \"ticks\": \"\"}}, \"colorscale\": {\"diverging\": [[0, \"#8e0152\"], [0.1, \"#c51b7d\"], [0.2, \"#de77ae\"], [0.3, \"#f1b6da\"], [0.4, \"#fde0ef\"], [0.5, \"#f7f7f7\"], [0.6, \"#e6f5d0\"], [0.7, \"#b8e186\"], [0.8, \"#7fbc41\"], [0.9, \"#4d9221\"], [1, \"#276419\"]], \"sequential\": [[0.0, \"#0d0887\"], [0.1111111111111111, \"#46039f\"], [0.2222222222222222, \"#7201a8\"], [0.3333333333333333, \"#9c179e\"], [0.4444444444444444, \"#bd3786\"], [0.5555555555555556, \"#d8576b\"], [0.6666666666666666, \"#ed7953\"], [0.7777777777777778, \"#fb9f3a\"], [0.8888888888888888, \"#fdca26\"], [1.0, \"#f0f921\"]], \"sequentialminus\": [[0.0, \"#0d0887\"], [0.1111111111111111, \"#46039f\"], [0.2222222222222222, \"#7201a8\"], [0.3333333333333333, \"#9c179e\"], [0.4444444444444444, \"#bd3786\"], [0.5555555555555556, \"#d8576b\"], [0.6666666666666666, \"#ed7953\"], [0.7777777777777778, \"#fb9f3a\"], [0.8888888888888888, \"#fdca26\"], [1.0, \"#f0f921\"]]}, \"colorway\": [\"#636efa\", \"#EF553B\", \"#00cc96\", \"#ab63fa\", \"#FFA15A\", \"#19d3f3\", \"#FF6692\", \"#B6E880\", \"#FF97FF\", \"#FECB52\"], \"font\": {\"color\": \"#2a3f5f\"}, \"geo\": {\"bgcolor\": \"white\", \"lakecolor\": \"white\", \"landcolor\": \"#E5ECF6\", \"showlakes\": true, \"showland\": true, \"subunitcolor\": \"white\"}, \"hoverlabel\": {\"align\": \"left\"}, \"hovermode\": \"closest\", \"mapbox\": {\"style\": \"light\"}, \"paper_bgcolor\": \"white\", \"plot_bgcolor\": \"#E5ECF6\", \"polar\": {\"angularaxis\": {\"gridcolor\": \"white\", \"linecolor\": \"white\", \"ticks\": \"\"}, \"bgcolor\": \"#E5ECF6\", \"radialaxis\": {\"gridcolor\": \"white\", \"linecolor\": \"white\", \"ticks\": \"\"}}, \"scene\": {\"xaxis\": {\"backgroundcolor\": \"#E5ECF6\", \"gridcolor\": \"white\", \"gridwidth\": 2, \"linecolor\": \"white\", \"showbackground\": true, \"ticks\": \"\", \"zerolinecolor\": \"white\"}, \"yaxis\": {\"backgroundcolor\": \"#E5ECF6\", \"gridcolor\": \"white\", \"gridwidth\": 2, \"linecolor\": \"white\", \"showbackground\": true, \"ticks\": \"\", \"zerolinecolor\": \"white\"}, \"zaxis\": {\"backgroundcolor\": \"#E5ECF6\", \"gridcolor\": \"white\", \"gridwidth\": 2, \"linecolor\": \"white\", \"showbackground\": true, \"ticks\": \"\", \"zerolinecolor\": \"white\"}}, \"shapedefaults\": {\"line\": {\"color\": \"#2a3f5f\"}}, \"ternary\": {\"aaxis\": {\"gridcolor\": \"white\", \"linecolor\": \"white\", \"ticks\": \"\"}, \"baxis\": {\"gridcolor\": \"white\", \"linecolor\": \"white\", \"ticks\": \"\"}, \"bgcolor\": \"#E5ECF6\", \"caxis\": {\"gridcolor\": \"white\", \"linecolor\": \"white\", \"ticks\": \"\"}}, \"title\": {\"x\": 0.05}, \"xaxis\": {\"automargin\": true, \"gridcolor\": \"white\", \"linecolor\": \"white\", \"ticks\": \"\", \"title\": {\"standoff\": 15}, \"zerolinecolor\": \"white\", \"zerolinewidth\": 2}, \"yaxis\": {\"automargin\": true, \"gridcolor\": \"white\", \"linecolor\": \"white\", \"ticks\": \"\", \"title\": {\"standoff\": 15}, \"zerolinecolor\": \"white\", \"zerolinewidth\": 2}}}, \"title\": {\"font\": {\"color\": \"#4D5663\"}}, \"xaxis\": {\"gridcolor\": \"#E1E5ED\", \"showgrid\": true, \"tickfont\": {\"color\": \"#4D5663\"}, \"title\": {\"font\": {\"color\": \"#4D5663\"}, \"text\": \"\"}, \"zerolinecolor\": \"#E1E5ED\"}, \"yaxis\": {\"gridcolor\": \"#E1E5ED\", \"showgrid\": true, \"tickfont\": {\"color\": \"#4D5663\"}, \"title\": {\"font\": {\"color\": \"#4D5663\"}, \"text\": \"\"}, \"zerolinecolor\": \"#E1E5ED\"}},\n",
       "                        {\"showLink\": true, \"linkText\": \"Export to plotly.com\", \"plotlyServerURL\": \"https://plotly.com\", \"responsive\": true}\n",
       "                    ).then(function(){\n",
       "                            \n",
       "var gd = document.getElementById('85561a24-d3ed-4c3b-8141-de0c13c00aef');\n",
       "var x = new MutationObserver(function (mutations, observer) {{\n",
       "        var display = window.getComputedStyle(gd).display;\n",
       "        if (!display || display === 'none') {{\n",
       "            console.log([gd, 'removed!']);\n",
       "            Plotly.purge(gd);\n",
       "            observer.disconnect();\n",
       "        }}\n",
       "}});\n",
       "\n",
       "// Listen for the removal of the full notebook cells\n",
       "var notebookContainer = gd.closest('#notebook-container');\n",
       "if (notebookContainer) {{\n",
       "    x.observe(notebookContainer, {childList: true});\n",
       "}}\n",
       "\n",
       "// Listen for the clearing of the current output cell\n",
       "var outputEl = gd.closest('.output');\n",
       "if (outputEl) {{\n",
       "    x.observe(outputEl, {childList: true});\n",
       "}}\n",
       "\n",
       "                        })\n",
       "                };\n",
       "                });\n",
       "            </script>\n",
       "        </div>"
      ]
     },
     "metadata": {},
     "output_type": "display_data"
    }
   ],
   "source": [
    "df__.dropna()[['last_done_price_pct','buy_vol_chg']].iplot()"
   ]
  },
  {
   "cell_type": "code",
   "execution_count": 30,
   "metadata": {
    "scrolled": true
   },
   "outputs": [
    {
     "data": {
      "text/plain": [
       "{'symbol': 'SUPERMX',\n",
       " 'counter': '7106',\n",
       " 'date': Timestamp('2020-06-15 00:00:00'),\n",
       " 'buy_vol_chg_max_mean': 1923.65,\n",
       " 'buy_vol_chg_max_std': 1033.269683806548,\n",
       " 'sell_vol_chg_max_mean': 8126.45,\n",
       " 'sell_vol_chg_max_std': 8158.332133953284}"
      ]
     },
     "execution_count": 30,
     "metadata": {},
     "output_type": "execute_result"
    }
   ],
   "source": [
    "topglov.volume_threshold"
   ]
  },
  {
   "cell_type": "code",
   "execution_count": 32,
   "metadata": {},
   "outputs": [],
   "source": [
    "df_=pd.read_feather(build_force_filename('Health Care'))"
   ]
  },
  {
   "cell_type": "code",
   "execution_count": 54,
   "metadata": {},
   "outputs": [
    {
     "data": {
      "text/plain": [
       "[12445, 24764, 24520, 24397, 8009, 7562]"
      ]
     },
     "execution_count": 54,
     "metadata": {},
     "output_type": "execute_result"
    }
   ],
   "source": [
    "topglov.sharks.index.tolist()"
   ]
  },
  {
   "cell_type": "code",
   "execution_count": 57,
   "metadata": {},
   "outputs": [],
   "source": [
    "topglov.sharks['last_done_price']=df_.reset_index().iloc[topglov.sharks.index.tolist()]['last_done_price']"
   ]
  },
  {
   "cell_type": "code",
   "execution_count": 9,
   "metadata": {},
   "outputs": [
    {
     "data": {
      "text/html": [
       "<div>\n",
       "<style scoped>\n",
       "    .dataframe tbody tr th:only-of-type {\n",
       "        vertical-align: middle;\n",
       "    }\n",
       "\n",
       "    .dataframe tbody tr th {\n",
       "        vertical-align: top;\n",
       "    }\n",
       "\n",
       "    .dataframe thead th {\n",
       "        text-align: right;\n",
       "    }\n",
       "</style>\n",
       "<table border=\"1\" class=\"dataframe\">\n",
       "  <thead>\n",
       "    <tr style=\"text-align: right;\">\n",
       "      <th></th>\n",
       "      <th>time</th>\n",
       "      <th>buy_vol_chg</th>\n",
       "      <th>buy_queue_price</th>\n",
       "      <th>last_done_price</th>\n",
       "    </tr>\n",
       "  </thead>\n",
       "  <tbody>\n",
       "    <tr>\n",
       "      <th>12445</th>\n",
       "      <td>2020-06-17 11:14:06</td>\n",
       "      <td>2000</td>\n",
       "      <td>7.08</td>\n",
       "      <td>NaN</td>\n",
       "    </tr>\n",
       "    <tr>\n",
       "      <th>24764</th>\n",
       "      <td>2020-06-17 09:04:15</td>\n",
       "      <td>1000</td>\n",
       "      <td>7.44</td>\n",
       "      <td>NaN</td>\n",
       "    </tr>\n",
       "    <tr>\n",
       "      <th>24520</th>\n",
       "      <td>2020-06-17 09:05:29</td>\n",
       "      <td>1000</td>\n",
       "      <td>7.46</td>\n",
       "      <td>NaN</td>\n",
       "    </tr>\n",
       "    <tr>\n",
       "      <th>24397</th>\n",
       "      <td>2020-06-17 09:06:06</td>\n",
       "      <td>1000</td>\n",
       "      <td>7.46</td>\n",
       "      <td>NaN</td>\n",
       "    </tr>\n",
       "    <tr>\n",
       "      <th>8009</th>\n",
       "      <td>2020-06-17 14:42:51</td>\n",
       "      <td>1000</td>\n",
       "      <td>7.21</td>\n",
       "      <td>NaN</td>\n",
       "    </tr>\n",
       "    <tr>\n",
       "      <th>7562</th>\n",
       "      <td>2020-06-17 14:46:57</td>\n",
       "      <td>1000</td>\n",
       "      <td>7.25</td>\n",
       "      <td>NaN</td>\n",
       "    </tr>\n",
       "  </tbody>\n",
       "</table>\n",
       "</div>"
      ],
      "text/plain": [
       "                     time  buy_vol_chg  buy_queue_price  last_done_price\n",
       "12445 2020-06-17 11:14:06         2000             7.08              NaN\n",
       "24764 2020-06-17 09:04:15         1000             7.44              NaN\n",
       "24520 2020-06-17 09:05:29         1000             7.46              NaN\n",
       "24397 2020-06-17 09:06:06         1000             7.46              NaN\n",
       "8009  2020-06-17 14:42:51         1000             7.21              NaN\n",
       "7562  2020-06-17 14:46:57         1000             7.25              NaN"
      ]
     },
     "execution_count": 9,
     "metadata": {},
     "output_type": "execute_result"
    }
   ],
   "source": [
    "topglov.sharks"
   ]
  },
  {
   "cell_type": "code",
   "execution_count": 47,
   "metadata": {},
   "outputs": [],
   "source": [
    "df_=pd.read_csv('history\\quote_movements\\Health Care\\SUPERMX_7106\\SUPERMX_7106_2020-06-15.csv')"
   ]
  },
  {
   "cell_type": "code",
   "execution_count": 59,
   "metadata": {},
   "outputs": [],
   "source": [
    "last_done_group=df_.groupby('type').agg({'last_done_vol':'sum'})"
   ]
  },
  {
   "cell_type": "code",
   "execution_count": 68,
   "metadata": {},
   "outputs": [
    {
     "data": {
      "text/plain": [
       "340981.0"
      ]
     },
     "execution_count": 68,
     "metadata": {},
     "output_type": "execute_result"
    }
   ],
   "source": [
    "last_done_group.loc['Sell Down'].last_done_vol\n"
   ]
  },
  {
   "cell_type": "code",
   "execution_count": 25,
   "metadata": {},
   "outputs": [],
   "source": [
    "df_=topglov.buffer.iloc[::-1]\n",
    "df_=split_buy_sell_queue(df_)\n",
    "last_done_df=df_[['time','last_done_vol','last_done_price','type']]\n",
    "last_done_df=last_done_df.iloc[::-1]\n",
    "last_done=pd.DataFrame()\n",
    "last_done['last_done_price']=last_done_df['last_done_price'].fillna(method='ffill').fillna(123)\n",
    "last_done['last_done_sell_vol']=last_done_df[last_done_df['type']=='Sell Down'].last_done_vol.cumsum()\n",
    "last_done['last_done_sell_vol']=last_done['last_done_sell_vol'].fillna(method='ffill').fillna(0)\n",
    "last_done['last_done_buy_vol']=last_done_df[last_done_df['type']=='Buy Up'].last_done_vol.cumsum()\n",
    "last_done['last_done_buy_vol']=last_done['last_done_buy_vol'].fillna(method='ffill').fillna(0)"
   ]
  },
  {
   "cell_type": "code",
   "execution_count": 26,
   "metadata": {},
   "outputs": [
    {
     "data": {
      "text/html": [
       "<div>\n",
       "<style scoped>\n",
       "    .dataframe tbody tr th:only-of-type {\n",
       "        vertical-align: middle;\n",
       "    }\n",
       "\n",
       "    .dataframe tbody tr th {\n",
       "        vertical-align: top;\n",
       "    }\n",
       "\n",
       "    .dataframe thead th {\n",
       "        text-align: right;\n",
       "    }\n",
       "</style>\n",
       "<table border=\"1\" class=\"dataframe\">\n",
       "  <thead>\n",
       "    <tr style=\"text-align: right;\">\n",
       "      <th></th>\n",
       "      <th>last_done_price</th>\n",
       "      <th>last_done_sell_vol</th>\n",
       "      <th>last_done_buy_vol</th>\n",
       "    </tr>\n",
       "  </thead>\n",
       "  <tbody>\n",
       "    <tr>\n",
       "      <th>25765</th>\n",
       "      <td>123.00</td>\n",
       "      <td>0.0</td>\n",
       "      <td>0.0</td>\n",
       "    </tr>\n",
       "    <tr>\n",
       "      <th>25764</th>\n",
       "      <td>123.00</td>\n",
       "      <td>0.0</td>\n",
       "      <td>0.0</td>\n",
       "    </tr>\n",
       "    <tr>\n",
       "      <th>25763</th>\n",
       "      <td>123.00</td>\n",
       "      <td>0.0</td>\n",
       "      <td>0.0</td>\n",
       "    </tr>\n",
       "    <tr>\n",
       "      <th>25762</th>\n",
       "      <td>123.00</td>\n",
       "      <td>0.0</td>\n",
       "      <td>0.0</td>\n",
       "    </tr>\n",
       "    <tr>\n",
       "      <th>25761</th>\n",
       "      <td>123.00</td>\n",
       "      <td>0.0</td>\n",
       "      <td>0.0</td>\n",
       "    </tr>\n",
       "    <tr>\n",
       "      <th>...</th>\n",
       "      <td>...</td>\n",
       "      <td>...</td>\n",
       "      <td>...</td>\n",
       "    </tr>\n",
       "    <tr>\n",
       "      <th>4</th>\n",
       "      <td>7.21</td>\n",
       "      <td>86505.0</td>\n",
       "      <td>66360.0</td>\n",
       "    </tr>\n",
       "    <tr>\n",
       "      <th>3</th>\n",
       "      <td>7.21</td>\n",
       "      <td>86505.0</td>\n",
       "      <td>66360.0</td>\n",
       "    </tr>\n",
       "    <tr>\n",
       "      <th>2</th>\n",
       "      <td>7.21</td>\n",
       "      <td>86505.0</td>\n",
       "      <td>66369.0</td>\n",
       "    </tr>\n",
       "    <tr>\n",
       "      <th>1</th>\n",
       "      <td>7.21</td>\n",
       "      <td>86505.0</td>\n",
       "      <td>66379.0</td>\n",
       "    </tr>\n",
       "    <tr>\n",
       "      <th>0</th>\n",
       "      <td>7.21</td>\n",
       "      <td>86505.0</td>\n",
       "      <td>66380.0</td>\n",
       "    </tr>\n",
       "  </tbody>\n",
       "</table>\n",
       "<p>25766 rows × 3 columns</p>\n",
       "</div>"
      ],
      "text/plain": [
       "       last_done_price  last_done_sell_vol  last_done_buy_vol\n",
       "25765           123.00                 0.0                0.0\n",
       "25764           123.00                 0.0                0.0\n",
       "25763           123.00                 0.0                0.0\n",
       "25762           123.00                 0.0                0.0\n",
       "25761           123.00                 0.0                0.0\n",
       "...                ...                 ...                ...\n",
       "4                 7.21             86505.0            66360.0\n",
       "3                 7.21             86505.0            66360.0\n",
       "2                 7.21             86505.0            66369.0\n",
       "1                 7.21             86505.0            66379.0\n",
       "0                 7.21             86505.0            66380.0\n",
       "\n",
       "[25766 rows x 3 columns]"
      ]
     },
     "execution_count": 26,
     "metadata": {},
     "output_type": "execute_result"
    }
   ],
   "source": [
    "last_done"
   ]
  },
  {
   "cell_type": "code",
   "execution_count": null,
   "metadata": {},
   "outputs": [],
   "source": []
  }
 ],
 "metadata": {
  "kernelspec": {
   "display_name": "Python 3",
   "language": "python",
   "name": "python3"
  },
  "language_info": {
   "codemirror_mode": {
    "name": "ipython",
    "version": 3
   },
   "file_extension": ".py",
   "mimetype": "text/x-python",
   "name": "python",
   "nbconvert_exporter": "python",
   "pygments_lexer": "ipython3",
   "version": "3.6.10"
  }
 },
 "nbformat": 4,
 "nbformat_minor": 4
}
