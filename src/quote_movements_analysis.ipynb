{
 "cells": [
  {
   "cell_type": "code",
   "execution_count": 1,
   "metadata": {},
   "outputs": [
    {
     "name": "stderr",
     "output_type": "stream",
     "text": [
      "C:\\ProgramData\\Anaconda3\\envs\\fastai\\lib\\site-packages\\sklearn\\utils\\deprecation.py:144: FutureWarning:\n",
      "\n",
      "The sklearn.ensemble.forest module is  deprecated in version 0.22 and will be removed in version 0.24. The corresponding classes / functions should instead be imported from sklearn.ensemble. Anything that cannot be imported from sklearn.ensemble is now part of the private API.\n",
      "\n"
     ]
    }
   ],
   "source": [
    "import pandas as pd\n",
    "from klse_scrapper import *\n",
    "from plot_utils import *\n",
    "from utils import *\n",
    "from fastai.imports import *\n",
    "from fastai.structured import *\n",
    "from loess.loess_1d import loess_1d\n",
    "from datetime import datetime, date, time, timedelta\n",
    "from workalendar.asia import Malaysia\n",
    "from counter import Counter\n",
    "import os\n",
    "from session_handler import *\n",
    "from shareinvestor_scrapper import *"
   ]
  },
  {
   "cell_type": "code",
   "execution_count": 2,
   "metadata": {
    "scrolled": true
   },
   "outputs": [
    {
     "name": "stdout",
     "output_type": "stream",
     "text": [
      "Health Care\n",
      "False\n",
      "1\n"
     ]
    }
   ],
   "source": [
    "topglov=Counter('SUPERMX','7106',scheduler_on=False)\n",
    "topglov.set_timestamp(datetime.combine(date.today()-timedelta(days=1), time(15)).timestamp())\n",
    "topglov.update_counter()\n",
    "#topglov.detect_shark()"
   ]
  },
  {
   "cell_type": "code",
   "execution_count": 5,
   "metadata": {},
   "outputs": [
    {
     "name": "stdout",
     "output_type": "stream",
     "text": [
      "True\n"
     ]
    }
   ],
   "source": [
    "topglov.update_counter()"
   ]
  },
  {
   "cell_type": "code",
   "execution_count": 6,
   "metadata": {},
   "outputs": [
    {
     "data": {
      "text/html": [
       "<div>\n",
       "<style scoped>\n",
       "    .dataframe tbody tr th:only-of-type {\n",
       "        vertical-align: middle;\n",
       "    }\n",
       "\n",
       "    .dataframe tbody tr th {\n",
       "        vertical-align: top;\n",
       "    }\n",
       "\n",
       "    .dataframe thead th {\n",
       "        text-align: right;\n",
       "    }\n",
       "</style>\n",
       "<table border=\"1\" class=\"dataframe\">\n",
       "  <thead>\n",
       "    <tr style=\"text-align: right;\">\n",
       "      <th></th>\n",
       "      <th>time</th>\n",
       "      <th>buy_queue_vol</th>\n",
       "      <th>buy_queue_price</th>\n",
       "      <th>last_done_vol</th>\n",
       "      <th>last_done_price</th>\n",
       "      <th>type</th>\n",
       "      <th>sell_queue_vol</th>\n",
       "      <th>sell_queue_price</th>\n",
       "    </tr>\n",
       "  </thead>\n",
       "  <tbody>\n",
       "    <tr>\n",
       "      <th>0</th>\n",
       "      <td>2020-06-20 16:55:27</td>\n",
       "      <td>None</td>\n",
       "      <td>NaN</td>\n",
       "      <td>10.0</td>\n",
       "      <td>7.4</td>\n",
       "      <td>Sell Down</td>\n",
       "      <td>None</td>\n",
       "      <td>NaN</td>\n",
       "    </tr>\n",
       "    <tr>\n",
       "      <th>1</th>\n",
       "      <td>2020-06-20 16:55:29</td>\n",
       "      <td>(-71) 2,654</td>\n",
       "      <td>7.4</td>\n",
       "      <td>NaN</td>\n",
       "      <td>NaN</td>\n",
       "      <td>None</td>\n",
       "      <td>None</td>\n",
       "      <td>NaN</td>\n",
       "    </tr>\n",
       "    <tr>\n",
       "      <th>2</th>\n",
       "      <td>2020-06-20 16:55:29</td>\n",
       "      <td>(-20) 2,634</td>\n",
       "      <td>7.4</td>\n",
       "      <td>NaN</td>\n",
       "      <td>NaN</td>\n",
       "      <td>None</td>\n",
       "      <td>None</td>\n",
       "      <td>NaN</td>\n",
       "    </tr>\n",
       "    <tr>\n",
       "      <th>3</th>\n",
       "      <td>2020-06-20 16:55:29</td>\n",
       "      <td>(-9) 2,625</td>\n",
       "      <td>7.4</td>\n",
       "      <td>NaN</td>\n",
       "      <td>NaN</td>\n",
       "      <td>None</td>\n",
       "      <td>None</td>\n",
       "      <td>NaN</td>\n",
       "    </tr>\n",
       "    <tr>\n",
       "      <th>4</th>\n",
       "      <td>2020-06-20 16:55:28</td>\n",
       "      <td>None</td>\n",
       "      <td>NaN</td>\n",
       "      <td>71.0</td>\n",
       "      <td>7.4</td>\n",
       "      <td>Sell Down</td>\n",
       "      <td>None</td>\n",
       "      <td>NaN</td>\n",
       "    </tr>\n",
       "    <tr>\n",
       "      <th>...</th>\n",
       "      <td>...</td>\n",
       "      <td>...</td>\n",
       "      <td>...</td>\n",
       "      <td>...</td>\n",
       "      <td>...</td>\n",
       "      <td>...</td>\n",
       "      <td>...</td>\n",
       "      <td>...</td>\n",
       "    </tr>\n",
       "    <tr>\n",
       "      <th>143</th>\n",
       "      <td>2020-06-20 16:59:47</td>\n",
       "      <td>None</td>\n",
       "      <td>NaN</td>\n",
       "      <td>4.0</td>\n",
       "      <td>7.4</td>\n",
       "      <td>Sell Down</td>\n",
       "      <td>None</td>\n",
       "      <td>NaN</td>\n",
       "    </tr>\n",
       "    <tr>\n",
       "      <th>144</th>\n",
       "      <td>2020-06-20 16:59:49</td>\n",
       "      <td>(+100) 3,586</td>\n",
       "      <td>7.4</td>\n",
       "      <td>NaN</td>\n",
       "      <td>NaN</td>\n",
       "      <td>None</td>\n",
       "      <td>None</td>\n",
       "      <td>NaN</td>\n",
       "    </tr>\n",
       "    <tr>\n",
       "      <th>145</th>\n",
       "      <td>2020-06-20 16:59:58</td>\n",
       "      <td>(-5) 3,581</td>\n",
       "      <td>7.4</td>\n",
       "      <td>NaN</td>\n",
       "      <td>NaN</td>\n",
       "      <td>None</td>\n",
       "      <td>None</td>\n",
       "      <td>NaN</td>\n",
       "    </tr>\n",
       "    <tr>\n",
       "      <th>146</th>\n",
       "      <td>2020-06-20 16:59:58</td>\n",
       "      <td>None</td>\n",
       "      <td>NaN</td>\n",
       "      <td>5.0</td>\n",
       "      <td>7.4</td>\n",
       "      <td>Sell Down</td>\n",
       "      <td>None</td>\n",
       "      <td>NaN</td>\n",
       "    </tr>\n",
       "    <tr>\n",
       "      <th>147</th>\n",
       "      <td>2020-06-20 16:59:59</td>\n",
       "      <td>(+10) 3,591</td>\n",
       "      <td>7.4</td>\n",
       "      <td>NaN</td>\n",
       "      <td>NaN</td>\n",
       "      <td>None</td>\n",
       "      <td>None</td>\n",
       "      <td>NaN</td>\n",
       "    </tr>\n",
       "  </tbody>\n",
       "</table>\n",
       "<p>148 rows × 8 columns</p>\n",
       "</div>"
      ],
      "text/plain": [
       "                   time buy_queue_vol  buy_queue_price  last_done_vol  \\\n",
       "0   2020-06-20 16:55:27          None              NaN           10.0   \n",
       "1   2020-06-20 16:55:29   (-71) 2,654              7.4            NaN   \n",
       "2   2020-06-20 16:55:29   (-20) 2,634              7.4            NaN   \n",
       "3   2020-06-20 16:55:29    (-9) 2,625              7.4            NaN   \n",
       "4   2020-06-20 16:55:28          None              NaN           71.0   \n",
       "..                  ...           ...              ...            ...   \n",
       "143 2020-06-20 16:59:47          None              NaN            4.0   \n",
       "144 2020-06-20 16:59:49  (+100) 3,586              7.4            NaN   \n",
       "145 2020-06-20 16:59:58    (-5) 3,581              7.4            NaN   \n",
       "146 2020-06-20 16:59:58          None              NaN            5.0   \n",
       "147 2020-06-20 16:59:59   (+10) 3,591              7.4            NaN   \n",
       "\n",
       "     last_done_price       type sell_queue_vol  sell_queue_price  \n",
       "0                7.4  Sell Down           None               NaN  \n",
       "1                NaN       None           None               NaN  \n",
       "2                NaN       None           None               NaN  \n",
       "3                NaN       None           None               NaN  \n",
       "4                7.4  Sell Down           None               NaN  \n",
       "..               ...        ...            ...               ...  \n",
       "143              7.4  Sell Down           None               NaN  \n",
       "144              NaN       None           None               NaN  \n",
       "145              NaN       None           None               NaN  \n",
       "146              7.4  Sell Down           None               NaN  \n",
       "147              NaN       None           None               NaN  \n",
       "\n",
       "[148 rows x 8 columns]"
      ]
     },
     "execution_count": 6,
     "metadata": {},
     "output_type": "execute_result"
    }
   ],
   "source": [
    "topglov.buffer_temp"
   ]
  },
  {
   "cell_type": "code",
   "execution_count": 11,
   "metadata": {},
   "outputs": [
    {
     "data": {
      "text/html": [
       "<div>\n",
       "<style scoped>\n",
       "    .dataframe tbody tr th:only-of-type {\n",
       "        vertical-align: middle;\n",
       "    }\n",
       "\n",
       "    .dataframe tbody tr th {\n",
       "        vertical-align: top;\n",
       "    }\n",
       "\n",
       "    .dataframe thead th {\n",
       "        text-align: right;\n",
       "    }\n",
       "</style>\n",
       "<table border=\"1\" class=\"dataframe\">\n",
       "  <thead>\n",
       "    <tr style=\"text-align: right;\">\n",
       "      <th></th>\n",
       "      <th>time</th>\n",
       "      <th>buy_vol_chg</th>\n",
       "      <th>buy_queue_price</th>\n",
       "      <th>last_done_price</th>\n",
       "      <th>price_pct_open</th>\n",
       "      <th>last_done_buy_vol</th>\n",
       "      <th>last_done_sell_vol</th>\n",
       "    </tr>\n",
       "  </thead>\n",
       "  <tbody>\n",
       "    <tr>\n",
       "      <th>1035</th>\n",
       "      <td>2020-06-19 15:10:04</td>\n",
       "      <td>1000</td>\n",
       "      <td>7.29</td>\n",
       "      <td>7.29</td>\n",
       "      <td>-1.49</td>\n",
       "      <td>5727.0</td>\n",
       "      <td>2495.0</td>\n",
       "    </tr>\n",
       "    <tr>\n",
       "      <th>16938</th>\n",
       "      <td>2020-06-19 16:52:05</td>\n",
       "      <td>900</td>\n",
       "      <td>7.40</td>\n",
       "      <td>7.40</td>\n",
       "      <td>0.00</td>\n",
       "      <td>82572.0</td>\n",
       "      <td>46703.0</td>\n",
       "    </tr>\n",
       "    <tr>\n",
       "      <th>1035</th>\n",
       "      <td>2020-06-19 15:10:04</td>\n",
       "      <td>1000</td>\n",
       "      <td>7.29</td>\n",
       "      <td>7.29</td>\n",
       "      <td>-1.49</td>\n",
       "      <td>54625.0</td>\n",
       "      <td>51393.0</td>\n",
       "    </tr>\n",
       "    <tr>\n",
       "      <th>16938</th>\n",
       "      <td>2020-06-19 16:52:05</td>\n",
       "      <td>900</td>\n",
       "      <td>7.40</td>\n",
       "      <td>7.40</td>\n",
       "      <td>0.00</td>\n",
       "      <td>131470.0</td>\n",
       "      <td>95601.0</td>\n",
       "    </tr>\n",
       "    <tr>\n",
       "      <th>1035</th>\n",
       "      <td>2020-06-19 15:10:04</td>\n",
       "      <td>1000</td>\n",
       "      <td>7.29</td>\n",
       "      <td>7.29</td>\n",
       "      <td>-1.49</td>\n",
       "      <td>103523.0</td>\n",
       "      <td>100291.0</td>\n",
       "    </tr>\n",
       "    <tr>\n",
       "      <th>16938</th>\n",
       "      <td>2020-06-19 16:52:05</td>\n",
       "      <td>900</td>\n",
       "      <td>7.40</td>\n",
       "      <td>7.40</td>\n",
       "      <td>0.00</td>\n",
       "      <td>180368.0</td>\n",
       "      <td>144499.0</td>\n",
       "    </tr>\n",
       "  </tbody>\n",
       "</table>\n",
       "</div>"
      ],
      "text/plain": [
       "                     time  buy_vol_chg  buy_queue_price  last_done_price  \\\n",
       "1035  2020-06-19 15:10:04         1000             7.29             7.29   \n",
       "16938 2020-06-19 16:52:05          900             7.40             7.40   \n",
       "1035  2020-06-19 15:10:04         1000             7.29             7.29   \n",
       "16938 2020-06-19 16:52:05          900             7.40             7.40   \n",
       "1035  2020-06-19 15:10:04         1000             7.29             7.29   \n",
       "16938 2020-06-19 16:52:05          900             7.40             7.40   \n",
       "\n",
       "       price_pct_open  last_done_buy_vol  last_done_sell_vol  \n",
       "1035            -1.49             5727.0              2495.0  \n",
       "16938            0.00            82572.0             46703.0  \n",
       "1035            -1.49            54625.0             51393.0  \n",
       "16938            0.00           131470.0             95601.0  \n",
       "1035            -1.49           103523.0            100291.0  \n",
       "16938            0.00           180368.0            144499.0  "
      ]
     },
     "execution_count": 11,
     "metadata": {},
     "output_type": "execute_result"
    }
   ],
   "source": [
    "topglov.sharks"
   ]
  },
  {
   "cell_type": "code",
   "execution_count": 19,
   "metadata": {},
   "outputs": [
    {
     "data": {
      "text/html": [
       "        <script type=\"text/javascript\">\n",
       "        window.PlotlyConfig = {MathJaxConfig: 'local'};\n",
       "        if (window.MathJax) {MathJax.Hub.Config({SVG: {font: \"STIX-Web\"}});}\n",
       "        if (typeof require !== 'undefined') {\n",
       "        require.undef(\"plotly\");\n",
       "        requirejs.config({\n",
       "            paths: {\n",
       "                'plotly': ['https://cdn.plot.ly/plotly-latest.min']\n",
       "            }\n",
       "        });\n",
       "        require(['plotly'], function(Plotly) {\n",
       "            window._Plotly = Plotly;\n",
       "        });\n",
       "        }\n",
       "        </script>\n",
       "        "
      ]
     },
     "metadata": {},
     "output_type": "display_data"
    },
    {
     "data": {
      "text/html": [
       "        <script type=\"text/javascript\">\n",
       "        window.PlotlyConfig = {MathJaxConfig: 'local'};\n",
       "        if (window.MathJax) {MathJax.Hub.Config({SVG: {font: \"STIX-Web\"}});}\n",
       "        if (typeof require !== 'undefined') {\n",
       "        require.undef(\"plotly\");\n",
       "        requirejs.config({\n",
       "            paths: {\n",
       "                'plotly': ['https://cdn.plot.ly/plotly-latest.min']\n",
       "            }\n",
       "        });\n",
       "        require(['plotly'], function(Plotly) {\n",
       "            window._Plotly = Plotly;\n",
       "        });\n",
       "        }\n",
       "        </script>\n",
       "        "
      ]
     },
     "metadata": {},
     "output_type": "display_data"
    }
   ],
   "source": [
    "from ggplot import *\n",
    "# Standard plotly imports\n",
    "import chart_studio.plotly as py\n",
    "import plotly.graph_objs as go\n",
    "from plotly.subplots import make_subplots\n",
    "from plotly.offline import iplot, init_notebook_mode\n",
    "# Using plotly + cufflinks in offline mode\n",
    "import cufflinks as cf\n",
    "cf.go_offline(connected=True)\n",
    "init_notebook_mode(connected=True)\n",
    "from loess.loess_1d import loess_1d\n",
    "import plotly.figure_factory as ff\n",
    "import plotly.express as px\n",
    "from statsmodels.tsa.seasonal import seasonal_decompose\n",
    "import plotly.offline as py"
   ]
  },
  {
   "cell_type": "code",
   "execution_count": 2,
   "metadata": {},
   "outputs": [],
   "source": [
    "def split_buy_sell_queue(df_):\n",
    "    def split_queue(col):\n",
    "        test=df_[col].str.split(\" \", n = 1, expand = True)\n",
    "        buy_vol_chg=list()\n",
    "        buy_vol = list()\n",
    "        for item in list(test[0].fillna('0').values):\n",
    "            try:\n",
    "                buy_vol_chg.append(int(item.replace(',','').replace('(','').replace(')','')))\n",
    "            except Exception as e:\n",
    "                buy_vol_chg.append(0)\n",
    "        for item in list(test[1].fillna('0').values):\n",
    "            try:\n",
    "                buy_vol.append(int(item.replace(',','')))\n",
    "            except Exception as e:\n",
    "                buy_vol.append(0)\n",
    "        return buy_vol_chg,buy_vol \n",
    "    buy_vol_chg,buy_vol =split_queue('buy_queue_vol')\n",
    "    sell_vol_chg,sell_vol =split_queue('sell_queue_vol')\n",
    "    df_['buy_queue_vol']=buy_vol\n",
    "    df_['buy_vol_chg']=buy_vol_chg\n",
    "    df_['sell_queue_vol']=sell_vol\n",
    "    df_['sell_vol_chg']=sell_vol_chg\n",
    "    return df_"
   ]
  },
  {
   "cell_type": "code",
   "execution_count": 3,
   "metadata": {},
   "outputs": [],
   "source": [
    "def construct_series(df,title):\n",
    "    series={'title':title,'x':list(df.index),'y':list(df.values)}\n",
    "    return series"
   ]
  },
  {
   "cell_type": "code",
   "execution_count": 4,
   "metadata": {},
   "outputs": [],
   "source": [
    "def calculate_force_data(event_,interval='1min'):\n",
    "    date_=datetime.fromtimestamp(event_['to']).strftime(\"%Y-%m-%d\")\n",
    "    csv_path=build_quote_movements_csv(event_)\n",
    "    row={'symbol':event_['symbol'],'counter':event_['counter'],'date':date_}\n",
    "    if os.path.exists(csv_path):\n",
    "        df_=pd.read_csv(csv_path,parse_dates=['time'])\n",
    "        df_=split_buy_sell_queue(df_)\n",
    "        df_=df_.iloc[::-1]\n",
    "        df_=df_.set_index('time')\n",
    "        dfcal_=pd.DataFrame()\n",
    "        dfcal_=df_[df_['type'].notna()].resample(interval).agg({'last_done_vol':'sum','last_done_price':'last'})\n",
    "        dfcal_['price_change_pct']=dfcal_['last_done_price'].pct_change()*100\n",
    "        dfcal_['force']=dfcal_['price_change_pct']*dfcal_['last_done_vol']\n",
    "        row['force_sum']=dfcal_['force'].sum()\n",
    "        row['force_max']=dfcal_['force'].max()\n",
    "        row['force_min']=dfcal_['force'].min()\n",
    "        row['force_mean']=dfcal_['force'].mean()\n",
    "        row['force_std']=dfcal_['force'].std()\n",
    "        row['price_change_min']=dfcal_['price_change_pct'].min()\n",
    "        row['price_change_max']=dfcal_['price_change_pct'].max()\n",
    "        row['price_change_std']=dfcal_['price_change_pct'].std()\n",
    "        row['buy_vol_chg_max']=df_.resample(interval).agg({'buy_vol_chg':'max'})['buy_vol_chg'].max()\n",
    "        row['buy_vol_chg_mean']=df_.resample(interval).agg({'buy_vol_chg':'mean'})['buy_vol_chg'].mean()\n",
    "        row['sell_vol_chg_max']=df_.resample(interval).agg({'sell_vol_chg':'max'})['sell_vol_chg'].max()\n",
    "        row['sell_vol_chg_mean']=df_.resample(interval).agg({'sell_vol_chg':'mean'})['sell_vol_chg'].mean()\n",
    "        return row"
   ]
  },
  {
   "cell_type": "code",
   "execution_count": 5,
   "metadata": {},
   "outputs": [],
   "source": [
    "def mine_force_data(board,category,from_,to_,interval):\n",
    "    date_start=datetime.fromtimestamp(from_).strftime(\"%Y-%m-%d\")\n",
    "    date_end=datetime.fromtimestamp(to_).strftime(\"%Y-%m-%d\")\n",
    "    dir_=build_force_dir(category)\n",
    "    if not os.path.exists(dir_): os.makedirs(dir_)   \n",
    "    df=get_board_category_listings(board,category)\n",
    "    lists_=df[['symbol','code','cat']].to_dict('records')\n",
    "    events=build_event_lists(lists_=lists_,from_=from_,to_=to_)\n",
    "    rows=[]\n",
    "    for event in events:\n",
    "        events_=distribute_requests(event)\n",
    "        for event_ in events_:\n",
    "            csv_path=build_quote_movements_csv(event_)\n",
    "            if os.path.exists(csv_path):\n",
    "                try:\n",
    "                    row=calculate_force_data(event_,interval)\n",
    "                    rows.append(row)\n",
    "                except Exception as e:\n",
    "                    print('Error occurred when processing: '+csv_path + '\\nError: ' + str(e))\n",
    "    df_=pd.DataFrame(rows)\n",
    "    path=build_force_csv(category)\n",
    "    #return df_\n",
    "    df_.to_csv(path,index=False)"
   ]
  },
  {
   "cell_type": "code",
   "execution_count": 6,
   "metadata": {},
   "outputs": [],
   "source": [
    "def bulk_update_threshold(category,interval):\n",
    "    df_cal=pd.DataFrame()\n",
    "    dir_='./history/calculated_data/'+ category +'/force/'\n",
    "    filename=category.replace('&','').replace(' ','').lower()+'_force'\n",
    "    df_=pd.read_csv(dir_+filename+'.csv',parse_dates=['date'],index_col='date')\n",
    "    df_=df_.iloc[::-1]\n",
    "    df_cal['buy_vol_chg_max_mean']=df_.groupby(['symbol','counter']).rolling(interval).agg({'buy_vol_chg_max':'mean'})['buy_vol_chg_max']\n",
    "    df_cal['buy_vol_chg_max_std']=df_.groupby(['symbol','counter']).rolling(interval).agg({'buy_vol_chg_max':'std'})['buy_vol_chg_max']\n",
    "    df_cal['sell_vol_chg_max_mean']=df_.groupby(['symbol','counter']).rolling(interval).agg({'sell_vol_chg_max':'mean'})['sell_vol_chg_max']\n",
    "    df_cal['sell_vol_chg_max_std']=df_.groupby(['symbol','counter']).rolling(interval).agg({'sell_vol_chg_max':'std'})['sell_vol_chg_max']\n",
    "    #df_cal['buy_vol_chg_max_mean']=df_.groupby(['symbol','counter']).resample(interval).agg({'buy_vol_chg_max':'mean'})['buy_vol_chg_max']\n",
    "    #df_cal['buy_vol_chg_max_std']=df_.groupby(['symbol','counter']).resample(interval).agg({'buy_vol_chg_max':'std'})['buy_vol_chg_max']\n",
    "    #df_cal['sell_vol_chg_max_mean']=df_.groupby(['symbol','counter']).resample(interval).agg({'sell_vol_chg_max':'mean'})['sell_vol_chg_max']\n",
    "    #df_cal['sell_vol_chg_max_std']=df_.groupby(['symbol','counter']).resample(interval).agg({'sell_vol_chg_max':'std'})['sell_vol_chg_max']\n",
    "    df_cal.reset_index().to_feather(dir_+filename)\n",
    "    return df_cal"
   ]
  },
  {
   "cell_type": "code",
   "execution_count": 28,
   "metadata": {},
   "outputs": [
    {
     "data": {
      "text/html": [
       "<div>\n",
       "<style scoped>\n",
       "    .dataframe tbody tr th:only-of-type {\n",
       "        vertical-align: middle;\n",
       "    }\n",
       "\n",
       "    .dataframe tbody tr th {\n",
       "        vertical-align: top;\n",
       "    }\n",
       "\n",
       "    .dataframe thead th {\n",
       "        text-align: right;\n",
       "    }\n",
       "</style>\n",
       "<table border=\"1\" class=\"dataframe\">\n",
       "  <thead>\n",
       "    <tr style=\"text-align: right;\">\n",
       "      <th></th>\n",
       "      <th>symbol</th>\n",
       "      <th>counter</th>\n",
       "      <th>date</th>\n",
       "      <th>buy_vol_chg_max_mean</th>\n",
       "      <th>buy_vol_chg_max_std</th>\n",
       "      <th>sell_vol_chg_max_mean</th>\n",
       "      <th>sell_vol_chg_max_std</th>\n",
       "    </tr>\n",
       "  </thead>\n",
       "  <tbody>\n",
       "    <tr>\n",
       "      <th>275</th>\n",
       "      <td>TOPGLOV</td>\n",
       "      <td>7113</td>\n",
       "      <td>2020-05-05</td>\n",
       "      <td>NaN</td>\n",
       "      <td>NaN</td>\n",
       "      <td>NaN</td>\n",
       "      <td>NaN</td>\n",
       "    </tr>\n",
       "    <tr>\n",
       "      <th>276</th>\n",
       "      <td>TOPGLOV</td>\n",
       "      <td>7113</td>\n",
       "      <td>2020-05-06</td>\n",
       "      <td>NaN</td>\n",
       "      <td>NaN</td>\n",
       "      <td>NaN</td>\n",
       "      <td>NaN</td>\n",
       "    </tr>\n",
       "    <tr>\n",
       "      <th>277</th>\n",
       "      <td>TOPGLOV</td>\n",
       "      <td>7113</td>\n",
       "      <td>2020-05-08</td>\n",
       "      <td>NaN</td>\n",
       "      <td>NaN</td>\n",
       "      <td>NaN</td>\n",
       "      <td>NaN</td>\n",
       "    </tr>\n",
       "    <tr>\n",
       "      <th>278</th>\n",
       "      <td>TOPGLOV</td>\n",
       "      <td>7113</td>\n",
       "      <td>2020-05-12</td>\n",
       "      <td>NaN</td>\n",
       "      <td>NaN</td>\n",
       "      <td>NaN</td>\n",
       "      <td>NaN</td>\n",
       "    </tr>\n",
       "    <tr>\n",
       "      <th>279</th>\n",
       "      <td>TOPGLOV</td>\n",
       "      <td>7113</td>\n",
       "      <td>2020-05-13</td>\n",
       "      <td>NaN</td>\n",
       "      <td>NaN</td>\n",
       "      <td>NaN</td>\n",
       "      <td>NaN</td>\n",
       "    </tr>\n",
       "    <tr>\n",
       "      <th>280</th>\n",
       "      <td>TOPGLOV</td>\n",
       "      <td>7113</td>\n",
       "      <td>2020-05-14</td>\n",
       "      <td>NaN</td>\n",
       "      <td>NaN</td>\n",
       "      <td>NaN</td>\n",
       "      <td>NaN</td>\n",
       "    </tr>\n",
       "    <tr>\n",
       "      <th>281</th>\n",
       "      <td>TOPGLOV</td>\n",
       "      <td>7113</td>\n",
       "      <td>2020-05-15</td>\n",
       "      <td>NaN</td>\n",
       "      <td>NaN</td>\n",
       "      <td>NaN</td>\n",
       "      <td>NaN</td>\n",
       "    </tr>\n",
       "    <tr>\n",
       "      <th>282</th>\n",
       "      <td>TOPGLOV</td>\n",
       "      <td>7113</td>\n",
       "      <td>2020-05-18</td>\n",
       "      <td>NaN</td>\n",
       "      <td>NaN</td>\n",
       "      <td>NaN</td>\n",
       "      <td>NaN</td>\n",
       "    </tr>\n",
       "    <tr>\n",
       "      <th>283</th>\n",
       "      <td>TOPGLOV</td>\n",
       "      <td>7113</td>\n",
       "      <td>2020-05-19</td>\n",
       "      <td>NaN</td>\n",
       "      <td>NaN</td>\n",
       "      <td>NaN</td>\n",
       "      <td>NaN</td>\n",
       "    </tr>\n",
       "    <tr>\n",
       "      <th>284</th>\n",
       "      <td>TOPGLOV</td>\n",
       "      <td>7113</td>\n",
       "      <td>2020-05-20</td>\n",
       "      <td>NaN</td>\n",
       "      <td>NaN</td>\n",
       "      <td>NaN</td>\n",
       "      <td>NaN</td>\n",
       "    </tr>\n",
       "    <tr>\n",
       "      <th>285</th>\n",
       "      <td>TOPGLOV</td>\n",
       "      <td>7113</td>\n",
       "      <td>2020-05-21</td>\n",
       "      <td>NaN</td>\n",
       "      <td>NaN</td>\n",
       "      <td>NaN</td>\n",
       "      <td>NaN</td>\n",
       "    </tr>\n",
       "    <tr>\n",
       "      <th>286</th>\n",
       "      <td>TOPGLOV</td>\n",
       "      <td>7113</td>\n",
       "      <td>2020-05-22</td>\n",
       "      <td>NaN</td>\n",
       "      <td>NaN</td>\n",
       "      <td>NaN</td>\n",
       "      <td>NaN</td>\n",
       "    </tr>\n",
       "    <tr>\n",
       "      <th>287</th>\n",
       "      <td>TOPGLOV</td>\n",
       "      <td>7113</td>\n",
       "      <td>2020-05-27</td>\n",
       "      <td>NaN</td>\n",
       "      <td>NaN</td>\n",
       "      <td>NaN</td>\n",
       "      <td>NaN</td>\n",
       "    </tr>\n",
       "    <tr>\n",
       "      <th>288</th>\n",
       "      <td>TOPGLOV</td>\n",
       "      <td>7113</td>\n",
       "      <td>2020-05-28</td>\n",
       "      <td>NaN</td>\n",
       "      <td>NaN</td>\n",
       "      <td>NaN</td>\n",
       "      <td>NaN</td>\n",
       "    </tr>\n",
       "    <tr>\n",
       "      <th>289</th>\n",
       "      <td>TOPGLOV</td>\n",
       "      <td>7113</td>\n",
       "      <td>2020-05-29</td>\n",
       "      <td>NaN</td>\n",
       "      <td>NaN</td>\n",
       "      <td>NaN</td>\n",
       "      <td>NaN</td>\n",
       "    </tr>\n",
       "    <tr>\n",
       "      <th>290</th>\n",
       "      <td>TOPGLOV</td>\n",
       "      <td>7113</td>\n",
       "      <td>2020-06-01</td>\n",
       "      <td>NaN</td>\n",
       "      <td>NaN</td>\n",
       "      <td>NaN</td>\n",
       "      <td>NaN</td>\n",
       "    </tr>\n",
       "    <tr>\n",
       "      <th>291</th>\n",
       "      <td>TOPGLOV</td>\n",
       "      <td>7113</td>\n",
       "      <td>2020-06-02</td>\n",
       "      <td>NaN</td>\n",
       "      <td>NaN</td>\n",
       "      <td>NaN</td>\n",
       "      <td>NaN</td>\n",
       "    </tr>\n",
       "    <tr>\n",
       "      <th>292</th>\n",
       "      <td>TOPGLOV</td>\n",
       "      <td>7113</td>\n",
       "      <td>2020-06-03</td>\n",
       "      <td>NaN</td>\n",
       "      <td>NaN</td>\n",
       "      <td>NaN</td>\n",
       "      <td>NaN</td>\n",
       "    </tr>\n",
       "    <tr>\n",
       "      <th>293</th>\n",
       "      <td>TOPGLOV</td>\n",
       "      <td>7113</td>\n",
       "      <td>2020-06-04</td>\n",
       "      <td>NaN</td>\n",
       "      <td>NaN</td>\n",
       "      <td>NaN</td>\n",
       "      <td>NaN</td>\n",
       "    </tr>\n",
       "    <tr>\n",
       "      <th>294</th>\n",
       "      <td>TOPGLOV</td>\n",
       "      <td>7113</td>\n",
       "      <td>2020-06-05</td>\n",
       "      <td>2341.85</td>\n",
       "      <td>1523.196441</td>\n",
       "      <td>6579.00</td>\n",
       "      <td>6182.052521</td>\n",
       "    </tr>\n",
       "    <tr>\n",
       "      <th>295</th>\n",
       "      <td>TOPGLOV</td>\n",
       "      <td>7113</td>\n",
       "      <td>2020-06-09</td>\n",
       "      <td>2362.50</td>\n",
       "      <td>1500.788477</td>\n",
       "      <td>6601.70</td>\n",
       "      <td>6172.910992</td>\n",
       "    </tr>\n",
       "    <tr>\n",
       "      <th>296</th>\n",
       "      <td>TOPGLOV</td>\n",
       "      <td>7113</td>\n",
       "      <td>2020-06-10</td>\n",
       "      <td>2387.50</td>\n",
       "      <td>1472.018932</td>\n",
       "      <td>6687.80</td>\n",
       "      <td>6115.578921</td>\n",
       "    </tr>\n",
       "    <tr>\n",
       "      <th>297</th>\n",
       "      <td>TOPGLOV</td>\n",
       "      <td>7113</td>\n",
       "      <td>2020-06-11</td>\n",
       "      <td>2451.05</td>\n",
       "      <td>1423.278590</td>\n",
       "      <td>6873.75</td>\n",
       "      <td>6096.079222</td>\n",
       "    </tr>\n",
       "    <tr>\n",
       "      <th>298</th>\n",
       "      <td>TOPGLOV</td>\n",
       "      <td>7113</td>\n",
       "      <td>2020-06-12</td>\n",
       "      <td>2341.80</td>\n",
       "      <td>1439.181953</td>\n",
       "      <td>7020.25</td>\n",
       "      <td>6084.254207</td>\n",
       "    </tr>\n",
       "    <tr>\n",
       "      <th>299</th>\n",
       "      <td>TOPGLOV</td>\n",
       "      <td>7113</td>\n",
       "      <td>2020-06-15</td>\n",
       "      <td>2244.90</td>\n",
       "      <td>1461.989088</td>\n",
       "      <td>6971.45</td>\n",
       "      <td>6097.342160</td>\n",
       "    </tr>\n",
       "  </tbody>\n",
       "</table>\n",
       "</div>"
      ],
      "text/plain": [
       "      symbol  counter       date  buy_vol_chg_max_mean  buy_vol_chg_max_std  \\\n",
       "275  TOPGLOV     7113 2020-05-05                   NaN                  NaN   \n",
       "276  TOPGLOV     7113 2020-05-06                   NaN                  NaN   \n",
       "277  TOPGLOV     7113 2020-05-08                   NaN                  NaN   \n",
       "278  TOPGLOV     7113 2020-05-12                   NaN                  NaN   \n",
       "279  TOPGLOV     7113 2020-05-13                   NaN                  NaN   \n",
       "280  TOPGLOV     7113 2020-05-14                   NaN                  NaN   \n",
       "281  TOPGLOV     7113 2020-05-15                   NaN                  NaN   \n",
       "282  TOPGLOV     7113 2020-05-18                   NaN                  NaN   \n",
       "283  TOPGLOV     7113 2020-05-19                   NaN                  NaN   \n",
       "284  TOPGLOV     7113 2020-05-20                   NaN                  NaN   \n",
       "285  TOPGLOV     7113 2020-05-21                   NaN                  NaN   \n",
       "286  TOPGLOV     7113 2020-05-22                   NaN                  NaN   \n",
       "287  TOPGLOV     7113 2020-05-27                   NaN                  NaN   \n",
       "288  TOPGLOV     7113 2020-05-28                   NaN                  NaN   \n",
       "289  TOPGLOV     7113 2020-05-29                   NaN                  NaN   \n",
       "290  TOPGLOV     7113 2020-06-01                   NaN                  NaN   \n",
       "291  TOPGLOV     7113 2020-06-02                   NaN                  NaN   \n",
       "292  TOPGLOV     7113 2020-06-03                   NaN                  NaN   \n",
       "293  TOPGLOV     7113 2020-06-04                   NaN                  NaN   \n",
       "294  TOPGLOV     7113 2020-06-05               2341.85          1523.196441   \n",
       "295  TOPGLOV     7113 2020-06-09               2362.50          1500.788477   \n",
       "296  TOPGLOV     7113 2020-06-10               2387.50          1472.018932   \n",
       "297  TOPGLOV     7113 2020-06-11               2451.05          1423.278590   \n",
       "298  TOPGLOV     7113 2020-06-12               2341.80          1439.181953   \n",
       "299  TOPGLOV     7113 2020-06-15               2244.90          1461.989088   \n",
       "\n",
       "     sell_vol_chg_max_mean  sell_vol_chg_max_std  \n",
       "275                    NaN                   NaN  \n",
       "276                    NaN                   NaN  \n",
       "277                    NaN                   NaN  \n",
       "278                    NaN                   NaN  \n",
       "279                    NaN                   NaN  \n",
       "280                    NaN                   NaN  \n",
       "281                    NaN                   NaN  \n",
       "282                    NaN                   NaN  \n",
       "283                    NaN                   NaN  \n",
       "284                    NaN                   NaN  \n",
       "285                    NaN                   NaN  \n",
       "286                    NaN                   NaN  \n",
       "287                    NaN                   NaN  \n",
       "288                    NaN                   NaN  \n",
       "289                    NaN                   NaN  \n",
       "290                    NaN                   NaN  \n",
       "291                    NaN                   NaN  \n",
       "292                    NaN                   NaN  \n",
       "293                    NaN                   NaN  \n",
       "294                6579.00           6182.052521  \n",
       "295                6601.70           6172.910992  \n",
       "296                6687.80           6115.578921  \n",
       "297                6873.75           6096.079222  \n",
       "298                7020.25           6084.254207  \n",
       "299                6971.45           6097.342160  "
      ]
     },
     "execution_count": 28,
     "metadata": {},
     "output_type": "execute_result"
    }
   ],
   "source": [
    "#Test Calculate threshold\n",
    "interval=20\n",
    "category='Health Care'\n",
    "df_=bulk_update_threshold(category,interval)\n",
    "df_=df_.reset_index()\n",
    "df_[df_['counter']==7113]"
   ]
  },
  {
   "cell_type": "code",
   "execution_count": null,
   "metadata": {},
   "outputs": [],
   "source": [
    "dir_='./history/calculated_data/'+ category +'/force/'\n",
    "filename=category.replace('&','').replace(' ','').lower()+'_force'\n",
    "df_=pd.read_feather(dir_+filename)\n",
    "df_[df_['counter']==7113]\n",
    "#print(len(df_))\n",
    "#df_.iloc[-1]"
   ]
  },
  {
   "cell_type": "code",
   "execution_count": null,
   "metadata": {},
   "outputs": [],
   "source": [
    "from messenger_handler import *\n",
    "response=send_volume_alert('test')\n",
    "if response.status_code==200:\n",
    "    print('Successfully sent alert')"
   ]
  },
  {
   "cell_type": "code",
   "execution_count": 8,
   "metadata": {
    "scrolled": true
   },
   "outputs": [
    {
     "ename": "KeyboardInterrupt",
     "evalue": "",
     "output_type": "error",
     "traceback": [
      "\u001b[1;31m---------------------------------------------------------------------------\u001b[0m",
      "\u001b[1;31mKeyboardInterrupt\u001b[0m                         Traceback (most recent call last)",
      "\u001b[1;32m<timed exec>\u001b[0m in \u001b[0;36m<module>\u001b[1;34m\u001b[0m\n",
      "\u001b[1;32m<ipython-input-6-4f951a549519>\u001b[0m in \u001b[0;36mmine_force_data\u001b[1;34m(board, category, from_, to_, interval)\u001b[0m\n\u001b[0;32m     14\u001b[0m             \u001b[1;32mif\u001b[0m \u001b[0mos\u001b[0m\u001b[1;33m.\u001b[0m\u001b[0mpath\u001b[0m\u001b[1;33m.\u001b[0m\u001b[0mexists\u001b[0m\u001b[1;33m(\u001b[0m\u001b[0mcsv_path\u001b[0m\u001b[1;33m)\u001b[0m\u001b[1;33m:\u001b[0m\u001b[1;33m\u001b[0m\u001b[1;33m\u001b[0m\u001b[0m\n\u001b[0;32m     15\u001b[0m                 \u001b[1;32mtry\u001b[0m\u001b[1;33m:\u001b[0m\u001b[1;33m\u001b[0m\u001b[1;33m\u001b[0m\u001b[0m\n\u001b[1;32m---> 16\u001b[1;33m                     \u001b[0mrow\u001b[0m\u001b[1;33m=\u001b[0m\u001b[0mcalculate_force_data\u001b[0m\u001b[1;33m(\u001b[0m\u001b[0mevent_\u001b[0m\u001b[1;33m,\u001b[0m\u001b[0minterval\u001b[0m\u001b[1;33m)\u001b[0m\u001b[1;33m\u001b[0m\u001b[1;33m\u001b[0m\u001b[0m\n\u001b[0m\u001b[0;32m     17\u001b[0m                     \u001b[0mrows\u001b[0m\u001b[1;33m.\u001b[0m\u001b[0mappend\u001b[0m\u001b[1;33m(\u001b[0m\u001b[0mrow\u001b[0m\u001b[1;33m)\u001b[0m\u001b[1;33m\u001b[0m\u001b[1;33m\u001b[0m\u001b[0m\n\u001b[0;32m     18\u001b[0m                 \u001b[1;32mexcept\u001b[0m \u001b[0mException\u001b[0m \u001b[1;32mas\u001b[0m \u001b[0me\u001b[0m\u001b[1;33m:\u001b[0m\u001b[1;33m\u001b[0m\u001b[1;33m\u001b[0m\u001b[0m\n",
      "\u001b[1;32m<ipython-input-5-1bde9aaa3b83>\u001b[0m in \u001b[0;36mcalculate_force_data\u001b[1;34m(event_, interval)\u001b[0m\n\u001b[0;32m      4\u001b[0m     \u001b[0mrow\u001b[0m\u001b[1;33m=\u001b[0m\u001b[1;33m{\u001b[0m\u001b[1;34m'symbol'\u001b[0m\u001b[1;33m:\u001b[0m\u001b[0mevent_\u001b[0m\u001b[1;33m[\u001b[0m\u001b[1;34m'symbol'\u001b[0m\u001b[1;33m]\u001b[0m\u001b[1;33m,\u001b[0m\u001b[1;34m'counter'\u001b[0m\u001b[1;33m:\u001b[0m\u001b[0mevent_\u001b[0m\u001b[1;33m[\u001b[0m\u001b[1;34m'counter'\u001b[0m\u001b[1;33m]\u001b[0m\u001b[1;33m,\u001b[0m\u001b[1;34m'date'\u001b[0m\u001b[1;33m:\u001b[0m\u001b[0mdate_\u001b[0m\u001b[1;33m}\u001b[0m\u001b[1;33m\u001b[0m\u001b[1;33m\u001b[0m\u001b[0m\n\u001b[0;32m      5\u001b[0m     \u001b[1;32mif\u001b[0m \u001b[0mos\u001b[0m\u001b[1;33m.\u001b[0m\u001b[0mpath\u001b[0m\u001b[1;33m.\u001b[0m\u001b[0mexists\u001b[0m\u001b[1;33m(\u001b[0m\u001b[0mcsv_path\u001b[0m\u001b[1;33m)\u001b[0m\u001b[1;33m:\u001b[0m\u001b[1;33m\u001b[0m\u001b[1;33m\u001b[0m\u001b[0m\n\u001b[1;32m----> 6\u001b[1;33m         \u001b[0mdf_\u001b[0m\u001b[1;33m=\u001b[0m\u001b[0mpd\u001b[0m\u001b[1;33m.\u001b[0m\u001b[0mread_csv\u001b[0m\u001b[1;33m(\u001b[0m\u001b[0mcsv_path\u001b[0m\u001b[1;33m,\u001b[0m\u001b[0mparse_dates\u001b[0m\u001b[1;33m=\u001b[0m\u001b[1;33m[\u001b[0m\u001b[1;34m'time'\u001b[0m\u001b[1;33m]\u001b[0m\u001b[1;33m)\u001b[0m\u001b[1;33m\u001b[0m\u001b[1;33m\u001b[0m\u001b[0m\n\u001b[0m\u001b[0;32m      7\u001b[0m         \u001b[0mdf_\u001b[0m\u001b[1;33m=\u001b[0m\u001b[0msplit_buy_sell_queue\u001b[0m\u001b[1;33m(\u001b[0m\u001b[0mdf_\u001b[0m\u001b[1;33m)\u001b[0m\u001b[1;33m\u001b[0m\u001b[1;33m\u001b[0m\u001b[0m\n\u001b[0;32m      8\u001b[0m         \u001b[0mdf_\u001b[0m\u001b[1;33m=\u001b[0m\u001b[0mdf_\u001b[0m\u001b[1;33m.\u001b[0m\u001b[0miloc\u001b[0m\u001b[1;33m[\u001b[0m\u001b[1;33m:\u001b[0m\u001b[1;33m:\u001b[0m\u001b[1;33m-\u001b[0m\u001b[1;36m1\u001b[0m\u001b[1;33m]\u001b[0m\u001b[1;33m\u001b[0m\u001b[1;33m\u001b[0m\u001b[0m\n",
      "\u001b[1;32mC:\\ProgramData\\Anaconda3\\envs\\fastai\\lib\\site-packages\\pandas\\io\\parsers.py\u001b[0m in \u001b[0;36mparser_f\u001b[1;34m(filepath_or_buffer, sep, delimiter, header, names, index_col, usecols, squeeze, prefix, mangle_dupe_cols, dtype, engine, converters, true_values, false_values, skipinitialspace, skiprows, skipfooter, nrows, na_values, keep_default_na, na_filter, verbose, skip_blank_lines, parse_dates, infer_datetime_format, keep_date_col, date_parser, dayfirst, cache_dates, iterator, chunksize, compression, thousands, decimal, lineterminator, quotechar, quoting, doublequote, escapechar, comment, encoding, dialect, error_bad_lines, warn_bad_lines, delim_whitespace, low_memory, memory_map, float_precision)\u001b[0m\n\u001b[0;32m    674\u001b[0m         )\n\u001b[0;32m    675\u001b[0m \u001b[1;33m\u001b[0m\u001b[0m\n\u001b[1;32m--> 676\u001b[1;33m         \u001b[1;32mreturn\u001b[0m \u001b[0m_read\u001b[0m\u001b[1;33m(\u001b[0m\u001b[0mfilepath_or_buffer\u001b[0m\u001b[1;33m,\u001b[0m \u001b[0mkwds\u001b[0m\u001b[1;33m)\u001b[0m\u001b[1;33m\u001b[0m\u001b[1;33m\u001b[0m\u001b[0m\n\u001b[0m\u001b[0;32m    677\u001b[0m \u001b[1;33m\u001b[0m\u001b[0m\n\u001b[0;32m    678\u001b[0m     \u001b[0mparser_f\u001b[0m\u001b[1;33m.\u001b[0m\u001b[0m__name__\u001b[0m \u001b[1;33m=\u001b[0m \u001b[0mname\u001b[0m\u001b[1;33m\u001b[0m\u001b[1;33m\u001b[0m\u001b[0m\n",
      "\u001b[1;32mC:\\ProgramData\\Anaconda3\\envs\\fastai\\lib\\site-packages\\pandas\\io\\parsers.py\u001b[0m in \u001b[0;36m_read\u001b[1;34m(filepath_or_buffer, kwds)\u001b[0m\n\u001b[0;32m    446\u001b[0m \u001b[1;33m\u001b[0m\u001b[0m\n\u001b[0;32m    447\u001b[0m     \u001b[1;31m# Create the parser.\u001b[0m\u001b[1;33m\u001b[0m\u001b[1;33m\u001b[0m\u001b[1;33m\u001b[0m\u001b[0m\n\u001b[1;32m--> 448\u001b[1;33m     \u001b[0mparser\u001b[0m \u001b[1;33m=\u001b[0m \u001b[0mTextFileReader\u001b[0m\u001b[1;33m(\u001b[0m\u001b[0mfp_or_buf\u001b[0m\u001b[1;33m,\u001b[0m \u001b[1;33m**\u001b[0m\u001b[0mkwds\u001b[0m\u001b[1;33m)\u001b[0m\u001b[1;33m\u001b[0m\u001b[1;33m\u001b[0m\u001b[0m\n\u001b[0m\u001b[0;32m    449\u001b[0m \u001b[1;33m\u001b[0m\u001b[0m\n\u001b[0;32m    450\u001b[0m     \u001b[1;32mif\u001b[0m \u001b[0mchunksize\u001b[0m \u001b[1;32mor\u001b[0m \u001b[0miterator\u001b[0m\u001b[1;33m:\u001b[0m\u001b[1;33m\u001b[0m\u001b[1;33m\u001b[0m\u001b[0m\n",
      "\u001b[1;32mC:\\ProgramData\\Anaconda3\\envs\\fastai\\lib\\site-packages\\pandas\\io\\parsers.py\u001b[0m in \u001b[0;36m__init__\u001b[1;34m(self, f, engine, **kwds)\u001b[0m\n\u001b[0;32m    878\u001b[0m             \u001b[0mself\u001b[0m\u001b[1;33m.\u001b[0m\u001b[0moptions\u001b[0m\u001b[1;33m[\u001b[0m\u001b[1;34m\"has_index_names\"\u001b[0m\u001b[1;33m]\u001b[0m \u001b[1;33m=\u001b[0m \u001b[0mkwds\u001b[0m\u001b[1;33m[\u001b[0m\u001b[1;34m\"has_index_names\"\u001b[0m\u001b[1;33m]\u001b[0m\u001b[1;33m\u001b[0m\u001b[1;33m\u001b[0m\u001b[0m\n\u001b[0;32m    879\u001b[0m \u001b[1;33m\u001b[0m\u001b[0m\n\u001b[1;32m--> 880\u001b[1;33m         \u001b[0mself\u001b[0m\u001b[1;33m.\u001b[0m\u001b[0m_make_engine\u001b[0m\u001b[1;33m(\u001b[0m\u001b[0mself\u001b[0m\u001b[1;33m.\u001b[0m\u001b[0mengine\u001b[0m\u001b[1;33m)\u001b[0m\u001b[1;33m\u001b[0m\u001b[1;33m\u001b[0m\u001b[0m\n\u001b[0m\u001b[0;32m    881\u001b[0m \u001b[1;33m\u001b[0m\u001b[0m\n\u001b[0;32m    882\u001b[0m     \u001b[1;32mdef\u001b[0m \u001b[0mclose\u001b[0m\u001b[1;33m(\u001b[0m\u001b[0mself\u001b[0m\u001b[1;33m)\u001b[0m\u001b[1;33m:\u001b[0m\u001b[1;33m\u001b[0m\u001b[1;33m\u001b[0m\u001b[0m\n",
      "\u001b[1;32mC:\\ProgramData\\Anaconda3\\envs\\fastai\\lib\\site-packages\\pandas\\io\\parsers.py\u001b[0m in \u001b[0;36m_make_engine\u001b[1;34m(self, engine)\u001b[0m\n\u001b[0;32m   1112\u001b[0m     \u001b[1;32mdef\u001b[0m \u001b[0m_make_engine\u001b[0m\u001b[1;33m(\u001b[0m\u001b[0mself\u001b[0m\u001b[1;33m,\u001b[0m \u001b[0mengine\u001b[0m\u001b[1;33m=\u001b[0m\u001b[1;34m\"c\"\u001b[0m\u001b[1;33m)\u001b[0m\u001b[1;33m:\u001b[0m\u001b[1;33m\u001b[0m\u001b[1;33m\u001b[0m\u001b[0m\n\u001b[0;32m   1113\u001b[0m         \u001b[1;32mif\u001b[0m \u001b[0mengine\u001b[0m \u001b[1;33m==\u001b[0m \u001b[1;34m\"c\"\u001b[0m\u001b[1;33m:\u001b[0m\u001b[1;33m\u001b[0m\u001b[1;33m\u001b[0m\u001b[0m\n\u001b[1;32m-> 1114\u001b[1;33m             \u001b[0mself\u001b[0m\u001b[1;33m.\u001b[0m\u001b[0m_engine\u001b[0m \u001b[1;33m=\u001b[0m \u001b[0mCParserWrapper\u001b[0m\u001b[1;33m(\u001b[0m\u001b[0mself\u001b[0m\u001b[1;33m.\u001b[0m\u001b[0mf\u001b[0m\u001b[1;33m,\u001b[0m \u001b[1;33m**\u001b[0m\u001b[0mself\u001b[0m\u001b[1;33m.\u001b[0m\u001b[0moptions\u001b[0m\u001b[1;33m)\u001b[0m\u001b[1;33m\u001b[0m\u001b[1;33m\u001b[0m\u001b[0m\n\u001b[0m\u001b[0;32m   1115\u001b[0m         \u001b[1;32melse\u001b[0m\u001b[1;33m:\u001b[0m\u001b[1;33m\u001b[0m\u001b[1;33m\u001b[0m\u001b[0m\n\u001b[0;32m   1116\u001b[0m             \u001b[1;32mif\u001b[0m \u001b[0mengine\u001b[0m \u001b[1;33m==\u001b[0m \u001b[1;34m\"python\"\u001b[0m\u001b[1;33m:\u001b[0m\u001b[1;33m\u001b[0m\u001b[1;33m\u001b[0m\u001b[0m\n",
      "\u001b[1;32mC:\\ProgramData\\Anaconda3\\envs\\fastai\\lib\\site-packages\\pandas\\io\\parsers.py\u001b[0m in \u001b[0;36m__init__\u001b[1;34m(self, src, **kwds)\u001b[0m\n\u001b[0;32m   1889\u001b[0m         \u001b[0mkwds\u001b[0m\u001b[1;33m[\u001b[0m\u001b[1;34m\"usecols\"\u001b[0m\u001b[1;33m]\u001b[0m \u001b[1;33m=\u001b[0m \u001b[0mself\u001b[0m\u001b[1;33m.\u001b[0m\u001b[0musecols\u001b[0m\u001b[1;33m\u001b[0m\u001b[1;33m\u001b[0m\u001b[0m\n\u001b[0;32m   1890\u001b[0m \u001b[1;33m\u001b[0m\u001b[0m\n\u001b[1;32m-> 1891\u001b[1;33m         \u001b[0mself\u001b[0m\u001b[1;33m.\u001b[0m\u001b[0m_reader\u001b[0m \u001b[1;33m=\u001b[0m \u001b[0mparsers\u001b[0m\u001b[1;33m.\u001b[0m\u001b[0mTextReader\u001b[0m\u001b[1;33m(\u001b[0m\u001b[0msrc\u001b[0m\u001b[1;33m,\u001b[0m \u001b[1;33m**\u001b[0m\u001b[0mkwds\u001b[0m\u001b[1;33m)\u001b[0m\u001b[1;33m\u001b[0m\u001b[1;33m\u001b[0m\u001b[0m\n\u001b[0m\u001b[0;32m   1892\u001b[0m         \u001b[0mself\u001b[0m\u001b[1;33m.\u001b[0m\u001b[0munnamed_cols\u001b[0m \u001b[1;33m=\u001b[0m \u001b[0mself\u001b[0m\u001b[1;33m.\u001b[0m\u001b[0m_reader\u001b[0m\u001b[1;33m.\u001b[0m\u001b[0munnamed_cols\u001b[0m\u001b[1;33m\u001b[0m\u001b[1;33m\u001b[0m\u001b[0m\n\u001b[0;32m   1893\u001b[0m \u001b[1;33m\u001b[0m\u001b[0m\n",
      "\u001b[1;31mKeyboardInterrupt\u001b[0m: "
     ]
    }
   ],
   "source": [
    "#event={'symbol':'COMFORT','counter':'2127','category':'Industrial Products & Services','to':1591891200}\n",
    "#row=calculate_force_data(event)\n",
    "#Test mine force data\n",
    "%time df_=mine_force_data('Main Market','Health Care',1588554000,1592182800,'1min')"
   ]
  },
  {
   "cell_type": "code",
   "execution_count": null,
   "metadata": {},
   "outputs": [],
   "source": [
    "#datelist_=['2020-05-29','2020-05-28','2020-05-27']\n",
    "datelist_=['2020-06-05','2020-06-04','2020-06-03','2020-06-02','2020-06-01','2020-05-29','2020-05-28','2020-05-27']\n",
    "#datelist_=['2020-05-29']\n",
    "df = pd.DataFrame()\n",
    "for date_ in datelist_:\n",
    "    df1=pd.read_csv('./history/quote_movements/Technology/INARI_0166/INARI_0166_' + date_ + '.csv')\n",
    "    df=df.append(df1)\n",
    "split_buy_sell_queue()\n",
    "df=df.groupby('time').agg({'buy_queue_vol': 'sum',\n",
    "                        'buy_queue_price': 'mean',\n",
    "                        'last_done_vol':'sum', \n",
    "                        'last_done_price': 'mean',\n",
    "                        'type': 'first',\n",
    "                        'sell_queue_vol':'sum',\n",
    "                        'sell_queue_price':'mean',\n",
    "                        'buy_vol_chg':'sum',\n",
    "                        'sell_vol_chg':'sum'\n",
    "                       })\n",
    "df['last_done_sell_down']=df[df['type']=='Sell Down'].last_done_vol\n",
    "df['last_done_buy_up']=df[df['type']=='Buy Up'].last_done_vol\n",
    "#df=df.set_index('time')\n",
    "series=[]\n",
    "series.append(construct_series(df['sell_queue_vol'],'Sell Queue Volume'))\n",
    "series.append(construct_series(df['buy_queue_vol'],'Buy Queue Volume'))\n",
    "series.append(construct_series(df['last_done_price'],'Lost Done Price'))\n",
    "plot_multi_axes(series,'Queue Volume VS Last Done Price')\n",
    "series1=[]\n",
    "series1.append(construct_series(df['last_done_sell_down'],'Sell Down Volume'))\n",
    "series1.append(construct_series(df['last_done_buy_up'],'Buy Up Volume'))\n",
    "series1.append(construct_series(df['last_done_price'],'Lost Done Price'))\n",
    "plot_multi_axes(series1,'Last Done Volume VS Last Done Price')\n",
    "series2=[]\n",
    "series2.append(construct_series(df['sell_queue_vol'],'Sell Queue Volume'))\n",
    "series2.append(construct_series(df['buy_queue_vol'],'Buy Queue Volume'))\n",
    "series2.append(construct_series(df['last_done_price'],'Last Done Price'))\n",
    "plot_multi_axes(series2,'Last Done Volume VS Last Done Price')\n",
    "series2=[]\n",
    "series2.append(construct_series(df['sell_queue_vol'],'Sell Queue Volume'))\n",
    "series2.append(construct_series(df['buy_queue_vol'],'Buy Queue Volume'))\n",
    "series2.append(construct_series(df['buy_queue_price'],'Buy Queue Price'))\n",
    "plot_multi_axes(series2,'Last Done Volume VS Buy Queue Price')"
   ]
  },
  {
   "cell_type": "code",
   "execution_count": null,
   "metadata": {
    "scrolled": true
   },
   "outputs": [],
   "source": [
    "#Case Study: Analyze buy and sell queue in bull market\n",
    "interval='10min'\n",
    "#cat='Industrial Products & Services'\n",
    "cat='Energy'\n",
    "symbol='HIBISCS'\n",
    "counter='5199'\n",
    "name_=symbol+'_'+counter\n",
    "date_='2020-06-10'\n",
    "df=pd.read_csv('./history/quote_movements/'+ cat +'/'+name_+'/'+name_ + '_' + date_ + '.csv',parse_dates=['time'])\n",
    "df['hour']=df['time'].transform(lambda x: x.hour)\n",
    "df['minute']=df['time'].transform(lambda x: 5*(x.minute//5))\n",
    "df=split_buy_sell_queue(df)\n",
    "df=df.iloc[::-1]\n",
    "#df1=df.groupby(['hour','minute','sell_queue_price']).agg({'sell_vol_chg':'sum','sell_queue_vol':'last'}).reset_index()\n",
    "df1=df.set_index('time')\n",
    "df_agg=pd.DataFrame()\n",
    "df_agg1=pd.DataFrame()\n",
    "#for sellqp in df1['sell_queue_price'].dropna().unique():\n",
    "#    df_resampled=pd.DataFrame()\n",
    "#    df_resampled1=pd.DataFrame()\n",
    "    #group by sell queue price\n",
    "    #df_resampled_=df1[df1['sell_queue_price']==sellqp].resample(interval).agg({'sell_vol_chg':'max','sell_queue_vol':'last'}).dropna()\n",
    "#    df_resampled_=df1.resample(interval).agg({'sell_vol_chg':'max','sell_queue_vol':'last'}).dropna()\n",
    "#    df_resampled[str(sellqp)+'_sell_queue_vol']=df_resampled_['sell_queue_vol']\n",
    "#    df_resampled1[str(sellqp)+'_sell_vol_chg']=df_resampled_['sell_vol_chg']\n",
    "#    df_agg=df_agg.append(df_resampled)\n",
    "#    df_agg1=df_agg1.append(df_resampled1)\n",
    "df_resampled=pd.DataFrame()\n",
    "df_resampled1=pd.DataFrame()\n",
    "df_resampled_=df1.resample(interval).agg({'sell_vol_chg':'max','sell_queue_vol':'last'}).dropna()\n",
    "df_resampled['sell_queue_vol']=df_resampled_['sell_queue_vol']\n",
    "df_resampled1['sell_vol_chg']=df_resampled_['sell_vol_chg']\n",
    "df_agg=df_agg.append(df_resampled)\n",
    "df_agg1=df_agg1.append(df_resampled1)\n",
    "df_agg.iplot()\n",
    "df_agg1.iplot()\n",
    "\n",
    "df_ldp=df1.resample(interval).agg({'last_done_price':'last'})\n",
    "df_ldp['price_change_rate']=df_ldp['last_done_price'].pct_change()*100\n",
    "df_ldp.iplot()\n",
    "\n",
    "#Last done volume by type (Sell Down & Buy Up)\n",
    "df_ldv=pd.DataFrame()\n",
    "df_resampled=pd.DataFrame()\n",
    "df_resampled_=df1[df1['type']=='Sell Down'].resample(interval).agg({'last_done_vol':'sum','last_done_price':'last'})\n",
    "df_resampled['Sell Down']=df_resampled_['last_done_vol']\n",
    "df_ldv=df_ldv.append(df_resampled)\n",
    "df_resampled=pd.DataFrame()\n",
    "df_resampled_=df1[df1['type']=='Buy Up'].resample(interval).agg({'last_done_vol':'sum','last_done_price':'last'})\n",
    "df_resampled['Buy Up']=df_resampled_['last_done_vol']\n",
    "df_ldv=df_ldv.append(df_resampled)\n",
    "df_ldv.iplot()\n",
    "\n",
    "#Last done volume \n",
    "df_resampled_=pd.DataFrame()\n",
    "df_resampled_=df1[df1['type'].notna()].resample(interval).agg({'last_done_vol':'sum','last_done_price':'last'})\n",
    "df_resampled_['price_change_pct']=df_resampled_['last_done_price'].pct_change()*100\n",
    "df_resampled_['force']=df_resampled_['price_change_pct']*df_resampled_['last_done_vol']\n",
    "series=[]\n",
    "series.append(construct_series(df_resampled_['force'],'Force'))\n",
    "series.append(construct_series(df_resampled_['force'],'Force'))\n",
    "series.append(construct_series(df_resampled_['price_change_pct'],'Price Change Percentage'))\n",
    "plot_multi_axes(series,'Force VS Price Change Percentage')\n",
    "total_force=df_resampled_['force'].sum()\n",
    "print(total_force)\n",
    "#df_resampled_.iplot()\n",
    "\n",
    "df_agg=pd.DataFrame()\n",
    "df_agg1=pd.DataFrame()\n",
    "#for sellqp in df1['buy_queue_price'].dropna().unique():\n",
    "#    df_resampled=pd.DataFrame()\n",
    "#    df_resampled1=pd.DataFrame()\n",
    "#    df_resampled_=df1[df1['buy_queue_price']==sellqp].resample(interval).agg({'buy_vol_chg':'max','buy_queue_vol':'last'}).dropna()\n",
    "#    df_resampled[str(sellqp)+'_buy_queue_vol']=df_resampled_['buy_queue_vol']\n",
    "#    df_resampled1[str(sellqp)+'_buy_vol_chg']=df_resampled_['buy_vol_chg']\n",
    "#    df_agg=df_agg.append(df_resampled)\n",
    "#    df_agg1=df_agg1.append(df_resampled1)\n",
    "df_resampled=pd.DataFrame()\n",
    "df_resampled1=pd.DataFrame()\n",
    "df_resampled_=df1.resample(interval).agg({'buy_vol_chg':'max','buy_queue_vol':'last'}).dropna()\n",
    "df_resampled['buy_queue_vol']=df_resampled_['buy_queue_vol']\n",
    "df_resampled1['buy_vol_chg']=df_resampled_['buy_vol_chg']\n",
    "df_agg=df_agg.append(df_resampled)\n",
    "df_agg1=df_agg1.append(df_resampled1)\n",
    "df_agg.iplot()\n",
    "df_agg1.iplot()"
   ]
  },
  {
   "cell_type": "code",
   "execution_count": 11,
   "metadata": {},
   "outputs": [
    {
     "data": {
      "text/plain": [
       "<requests.sessions.Session at 0x1d87829c1d0>"
      ]
     },
     "execution_count": 11,
     "metadata": {},
     "output_type": "execute_result"
    }
   ],
   "source": [
    "generate_session()"
   ]
  },
  {
   "cell_type": "code",
   "execution_count": 6,
   "metadata": {},
   "outputs": [
    {
     "name": "stdout",
     "output_type": "stream",
     "text": [
      "Industrial Products & Services\n",
      "False\n"
     ]
    }
   ],
   "source": [
    "topglov=Counter('COMFORT','2127',scheduler_on=False)\n",
    "topglov.set_timestamp(datetime.combine(date.today(), time(9)).timestamp())\n",
    "topglov.today_open=2.88\n",
    "topglov.get_day_volume()\n",
    "topglov.detect_shark()"
   ]
  },
  {
   "cell_type": "code",
   "execution_count": 4,
   "metadata": {},
   "outputs": [
    {
     "name": "stdout",
     "output_type": "stream",
     "text": [
      "Industrial Products & Services\n"
     ]
    }
   ],
   "source": [
    "topglov=Counter('COMFORT','2127',scheduler_on=False)\n",
    "topglov.today_open=2.88\n",
    "topglov.set_timestamp(datetime.combine(date.today(), time(16)).timestamp())"
   ]
  },
  {
   "cell_type": "code",
   "execution_count": 6,
   "metadata": {},
   "outputs": [
    {
     "name": "stdout",
     "output_type": "stream",
     "text": [
      "True\n"
     ]
    },
    {
     "data": {
      "text/html": [
       "<div>\n",
       "<style scoped>\n",
       "    .dataframe tbody tr th:only-of-type {\n",
       "        vertical-align: middle;\n",
       "    }\n",
       "\n",
       "    .dataframe tbody tr th {\n",
       "        vertical-align: top;\n",
       "    }\n",
       "\n",
       "    .dataframe thead th {\n",
       "        text-align: right;\n",
       "    }\n",
       "</style>\n",
       "<table border=\"1\" class=\"dataframe\">\n",
       "  <thead>\n",
       "    <tr style=\"text-align: right;\">\n",
       "      <th></th>\n",
       "      <th>time</th>\n",
       "      <th>buy_queue_vol</th>\n",
       "      <th>buy_queue_price</th>\n",
       "      <th>last_done_vol</th>\n",
       "      <th>last_done_price</th>\n",
       "      <th>type</th>\n",
       "      <th>sell_queue_vol</th>\n",
       "      <th>sell_queue_price</th>\n",
       "    </tr>\n",
       "  </thead>\n",
       "  <tbody>\n",
       "    <tr>\n",
       "      <th>0</th>\n",
       "      <td>2020-06-22 16:00:14</td>\n",
       "      <td>None</td>\n",
       "      <td>NaN</td>\n",
       "      <td>NaN</td>\n",
       "      <td>NaN</td>\n",
       "      <td>None</td>\n",
       "      <td>(-163) 725</td>\n",
       "      <td>3.05</td>\n",
       "    </tr>\n",
       "    <tr>\n",
       "      <th>1</th>\n",
       "      <td>2020-06-22 16:00:14</td>\n",
       "      <td>None</td>\n",
       "      <td>NaN</td>\n",
       "      <td>137.0</td>\n",
       "      <td>3.05</td>\n",
       "      <td>Buy Up</td>\n",
       "      <td>None</td>\n",
       "      <td>NaN</td>\n",
       "    </tr>\n",
       "    <tr>\n",
       "      <th>2</th>\n",
       "      <td>2020-06-22 16:00:14</td>\n",
       "      <td>None</td>\n",
       "      <td>NaN</td>\n",
       "      <td>163.0</td>\n",
       "      <td>3.05</td>\n",
       "      <td>Buy Up</td>\n",
       "      <td>None</td>\n",
       "      <td>NaN</td>\n",
       "    </tr>\n",
       "    <tr>\n",
       "      <th>3</th>\n",
       "      <td>2020-06-22 16:00:18</td>\n",
       "      <td>None</td>\n",
       "      <td>NaN</td>\n",
       "      <td>NaN</td>\n",
       "      <td>NaN</td>\n",
       "      <td>None</td>\n",
       "      <td>(+100) 825</td>\n",
       "      <td>3.05</td>\n",
       "    </tr>\n",
       "    <tr>\n",
       "      <th>4</th>\n",
       "      <td>2020-06-22 16:00:56</td>\n",
       "      <td>None</td>\n",
       "      <td>NaN</td>\n",
       "      <td>NaN</td>\n",
       "      <td>NaN</td>\n",
       "      <td>None</td>\n",
       "      <td>(+30) 855</td>\n",
       "      <td>3.05</td>\n",
       "    </tr>\n",
       "    <tr>\n",
       "      <th>...</th>\n",
       "      <td>...</td>\n",
       "      <td>...</td>\n",
       "      <td>...</td>\n",
       "      <td>...</td>\n",
       "      <td>...</td>\n",
       "      <td>...</td>\n",
       "      <td>...</td>\n",
       "      <td>...</td>\n",
       "    </tr>\n",
       "    <tr>\n",
       "      <th>2167</th>\n",
       "      <td>2020-06-22 16:59:34</td>\n",
       "      <td>(-33) 117</td>\n",
       "      <td>3.05</td>\n",
       "      <td>NaN</td>\n",
       "      <td>NaN</td>\n",
       "      <td>None</td>\n",
       "      <td>None</td>\n",
       "      <td>NaN</td>\n",
       "    </tr>\n",
       "    <tr>\n",
       "      <th>2168</th>\n",
       "      <td>2020-06-22 16:59:34</td>\n",
       "      <td>None</td>\n",
       "      <td>NaN</td>\n",
       "      <td>17.0</td>\n",
       "      <td>3.05</td>\n",
       "      <td>Sell Down</td>\n",
       "      <td>None</td>\n",
       "      <td>NaN</td>\n",
       "    </tr>\n",
       "    <tr>\n",
       "      <th>2169</th>\n",
       "      <td>2020-06-22 16:59:34</td>\n",
       "      <td>None</td>\n",
       "      <td>NaN</td>\n",
       "      <td>33.0</td>\n",
       "      <td>3.05</td>\n",
       "      <td>Sell Down</td>\n",
       "      <td>None</td>\n",
       "      <td>NaN</td>\n",
       "    </tr>\n",
       "    <tr>\n",
       "      <th>2170</th>\n",
       "      <td>2020-06-22 16:59:44</td>\n",
       "      <td>(+43) 160</td>\n",
       "      <td>3.05</td>\n",
       "      <td>NaN</td>\n",
       "      <td>NaN</td>\n",
       "      <td>None</td>\n",
       "      <td>None</td>\n",
       "      <td>NaN</td>\n",
       "    </tr>\n",
       "    <tr>\n",
       "      <th>2171</th>\n",
       "      <td>2020-06-22 16:59:46</td>\n",
       "      <td>(+15) 175</td>\n",
       "      <td>3.05</td>\n",
       "      <td>NaN</td>\n",
       "      <td>NaN</td>\n",
       "      <td>None</td>\n",
       "      <td>None</td>\n",
       "      <td>NaN</td>\n",
       "    </tr>\n",
       "  </tbody>\n",
       "</table>\n",
       "<p>2172 rows × 8 columns</p>\n",
       "</div>"
      ],
      "text/plain": [
       "                    time buy_queue_vol  buy_queue_price  last_done_vol  \\\n",
       "0    2020-06-22 16:00:14          None              NaN            NaN   \n",
       "1    2020-06-22 16:00:14          None              NaN          137.0   \n",
       "2    2020-06-22 16:00:14          None              NaN          163.0   \n",
       "3    2020-06-22 16:00:18          None              NaN            NaN   \n",
       "4    2020-06-22 16:00:56          None              NaN            NaN   \n",
       "...                  ...           ...              ...            ...   \n",
       "2167 2020-06-22 16:59:34     (-33) 117             3.05            NaN   \n",
       "2168 2020-06-22 16:59:34          None              NaN           17.0   \n",
       "2169 2020-06-22 16:59:34          None              NaN           33.0   \n",
       "2170 2020-06-22 16:59:44     (+43) 160             3.05            NaN   \n",
       "2171 2020-06-22 16:59:46     (+15) 175             3.05            NaN   \n",
       "\n",
       "      last_done_price       type sell_queue_vol  sell_queue_price  \n",
       "0                 NaN       None     (-163) 725              3.05  \n",
       "1                3.05     Buy Up           None               NaN  \n",
       "2                3.05     Buy Up           None               NaN  \n",
       "3                 NaN       None     (+100) 825              3.05  \n",
       "4                 NaN       None      (+30) 855              3.05  \n",
       "...               ...        ...            ...               ...  \n",
       "2167              NaN       None           None               NaN  \n",
       "2168             3.05  Sell Down           None               NaN  \n",
       "2169             3.05  Sell Down           None               NaN  \n",
       "2170              NaN       None           None               NaN  \n",
       "2171              NaN       None           None               NaN  \n",
       "\n",
       "[2172 rows x 8 columns]"
      ]
     },
     "execution_count": 6,
     "metadata": {},
     "output_type": "execute_result"
    }
   ],
   "source": [
    "topglov.refresh_volume()\n",
    "topglov.detect_shark()\n",
    "topglov.buffer_temp"
   ]
  },
  {
   "cell_type": "code",
   "execution_count": 42,
   "metadata": {},
   "outputs": [
    {
     "data": {
      "text/html": [
       "<div>\n",
       "<style scoped>\n",
       "    .dataframe tbody tr th:only-of-type {\n",
       "        vertical-align: middle;\n",
       "    }\n",
       "\n",
       "    .dataframe tbody tr th {\n",
       "        vertical-align: top;\n",
       "    }\n",
       "\n",
       "    .dataframe thead th {\n",
       "        text-align: right;\n",
       "    }\n",
       "</style>\n",
       "<table border=\"1\" class=\"dataframe\">\n",
       "  <thead>\n",
       "    <tr style=\"text-align: right;\">\n",
       "      <th></th>\n",
       "      <th>last_done_vol</th>\n",
       "    </tr>\n",
       "    <tr>\n",
       "      <th>time</th>\n",
       "      <th></th>\n",
       "    </tr>\n",
       "  </thead>\n",
       "  <tbody>\n",
       "    <tr>\n",
       "      <th>2020-06-19 06:05:00</th>\n",
       "      <td>0.0</td>\n",
       "    </tr>\n",
       "    <tr>\n",
       "      <th>2020-06-19 06:10:00</th>\n",
       "      <td>0.0</td>\n",
       "    </tr>\n",
       "    <tr>\n",
       "      <th>2020-06-19 06:15:00</th>\n",
       "      <td>0.0</td>\n",
       "    </tr>\n",
       "    <tr>\n",
       "      <th>2020-06-19 06:20:00</th>\n",
       "      <td>0.0</td>\n",
       "    </tr>\n",
       "    <tr>\n",
       "      <th>2020-06-19 06:25:00</th>\n",
       "      <td>0.0</td>\n",
       "    </tr>\n",
       "    <tr>\n",
       "      <th>...</th>\n",
       "      <td>...</td>\n",
       "    </tr>\n",
       "    <tr>\n",
       "      <th>2020-06-19 16:35:00</th>\n",
       "      <td>349614.0</td>\n",
       "    </tr>\n",
       "    <tr>\n",
       "      <th>2020-06-19 16:40:00</th>\n",
       "      <td>357858.0</td>\n",
       "    </tr>\n",
       "    <tr>\n",
       "      <th>2020-06-19 16:45:00</th>\n",
       "      <td>357858.0</td>\n",
       "    </tr>\n",
       "    <tr>\n",
       "      <th>2020-06-19 16:50:00</th>\n",
       "      <td>369155.0</td>\n",
       "    </tr>\n",
       "    <tr>\n",
       "      <th>2020-06-19 16:55:00</th>\n",
       "      <td>370278.0</td>\n",
       "    </tr>\n",
       "  </tbody>\n",
       "</table>\n",
       "<p>131 rows × 1 columns</p>\n",
       "</div>"
      ],
      "text/plain": [
       "                     last_done_vol\n",
       "time                              \n",
       "2020-06-19 06:05:00            0.0\n",
       "2020-06-19 06:10:00            0.0\n",
       "2020-06-19 06:15:00            0.0\n",
       "2020-06-19 06:20:00            0.0\n",
       "2020-06-19 06:25:00            0.0\n",
       "...                            ...\n",
       "2020-06-19 16:35:00       349614.0\n",
       "2020-06-19 16:40:00       357858.0\n",
       "2020-06-19 16:45:00       357858.0\n",
       "2020-06-19 16:50:00       369155.0\n",
       "2020-06-19 16:55:00       370278.0\n",
       "\n",
       "[131 rows x 1 columns]"
      ]
     },
     "execution_count": 42,
     "metadata": {},
     "output_type": "execute_result"
    }
   ],
   "source": [
    "interval='5min'\n",
    "df_=pd.DataFrame()\n",
    "df_=topglov.buffer_temp\n",
    "df_['time']=pd.to_datetime(df_['time'])\n",
    "df_=df_.set_index('time')\n",
    "df_.resample(interval).agg({'last_done_vol':'sum'}).cumsum()"
   ]
  },
  {
   "cell_type": "code",
   "execution_count": 39,
   "metadata": {},
   "outputs": [],
   "source": [
    "interval='1min'\n",
    "df_=pd.DataFrame()\n",
    "df_=topglov.buffer_temp\n",
    "df_=split_buy_sell_queue(df_)\n",
    "df_=df_.set_index('time')\n",
    "df_['last_done_price']=df_['last_done_price'].fillna(method='ffill').fillna(topglov.today_open)\n",
    "#df_['']=df_.resample(interval).agg({'last_done_price':'last'}).dropna().pct_change()\n",
    "df__=pd.DataFrame()\n",
    "df__=df__.append(topglov.sharks.set_index('time').resample(interval).agg({'buy_vol_chg':'count'}))\n",
    "df__['last_done_price_diff']=df_.resample(interval).agg({'last_done_price':'last'}).dropna().diff()\n",
    "df__['last_done_price_pct']=df_.resample(interval).agg({'last_done_price':'last'}).dropna().pct_change()\n",
    "df__['last_done_vol_sum']=df_.resample(interval).agg({'last_done_vol':'sum'}).cumsum()\n",
    "df__['last_done_price_pct']=round(df__['last_done_price_pct']*100,2)\n",
    "df__['last_done_price']=df_.resample(interval).agg({'last_done_price':'last'})\n",
    "df__['last_open_price_diff']=df__['last_done_price']-topglov.today_open\n",
    "df__['last_open_price_pct']=df__['last_done_price'].transform(lambda x: round((x - topglov.today_open)/topglov.today_open * 100,2))\n",
    "df__=df__.fillna(method='ffill')"
   ]
  },
  {
   "cell_type": "code",
   "execution_count": 25,
   "metadata": {},
   "outputs": [],
   "source": [
    "df_=topglov.buffer_temp.copy()\n",
    "df_[['last_done_vol','last_done_price','type']]=df_[['last_done_vol','last_done_price','type']].fillna(method='ffill')\n",
    "df_['last_done_price']=df_['last_done_price'].fillna(topglov.today_open)\n",
    "df_['last_done_vol']=df_['last_done_vol'].fillna(0)\n",
    "df_['buy_queue_price_diff']=df_['buy_queue_price']-df_['last_done_price']\n",
    "df_['sell_queue_price_diff']=df_['sell_queue_price']-df_['last_done_price']\n",
    "df_['buy_queue_type']=df_['buy_queue_price_diff'].dropna().transform(lambda x: 'Buy Up' if (x > 0) else 'Buy Down')\n",
    "df_['sell_queue_type']=df_['sell_queue_price_diff'].dropna().transform(lambda x: 'Sell Up' if (x > 0) else 'Sell Down')"
   ]
  },
  {
   "cell_type": "code",
   "execution_count": 26,
   "metadata": {
    "scrolled": true
   },
   "outputs": [
    {
     "name": "stderr",
     "output_type": "stream",
     "text": [
      "C:\\ProgramData\\Anaconda3\\envs\\fastai\\lib\\site-packages\\ipykernel_launcher.py:1: SettingWithCopyWarning:\n",
      "\n",
      "\n",
      "A value is trying to be set on a copy of a slice from a DataFrame\n",
      "\n",
      "See the caveats in the documentation: https://pandas.pydata.org/pandas-docs/stable/user_guide/indexing.html#returning-a-view-versus-a-copy\n",
      "\n",
      "C:\\ProgramData\\Anaconda3\\envs\\fastai\\lib\\site-packages\\ipykernel_launcher.py:2: SettingWithCopyWarning:\n",
      "\n",
      "\n",
      "A value is trying to be set on a copy of a slice from a DataFrame\n",
      "\n",
      "See the caveats in the documentation: https://pandas.pydata.org/pandas-docs/stable/user_guide/indexing.html#returning-a-view-versus-a-copy\n",
      "\n"
     ]
    }
   ],
   "source": [
    "df_['buy_queue_price'][df_['buy_queue_price'].isna()]=df_['sell_queue_price'][df_['sell_queue_price'].notna()]\n",
    "df_['buy_queue_type'][df_['buy_queue_type'].isna()]=df_['sell_queue_type'][df_['sell_queue_type'].notna()]\n",
    "df_['buy_vol_chg']=df_['sell_vol_chg'][df_['sell_vol_chg']>0]\n",
    "df_=df_.rename(columns={'buy_queue_price':'queue_price','buy_queue_type':'queue_type','buy_vol_chg':'vol_chg'})\n",
    "df_=df_.drop(columns=['sell_vol_chg','sell_queue_type','sell_queue_price_diff','buy_queue_price_diff'])\n",
    "df__=df_[['time','queue_price','vol_chg','queue_type','last_done_price']].dropna().copy()"
   ]
  },
  {
   "cell_type": "code",
   "execution_count": 27,
   "metadata": {},
   "outputs": [
    {
     "data": {
      "text/html": [
       "<div>\n",
       "<style scoped>\n",
       "    .dataframe tbody tr th:only-of-type {\n",
       "        vertical-align: middle;\n",
       "    }\n",
       "\n",
       "    .dataframe tbody tr th {\n",
       "        vertical-align: top;\n",
       "    }\n",
       "\n",
       "    .dataframe thead th {\n",
       "        text-align: right;\n",
       "    }\n",
       "</style>\n",
       "<table border=\"1\" class=\"dataframe\">\n",
       "  <thead>\n",
       "    <tr style=\"text-align: right;\">\n",
       "      <th></th>\n",
       "      <th>time</th>\n",
       "      <th>buy_queue_vol</th>\n",
       "      <th>queue_price</th>\n",
       "      <th>last_done_vol</th>\n",
       "      <th>last_done_price</th>\n",
       "      <th>type</th>\n",
       "      <th>sell_queue_vol</th>\n",
       "      <th>sell_queue_price</th>\n",
       "      <th>vol_chg</th>\n",
       "      <th>queue_type</th>\n",
       "    </tr>\n",
       "  </thead>\n",
       "  <tbody>\n",
       "    <tr>\n",
       "      <th>0</th>\n",
       "      <td>2020-06-19 06:05:14</td>\n",
       "      <td>66.0</td>\n",
       "      <td>6.93</td>\n",
       "      <td>0.0</td>\n",
       "      <td>7.4</td>\n",
       "      <td>NaN</td>\n",
       "      <td>NaN</td>\n",
       "      <td>NaN</td>\n",
       "      <td>NaN</td>\n",
       "      <td>Buy Down</td>\n",
       "    </tr>\n",
       "    <tr>\n",
       "      <th>1</th>\n",
       "      <td>2020-06-19 06:05:14</td>\n",
       "      <td>NaN</td>\n",
       "      <td>6.98</td>\n",
       "      <td>0.0</td>\n",
       "      <td>7.4</td>\n",
       "      <td>NaN</td>\n",
       "      <td>30.0</td>\n",
       "      <td>6.98</td>\n",
       "      <td>NaN</td>\n",
       "      <td>Sell Down</td>\n",
       "    </tr>\n",
       "    <tr>\n",
       "      <th>2</th>\n",
       "      <td>2020-06-19 08:30:00</td>\n",
       "      <td>NaN</td>\n",
       "      <td>6.75</td>\n",
       "      <td>0.0</td>\n",
       "      <td>7.4</td>\n",
       "      <td>NaN</td>\n",
       "      <td>14.0</td>\n",
       "      <td>6.75</td>\n",
       "      <td>NaN</td>\n",
       "      <td>Sell Down</td>\n",
       "    </tr>\n",
       "    <tr>\n",
       "      <th>3</th>\n",
       "      <td>2020-06-19 08:30:00</td>\n",
       "      <td>11.0</td>\n",
       "      <td>6.98</td>\n",
       "      <td>0.0</td>\n",
       "      <td>7.4</td>\n",
       "      <td>NaN</td>\n",
       "      <td>NaN</td>\n",
       "      <td>NaN</td>\n",
       "      <td>NaN</td>\n",
       "      <td>Buy Down</td>\n",
       "    </tr>\n",
       "    <tr>\n",
       "      <th>4</th>\n",
       "      <td>2020-06-19 08:30:01</td>\n",
       "      <td>16.0</td>\n",
       "      <td>6.98</td>\n",
       "      <td>0.0</td>\n",
       "      <td>7.4</td>\n",
       "      <td>NaN</td>\n",
       "      <td>NaN</td>\n",
       "      <td>NaN</td>\n",
       "      <td>NaN</td>\n",
       "      <td>Buy Down</td>\n",
       "    </tr>\n",
       "    <tr>\n",
       "      <th>...</th>\n",
       "      <td>...</td>\n",
       "      <td>...</td>\n",
       "      <td>...</td>\n",
       "      <td>...</td>\n",
       "      <td>...</td>\n",
       "      <td>...</td>\n",
       "      <td>...</td>\n",
       "      <td>...</td>\n",
       "      <td>...</td>\n",
       "      <td>...</td>\n",
       "    </tr>\n",
       "    <tr>\n",
       "      <th>45658</th>\n",
       "      <td>2020-06-19 16:59:47</td>\n",
       "      <td>NaN</td>\n",
       "      <td>NaN</td>\n",
       "      <td>4.0</td>\n",
       "      <td>7.4</td>\n",
       "      <td>Sell Down</td>\n",
       "      <td>NaN</td>\n",
       "      <td>NaN</td>\n",
       "      <td>NaN</td>\n",
       "      <td>NaN</td>\n",
       "    </tr>\n",
       "    <tr>\n",
       "      <th>45659</th>\n",
       "      <td>2020-06-19 16:59:49</td>\n",
       "      <td>3586.0</td>\n",
       "      <td>7.40</td>\n",
       "      <td>4.0</td>\n",
       "      <td>7.4</td>\n",
       "      <td>Sell Down</td>\n",
       "      <td>NaN</td>\n",
       "      <td>NaN</td>\n",
       "      <td>NaN</td>\n",
       "      <td>Buy Down</td>\n",
       "    </tr>\n",
       "    <tr>\n",
       "      <th>45660</th>\n",
       "      <td>2020-06-19 16:59:58</td>\n",
       "      <td>3581.0</td>\n",
       "      <td>7.40</td>\n",
       "      <td>4.0</td>\n",
       "      <td>7.4</td>\n",
       "      <td>Sell Down</td>\n",
       "      <td>NaN</td>\n",
       "      <td>NaN</td>\n",
       "      <td>NaN</td>\n",
       "      <td>Buy Down</td>\n",
       "    </tr>\n",
       "    <tr>\n",
       "      <th>45661</th>\n",
       "      <td>2020-06-19 16:59:58</td>\n",
       "      <td>NaN</td>\n",
       "      <td>NaN</td>\n",
       "      <td>5.0</td>\n",
       "      <td>7.4</td>\n",
       "      <td>Sell Down</td>\n",
       "      <td>NaN</td>\n",
       "      <td>NaN</td>\n",
       "      <td>NaN</td>\n",
       "      <td>NaN</td>\n",
       "    </tr>\n",
       "    <tr>\n",
       "      <th>45662</th>\n",
       "      <td>2020-06-19 16:59:59</td>\n",
       "      <td>3591.0</td>\n",
       "      <td>7.40</td>\n",
       "      <td>5.0</td>\n",
       "      <td>7.4</td>\n",
       "      <td>Sell Down</td>\n",
       "      <td>NaN</td>\n",
       "      <td>NaN</td>\n",
       "      <td>NaN</td>\n",
       "      <td>Buy Down</td>\n",
       "    </tr>\n",
       "  </tbody>\n",
       "</table>\n",
       "<p>45663 rows × 10 columns</p>\n",
       "</div>"
      ],
      "text/plain": [
       "                     time  buy_queue_vol  queue_price  last_done_vol  \\\n",
       "0     2020-06-19 06:05:14           66.0         6.93            0.0   \n",
       "1     2020-06-19 06:05:14            NaN         6.98            0.0   \n",
       "2     2020-06-19 08:30:00            NaN         6.75            0.0   \n",
       "3     2020-06-19 08:30:00           11.0         6.98            0.0   \n",
       "4     2020-06-19 08:30:01           16.0         6.98            0.0   \n",
       "...                   ...            ...          ...            ...   \n",
       "45658 2020-06-19 16:59:47            NaN          NaN            4.0   \n",
       "45659 2020-06-19 16:59:49         3586.0         7.40            4.0   \n",
       "45660 2020-06-19 16:59:58         3581.0         7.40            4.0   \n",
       "45661 2020-06-19 16:59:58            NaN          NaN            5.0   \n",
       "45662 2020-06-19 16:59:59         3591.0         7.40            5.0   \n",
       "\n",
       "       last_done_price       type  sell_queue_vol  sell_queue_price  vol_chg  \\\n",
       "0                  7.4        NaN             NaN               NaN      NaN   \n",
       "1                  7.4        NaN            30.0              6.98      NaN   \n",
       "2                  7.4        NaN            14.0              6.75      NaN   \n",
       "3                  7.4        NaN             NaN               NaN      NaN   \n",
       "4                  7.4        NaN             NaN               NaN      NaN   \n",
       "...                ...        ...             ...               ...      ...   \n",
       "45658              7.4  Sell Down             NaN               NaN      NaN   \n",
       "45659              7.4  Sell Down             NaN               NaN      NaN   \n",
       "45660              7.4  Sell Down             NaN               NaN      NaN   \n",
       "45661              7.4  Sell Down             NaN               NaN      NaN   \n",
       "45662              7.4  Sell Down             NaN               NaN      NaN   \n",
       "\n",
       "      queue_type  \n",
       "0       Buy Down  \n",
       "1      Sell Down  \n",
       "2      Sell Down  \n",
       "3       Buy Down  \n",
       "4       Buy Down  \n",
       "...          ...  \n",
       "45658        NaN  \n",
       "45659   Buy Down  \n",
       "45660   Buy Down  \n",
       "45661        NaN  \n",
       "45662   Buy Down  \n",
       "\n",
       "[45663 rows x 10 columns]"
      ]
     },
     "execution_count": 27,
     "metadata": {},
     "output_type": "execute_result"
    }
   ],
   "source": [
    "df_"
   ]
  },
  {
   "cell_type": "code",
   "execution_count": 54,
   "metadata": {},
   "outputs": [
    {
     "data": {
      "text/plain": [
       "[12445, 24764, 24520, 24397, 8009, 7562]"
      ]
     },
     "execution_count": 54,
     "metadata": {},
     "output_type": "execute_result"
    }
   ],
   "source": [
    "topglov.sharks.index.tolist()"
   ]
  },
  {
   "cell_type": "code",
   "execution_count": 57,
   "metadata": {},
   "outputs": [],
   "source": [
    "topglov.sharks['last_done_price']=df_.reset_index().iloc[topglov.sharks.index.tolist()]['last_done_price']"
   ]
  },
  {
   "cell_type": "code",
   "execution_count": 9,
   "metadata": {},
   "outputs": [
    {
     "data": {
      "text/html": [
       "<div>\n",
       "<style scoped>\n",
       "    .dataframe tbody tr th:only-of-type {\n",
       "        vertical-align: middle;\n",
       "    }\n",
       "\n",
       "    .dataframe tbody tr th {\n",
       "        vertical-align: top;\n",
       "    }\n",
       "\n",
       "    .dataframe thead th {\n",
       "        text-align: right;\n",
       "    }\n",
       "</style>\n",
       "<table border=\"1\" class=\"dataframe\">\n",
       "  <thead>\n",
       "    <tr style=\"text-align: right;\">\n",
       "      <th></th>\n",
       "      <th>time</th>\n",
       "      <th>buy_vol_chg</th>\n",
       "      <th>buy_queue_price</th>\n",
       "      <th>last_done_price</th>\n",
       "    </tr>\n",
       "  </thead>\n",
       "  <tbody>\n",
       "    <tr>\n",
       "      <th>12445</th>\n",
       "      <td>2020-06-17 11:14:06</td>\n",
       "      <td>2000</td>\n",
       "      <td>7.08</td>\n",
       "      <td>NaN</td>\n",
       "    </tr>\n",
       "    <tr>\n",
       "      <th>24764</th>\n",
       "      <td>2020-06-17 09:04:15</td>\n",
       "      <td>1000</td>\n",
       "      <td>7.44</td>\n",
       "      <td>NaN</td>\n",
       "    </tr>\n",
       "    <tr>\n",
       "      <th>24520</th>\n",
       "      <td>2020-06-17 09:05:29</td>\n",
       "      <td>1000</td>\n",
       "      <td>7.46</td>\n",
       "      <td>NaN</td>\n",
       "    </tr>\n",
       "    <tr>\n",
       "      <th>24397</th>\n",
       "      <td>2020-06-17 09:06:06</td>\n",
       "      <td>1000</td>\n",
       "      <td>7.46</td>\n",
       "      <td>NaN</td>\n",
       "    </tr>\n",
       "    <tr>\n",
       "      <th>8009</th>\n",
       "      <td>2020-06-17 14:42:51</td>\n",
       "      <td>1000</td>\n",
       "      <td>7.21</td>\n",
       "      <td>NaN</td>\n",
       "    </tr>\n",
       "    <tr>\n",
       "      <th>7562</th>\n",
       "      <td>2020-06-17 14:46:57</td>\n",
       "      <td>1000</td>\n",
       "      <td>7.25</td>\n",
       "      <td>NaN</td>\n",
       "    </tr>\n",
       "  </tbody>\n",
       "</table>\n",
       "</div>"
      ],
      "text/plain": [
       "                     time  buy_vol_chg  buy_queue_price  last_done_price\n",
       "12445 2020-06-17 11:14:06         2000             7.08              NaN\n",
       "24764 2020-06-17 09:04:15         1000             7.44              NaN\n",
       "24520 2020-06-17 09:05:29         1000             7.46              NaN\n",
       "24397 2020-06-17 09:06:06         1000             7.46              NaN\n",
       "8009  2020-06-17 14:42:51         1000             7.21              NaN\n",
       "7562  2020-06-17 14:46:57         1000             7.25              NaN"
      ]
     },
     "execution_count": 9,
     "metadata": {},
     "output_type": "execute_result"
    }
   ],
   "source": [
    "topglov.sharks"
   ]
  },
  {
   "cell_type": "code",
   "execution_count": 47,
   "metadata": {},
   "outputs": [],
   "source": [
    "df_=pd.read_csv('history\\quote_movements\\Health Care\\SUPERMX_7106\\SUPERMX_7106_2020-06-15.csv')"
   ]
  },
  {
   "cell_type": "code",
   "execution_count": 59,
   "metadata": {},
   "outputs": [],
   "source": [
    "last_done_group=df_.groupby('type').agg({'last_done_vol':'sum'})"
   ]
  },
  {
   "cell_type": "code",
   "execution_count": 68,
   "metadata": {},
   "outputs": [
    {
     "data": {
      "text/plain": [
       "340981.0"
      ]
     },
     "execution_count": 68,
     "metadata": {},
     "output_type": "execute_result"
    }
   ],
   "source": [
    "last_done_group.loc['Sell Down'].last_done_vol\n"
   ]
  },
  {
   "cell_type": "code",
   "execution_count": 25,
   "metadata": {},
   "outputs": [],
   "source": [
    "df_=topglov.buffer.iloc[::-1]\n",
    "df_=split_buy_sell_queue(df_)\n",
    "last_done_df=df_[['time','last_done_vol','last_done_price','type']]\n",
    "last_done_df=last_done_df.iloc[::-1]\n",
    "last_done=pd.DataFrame()\n",
    "last_done['last_done_price']=last_done_df['last_done_price'].fillna(method='ffill').fillna(123)\n",
    "last_done['last_done_sell_vol']=last_done_df[last_done_df['type']=='Sell Down'].last_done_vol.cumsum()\n",
    "last_done['last_done_sell_vol']=last_done['last_done_sell_vol'].fillna(method='ffill').fillna(0)\n",
    "last_done['last_done_buy_vol']=last_done_df[last_done_df['type']=='Buy Up'].last_done_vol.cumsum()\n",
    "last_done['last_done_buy_vol']=last_done['last_done_buy_vol'].fillna(method='ffill').fillna(0)"
   ]
  },
  {
   "cell_type": "code",
   "execution_count": 26,
   "metadata": {},
   "outputs": [
    {
     "data": {
      "text/html": [
       "<div>\n",
       "<style scoped>\n",
       "    .dataframe tbody tr th:only-of-type {\n",
       "        vertical-align: middle;\n",
       "    }\n",
       "\n",
       "    .dataframe tbody tr th {\n",
       "        vertical-align: top;\n",
       "    }\n",
       "\n",
       "    .dataframe thead th {\n",
       "        text-align: right;\n",
       "    }\n",
       "</style>\n",
       "<table border=\"1\" class=\"dataframe\">\n",
       "  <thead>\n",
       "    <tr style=\"text-align: right;\">\n",
       "      <th></th>\n",
       "      <th>last_done_price</th>\n",
       "      <th>last_done_sell_vol</th>\n",
       "      <th>last_done_buy_vol</th>\n",
       "    </tr>\n",
       "  </thead>\n",
       "  <tbody>\n",
       "    <tr>\n",
       "      <th>25765</th>\n",
       "      <td>123.00</td>\n",
       "      <td>0.0</td>\n",
       "      <td>0.0</td>\n",
       "    </tr>\n",
       "    <tr>\n",
       "      <th>25764</th>\n",
       "      <td>123.00</td>\n",
       "      <td>0.0</td>\n",
       "      <td>0.0</td>\n",
       "    </tr>\n",
       "    <tr>\n",
       "      <th>25763</th>\n",
       "      <td>123.00</td>\n",
       "      <td>0.0</td>\n",
       "      <td>0.0</td>\n",
       "    </tr>\n",
       "    <tr>\n",
       "      <th>25762</th>\n",
       "      <td>123.00</td>\n",
       "      <td>0.0</td>\n",
       "      <td>0.0</td>\n",
       "    </tr>\n",
       "    <tr>\n",
       "      <th>25761</th>\n",
       "      <td>123.00</td>\n",
       "      <td>0.0</td>\n",
       "      <td>0.0</td>\n",
       "    </tr>\n",
       "    <tr>\n",
       "      <th>...</th>\n",
       "      <td>...</td>\n",
       "      <td>...</td>\n",
       "      <td>...</td>\n",
       "    </tr>\n",
       "    <tr>\n",
       "      <th>4</th>\n",
       "      <td>7.21</td>\n",
       "      <td>86505.0</td>\n",
       "      <td>66360.0</td>\n",
       "    </tr>\n",
       "    <tr>\n",
       "      <th>3</th>\n",
       "      <td>7.21</td>\n",
       "      <td>86505.0</td>\n",
       "      <td>66360.0</td>\n",
       "    </tr>\n",
       "    <tr>\n",
       "      <th>2</th>\n",
       "      <td>7.21</td>\n",
       "      <td>86505.0</td>\n",
       "      <td>66369.0</td>\n",
       "    </tr>\n",
       "    <tr>\n",
       "      <th>1</th>\n",
       "      <td>7.21</td>\n",
       "      <td>86505.0</td>\n",
       "      <td>66379.0</td>\n",
       "    </tr>\n",
       "    <tr>\n",
       "      <th>0</th>\n",
       "      <td>7.21</td>\n",
       "      <td>86505.0</td>\n",
       "      <td>66380.0</td>\n",
       "    </tr>\n",
       "  </tbody>\n",
       "</table>\n",
       "<p>25766 rows × 3 columns</p>\n",
       "</div>"
      ],
      "text/plain": [
       "       last_done_price  last_done_sell_vol  last_done_buy_vol\n",
       "25765           123.00                 0.0                0.0\n",
       "25764           123.00                 0.0                0.0\n",
       "25763           123.00                 0.0                0.0\n",
       "25762           123.00                 0.0                0.0\n",
       "25761           123.00                 0.0                0.0\n",
       "...                ...                 ...                ...\n",
       "4                 7.21             86505.0            66360.0\n",
       "3                 7.21             86505.0            66360.0\n",
       "2                 7.21             86505.0            66369.0\n",
       "1                 7.21             86505.0            66379.0\n",
       "0                 7.21             86505.0            66380.0\n",
       "\n",
       "[25766 rows x 3 columns]"
      ]
     },
     "execution_count": 26,
     "metadata": {},
     "output_type": "execute_result"
    }
   ],
   "source": [
    "last_done"
   ]
  },
  {
   "cell_type": "code",
   "execution_count": 238,
   "metadata": {},
   "outputs": [
    {
     "name": "stdout",
     "output_type": "stream",
     "text": [
      "https://www.klsescreener.com/v2/trading_view/history?symbol=6963&resolution=D&from=1577527200&to=1593046800\n"
     ]
    }
   ],
   "source": [
    "from_=datetime.combine(date.today()-timedelta(days=180), time(18)).timestamp()\n",
    "to_=datetime.combine(date.today(), time(9)).timestamp()\n",
    "event={'counter':'6963','from':int(from_),'to':int(to_),'resolution':'D'}\n",
    "df=klse_price_data(event)\n",
    "df['Datetime']=pd.to_datetime(df['Datetime'])\n",
    "df=df.set_index('Datetime')"
   ]
  },
  {
   "cell_type": "code",
   "execution_count": 239,
   "metadata": {},
   "outputs": [],
   "source": [
    "def cal_slope(list_):\n",
    "    list__=list_.values\n",
    "    slope=list__[-1]-list__[0]\n",
    "    return slope"
   ]
  },
  {
   "cell_type": "code",
   "execution_count": 240,
   "metadata": {},
   "outputs": [],
   "source": [
    "df_max_slope=pd.DataFrame()\n",
    "max_slope_list=[]\n",
    "steps=[5,10,20,30,40,50]\n",
    "for i in steps:\n",
    "    df['Grad']=df['Close'].rolling(i).apply(lambda x: cal_slope(x))\n",
    "    df_max_slope=df_max_slope.append(df.loc[df['Grad'].idxmax()])"
   ]
  },
  {
   "cell_type": "code",
   "execution_count": 241,
   "metadata": {},
   "outputs": [
    {
     "data": {
      "text/html": [
       "<div>\n",
       "<style scoped>\n",
       "    .dataframe tbody tr th:only-of-type {\n",
       "        vertical-align: middle;\n",
       "    }\n",
       "\n",
       "    .dataframe tbody tr th {\n",
       "        vertical-align: top;\n",
       "    }\n",
       "\n",
       "    .dataframe thead th {\n",
       "        text-align: right;\n",
       "    }\n",
       "</style>\n",
       "<table border=\"1\" class=\"dataframe\">\n",
       "  <thead>\n",
       "    <tr style=\"text-align: right;\">\n",
       "      <th></th>\n",
       "      <th>Close</th>\n",
       "      <th>Grad</th>\n",
       "      <th>High</th>\n",
       "      <th>Low</th>\n",
       "      <th>Open</th>\n",
       "      <th>Volume</th>\n",
       "    </tr>\n",
       "  </thead>\n",
       "  <tbody>\n",
       "    <tr>\n",
       "      <th>2020-06-10 08:00:00+08:00</th>\n",
       "      <td>1.070</td>\n",
       "      <td>0.170</td>\n",
       "      <td>1.080</td>\n",
       "      <td>0.925</td>\n",
       "      <td>0.935</td>\n",
       "      <td>140299200.0</td>\n",
       "    </tr>\n",
       "    <tr>\n",
       "      <th>2020-04-10 08:00:00+08:00</th>\n",
       "      <td>0.940</td>\n",
       "      <td>0.215</td>\n",
       "      <td>0.945</td>\n",
       "      <td>0.865</td>\n",
       "      <td>0.890</td>\n",
       "      <td>46064700.0</td>\n",
       "    </tr>\n",
       "    <tr>\n",
       "      <th>2020-04-14 08:00:00+08:00</th>\n",
       "      <td>0.940</td>\n",
       "      <td>0.305</td>\n",
       "      <td>0.970</td>\n",
       "      <td>0.930</td>\n",
       "      <td>0.945</td>\n",
       "      <td>23462700.0</td>\n",
       "    </tr>\n",
       "    <tr>\n",
       "      <th>2020-04-29 08:00:00+08:00</th>\n",
       "      <td>0.905</td>\n",
       "      <td>0.250</td>\n",
       "      <td>0.935</td>\n",
       "      <td>0.855</td>\n",
       "      <td>0.860</td>\n",
       "      <td>39101700.0</td>\n",
       "    </tr>\n",
       "    <tr>\n",
       "      <th>2020-05-20 08:00:00+08:00</th>\n",
       "      <td>0.945</td>\n",
       "      <td>0.270</td>\n",
       "      <td>0.945</td>\n",
       "      <td>0.900</td>\n",
       "      <td>0.900</td>\n",
       "      <td>26403800.0</td>\n",
       "    </tr>\n",
       "    <tr>\n",
       "      <th>2020-06-10 08:00:00+08:00</th>\n",
       "      <td>1.070</td>\n",
       "      <td>0.320</td>\n",
       "      <td>1.080</td>\n",
       "      <td>0.925</td>\n",
       "      <td>0.935</td>\n",
       "      <td>140299200.0</td>\n",
       "    </tr>\n",
       "  </tbody>\n",
       "</table>\n",
       "</div>"
      ],
      "text/plain": [
       "                           Close   Grad   High    Low   Open       Volume\n",
       "2020-06-10 08:00:00+08:00  1.070  0.170  1.080  0.925  0.935  140299200.0\n",
       "2020-04-10 08:00:00+08:00  0.940  0.215  0.945  0.865  0.890   46064700.0\n",
       "2020-04-14 08:00:00+08:00  0.940  0.305  0.970  0.930  0.945   23462700.0\n",
       "2020-04-29 08:00:00+08:00  0.905  0.250  0.935  0.855  0.860   39101700.0\n",
       "2020-05-20 08:00:00+08:00  0.945  0.270  0.945  0.900  0.900   26403800.0\n",
       "2020-06-10 08:00:00+08:00  1.070  0.320  1.080  0.925  0.935  140299200.0"
      ]
     },
     "execution_count": 241,
     "metadata": {},
     "output_type": "execute_result"
    }
   ],
   "source": [
    "df_max_slope"
   ]
  },
  {
   "cell_type": "code",
   "execution_count": 41,
   "metadata": {},
   "outputs": [
    {
     "data": {
      "application/vnd.plotly.v1+json": {
       "config": {
        "linkText": "Export to plotly.com",
        "plotlyServerURL": "https://plotly.com",
        "showLink": true
       },
       "data": [
        {
         "line": {
          "color": "rgba(255, 153, 51, 1.0)",
          "dash": "solid",
          "shape": "linear",
          "width": 1.3
         },
         "mode": "lines",
         "name": "Close",
         "text": "",
         "type": "scatter",
         "x": [
          "2019-12-27 08:00:00+08",
          "2019-12-30 08:00:00+08",
          "2019-12-31 08:00:00+08",
          "2020-01-02 08:00:00+08",
          "2020-01-03 08:00:00+08",
          "2020-01-06 08:00:00+08",
          "2020-01-07 08:00:00+08",
          "2020-01-08 08:00:00+08",
          "2020-01-09 08:00:00+08",
          "2020-01-10 08:00:00+08",
          "2020-01-13 08:00:00+08",
          "2020-01-14 08:00:00+08",
          "2020-01-15 08:00:00+08",
          "2020-01-16 08:00:00+08",
          "2020-01-17 08:00:00+08",
          "2020-01-20 08:00:00+08",
          "2020-01-21 08:00:00+08",
          "2020-01-22 08:00:00+08",
          "2020-01-23 08:00:00+08",
          "2020-01-24 08:00:00+08",
          "2020-01-28 08:00:00+08",
          "2020-01-29 08:00:00+08",
          "2020-01-30 08:00:00+08",
          "2020-01-31 08:00:00+08",
          "2020-02-03 08:00:00+08",
          "2020-02-04 08:00:00+08",
          "2020-02-05 08:00:00+08",
          "2020-02-06 08:00:00+08",
          "2020-02-07 08:00:00+08",
          "2020-02-10 08:00:00+08",
          "2020-02-11 08:00:00+08",
          "2020-02-12 08:00:00+08",
          "2020-02-13 08:00:00+08",
          "2020-02-14 08:00:00+08",
          "2020-02-17 08:00:00+08",
          "2020-02-18 08:00:00+08",
          "2020-02-19 08:00:00+08",
          "2020-02-20 08:00:00+08",
          "2020-02-21 08:00:00+08",
          "2020-02-24 08:00:00+08",
          "2020-02-25 08:00:00+08",
          "2020-02-26 08:00:00+08",
          "2020-02-27 08:00:00+08",
          "2020-02-28 08:00:00+08",
          "2020-03-02 08:00:00+08",
          "2020-03-03 08:00:00+08",
          "2020-03-04 08:00:00+08",
          "2020-03-05 08:00:00+08",
          "2020-03-06 08:00:00+08",
          "2020-03-09 08:00:00+08",
          "2020-03-10 08:00:00+08",
          "2020-03-11 08:00:00+08",
          "2020-03-12 08:00:00+08",
          "2020-03-13 08:00:00+08",
          "2020-03-16 08:00:00+08",
          "2020-03-17 08:00:00+08",
          "2020-03-18 08:00:00+08",
          "2020-03-19 08:00:00+08",
          "2020-03-20 08:00:00+08",
          "2020-03-23 08:00:00+08",
          "2020-03-24 08:00:00+08",
          "2020-03-25 08:00:00+08",
          "2020-03-26 08:00:00+08",
          "2020-03-27 08:00:00+08",
          "2020-03-30 08:00:00+08",
          "2020-03-31 08:00:00+08",
          "2020-04-01 08:00:00+08",
          "2020-04-02 08:00:00+08",
          "2020-04-03 08:00:00+08",
          "2020-04-06 08:00:00+08",
          "2020-04-07 08:00:00+08",
          "2020-04-08 08:00:00+08",
          "2020-04-09 08:00:00+08",
          "2020-04-10 08:00:00+08",
          "2020-04-13 08:00:00+08",
          "2020-04-14 08:00:00+08",
          "2020-04-15 08:00:00+08",
          "2020-04-16 08:00:00+08",
          "2020-04-17 08:00:00+08",
          "2020-04-20 08:00:00+08",
          "2020-04-21 08:00:00+08",
          "2020-04-22 08:00:00+08",
          "2020-04-23 08:00:00+08",
          "2020-04-24 08:00:00+08",
          "2020-04-27 08:00:00+08",
          "2020-04-28 08:00:00+08",
          "2020-04-29 08:00:00+08",
          "2020-04-30 08:00:00+08",
          "2020-05-04 08:00:00+08",
          "2020-05-05 08:00:00+08",
          "2020-05-06 08:00:00+08",
          "2020-05-08 08:00:00+08",
          "2020-05-12 08:00:00+08",
          "2020-05-13 08:00:00+08",
          "2020-05-14 08:00:00+08",
          "2020-05-15 08:00:00+08",
          "2020-05-18 08:00:00+08",
          "2020-05-19 08:00:00+08",
          "2020-05-20 08:00:00+08",
          "2020-05-21 08:00:00+08",
          "2020-05-22 08:00:00+08",
          "2020-05-27 08:00:00+08",
          "2020-05-28 08:00:00+08",
          "2020-05-29 08:00:00+08",
          "2020-06-01 08:00:00+08",
          "2020-06-02 08:00:00+08",
          "2020-06-03 08:00:00+08",
          "2020-06-04 08:00:00+08",
          "2020-06-05 08:00:00+08",
          "2020-06-09 08:00:00+08",
          "2020-06-10 08:00:00+08",
          "2020-06-11 08:00:00+08",
          "2020-06-12 08:00:00+08",
          "2020-06-15 08:00:00+08",
          "2020-06-16 08:00:00+08",
          "2020-06-17 08:00:00+08",
          "2020-06-18 08:00:00+08",
          "2020-06-19 08:00:00+08",
          "2020-06-22 08:00:00+08",
          "2020-06-23 08:00:00+08",
          "2020-06-24 08:00:00+08"
         ],
         "y": [
          "1.370",
          "1.380",
          "1.340",
          "1.370",
          "1.370",
          "1.360",
          "1.380",
          "1.360",
          "1.360",
          "1.400",
          "1.430",
          "1.430",
          "1.420",
          "1.430",
          "1.480",
          "1.500",
          "1.510",
          "1.490",
          "1.480",
          "1.490",
          "1.440",
          "1.450",
          "1.450",
          "1.350",
          "1.400",
          "1.430",
          "1.430",
          "1.420",
          "1.410",
          "1.400",
          "1.430",
          "1.400",
          "1.400",
          "1.440",
          "1.410",
          "1.350",
          "1.370",
          "1.340",
          "1.350",
          "1.340",
          "1.330",
          "1.320",
          "1.250",
          "1.280",
          "1.210",
          "1.230",
          "1.230",
          "1.230",
          "1.220",
          "1.130",
          "1.100",
          "1.140",
          "1.120",
          "0.945",
          "0.790",
          "0.760",
          "0.635",
          "0.655",
          "0.725",
          "0.675",
          "0.735",
          "0.750",
          "0.725",
          "0.750",
          "0.725",
          "0.755",
          "0.750",
          "0.770",
          "0.750",
          "0.780",
          "0.850",
          "0.830",
          "0.880",
          "0.940",
          "0.925",
          "0.940",
          "0.925",
          "0.930",
          "0.930",
          "0.920",
          "0.910",
          "0.920",
          "0.910",
          "0.900",
          "0.890",
          "0.850",
          "0.905",
          "0.925",
          "0.900",
          "0.935",
          "0.935",
          "0.920",
          "0.940",
          "0.915",
          "0.900",
          "0.900",
          "0.905",
          "0.905",
          "0.945",
          "0.920",
          "0.900",
          "0.900",
          "0.890",
          "0.885",
          "0.880",
          "0.910",
          "0.900",
          "0.900",
          "0.890",
          "0.920",
          "1.070",
          "1.040",
          "1.010",
          "0.940",
          "1.020",
          "1.040",
          "0.995",
          "0.975",
          "0.970",
          "1.000",
          "1.040"
         ]
        },
        {
         "line": {
          "color": "rgba(55, 128, 191, 1.0)",
          "dash": "solid",
          "shape": "linear",
          "width": 1.3
         },
         "mode": "lines",
         "name": "Close_MA10",
         "text": "",
         "type": "scatter",
         "x": [
          "2019-12-27 08:00:00+08",
          "2019-12-30 08:00:00+08",
          "2019-12-31 08:00:00+08",
          "2020-01-02 08:00:00+08",
          "2020-01-03 08:00:00+08",
          "2020-01-06 08:00:00+08",
          "2020-01-07 08:00:00+08",
          "2020-01-08 08:00:00+08",
          "2020-01-09 08:00:00+08",
          "2020-01-10 08:00:00+08",
          "2020-01-13 08:00:00+08",
          "2020-01-14 08:00:00+08",
          "2020-01-15 08:00:00+08",
          "2020-01-16 08:00:00+08",
          "2020-01-17 08:00:00+08",
          "2020-01-20 08:00:00+08",
          "2020-01-21 08:00:00+08",
          "2020-01-22 08:00:00+08",
          "2020-01-23 08:00:00+08",
          "2020-01-24 08:00:00+08",
          "2020-01-28 08:00:00+08",
          "2020-01-29 08:00:00+08",
          "2020-01-30 08:00:00+08",
          "2020-01-31 08:00:00+08",
          "2020-02-03 08:00:00+08",
          "2020-02-04 08:00:00+08",
          "2020-02-05 08:00:00+08",
          "2020-02-06 08:00:00+08",
          "2020-02-07 08:00:00+08",
          "2020-02-10 08:00:00+08",
          "2020-02-11 08:00:00+08",
          "2020-02-12 08:00:00+08",
          "2020-02-13 08:00:00+08",
          "2020-02-14 08:00:00+08",
          "2020-02-17 08:00:00+08",
          "2020-02-18 08:00:00+08",
          "2020-02-19 08:00:00+08",
          "2020-02-20 08:00:00+08",
          "2020-02-21 08:00:00+08",
          "2020-02-24 08:00:00+08",
          "2020-02-25 08:00:00+08",
          "2020-02-26 08:00:00+08",
          "2020-02-27 08:00:00+08",
          "2020-02-28 08:00:00+08",
          "2020-03-02 08:00:00+08",
          "2020-03-03 08:00:00+08",
          "2020-03-04 08:00:00+08",
          "2020-03-05 08:00:00+08",
          "2020-03-06 08:00:00+08",
          "2020-03-09 08:00:00+08",
          "2020-03-10 08:00:00+08",
          "2020-03-11 08:00:00+08",
          "2020-03-12 08:00:00+08",
          "2020-03-13 08:00:00+08",
          "2020-03-16 08:00:00+08",
          "2020-03-17 08:00:00+08",
          "2020-03-18 08:00:00+08",
          "2020-03-19 08:00:00+08",
          "2020-03-20 08:00:00+08",
          "2020-03-23 08:00:00+08",
          "2020-03-24 08:00:00+08",
          "2020-03-25 08:00:00+08",
          "2020-03-26 08:00:00+08",
          "2020-03-27 08:00:00+08",
          "2020-03-30 08:00:00+08",
          "2020-03-31 08:00:00+08",
          "2020-04-01 08:00:00+08",
          "2020-04-02 08:00:00+08",
          "2020-04-03 08:00:00+08",
          "2020-04-06 08:00:00+08",
          "2020-04-07 08:00:00+08",
          "2020-04-08 08:00:00+08",
          "2020-04-09 08:00:00+08",
          "2020-04-10 08:00:00+08",
          "2020-04-13 08:00:00+08",
          "2020-04-14 08:00:00+08",
          "2020-04-15 08:00:00+08",
          "2020-04-16 08:00:00+08",
          "2020-04-17 08:00:00+08",
          "2020-04-20 08:00:00+08",
          "2020-04-21 08:00:00+08",
          "2020-04-22 08:00:00+08",
          "2020-04-23 08:00:00+08",
          "2020-04-24 08:00:00+08",
          "2020-04-27 08:00:00+08",
          "2020-04-28 08:00:00+08",
          "2020-04-29 08:00:00+08",
          "2020-04-30 08:00:00+08",
          "2020-05-04 08:00:00+08",
          "2020-05-05 08:00:00+08",
          "2020-05-06 08:00:00+08",
          "2020-05-08 08:00:00+08",
          "2020-05-12 08:00:00+08",
          "2020-05-13 08:00:00+08",
          "2020-05-14 08:00:00+08",
          "2020-05-15 08:00:00+08",
          "2020-05-18 08:00:00+08",
          "2020-05-19 08:00:00+08",
          "2020-05-20 08:00:00+08",
          "2020-05-21 08:00:00+08",
          "2020-05-22 08:00:00+08",
          "2020-05-27 08:00:00+08",
          "2020-05-28 08:00:00+08",
          "2020-05-29 08:00:00+08",
          "2020-06-01 08:00:00+08",
          "2020-06-02 08:00:00+08",
          "2020-06-03 08:00:00+08",
          "2020-06-04 08:00:00+08",
          "2020-06-05 08:00:00+08",
          "2020-06-09 08:00:00+08",
          "2020-06-10 08:00:00+08",
          "2020-06-11 08:00:00+08",
          "2020-06-12 08:00:00+08",
          "2020-06-15 08:00:00+08",
          "2020-06-16 08:00:00+08",
          "2020-06-17 08:00:00+08",
          "2020-06-18 08:00:00+08",
          "2020-06-19 08:00:00+08",
          "2020-06-22 08:00:00+08",
          "2020-06-23 08:00:00+08",
          "2020-06-24 08:00:00+08"
         ],
         "y": [
          "",
          "",
          "",
          "",
          "",
          "",
          "",
          "",
          "",
          1.369,
          1.375,
          1.3800000000000001,
          1.3880000000000001,
          1.3940000000000001,
          1.405,
          1.419,
          1.432,
          1.445,
          1.4570000000000003,
          1.4660000000000002,
          1.467,
          1.469,
          1.472,
          1.464,
          1.456,
          1.4489999999999998,
          1.4409999999999998,
          1.4339999999999997,
          1.4269999999999998,
          1.4179999999999997,
          1.4169999999999998,
          1.412,
          1.407,
          1.416,
          1.417,
          1.409,
          1.403,
          1.395,
          1.389,
          1.383,
          1.373,
          1.365,
          1.35,
          1.334,
          1.314,
          1.302,
          1.2880000000000003,
          1.2770000000000004,
          1.2640000000000005,
          1.2430000000000003,
          1.2200000000000002,
          1.2020000000000004,
          1.1890000000000005,
          1.1555000000000004,
          1.1135000000000006,
          1.0665000000000004,
          1.0070000000000003,
          0.9495000000000002,
          0.9000000000000001,
          0.8545000000000001,
          0.8180000000000002,
          0.7790000000000001,
          0.7395000000000003,
          0.7200000000000003,
          0.7135000000000002,
          0.7130000000000003,
          0.7245000000000003,
          0.7360000000000002,
          0.7385000000000004,
          0.7490000000000003,
          0.7605000000000003,
          0.7685000000000002,
          0.7840000000000004,
          0.8030000000000003,
          0.8230000000000004,
          0.8415000000000002,
          0.8590000000000003,
          0.8750000000000003,
          0.8930000000000003,
          0.9070000000000004,
          0.9130000000000005,
          0.9220000000000004,
          0.9250000000000004,
          0.9210000000000005,
          0.9175000000000004,
          0.9085000000000004,
          0.9065000000000003,
          0.9060000000000004,
          0.9030000000000005,
          0.9045000000000005,
          0.9070000000000006,
          0.9070000000000006,
          0.9100000000000005,
          0.9115000000000004,
          0.9125000000000003,
          0.9175000000000004,
          0.9175000000000004,
          0.9155000000000003,
          0.9200000000000003,
          0.9185000000000002,
          0.9150000000000003,
          0.9130000000000003,
          0.9080000000000004,
          0.9050000000000005,
          0.9030000000000005,
          0.9040000000000005,
          0.9035000000000005,
          0.9030000000000007,
          0.8975000000000006,
          0.8975000000000006,
          0.9145000000000006,
          0.9285000000000005,
          0.9405000000000004,
          0.9460000000000004,
          0.9600000000000003,
          0.9730000000000004,
          0.9825000000000003,
          0.9900000000000002,
          0.9980000000000002,
          1.0060000000000002,
          1.0030000000000001
         ]
        },
        {
         "line": {
          "color": "rgba(50, 171, 96, 1.0)",
          "dash": "solid",
          "shape": "linear",
          "width": 1.3
         },
         "mode": "lines",
         "name": "Close_MA20",
         "text": "",
         "type": "scatter",
         "x": [
          "2019-12-27 08:00:00+08",
          "2019-12-30 08:00:00+08",
          "2019-12-31 08:00:00+08",
          "2020-01-02 08:00:00+08",
          "2020-01-03 08:00:00+08",
          "2020-01-06 08:00:00+08",
          "2020-01-07 08:00:00+08",
          "2020-01-08 08:00:00+08",
          "2020-01-09 08:00:00+08",
          "2020-01-10 08:00:00+08",
          "2020-01-13 08:00:00+08",
          "2020-01-14 08:00:00+08",
          "2020-01-15 08:00:00+08",
          "2020-01-16 08:00:00+08",
          "2020-01-17 08:00:00+08",
          "2020-01-20 08:00:00+08",
          "2020-01-21 08:00:00+08",
          "2020-01-22 08:00:00+08",
          "2020-01-23 08:00:00+08",
          "2020-01-24 08:00:00+08",
          "2020-01-28 08:00:00+08",
          "2020-01-29 08:00:00+08",
          "2020-01-30 08:00:00+08",
          "2020-01-31 08:00:00+08",
          "2020-02-03 08:00:00+08",
          "2020-02-04 08:00:00+08",
          "2020-02-05 08:00:00+08",
          "2020-02-06 08:00:00+08",
          "2020-02-07 08:00:00+08",
          "2020-02-10 08:00:00+08",
          "2020-02-11 08:00:00+08",
          "2020-02-12 08:00:00+08",
          "2020-02-13 08:00:00+08",
          "2020-02-14 08:00:00+08",
          "2020-02-17 08:00:00+08",
          "2020-02-18 08:00:00+08",
          "2020-02-19 08:00:00+08",
          "2020-02-20 08:00:00+08",
          "2020-02-21 08:00:00+08",
          "2020-02-24 08:00:00+08",
          "2020-02-25 08:00:00+08",
          "2020-02-26 08:00:00+08",
          "2020-02-27 08:00:00+08",
          "2020-02-28 08:00:00+08",
          "2020-03-02 08:00:00+08",
          "2020-03-03 08:00:00+08",
          "2020-03-04 08:00:00+08",
          "2020-03-05 08:00:00+08",
          "2020-03-06 08:00:00+08",
          "2020-03-09 08:00:00+08",
          "2020-03-10 08:00:00+08",
          "2020-03-11 08:00:00+08",
          "2020-03-12 08:00:00+08",
          "2020-03-13 08:00:00+08",
          "2020-03-16 08:00:00+08",
          "2020-03-17 08:00:00+08",
          "2020-03-18 08:00:00+08",
          "2020-03-19 08:00:00+08",
          "2020-03-20 08:00:00+08",
          "2020-03-23 08:00:00+08",
          "2020-03-24 08:00:00+08",
          "2020-03-25 08:00:00+08",
          "2020-03-26 08:00:00+08",
          "2020-03-27 08:00:00+08",
          "2020-03-30 08:00:00+08",
          "2020-03-31 08:00:00+08",
          "2020-04-01 08:00:00+08",
          "2020-04-02 08:00:00+08",
          "2020-04-03 08:00:00+08",
          "2020-04-06 08:00:00+08",
          "2020-04-07 08:00:00+08",
          "2020-04-08 08:00:00+08",
          "2020-04-09 08:00:00+08",
          "2020-04-10 08:00:00+08",
          "2020-04-13 08:00:00+08",
          "2020-04-14 08:00:00+08",
          "2020-04-15 08:00:00+08",
          "2020-04-16 08:00:00+08",
          "2020-04-17 08:00:00+08",
          "2020-04-20 08:00:00+08",
          "2020-04-21 08:00:00+08",
          "2020-04-22 08:00:00+08",
          "2020-04-23 08:00:00+08",
          "2020-04-24 08:00:00+08",
          "2020-04-27 08:00:00+08",
          "2020-04-28 08:00:00+08",
          "2020-04-29 08:00:00+08",
          "2020-04-30 08:00:00+08",
          "2020-05-04 08:00:00+08",
          "2020-05-05 08:00:00+08",
          "2020-05-06 08:00:00+08",
          "2020-05-08 08:00:00+08",
          "2020-05-12 08:00:00+08",
          "2020-05-13 08:00:00+08",
          "2020-05-14 08:00:00+08",
          "2020-05-15 08:00:00+08",
          "2020-05-18 08:00:00+08",
          "2020-05-19 08:00:00+08",
          "2020-05-20 08:00:00+08",
          "2020-05-21 08:00:00+08",
          "2020-05-22 08:00:00+08",
          "2020-05-27 08:00:00+08",
          "2020-05-28 08:00:00+08",
          "2020-05-29 08:00:00+08",
          "2020-06-01 08:00:00+08",
          "2020-06-02 08:00:00+08",
          "2020-06-03 08:00:00+08",
          "2020-06-04 08:00:00+08",
          "2020-06-05 08:00:00+08",
          "2020-06-09 08:00:00+08",
          "2020-06-10 08:00:00+08",
          "2020-06-11 08:00:00+08",
          "2020-06-12 08:00:00+08",
          "2020-06-15 08:00:00+08",
          "2020-06-16 08:00:00+08",
          "2020-06-17 08:00:00+08",
          "2020-06-18 08:00:00+08",
          "2020-06-19 08:00:00+08",
          "2020-06-22 08:00:00+08",
          "2020-06-23 08:00:00+08",
          "2020-06-24 08:00:00+08"
         ],
         "y": [
          "",
          "",
          "",
          "",
          "",
          "",
          "",
          "",
          "",
          "",
          "",
          "",
          "",
          "",
          "",
          "",
          "",
          "",
          "",
          1.4175,
          1.4209999999999998,
          1.4244999999999999,
          1.43,
          1.4289999999999998,
          1.4304999999999999,
          1.4339999999999997,
          1.4364999999999999,
          1.4395,
          1.442,
          1.442,
          1.442,
          1.4405,
          1.4395,
          1.44,
          1.4365,
          1.429,
          1.4220000000000002,
          1.4145,
          1.4080000000000001,
          1.4005000000000003,
          1.395,
          1.3885,
          1.3785000000000003,
          1.3750000000000002,
          1.3655000000000004,
          1.3555000000000004,
          1.3455000000000004,
          1.3360000000000003,
          1.3265000000000002,
          1.3130000000000002,
          1.2965000000000004,
          1.2835000000000005,
          1.2695000000000005,
          1.2447500000000005,
          1.2137500000000006,
          1.1842500000000005,
          1.1475000000000004,
          1.1132500000000005,
          1.0820000000000005,
          1.0487500000000005,
          1.0190000000000006,
          0.9905000000000005,
          0.9642500000000005,
          0.9377500000000005,
          0.9135000000000005,
          0.8897500000000005,
          0.8657500000000005,
          0.8427500000000003,
          0.8192500000000005,
          0.8017500000000005,
          0.7892500000000007,
          0.7737500000000006,
          0.7617500000000005,
          0.7615000000000005,
          0.7682500000000007,
          0.7772500000000007,
          0.7917500000000006,
          0.8055000000000007,
          0.8157500000000006,
          0.8280000000000006,
          0.8367500000000007,
          0.8452500000000007,
          0.8545000000000007,
          0.8620000000000007,
          0.8702500000000006,
          0.8750000000000007,
          0.8827500000000008,
          0.8905000000000008,
          0.8980000000000008,
          0.9057500000000006,
          0.9100000000000005,
          0.9145000000000006,
          0.9175000000000008,
          0.9162500000000007,
          0.9150000000000006,
          0.9130000000000005,
          0.9120000000000005,
          0.9107500000000005,
          0.9115000000000005,
          0.9115000000000005,
          0.9110000000000005,
          0.9100000000000004,
          0.9090000000000004,
          0.9082500000000004,
          0.9077500000000004,
          0.9107500000000004,
          0.9105000000000002,
          0.9092500000000001,
          0.9087500000000002,
          0.9080000000000004,
          0.9147500000000004,
          0.9207500000000003,
          0.9242500000000003,
          0.9255000000000004,
          0.9315000000000004,
          0.9385000000000006,
          0.9430000000000005,
          0.9465000000000006,
          0.9477500000000004,
          0.9517500000000003,
          0.9587500000000004
         ]
        }
       ],
       "layout": {
        "legend": {
         "bgcolor": "#F5F6F9",
         "font": {
          "color": "#4D5663"
         }
        },
        "paper_bgcolor": "#F5F6F9",
        "plot_bgcolor": "#F5F6F9",
        "template": {
         "data": {
          "bar": [
           {
            "error_x": {
             "color": "#2a3f5f"
            },
            "error_y": {
             "color": "#2a3f5f"
            },
            "marker": {
             "line": {
              "color": "#E5ECF6",
              "width": 0.5
             }
            },
            "type": "bar"
           }
          ],
          "barpolar": [
           {
            "marker": {
             "line": {
              "color": "#E5ECF6",
              "width": 0.5
             }
            },
            "type": "barpolar"
           }
          ],
          "carpet": [
           {
            "aaxis": {
             "endlinecolor": "#2a3f5f",
             "gridcolor": "white",
             "linecolor": "white",
             "minorgridcolor": "white",
             "startlinecolor": "#2a3f5f"
            },
            "baxis": {
             "endlinecolor": "#2a3f5f",
             "gridcolor": "white",
             "linecolor": "white",
             "minorgridcolor": "white",
             "startlinecolor": "#2a3f5f"
            },
            "type": "carpet"
           }
          ],
          "choropleth": [
           {
            "colorbar": {
             "outlinewidth": 0,
             "ticks": ""
            },
            "type": "choropleth"
           }
          ],
          "contour": [
           {
            "colorbar": {
             "outlinewidth": 0,
             "ticks": ""
            },
            "colorscale": [
             [
              0,
              "#0d0887"
             ],
             [
              0.1111111111111111,
              "#46039f"
             ],
             [
              0.2222222222222222,
              "#7201a8"
             ],
             [
              0.3333333333333333,
              "#9c179e"
             ],
             [
              0.4444444444444444,
              "#bd3786"
             ],
             [
              0.5555555555555556,
              "#d8576b"
             ],
             [
              0.6666666666666666,
              "#ed7953"
             ],
             [
              0.7777777777777778,
              "#fb9f3a"
             ],
             [
              0.8888888888888888,
              "#fdca26"
             ],
             [
              1,
              "#f0f921"
             ]
            ],
            "type": "contour"
           }
          ],
          "contourcarpet": [
           {
            "colorbar": {
             "outlinewidth": 0,
             "ticks": ""
            },
            "type": "contourcarpet"
           }
          ],
          "heatmap": [
           {
            "colorbar": {
             "outlinewidth": 0,
             "ticks": ""
            },
            "colorscale": [
             [
              0,
              "#0d0887"
             ],
             [
              0.1111111111111111,
              "#46039f"
             ],
             [
              0.2222222222222222,
              "#7201a8"
             ],
             [
              0.3333333333333333,
              "#9c179e"
             ],
             [
              0.4444444444444444,
              "#bd3786"
             ],
             [
              0.5555555555555556,
              "#d8576b"
             ],
             [
              0.6666666666666666,
              "#ed7953"
             ],
             [
              0.7777777777777778,
              "#fb9f3a"
             ],
             [
              0.8888888888888888,
              "#fdca26"
             ],
             [
              1,
              "#f0f921"
             ]
            ],
            "type": "heatmap"
           }
          ],
          "heatmapgl": [
           {
            "colorbar": {
             "outlinewidth": 0,
             "ticks": ""
            },
            "colorscale": [
             [
              0,
              "#0d0887"
             ],
             [
              0.1111111111111111,
              "#46039f"
             ],
             [
              0.2222222222222222,
              "#7201a8"
             ],
             [
              0.3333333333333333,
              "#9c179e"
             ],
             [
              0.4444444444444444,
              "#bd3786"
             ],
             [
              0.5555555555555556,
              "#d8576b"
             ],
             [
              0.6666666666666666,
              "#ed7953"
             ],
             [
              0.7777777777777778,
              "#fb9f3a"
             ],
             [
              0.8888888888888888,
              "#fdca26"
             ],
             [
              1,
              "#f0f921"
             ]
            ],
            "type": "heatmapgl"
           }
          ],
          "histogram": [
           {
            "marker": {
             "colorbar": {
              "outlinewidth": 0,
              "ticks": ""
             }
            },
            "type": "histogram"
           }
          ],
          "histogram2d": [
           {
            "colorbar": {
             "outlinewidth": 0,
             "ticks": ""
            },
            "colorscale": [
             [
              0,
              "#0d0887"
             ],
             [
              0.1111111111111111,
              "#46039f"
             ],
             [
              0.2222222222222222,
              "#7201a8"
             ],
             [
              0.3333333333333333,
              "#9c179e"
             ],
             [
              0.4444444444444444,
              "#bd3786"
             ],
             [
              0.5555555555555556,
              "#d8576b"
             ],
             [
              0.6666666666666666,
              "#ed7953"
             ],
             [
              0.7777777777777778,
              "#fb9f3a"
             ],
             [
              0.8888888888888888,
              "#fdca26"
             ],
             [
              1,
              "#f0f921"
             ]
            ],
            "type": "histogram2d"
           }
          ],
          "histogram2dcontour": [
           {
            "colorbar": {
             "outlinewidth": 0,
             "ticks": ""
            },
            "colorscale": [
             [
              0,
              "#0d0887"
             ],
             [
              0.1111111111111111,
              "#46039f"
             ],
             [
              0.2222222222222222,
              "#7201a8"
             ],
             [
              0.3333333333333333,
              "#9c179e"
             ],
             [
              0.4444444444444444,
              "#bd3786"
             ],
             [
              0.5555555555555556,
              "#d8576b"
             ],
             [
              0.6666666666666666,
              "#ed7953"
             ],
             [
              0.7777777777777778,
              "#fb9f3a"
             ],
             [
              0.8888888888888888,
              "#fdca26"
             ],
             [
              1,
              "#f0f921"
             ]
            ],
            "type": "histogram2dcontour"
           }
          ],
          "mesh3d": [
           {
            "colorbar": {
             "outlinewidth": 0,
             "ticks": ""
            },
            "type": "mesh3d"
           }
          ],
          "parcoords": [
           {
            "line": {
             "colorbar": {
              "outlinewidth": 0,
              "ticks": ""
             }
            },
            "type": "parcoords"
           }
          ],
          "pie": [
           {
            "automargin": true,
            "type": "pie"
           }
          ],
          "scatter": [
           {
            "marker": {
             "colorbar": {
              "outlinewidth": 0,
              "ticks": ""
             }
            },
            "type": "scatter"
           }
          ],
          "scatter3d": [
           {
            "line": {
             "colorbar": {
              "outlinewidth": 0,
              "ticks": ""
             }
            },
            "marker": {
             "colorbar": {
              "outlinewidth": 0,
              "ticks": ""
             }
            },
            "type": "scatter3d"
           }
          ],
          "scattercarpet": [
           {
            "marker": {
             "colorbar": {
              "outlinewidth": 0,
              "ticks": ""
             }
            },
            "type": "scattercarpet"
           }
          ],
          "scattergeo": [
           {
            "marker": {
             "colorbar": {
              "outlinewidth": 0,
              "ticks": ""
             }
            },
            "type": "scattergeo"
           }
          ],
          "scattergl": [
           {
            "marker": {
             "colorbar": {
              "outlinewidth": 0,
              "ticks": ""
             }
            },
            "type": "scattergl"
           }
          ],
          "scattermapbox": [
           {
            "marker": {
             "colorbar": {
              "outlinewidth": 0,
              "ticks": ""
             }
            },
            "type": "scattermapbox"
           }
          ],
          "scatterpolar": [
           {
            "marker": {
             "colorbar": {
              "outlinewidth": 0,
              "ticks": ""
             }
            },
            "type": "scatterpolar"
           }
          ],
          "scatterpolargl": [
           {
            "marker": {
             "colorbar": {
              "outlinewidth": 0,
              "ticks": ""
             }
            },
            "type": "scatterpolargl"
           }
          ],
          "scatterternary": [
           {
            "marker": {
             "colorbar": {
              "outlinewidth": 0,
              "ticks": ""
             }
            },
            "type": "scatterternary"
           }
          ],
          "surface": [
           {
            "colorbar": {
             "outlinewidth": 0,
             "ticks": ""
            },
            "colorscale": [
             [
              0,
              "#0d0887"
             ],
             [
              0.1111111111111111,
              "#46039f"
             ],
             [
              0.2222222222222222,
              "#7201a8"
             ],
             [
              0.3333333333333333,
              "#9c179e"
             ],
             [
              0.4444444444444444,
              "#bd3786"
             ],
             [
              0.5555555555555556,
              "#d8576b"
             ],
             [
              0.6666666666666666,
              "#ed7953"
             ],
             [
              0.7777777777777778,
              "#fb9f3a"
             ],
             [
              0.8888888888888888,
              "#fdca26"
             ],
             [
              1,
              "#f0f921"
             ]
            ],
            "type": "surface"
           }
          ],
          "table": [
           {
            "cells": {
             "fill": {
              "color": "#EBF0F8"
             },
             "line": {
              "color": "white"
             }
            },
            "header": {
             "fill": {
              "color": "#C8D4E3"
             },
             "line": {
              "color": "white"
             }
            },
            "type": "table"
           }
          ]
         },
         "layout": {
          "annotationdefaults": {
           "arrowcolor": "#2a3f5f",
           "arrowhead": 0,
           "arrowwidth": 1
          },
          "coloraxis": {
           "colorbar": {
            "outlinewidth": 0,
            "ticks": ""
           }
          },
          "colorscale": {
           "diverging": [
            [
             0,
             "#8e0152"
            ],
            [
             0.1,
             "#c51b7d"
            ],
            [
             0.2,
             "#de77ae"
            ],
            [
             0.3,
             "#f1b6da"
            ],
            [
             0.4,
             "#fde0ef"
            ],
            [
             0.5,
             "#f7f7f7"
            ],
            [
             0.6,
             "#e6f5d0"
            ],
            [
             0.7,
             "#b8e186"
            ],
            [
             0.8,
             "#7fbc41"
            ],
            [
             0.9,
             "#4d9221"
            ],
            [
             1,
             "#276419"
            ]
           ],
           "sequential": [
            [
             0,
             "#0d0887"
            ],
            [
             0.1111111111111111,
             "#46039f"
            ],
            [
             0.2222222222222222,
             "#7201a8"
            ],
            [
             0.3333333333333333,
             "#9c179e"
            ],
            [
             0.4444444444444444,
             "#bd3786"
            ],
            [
             0.5555555555555556,
             "#d8576b"
            ],
            [
             0.6666666666666666,
             "#ed7953"
            ],
            [
             0.7777777777777778,
             "#fb9f3a"
            ],
            [
             0.8888888888888888,
             "#fdca26"
            ],
            [
             1,
             "#f0f921"
            ]
           ],
           "sequentialminus": [
            [
             0,
             "#0d0887"
            ],
            [
             0.1111111111111111,
             "#46039f"
            ],
            [
             0.2222222222222222,
             "#7201a8"
            ],
            [
             0.3333333333333333,
             "#9c179e"
            ],
            [
             0.4444444444444444,
             "#bd3786"
            ],
            [
             0.5555555555555556,
             "#d8576b"
            ],
            [
             0.6666666666666666,
             "#ed7953"
            ],
            [
             0.7777777777777778,
             "#fb9f3a"
            ],
            [
             0.8888888888888888,
             "#fdca26"
            ],
            [
             1,
             "#f0f921"
            ]
           ]
          },
          "colorway": [
           "#636efa",
           "#EF553B",
           "#00cc96",
           "#ab63fa",
           "#FFA15A",
           "#19d3f3",
           "#FF6692",
           "#B6E880",
           "#FF97FF",
           "#FECB52"
          ],
          "font": {
           "color": "#2a3f5f"
          },
          "geo": {
           "bgcolor": "white",
           "lakecolor": "white",
           "landcolor": "#E5ECF6",
           "showlakes": true,
           "showland": true,
           "subunitcolor": "white"
          },
          "hoverlabel": {
           "align": "left"
          },
          "hovermode": "closest",
          "mapbox": {
           "style": "light"
          },
          "paper_bgcolor": "white",
          "plot_bgcolor": "#E5ECF6",
          "polar": {
           "angularaxis": {
            "gridcolor": "white",
            "linecolor": "white",
            "ticks": ""
           },
           "bgcolor": "#E5ECF6",
           "radialaxis": {
            "gridcolor": "white",
            "linecolor": "white",
            "ticks": ""
           }
          },
          "scene": {
           "xaxis": {
            "backgroundcolor": "#E5ECF6",
            "gridcolor": "white",
            "gridwidth": 2,
            "linecolor": "white",
            "showbackground": true,
            "ticks": "",
            "zerolinecolor": "white"
           },
           "yaxis": {
            "backgroundcolor": "#E5ECF6",
            "gridcolor": "white",
            "gridwidth": 2,
            "linecolor": "white",
            "showbackground": true,
            "ticks": "",
            "zerolinecolor": "white"
           },
           "zaxis": {
            "backgroundcolor": "#E5ECF6",
            "gridcolor": "white",
            "gridwidth": 2,
            "linecolor": "white",
            "showbackground": true,
            "ticks": "",
            "zerolinecolor": "white"
           }
          },
          "shapedefaults": {
           "line": {
            "color": "#2a3f5f"
           }
          },
          "ternary": {
           "aaxis": {
            "gridcolor": "white",
            "linecolor": "white",
            "ticks": ""
           },
           "baxis": {
            "gridcolor": "white",
            "linecolor": "white",
            "ticks": ""
           },
           "bgcolor": "#E5ECF6",
           "caxis": {
            "gridcolor": "white",
            "linecolor": "white",
            "ticks": ""
           }
          },
          "title": {
           "x": 0.05
          },
          "xaxis": {
           "automargin": true,
           "gridcolor": "white",
           "linecolor": "white",
           "ticks": "",
           "title": {
            "standoff": 15
           },
           "zerolinecolor": "white",
           "zerolinewidth": 2
          },
          "yaxis": {
           "automargin": true,
           "gridcolor": "white",
           "linecolor": "white",
           "ticks": "",
           "title": {
            "standoff": 15
           },
           "zerolinecolor": "white",
           "zerolinewidth": 2
          }
         }
        },
        "title": {
         "font": {
          "color": "#4D5663"
         }
        },
        "xaxis": {
         "gridcolor": "#E1E5ED",
         "showgrid": true,
         "tickfont": {
          "color": "#4D5663"
         },
         "title": {
          "font": {
           "color": "#4D5663"
          },
          "text": ""
         },
         "zerolinecolor": "#E1E5ED"
        },
        "yaxis": {
         "gridcolor": "#E1E5ED",
         "showgrid": true,
         "tickfont": {
          "color": "#4D5663"
         },
         "title": {
          "font": {
           "color": "#4D5663"
          },
          "text": ""
         },
         "zerolinecolor": "#E1E5ED"
        }
       }
      },
      "text/html": [
       "<div>\n",
       "        \n",
       "        \n",
       "            <div id=\"c87f4c7d-e41e-47a1-9a63-ac5108d30f0e\" class=\"plotly-graph-div\" style=\"height:525px; width:100%;\"></div>\n",
       "            <script type=\"text/javascript\">\n",
       "                require([\"plotly\"], function(Plotly) {\n",
       "                    window.PLOTLYENV=window.PLOTLYENV || {};\n",
       "                    window.PLOTLYENV.BASE_URL='https://plotly.com';\n",
       "                    \n",
       "                if (document.getElementById(\"c87f4c7d-e41e-47a1-9a63-ac5108d30f0e\")) {\n",
       "                    Plotly.newPlot(\n",
       "                        'c87f4c7d-e41e-47a1-9a63-ac5108d30f0e',\n",
       "                        [{\"line\": {\"color\": \"rgba(255, 153, 51, 1.0)\", \"dash\": \"solid\", \"shape\": \"linear\", \"width\": 1.3}, \"mode\": \"lines\", \"name\": \"Close\", \"text\": \"\", \"type\": \"scatter\", \"x\": [\"2019-12-27 08:00:00+08\", \"2019-12-30 08:00:00+08\", \"2019-12-31 08:00:00+08\", \"2020-01-02 08:00:00+08\", \"2020-01-03 08:00:00+08\", \"2020-01-06 08:00:00+08\", \"2020-01-07 08:00:00+08\", \"2020-01-08 08:00:00+08\", \"2020-01-09 08:00:00+08\", \"2020-01-10 08:00:00+08\", \"2020-01-13 08:00:00+08\", \"2020-01-14 08:00:00+08\", \"2020-01-15 08:00:00+08\", \"2020-01-16 08:00:00+08\", \"2020-01-17 08:00:00+08\", \"2020-01-20 08:00:00+08\", \"2020-01-21 08:00:00+08\", \"2020-01-22 08:00:00+08\", \"2020-01-23 08:00:00+08\", \"2020-01-24 08:00:00+08\", \"2020-01-28 08:00:00+08\", \"2020-01-29 08:00:00+08\", \"2020-01-30 08:00:00+08\", \"2020-01-31 08:00:00+08\", \"2020-02-03 08:00:00+08\", \"2020-02-04 08:00:00+08\", \"2020-02-05 08:00:00+08\", \"2020-02-06 08:00:00+08\", \"2020-02-07 08:00:00+08\", \"2020-02-10 08:00:00+08\", \"2020-02-11 08:00:00+08\", \"2020-02-12 08:00:00+08\", \"2020-02-13 08:00:00+08\", \"2020-02-14 08:00:00+08\", \"2020-02-17 08:00:00+08\", \"2020-02-18 08:00:00+08\", \"2020-02-19 08:00:00+08\", \"2020-02-20 08:00:00+08\", \"2020-02-21 08:00:00+08\", \"2020-02-24 08:00:00+08\", \"2020-02-25 08:00:00+08\", \"2020-02-26 08:00:00+08\", \"2020-02-27 08:00:00+08\", \"2020-02-28 08:00:00+08\", \"2020-03-02 08:00:00+08\", \"2020-03-03 08:00:00+08\", \"2020-03-04 08:00:00+08\", \"2020-03-05 08:00:00+08\", \"2020-03-06 08:00:00+08\", \"2020-03-09 08:00:00+08\", \"2020-03-10 08:00:00+08\", \"2020-03-11 08:00:00+08\", \"2020-03-12 08:00:00+08\", \"2020-03-13 08:00:00+08\", \"2020-03-16 08:00:00+08\", \"2020-03-17 08:00:00+08\", \"2020-03-18 08:00:00+08\", \"2020-03-19 08:00:00+08\", \"2020-03-20 08:00:00+08\", \"2020-03-23 08:00:00+08\", \"2020-03-24 08:00:00+08\", \"2020-03-25 08:00:00+08\", \"2020-03-26 08:00:00+08\", \"2020-03-27 08:00:00+08\", \"2020-03-30 08:00:00+08\", \"2020-03-31 08:00:00+08\", \"2020-04-01 08:00:00+08\", \"2020-04-02 08:00:00+08\", \"2020-04-03 08:00:00+08\", \"2020-04-06 08:00:00+08\", \"2020-04-07 08:00:00+08\", \"2020-04-08 08:00:00+08\", \"2020-04-09 08:00:00+08\", \"2020-04-10 08:00:00+08\", \"2020-04-13 08:00:00+08\", \"2020-04-14 08:00:00+08\", \"2020-04-15 08:00:00+08\", \"2020-04-16 08:00:00+08\", \"2020-04-17 08:00:00+08\", \"2020-04-20 08:00:00+08\", \"2020-04-21 08:00:00+08\", \"2020-04-22 08:00:00+08\", \"2020-04-23 08:00:00+08\", \"2020-04-24 08:00:00+08\", \"2020-04-27 08:00:00+08\", \"2020-04-28 08:00:00+08\", \"2020-04-29 08:00:00+08\", \"2020-04-30 08:00:00+08\", \"2020-05-04 08:00:00+08\", \"2020-05-05 08:00:00+08\", \"2020-05-06 08:00:00+08\", \"2020-05-08 08:00:00+08\", \"2020-05-12 08:00:00+08\", \"2020-05-13 08:00:00+08\", \"2020-05-14 08:00:00+08\", \"2020-05-15 08:00:00+08\", \"2020-05-18 08:00:00+08\", \"2020-05-19 08:00:00+08\", \"2020-05-20 08:00:00+08\", \"2020-05-21 08:00:00+08\", \"2020-05-22 08:00:00+08\", \"2020-05-27 08:00:00+08\", \"2020-05-28 08:00:00+08\", \"2020-05-29 08:00:00+08\", \"2020-06-01 08:00:00+08\", \"2020-06-02 08:00:00+08\", \"2020-06-03 08:00:00+08\", \"2020-06-04 08:00:00+08\", \"2020-06-05 08:00:00+08\", \"2020-06-09 08:00:00+08\", \"2020-06-10 08:00:00+08\", \"2020-06-11 08:00:00+08\", \"2020-06-12 08:00:00+08\", \"2020-06-15 08:00:00+08\", \"2020-06-16 08:00:00+08\", \"2020-06-17 08:00:00+08\", \"2020-06-18 08:00:00+08\", \"2020-06-19 08:00:00+08\", \"2020-06-22 08:00:00+08\", \"2020-06-23 08:00:00+08\", \"2020-06-24 08:00:00+08\"], \"y\": [\"1.370\", \"1.380\", \"1.340\", \"1.370\", \"1.370\", \"1.360\", \"1.380\", \"1.360\", \"1.360\", \"1.400\", \"1.430\", \"1.430\", \"1.420\", \"1.430\", \"1.480\", \"1.500\", \"1.510\", \"1.490\", \"1.480\", \"1.490\", \"1.440\", \"1.450\", \"1.450\", \"1.350\", \"1.400\", \"1.430\", \"1.430\", \"1.420\", \"1.410\", \"1.400\", \"1.430\", \"1.400\", \"1.400\", \"1.440\", \"1.410\", \"1.350\", \"1.370\", \"1.340\", \"1.350\", \"1.340\", \"1.330\", \"1.320\", \"1.250\", \"1.280\", \"1.210\", \"1.230\", \"1.230\", \"1.230\", \"1.220\", \"1.130\", \"1.100\", \"1.140\", \"1.120\", \"0.945\", \"0.790\", \"0.760\", \"0.635\", \"0.655\", \"0.725\", \"0.675\", \"0.735\", \"0.750\", \"0.725\", \"0.750\", \"0.725\", \"0.755\", \"0.750\", \"0.770\", \"0.750\", \"0.780\", \"0.850\", \"0.830\", \"0.880\", \"0.940\", \"0.925\", \"0.940\", \"0.925\", \"0.930\", \"0.930\", \"0.920\", \"0.910\", \"0.920\", \"0.910\", \"0.900\", \"0.890\", \"0.850\", \"0.905\", \"0.925\", \"0.900\", \"0.935\", \"0.935\", \"0.920\", \"0.940\", \"0.915\", \"0.900\", \"0.900\", \"0.905\", \"0.905\", \"0.945\", \"0.920\", \"0.900\", \"0.900\", \"0.890\", \"0.885\", \"0.880\", \"0.910\", \"0.900\", \"0.900\", \"0.890\", \"0.920\", \"1.070\", \"1.040\", \"1.010\", \"0.940\", \"1.020\", \"1.040\", \"0.995\", \"0.975\", \"0.970\", \"1.000\", \"1.040\"]}, {\"line\": {\"color\": \"rgba(55, 128, 191, 1.0)\", \"dash\": \"solid\", \"shape\": \"linear\", \"width\": 1.3}, \"mode\": \"lines\", \"name\": \"Close_MA10\", \"text\": \"\", \"type\": \"scatter\", \"x\": [\"2019-12-27 08:00:00+08\", \"2019-12-30 08:00:00+08\", \"2019-12-31 08:00:00+08\", \"2020-01-02 08:00:00+08\", \"2020-01-03 08:00:00+08\", \"2020-01-06 08:00:00+08\", \"2020-01-07 08:00:00+08\", \"2020-01-08 08:00:00+08\", \"2020-01-09 08:00:00+08\", \"2020-01-10 08:00:00+08\", \"2020-01-13 08:00:00+08\", \"2020-01-14 08:00:00+08\", \"2020-01-15 08:00:00+08\", \"2020-01-16 08:00:00+08\", \"2020-01-17 08:00:00+08\", \"2020-01-20 08:00:00+08\", \"2020-01-21 08:00:00+08\", \"2020-01-22 08:00:00+08\", \"2020-01-23 08:00:00+08\", \"2020-01-24 08:00:00+08\", \"2020-01-28 08:00:00+08\", \"2020-01-29 08:00:00+08\", \"2020-01-30 08:00:00+08\", \"2020-01-31 08:00:00+08\", \"2020-02-03 08:00:00+08\", \"2020-02-04 08:00:00+08\", \"2020-02-05 08:00:00+08\", \"2020-02-06 08:00:00+08\", \"2020-02-07 08:00:00+08\", \"2020-02-10 08:00:00+08\", \"2020-02-11 08:00:00+08\", \"2020-02-12 08:00:00+08\", \"2020-02-13 08:00:00+08\", \"2020-02-14 08:00:00+08\", \"2020-02-17 08:00:00+08\", \"2020-02-18 08:00:00+08\", \"2020-02-19 08:00:00+08\", \"2020-02-20 08:00:00+08\", \"2020-02-21 08:00:00+08\", \"2020-02-24 08:00:00+08\", \"2020-02-25 08:00:00+08\", \"2020-02-26 08:00:00+08\", \"2020-02-27 08:00:00+08\", \"2020-02-28 08:00:00+08\", \"2020-03-02 08:00:00+08\", \"2020-03-03 08:00:00+08\", \"2020-03-04 08:00:00+08\", \"2020-03-05 08:00:00+08\", \"2020-03-06 08:00:00+08\", \"2020-03-09 08:00:00+08\", \"2020-03-10 08:00:00+08\", \"2020-03-11 08:00:00+08\", \"2020-03-12 08:00:00+08\", \"2020-03-13 08:00:00+08\", \"2020-03-16 08:00:00+08\", \"2020-03-17 08:00:00+08\", \"2020-03-18 08:00:00+08\", \"2020-03-19 08:00:00+08\", \"2020-03-20 08:00:00+08\", \"2020-03-23 08:00:00+08\", \"2020-03-24 08:00:00+08\", \"2020-03-25 08:00:00+08\", \"2020-03-26 08:00:00+08\", \"2020-03-27 08:00:00+08\", \"2020-03-30 08:00:00+08\", \"2020-03-31 08:00:00+08\", \"2020-04-01 08:00:00+08\", \"2020-04-02 08:00:00+08\", \"2020-04-03 08:00:00+08\", \"2020-04-06 08:00:00+08\", \"2020-04-07 08:00:00+08\", \"2020-04-08 08:00:00+08\", \"2020-04-09 08:00:00+08\", \"2020-04-10 08:00:00+08\", \"2020-04-13 08:00:00+08\", \"2020-04-14 08:00:00+08\", \"2020-04-15 08:00:00+08\", \"2020-04-16 08:00:00+08\", \"2020-04-17 08:00:00+08\", \"2020-04-20 08:00:00+08\", \"2020-04-21 08:00:00+08\", \"2020-04-22 08:00:00+08\", \"2020-04-23 08:00:00+08\", \"2020-04-24 08:00:00+08\", \"2020-04-27 08:00:00+08\", \"2020-04-28 08:00:00+08\", \"2020-04-29 08:00:00+08\", \"2020-04-30 08:00:00+08\", \"2020-05-04 08:00:00+08\", \"2020-05-05 08:00:00+08\", \"2020-05-06 08:00:00+08\", \"2020-05-08 08:00:00+08\", \"2020-05-12 08:00:00+08\", \"2020-05-13 08:00:00+08\", \"2020-05-14 08:00:00+08\", \"2020-05-15 08:00:00+08\", \"2020-05-18 08:00:00+08\", \"2020-05-19 08:00:00+08\", \"2020-05-20 08:00:00+08\", \"2020-05-21 08:00:00+08\", \"2020-05-22 08:00:00+08\", \"2020-05-27 08:00:00+08\", \"2020-05-28 08:00:00+08\", \"2020-05-29 08:00:00+08\", \"2020-06-01 08:00:00+08\", \"2020-06-02 08:00:00+08\", \"2020-06-03 08:00:00+08\", \"2020-06-04 08:00:00+08\", \"2020-06-05 08:00:00+08\", \"2020-06-09 08:00:00+08\", \"2020-06-10 08:00:00+08\", \"2020-06-11 08:00:00+08\", \"2020-06-12 08:00:00+08\", \"2020-06-15 08:00:00+08\", \"2020-06-16 08:00:00+08\", \"2020-06-17 08:00:00+08\", \"2020-06-18 08:00:00+08\", \"2020-06-19 08:00:00+08\", \"2020-06-22 08:00:00+08\", \"2020-06-23 08:00:00+08\", \"2020-06-24 08:00:00+08\"], \"y\": [\"\", \"\", \"\", \"\", \"\", \"\", \"\", \"\", \"\", 1.369, 1.375, 1.3800000000000001, 1.3880000000000001, 1.3940000000000001, 1.405, 1.419, 1.432, 1.445, 1.4570000000000003, 1.4660000000000002, 1.467, 1.469, 1.472, 1.464, 1.456, 1.4489999999999998, 1.4409999999999998, 1.4339999999999997, 1.4269999999999998, 1.4179999999999997, 1.4169999999999998, 1.412, 1.407, 1.416, 1.417, 1.409, 1.403, 1.395, 1.389, 1.383, 1.373, 1.365, 1.35, 1.334, 1.314, 1.302, 1.2880000000000003, 1.2770000000000004, 1.2640000000000005, 1.2430000000000003, 1.2200000000000002, 1.2020000000000004, 1.1890000000000005, 1.1555000000000004, 1.1135000000000006, 1.0665000000000004, 1.0070000000000003, 0.9495000000000002, 0.9000000000000001, 0.8545000000000001, 0.8180000000000002, 0.7790000000000001, 0.7395000000000003, 0.7200000000000003, 0.7135000000000002, 0.7130000000000003, 0.7245000000000003, 0.7360000000000002, 0.7385000000000004, 0.7490000000000003, 0.7605000000000003, 0.7685000000000002, 0.7840000000000004, 0.8030000000000003, 0.8230000000000004, 0.8415000000000002, 0.8590000000000003, 0.8750000000000003, 0.8930000000000003, 0.9070000000000004, 0.9130000000000005, 0.9220000000000004, 0.9250000000000004, 0.9210000000000005, 0.9175000000000004, 0.9085000000000004, 0.9065000000000003, 0.9060000000000004, 0.9030000000000005, 0.9045000000000005, 0.9070000000000006, 0.9070000000000006, 0.9100000000000005, 0.9115000000000004, 0.9125000000000003, 0.9175000000000004, 0.9175000000000004, 0.9155000000000003, 0.9200000000000003, 0.9185000000000002, 0.9150000000000003, 0.9130000000000003, 0.9080000000000004, 0.9050000000000005, 0.9030000000000005, 0.9040000000000005, 0.9035000000000005, 0.9030000000000007, 0.8975000000000006, 0.8975000000000006, 0.9145000000000006, 0.9285000000000005, 0.9405000000000004, 0.9460000000000004, 0.9600000000000003, 0.9730000000000004, 0.9825000000000003, 0.9900000000000002, 0.9980000000000002, 1.0060000000000002, 1.0030000000000001]}, {\"line\": {\"color\": \"rgba(50, 171, 96, 1.0)\", \"dash\": \"solid\", \"shape\": \"linear\", \"width\": 1.3}, \"mode\": \"lines\", \"name\": \"Close_MA20\", \"text\": \"\", \"type\": \"scatter\", \"x\": [\"2019-12-27 08:00:00+08\", \"2019-12-30 08:00:00+08\", \"2019-12-31 08:00:00+08\", \"2020-01-02 08:00:00+08\", \"2020-01-03 08:00:00+08\", \"2020-01-06 08:00:00+08\", \"2020-01-07 08:00:00+08\", \"2020-01-08 08:00:00+08\", \"2020-01-09 08:00:00+08\", \"2020-01-10 08:00:00+08\", \"2020-01-13 08:00:00+08\", \"2020-01-14 08:00:00+08\", \"2020-01-15 08:00:00+08\", \"2020-01-16 08:00:00+08\", \"2020-01-17 08:00:00+08\", \"2020-01-20 08:00:00+08\", \"2020-01-21 08:00:00+08\", \"2020-01-22 08:00:00+08\", \"2020-01-23 08:00:00+08\", \"2020-01-24 08:00:00+08\", \"2020-01-28 08:00:00+08\", \"2020-01-29 08:00:00+08\", \"2020-01-30 08:00:00+08\", \"2020-01-31 08:00:00+08\", \"2020-02-03 08:00:00+08\", \"2020-02-04 08:00:00+08\", \"2020-02-05 08:00:00+08\", \"2020-02-06 08:00:00+08\", \"2020-02-07 08:00:00+08\", \"2020-02-10 08:00:00+08\", \"2020-02-11 08:00:00+08\", \"2020-02-12 08:00:00+08\", \"2020-02-13 08:00:00+08\", \"2020-02-14 08:00:00+08\", \"2020-02-17 08:00:00+08\", \"2020-02-18 08:00:00+08\", \"2020-02-19 08:00:00+08\", \"2020-02-20 08:00:00+08\", \"2020-02-21 08:00:00+08\", \"2020-02-24 08:00:00+08\", \"2020-02-25 08:00:00+08\", \"2020-02-26 08:00:00+08\", \"2020-02-27 08:00:00+08\", \"2020-02-28 08:00:00+08\", \"2020-03-02 08:00:00+08\", \"2020-03-03 08:00:00+08\", \"2020-03-04 08:00:00+08\", \"2020-03-05 08:00:00+08\", \"2020-03-06 08:00:00+08\", \"2020-03-09 08:00:00+08\", \"2020-03-10 08:00:00+08\", \"2020-03-11 08:00:00+08\", \"2020-03-12 08:00:00+08\", \"2020-03-13 08:00:00+08\", \"2020-03-16 08:00:00+08\", \"2020-03-17 08:00:00+08\", \"2020-03-18 08:00:00+08\", \"2020-03-19 08:00:00+08\", \"2020-03-20 08:00:00+08\", \"2020-03-23 08:00:00+08\", \"2020-03-24 08:00:00+08\", \"2020-03-25 08:00:00+08\", \"2020-03-26 08:00:00+08\", \"2020-03-27 08:00:00+08\", \"2020-03-30 08:00:00+08\", \"2020-03-31 08:00:00+08\", \"2020-04-01 08:00:00+08\", \"2020-04-02 08:00:00+08\", \"2020-04-03 08:00:00+08\", \"2020-04-06 08:00:00+08\", \"2020-04-07 08:00:00+08\", \"2020-04-08 08:00:00+08\", \"2020-04-09 08:00:00+08\", \"2020-04-10 08:00:00+08\", \"2020-04-13 08:00:00+08\", \"2020-04-14 08:00:00+08\", \"2020-04-15 08:00:00+08\", \"2020-04-16 08:00:00+08\", \"2020-04-17 08:00:00+08\", \"2020-04-20 08:00:00+08\", \"2020-04-21 08:00:00+08\", \"2020-04-22 08:00:00+08\", \"2020-04-23 08:00:00+08\", \"2020-04-24 08:00:00+08\", \"2020-04-27 08:00:00+08\", \"2020-04-28 08:00:00+08\", \"2020-04-29 08:00:00+08\", \"2020-04-30 08:00:00+08\", \"2020-05-04 08:00:00+08\", \"2020-05-05 08:00:00+08\", \"2020-05-06 08:00:00+08\", \"2020-05-08 08:00:00+08\", \"2020-05-12 08:00:00+08\", \"2020-05-13 08:00:00+08\", \"2020-05-14 08:00:00+08\", \"2020-05-15 08:00:00+08\", \"2020-05-18 08:00:00+08\", \"2020-05-19 08:00:00+08\", \"2020-05-20 08:00:00+08\", \"2020-05-21 08:00:00+08\", \"2020-05-22 08:00:00+08\", \"2020-05-27 08:00:00+08\", \"2020-05-28 08:00:00+08\", \"2020-05-29 08:00:00+08\", \"2020-06-01 08:00:00+08\", \"2020-06-02 08:00:00+08\", \"2020-06-03 08:00:00+08\", \"2020-06-04 08:00:00+08\", \"2020-06-05 08:00:00+08\", \"2020-06-09 08:00:00+08\", \"2020-06-10 08:00:00+08\", \"2020-06-11 08:00:00+08\", \"2020-06-12 08:00:00+08\", \"2020-06-15 08:00:00+08\", \"2020-06-16 08:00:00+08\", \"2020-06-17 08:00:00+08\", \"2020-06-18 08:00:00+08\", \"2020-06-19 08:00:00+08\", \"2020-06-22 08:00:00+08\", \"2020-06-23 08:00:00+08\", \"2020-06-24 08:00:00+08\"], \"y\": [\"\", \"\", \"\", \"\", \"\", \"\", \"\", \"\", \"\", \"\", \"\", \"\", \"\", \"\", \"\", \"\", \"\", \"\", \"\", 1.4175, 1.4209999999999998, 1.4244999999999999, 1.43, 1.4289999999999998, 1.4304999999999999, 1.4339999999999997, 1.4364999999999999, 1.4395, 1.442, 1.442, 1.442, 1.4405, 1.4395, 1.44, 1.4365, 1.429, 1.4220000000000002, 1.4145, 1.4080000000000001, 1.4005000000000003, 1.395, 1.3885, 1.3785000000000003, 1.3750000000000002, 1.3655000000000004, 1.3555000000000004, 1.3455000000000004, 1.3360000000000003, 1.3265000000000002, 1.3130000000000002, 1.2965000000000004, 1.2835000000000005, 1.2695000000000005, 1.2447500000000005, 1.2137500000000006, 1.1842500000000005, 1.1475000000000004, 1.1132500000000005, 1.0820000000000005, 1.0487500000000005, 1.0190000000000006, 0.9905000000000005, 0.9642500000000005, 0.9377500000000005, 0.9135000000000005, 0.8897500000000005, 0.8657500000000005, 0.8427500000000003, 0.8192500000000005, 0.8017500000000005, 0.7892500000000007, 0.7737500000000006, 0.7617500000000005, 0.7615000000000005, 0.7682500000000007, 0.7772500000000007, 0.7917500000000006, 0.8055000000000007, 0.8157500000000006, 0.8280000000000006, 0.8367500000000007, 0.8452500000000007, 0.8545000000000007, 0.8620000000000007, 0.8702500000000006, 0.8750000000000007, 0.8827500000000008, 0.8905000000000008, 0.8980000000000008, 0.9057500000000006, 0.9100000000000005, 0.9145000000000006, 0.9175000000000008, 0.9162500000000007, 0.9150000000000006, 0.9130000000000005, 0.9120000000000005, 0.9107500000000005, 0.9115000000000005, 0.9115000000000005, 0.9110000000000005, 0.9100000000000004, 0.9090000000000004, 0.9082500000000004, 0.9077500000000004, 0.9107500000000004, 0.9105000000000002, 0.9092500000000001, 0.9087500000000002, 0.9080000000000004, 0.9147500000000004, 0.9207500000000003, 0.9242500000000003, 0.9255000000000004, 0.9315000000000004, 0.9385000000000006, 0.9430000000000005, 0.9465000000000006, 0.9477500000000004, 0.9517500000000003, 0.9587500000000004]}],\n",
       "                        {\"legend\": {\"bgcolor\": \"#F5F6F9\", \"font\": {\"color\": \"#4D5663\"}}, \"paper_bgcolor\": \"#F5F6F9\", \"plot_bgcolor\": \"#F5F6F9\", \"template\": {\"data\": {\"bar\": [{\"error_x\": {\"color\": \"#2a3f5f\"}, \"error_y\": {\"color\": \"#2a3f5f\"}, \"marker\": {\"line\": {\"color\": \"#E5ECF6\", \"width\": 0.5}}, \"type\": \"bar\"}], \"barpolar\": [{\"marker\": {\"line\": {\"color\": \"#E5ECF6\", \"width\": 0.5}}, \"type\": \"barpolar\"}], \"carpet\": [{\"aaxis\": {\"endlinecolor\": \"#2a3f5f\", \"gridcolor\": \"white\", \"linecolor\": \"white\", \"minorgridcolor\": \"white\", \"startlinecolor\": \"#2a3f5f\"}, \"baxis\": {\"endlinecolor\": \"#2a3f5f\", \"gridcolor\": \"white\", \"linecolor\": \"white\", \"minorgridcolor\": \"white\", \"startlinecolor\": \"#2a3f5f\"}, \"type\": \"carpet\"}], \"choropleth\": [{\"colorbar\": {\"outlinewidth\": 0, \"ticks\": \"\"}, \"type\": \"choropleth\"}], \"contour\": [{\"colorbar\": {\"outlinewidth\": 0, \"ticks\": \"\"}, \"colorscale\": [[0.0, \"#0d0887\"], [0.1111111111111111, \"#46039f\"], [0.2222222222222222, \"#7201a8\"], [0.3333333333333333, \"#9c179e\"], [0.4444444444444444, \"#bd3786\"], [0.5555555555555556, \"#d8576b\"], [0.6666666666666666, \"#ed7953\"], [0.7777777777777778, \"#fb9f3a\"], [0.8888888888888888, \"#fdca26\"], [1.0, \"#f0f921\"]], \"type\": \"contour\"}], \"contourcarpet\": [{\"colorbar\": {\"outlinewidth\": 0, \"ticks\": \"\"}, \"type\": \"contourcarpet\"}], \"heatmap\": [{\"colorbar\": {\"outlinewidth\": 0, \"ticks\": \"\"}, \"colorscale\": [[0.0, \"#0d0887\"], [0.1111111111111111, \"#46039f\"], [0.2222222222222222, \"#7201a8\"], [0.3333333333333333, \"#9c179e\"], [0.4444444444444444, \"#bd3786\"], [0.5555555555555556, \"#d8576b\"], [0.6666666666666666, \"#ed7953\"], [0.7777777777777778, \"#fb9f3a\"], [0.8888888888888888, \"#fdca26\"], [1.0, \"#f0f921\"]], \"type\": \"heatmap\"}], \"heatmapgl\": [{\"colorbar\": {\"outlinewidth\": 0, \"ticks\": \"\"}, \"colorscale\": [[0.0, \"#0d0887\"], [0.1111111111111111, \"#46039f\"], [0.2222222222222222, \"#7201a8\"], [0.3333333333333333, \"#9c179e\"], [0.4444444444444444, \"#bd3786\"], [0.5555555555555556, \"#d8576b\"], [0.6666666666666666, \"#ed7953\"], [0.7777777777777778, \"#fb9f3a\"], [0.8888888888888888, \"#fdca26\"], [1.0, \"#f0f921\"]], \"type\": \"heatmapgl\"}], \"histogram\": [{\"marker\": {\"colorbar\": {\"outlinewidth\": 0, \"ticks\": \"\"}}, \"type\": \"histogram\"}], \"histogram2d\": [{\"colorbar\": {\"outlinewidth\": 0, \"ticks\": \"\"}, \"colorscale\": [[0.0, \"#0d0887\"], [0.1111111111111111, \"#46039f\"], [0.2222222222222222, \"#7201a8\"], [0.3333333333333333, \"#9c179e\"], [0.4444444444444444, \"#bd3786\"], [0.5555555555555556, \"#d8576b\"], [0.6666666666666666, \"#ed7953\"], [0.7777777777777778, \"#fb9f3a\"], [0.8888888888888888, \"#fdca26\"], [1.0, \"#f0f921\"]], \"type\": \"histogram2d\"}], \"histogram2dcontour\": [{\"colorbar\": {\"outlinewidth\": 0, \"ticks\": \"\"}, \"colorscale\": [[0.0, \"#0d0887\"], [0.1111111111111111, \"#46039f\"], [0.2222222222222222, \"#7201a8\"], [0.3333333333333333, \"#9c179e\"], [0.4444444444444444, \"#bd3786\"], [0.5555555555555556, \"#d8576b\"], [0.6666666666666666, \"#ed7953\"], [0.7777777777777778, \"#fb9f3a\"], [0.8888888888888888, \"#fdca26\"], [1.0, \"#f0f921\"]], \"type\": \"histogram2dcontour\"}], \"mesh3d\": [{\"colorbar\": {\"outlinewidth\": 0, \"ticks\": \"\"}, \"type\": \"mesh3d\"}], \"parcoords\": [{\"line\": {\"colorbar\": {\"outlinewidth\": 0, \"ticks\": \"\"}}, \"type\": \"parcoords\"}], \"pie\": [{\"automargin\": true, \"type\": \"pie\"}], \"scatter\": [{\"marker\": {\"colorbar\": {\"outlinewidth\": 0, \"ticks\": \"\"}}, \"type\": \"scatter\"}], \"scatter3d\": [{\"line\": {\"colorbar\": {\"outlinewidth\": 0, \"ticks\": \"\"}}, \"marker\": {\"colorbar\": {\"outlinewidth\": 0, \"ticks\": \"\"}}, \"type\": \"scatter3d\"}], \"scattercarpet\": [{\"marker\": {\"colorbar\": {\"outlinewidth\": 0, \"ticks\": \"\"}}, \"type\": \"scattercarpet\"}], \"scattergeo\": [{\"marker\": {\"colorbar\": {\"outlinewidth\": 0, \"ticks\": \"\"}}, \"type\": \"scattergeo\"}], \"scattergl\": [{\"marker\": {\"colorbar\": {\"outlinewidth\": 0, \"ticks\": \"\"}}, \"type\": \"scattergl\"}], \"scattermapbox\": [{\"marker\": {\"colorbar\": {\"outlinewidth\": 0, \"ticks\": \"\"}}, \"type\": \"scattermapbox\"}], \"scatterpolar\": [{\"marker\": {\"colorbar\": {\"outlinewidth\": 0, \"ticks\": \"\"}}, \"type\": \"scatterpolar\"}], \"scatterpolargl\": [{\"marker\": {\"colorbar\": {\"outlinewidth\": 0, \"ticks\": \"\"}}, \"type\": \"scatterpolargl\"}], \"scatterternary\": [{\"marker\": {\"colorbar\": {\"outlinewidth\": 0, \"ticks\": \"\"}}, \"type\": \"scatterternary\"}], \"surface\": [{\"colorbar\": {\"outlinewidth\": 0, \"ticks\": \"\"}, \"colorscale\": [[0.0, \"#0d0887\"], [0.1111111111111111, \"#46039f\"], [0.2222222222222222, \"#7201a8\"], [0.3333333333333333, \"#9c179e\"], [0.4444444444444444, \"#bd3786\"], [0.5555555555555556, \"#d8576b\"], [0.6666666666666666, \"#ed7953\"], [0.7777777777777778, \"#fb9f3a\"], [0.8888888888888888, \"#fdca26\"], [1.0, \"#f0f921\"]], \"type\": \"surface\"}], \"table\": [{\"cells\": {\"fill\": {\"color\": \"#EBF0F8\"}, \"line\": {\"color\": \"white\"}}, \"header\": {\"fill\": {\"color\": \"#C8D4E3\"}, \"line\": {\"color\": \"white\"}}, \"type\": \"table\"}]}, \"layout\": {\"annotationdefaults\": {\"arrowcolor\": \"#2a3f5f\", \"arrowhead\": 0, \"arrowwidth\": 1}, \"coloraxis\": {\"colorbar\": {\"outlinewidth\": 0, \"ticks\": \"\"}}, \"colorscale\": {\"diverging\": [[0, \"#8e0152\"], [0.1, \"#c51b7d\"], [0.2, \"#de77ae\"], [0.3, \"#f1b6da\"], [0.4, \"#fde0ef\"], [0.5, \"#f7f7f7\"], [0.6, \"#e6f5d0\"], [0.7, \"#b8e186\"], [0.8, \"#7fbc41\"], [0.9, \"#4d9221\"], [1, \"#276419\"]], \"sequential\": [[0.0, \"#0d0887\"], [0.1111111111111111, \"#46039f\"], [0.2222222222222222, \"#7201a8\"], [0.3333333333333333, \"#9c179e\"], [0.4444444444444444, \"#bd3786\"], [0.5555555555555556, \"#d8576b\"], [0.6666666666666666, \"#ed7953\"], [0.7777777777777778, \"#fb9f3a\"], [0.8888888888888888, \"#fdca26\"], [1.0, \"#f0f921\"]], \"sequentialminus\": [[0.0, \"#0d0887\"], [0.1111111111111111, \"#46039f\"], [0.2222222222222222, \"#7201a8\"], [0.3333333333333333, \"#9c179e\"], [0.4444444444444444, \"#bd3786\"], [0.5555555555555556, \"#d8576b\"], [0.6666666666666666, \"#ed7953\"], [0.7777777777777778, \"#fb9f3a\"], [0.8888888888888888, \"#fdca26\"], [1.0, \"#f0f921\"]]}, \"colorway\": [\"#636efa\", \"#EF553B\", \"#00cc96\", \"#ab63fa\", \"#FFA15A\", \"#19d3f3\", \"#FF6692\", \"#B6E880\", \"#FF97FF\", \"#FECB52\"], \"font\": {\"color\": \"#2a3f5f\"}, \"geo\": {\"bgcolor\": \"white\", \"lakecolor\": \"white\", \"landcolor\": \"#E5ECF6\", \"showlakes\": true, \"showland\": true, \"subunitcolor\": \"white\"}, \"hoverlabel\": {\"align\": \"left\"}, \"hovermode\": \"closest\", \"mapbox\": {\"style\": \"light\"}, \"paper_bgcolor\": \"white\", \"plot_bgcolor\": \"#E5ECF6\", \"polar\": {\"angularaxis\": {\"gridcolor\": \"white\", \"linecolor\": \"white\", \"ticks\": \"\"}, \"bgcolor\": \"#E5ECF6\", \"radialaxis\": {\"gridcolor\": \"white\", \"linecolor\": \"white\", \"ticks\": \"\"}}, \"scene\": {\"xaxis\": {\"backgroundcolor\": \"#E5ECF6\", \"gridcolor\": \"white\", \"gridwidth\": 2, \"linecolor\": \"white\", \"showbackground\": true, \"ticks\": \"\", \"zerolinecolor\": \"white\"}, \"yaxis\": {\"backgroundcolor\": \"#E5ECF6\", \"gridcolor\": \"white\", \"gridwidth\": 2, \"linecolor\": \"white\", \"showbackground\": true, \"ticks\": \"\", \"zerolinecolor\": \"white\"}, \"zaxis\": {\"backgroundcolor\": \"#E5ECF6\", \"gridcolor\": \"white\", \"gridwidth\": 2, \"linecolor\": \"white\", \"showbackground\": true, \"ticks\": \"\", \"zerolinecolor\": \"white\"}}, \"shapedefaults\": {\"line\": {\"color\": \"#2a3f5f\"}}, \"ternary\": {\"aaxis\": {\"gridcolor\": \"white\", \"linecolor\": \"white\", \"ticks\": \"\"}, \"baxis\": {\"gridcolor\": \"white\", \"linecolor\": \"white\", \"ticks\": \"\"}, \"bgcolor\": \"#E5ECF6\", \"caxis\": {\"gridcolor\": \"white\", \"linecolor\": \"white\", \"ticks\": \"\"}}, \"title\": {\"x\": 0.05}, \"xaxis\": {\"automargin\": true, \"gridcolor\": \"white\", \"linecolor\": \"white\", \"ticks\": \"\", \"title\": {\"standoff\": 15}, \"zerolinecolor\": \"white\", \"zerolinewidth\": 2}, \"yaxis\": {\"automargin\": true, \"gridcolor\": \"white\", \"linecolor\": \"white\", \"ticks\": \"\", \"title\": {\"standoff\": 15}, \"zerolinecolor\": \"white\", \"zerolinewidth\": 2}}}, \"title\": {\"font\": {\"color\": \"#4D5663\"}}, \"xaxis\": {\"gridcolor\": \"#E1E5ED\", \"showgrid\": true, \"tickfont\": {\"color\": \"#4D5663\"}, \"title\": {\"font\": {\"color\": \"#4D5663\"}, \"text\": \"\"}, \"zerolinecolor\": \"#E1E5ED\"}, \"yaxis\": {\"gridcolor\": \"#E1E5ED\", \"showgrid\": true, \"tickfont\": {\"color\": \"#4D5663\"}, \"title\": {\"font\": {\"color\": \"#4D5663\"}, \"text\": \"\"}, \"zerolinecolor\": \"#E1E5ED\"}},\n",
       "                        {\"showLink\": true, \"linkText\": \"Export to plotly.com\", \"plotlyServerURL\": \"https://plotly.com\", \"responsive\": true}\n",
       "                    ).then(function(){\n",
       "                            \n",
       "var gd = document.getElementById('c87f4c7d-e41e-47a1-9a63-ac5108d30f0e');\n",
       "var x = new MutationObserver(function (mutations, observer) {{\n",
       "        var display = window.getComputedStyle(gd).display;\n",
       "        if (!display || display === 'none') {{\n",
       "            console.log([gd, 'removed!']);\n",
       "            Plotly.purge(gd);\n",
       "            observer.disconnect();\n",
       "        }}\n",
       "}});\n",
       "\n",
       "// Listen for the removal of the full notebook cells\n",
       "var notebookContainer = gd.closest('#notebook-container');\n",
       "if (notebookContainer) {{\n",
       "    x.observe(notebookContainer, {childList: true});\n",
       "}}\n",
       "\n",
       "// Listen for the clearing of the current output cell\n",
       "var outputEl = gd.closest('.output');\n",
       "if (outputEl) {{\n",
       "    x.observe(outputEl, {childList: true});\n",
       "}}\n",
       "\n",
       "                        })\n",
       "                };\n",
       "                });\n",
       "            </script>\n",
       "        </div>"
      ]
     },
     "metadata": {},
     "output_type": "display_data"
    }
   ],
   "source": [
    "df.set_index('Datetime')[['Close','Close_MA10','Close_MA20']].iplot()"
   ]
  }
 ],
 "metadata": {
  "kernelspec": {
   "display_name": "Python 3",
   "language": "python",
   "name": "python3"
  },
  "language_info": {
   "codemirror_mode": {
    "name": "ipython",
    "version": 3
   },
   "file_extension": ".py",
   "mimetype": "text/x-python",
   "name": "python",
   "nbconvert_exporter": "python",
   "pygments_lexer": "ipython3",
   "version": "3.6.10"
  }
 },
 "nbformat": 4,
 "nbformat_minor": 4
}
