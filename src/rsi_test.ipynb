{
 "cells": [
  {
   "cell_type": "code",
   "execution_count": 1,
   "metadata": {},
   "outputs": [],
   "source": [
    "from ta import add_all_ta_features\n",
    "from ta.utils import dropna\n",
    "from ta.momentum import RSIIndicator\n",
    "from datetime import *\n",
    "from klse_scrapper import *\n",
    "import talib as ta\n",
    "import numpy as np\n",
    "from sklearn.linear_model import LinearRegression\n",
    "import plotly.graph_objects as go"
   ]
  },
  {
   "cell_type": "code",
   "execution_count": 2,
   "metadata": {},
   "outputs": [
    {
     "data": {
      "text/html": [
       "        <script type=\"text/javascript\">\n",
       "        window.PlotlyConfig = {MathJaxConfig: 'local'};\n",
       "        if (window.MathJax) {MathJax.Hub.Config({SVG: {font: \"STIX-Web\"}});}\n",
       "        if (typeof require !== 'undefined') {\n",
       "        require.undef(\"plotly\");\n",
       "        requirejs.config({\n",
       "            paths: {\n",
       "                'plotly': ['https://cdn.plot.ly/plotly-latest.min']\n",
       "            }\n",
       "        });\n",
       "        require(['plotly'], function(Plotly) {\n",
       "            window._Plotly = Plotly;\n",
       "        });\n",
       "        }\n",
       "        </script>\n",
       "        "
      ]
     },
     "metadata": {},
     "output_type": "display_data"
    },
    {
     "data": {
      "text/html": [
       "        <script type=\"text/javascript\">\n",
       "        window.PlotlyConfig = {MathJaxConfig: 'local'};\n",
       "        if (window.MathJax) {MathJax.Hub.Config({SVG: {font: \"STIX-Web\"}});}\n",
       "        if (typeof require !== 'undefined') {\n",
       "        require.undef(\"plotly\");\n",
       "        requirejs.config({\n",
       "            paths: {\n",
       "                'plotly': ['https://cdn.plot.ly/plotly-latest.min']\n",
       "            }\n",
       "        });\n",
       "        require(['plotly'], function(Plotly) {\n",
       "            window._Plotly = Plotly;\n",
       "        });\n",
       "        }\n",
       "        </script>\n",
       "        "
      ]
     },
     "metadata": {},
     "output_type": "display_data"
    }
   ],
   "source": [
    "from ggplot import *\n",
    "# Standard plotly imports\n",
    "import chart_studio.plotly as py\n",
    "import plotly.graph_objs as go\n",
    "from plotly.subplots import make_subplots\n",
    "from plotly.offline import iplot, init_notebook_mode\n",
    "# Using plotly + cufflinks in offline mode\n",
    "import cufflinks as cf\n",
    "cf.go_offline(connected=True)\n",
    "init_notebook_mode(connected=True)\n",
    "import plotly.figure_factory as ff\n",
    "import plotly.express as px\n",
    "import plotly.offline as py"
   ]
  },
  {
   "cell_type": "code",
   "execution_count": 3,
   "metadata": {},
   "outputs": [
    {
     "name": "stdout",
     "output_type": "stream",
     "text": [
      "https://www.klsescreener.com/v2/trading_view/history?symbol=2127&resolution=D&from=1578909600&to=1594429200\n"
     ]
    }
   ],
   "source": [
    "from_=datetime.combine(date.today()-timedelta(days=180), time(18)).timestamp()\n",
    "to_=datetime.combine(date.today(), time(9)).timestamp()\n",
    "event={'symbol':'COMFORT','counter':'2127','from':int(from_),'to':int(to_),'resolution':'D'}\n",
    "df=klse_price_data(event)\n",
    "df['Datetime']=pd.to_datetime(df['Datetime'])\n",
    "df['Close']=df['Close'].astype(float)\n",
    "df['ts']=df['Datetime'].apply(lambda x: x.timestamp())\n",
    "df['RSI'] = ta.RSI(df['Close'])"
   ]
  },
  {
   "cell_type": "markdown",
   "metadata": {},
   "source": [
    "Using Linear Regression to find divergence"
   ]
  },
  {
   "cell_type": "code",
   "execution_count": 58,
   "metadata": {},
   "outputs": [],
   "source": [
    "def model_lin_reg(interval,df):\n",
    "    df_=pd.DataFrame()\n",
    "    coef_rsi = []\n",
    "    coef_price = []\n",
    "    start_datetime = []\n",
    "    start_RSI = []\n",
    "    start_price = []\n",
    "    future_pricechg = []\n",
    "    future_price = []\n",
    "    df_notna=df[df['RSI'].notna()]\n",
    "    #X=np.reshape(list(range(len(df_notna))),(-1,1))\n",
    "    X=df_notna['ts'].values.reshape(-1,1)\n",
    "    for i in range(interval-1,len(X)):\n",
    "        start_ind = i - (interval-1)\n",
    "        end_ind = i\n",
    "        X_in = X[start_ind:end_ind]\n",
    "        Y_rsi_in = df_notna['RSI'].values.reshape(-1,1)[start_ind:end_ind]\n",
    "        Y_price_in = df_notna['Close'].values.reshape(-1,1)[start_ind:end_ind]\n",
    "        reg_rsi = LinearRegression().fit(X_in,Y_rsi_in)\n",
    "        reg_price = LinearRegression().fit(X_in,Y_price_in)\n",
    "        coef_rsi.append(reg_rsi.coef_.flatten()[0])\n",
    "        coef_price.append(reg_price.coef_.flatten()[0])\n",
    "        start_datetime.append(df_notna['Datetime'].iloc[start_ind])\n",
    "        start_RSI.append(df_notna['RSI'].iloc[start_ind])\n",
    "        start_price.append(df_notna['Close'].iloc[start_ind])\n",
    "        #calculate future price change\n",
    "        future_ind = end_ind + (interval-1)\n",
    "        if(future_ind <= len(X)-1):\n",
    "            future_price_ = df_notna['Close'].iloc[future_ind]\n",
    "            end_price_ = df_notna['Close'].iloc[end_ind]\n",
    "            future_pricechg.append((future_price_ - end_price_)/end_price_*100)\n",
    "            future_price.append(future_price_)\n",
    "        else:\n",
    "            future_pricechg.append(0)\n",
    "            future_price.append(0)\n",
    "    df_['ts'] = df_notna['ts'][interval-1:]\n",
    "    df_['end_price_' + str(interval)] = df_notna['Close'][interval-1:]\n",
    "    df_['end_RSI_' + str(interval)] = df_notna['RSI'][interval-1:]\n",
    "    df_['end_datetime_' + str(interval)] = df_notna['Datetime'][interval-1:]\n",
    "    df_['coef_rsi_' + str(interval)] = coef_rsi\n",
    "    df_['coef_price_' + str(interval)] = coef_price\n",
    "    df_['start_datetime_' + str(interval)] = start_datetime\n",
    "    df_['start_RSI_' + str(interval)] = start_RSI\n",
    "    df_['start_price_' + str(interval)] = start_price\n",
    "    df_['future_price_change_' + str(interval)] = future_pricechg\n",
    "    df_['future_price_' + str(interval)] = future_price\n",
    "    return df_"
   ]
  },
  {
   "cell_type": "code",
   "execution_count": 48,
   "metadata": {},
   "outputs": [],
   "source": [
    "def model_lin_reg1(interval,df):\n",
    "    df_=pd.DataFrame()\n",
    "    coef_rsi = []\n",
    "    coef_price = []\n",
    "    start_datetime = []\n",
    "    end_datetime = []\n",
    "    start_RSI = []\n",
    "    end_RSI = []\n",
    "    start_price = []\n",
    "    end_price = []\n",
    "    future_pricechg = []\n",
    "    ts = []\n",
    "    df_notna=df[df['RSI'].notna()]\n",
    "    #X=np.reshape(list(range(len(df_notna))),(-1,1))\n",
    "    X=df_notna['ts'].values.reshape(-1,1)\n",
    "    for i in range(interval-1,len(X),interval-1):\n",
    "        start_ind = i - (interval-1)\n",
    "        end_ind = i\n",
    "        X_in = X[start_ind:end_ind]\n",
    "        Y_rsi_in = df_notna['RSI'].values.reshape(-1,1)[start_ind:end_ind]\n",
    "        Y_price_in = df_notna['Close'].values.reshape(-1,1)[start_ind:end_ind]\n",
    "        reg_rsi = LinearRegression().fit(X_in,Y_rsi_in)\n",
    "        reg_price = LinearRegression().fit(X_in,Y_price_in)\n",
    "        coef_rsi.append(reg_rsi.coef_.flatten()[0])\n",
    "        coef_price.append(reg_price.coef_.flatten()[0])\n",
    "        start_datetime.append(df_notna['Datetime'].iloc[start_ind])\n",
    "        end_datetime.append(df_notna['Datetime'].iloc[end_ind])\n",
    "        start_RSI.append(df_notna['RSI'].iloc[start_ind])\n",
    "        end_RSI.append(df_notna['RSI'].iloc[end_ind])\n",
    "        start_price.append(df_notna['Close'].iloc[start_ind])\n",
    "        end_price.append(df_notna['Close'].iloc[end_ind])\n",
    "        #calculate future price change\n",
    "        future_ind = end_ind + (interval-1)\n",
    "        if(future_ind <= len(X)-1):           \n",
    "            future_pricechg.append((df_notna['Close'].iloc[future_ind]-df_notna['Close'].iloc[end_ind])/df_notna['Close'].iloc[end_ind]*100)\n",
    "        else:\n",
    "            future_pricechg.append('0')\n",
    "    df_['coef_rsi_' + str(interval)] = coef_rsi\n",
    "    df_['coef_price_' + str(interval)] = coef_price\n",
    "    df_['start_datetime_' + str(interval)] = start_datetime\n",
    "    df_['end_datetime_' + str(interval)] = end_datetime\n",
    "    df_['start_RSI_' + str(interval)] = start_RSI\n",
    "    df_['end_RSI_' + str(interval)] = end_RSI\n",
    "    df_['start_price_' + str(interval)] = start_price\n",
    "    df_['end_price_' + str(interval)] = end_price\n",
    "    df_['future_price_change_' + str(interval)] = future_pricechg\n",
    "    return df_"
   ]
  },
  {
   "cell_type": "code",
   "execution_count": 65,
   "metadata": {},
   "outputs": [],
   "source": [
    "interval=3\n",
    "df_coef=model_lin_reg(interval,df)\n",
    "df_coef['divergence']=df_coef['coef_rsi_'+str(interval)] * df_coef['coef_price_'+str(interval)]\n",
    "df_coef['divergence']=df_coef['coef_price_'+str(interval)] / df_coef['coef_rsi_'+str(interval)] \n",
    "df_divergence=df_coef[df_coef['divergence']<0]"
   ]
  },
  {
   "cell_type": "code",
   "execution_count": 60,
   "metadata": {},
   "outputs": [
    {
     "data": {
      "text/html": [
       "<div>\n",
       "<style scoped>\n",
       "    .dataframe tbody tr th:only-of-type {\n",
       "        vertical-align: middle;\n",
       "    }\n",
       "\n",
       "    .dataframe tbody tr th {\n",
       "        vertical-align: top;\n",
       "    }\n",
       "\n",
       "    .dataframe thead th {\n",
       "        text-align: right;\n",
       "    }\n",
       "</style>\n",
       "<table border=\"1\" class=\"dataframe\">\n",
       "  <thead>\n",
       "    <tr style=\"text-align: right;\">\n",
       "      <th></th>\n",
       "      <th>ts</th>\n",
       "      <th>end_price_7</th>\n",
       "      <th>end_RSI_7</th>\n",
       "      <th>end_datetime_7</th>\n",
       "      <th>coef_rsi_7</th>\n",
       "      <th>coef_price_7</th>\n",
       "      <th>start_datetime_7</th>\n",
       "      <th>start_RSI_7</th>\n",
       "      <th>start_price_7</th>\n",
       "      <th>future_price_change_7</th>\n",
       "      <th>future_price_7</th>\n",
       "      <th>divergence</th>\n",
       "    </tr>\n",
       "  </thead>\n",
       "  <tbody>\n",
       "    <tr>\n",
       "      <th>51</th>\n",
       "      <td>1.585094e+09</td>\n",
       "      <td>0.705</td>\n",
       "      <td>42.543466</td>\n",
       "      <td>2020-03-25 08:00:00+08:00</td>\n",
       "      <td>0.000008</td>\n",
       "      <td>-4.122953e-08</td>\n",
       "      <td>2020-03-17 08:00:00+08:00</td>\n",
       "      <td>31.359568</td>\n",
       "      <td>0.69</td>\n",
       "      <td>23.404255</td>\n",
       "      <td>0.87</td>\n",
       "      <td>-0.005081</td>\n",
       "    </tr>\n",
       "    <tr>\n",
       "      <th>76</th>\n",
       "      <td>1.588118e+09</td>\n",
       "      <td>1.350</td>\n",
       "      <td>81.294613</td>\n",
       "      <td>2020-04-29 08:00:00+08:00</td>\n",
       "      <td>-0.000003</td>\n",
       "      <td>1.495192e-07</td>\n",
       "      <td>2020-04-21 08:00:00+08:00</td>\n",
       "      <td>83.548664</td>\n",
       "      <td>1.23</td>\n",
       "      <td>68.148148</td>\n",
       "      <td>2.27</td>\n",
       "      <td>-0.043031</td>\n",
       "    </tr>\n",
       "    <tr>\n",
       "      <th>77</th>\n",
       "      <td>1.588205e+09</td>\n",
       "      <td>1.410</td>\n",
       "      <td>83.317694</td>\n",
       "      <td>2020-04-30 08:00:00+08:00</td>\n",
       "      <td>-0.000004</td>\n",
       "      <td>1.492079e-07</td>\n",
       "      <td>2020-04-22 08:00:00+08:00</td>\n",
       "      <td>84.764263</td>\n",
       "      <td>1.27</td>\n",
       "      <td>56.737589</td>\n",
       "      <td>2.21</td>\n",
       "      <td>-0.040999</td>\n",
       "    </tr>\n",
       "    <tr>\n",
       "      <th>87</th>\n",
       "      <td>1.589846e+09</td>\n",
       "      <td>2.050</td>\n",
       "      <td>69.067275</td>\n",
       "      <td>2020-05-19 08:00:00+08:00</td>\n",
       "      <td>-0.000012</td>\n",
       "      <td>5.745203e-07</td>\n",
       "      <td>2020-05-08 08:00:00+08:00</td>\n",
       "      <td>89.323433</td>\n",
       "      <td>1.75</td>\n",
       "      <td>76.585366</td>\n",
       "      <td>3.62</td>\n",
       "      <td>-0.049568</td>\n",
       "    </tr>\n",
       "    <tr>\n",
       "      <th>90</th>\n",
       "      <td>1.590106e+09</td>\n",
       "      <td>2.860</td>\n",
       "      <td>81.693990</td>\n",
       "      <td>2020-05-22 08:00:00+08:00</td>\n",
       "      <td>-0.000022</td>\n",
       "      <td>3.601375e-07</td>\n",
       "      <td>2020-05-14 08:00:00+08:00</td>\n",
       "      <td>90.613778</td>\n",
       "      <td>2.38</td>\n",
       "      <td>3.846154</td>\n",
       "      <td>2.97</td>\n",
       "      <td>-0.016461</td>\n",
       "    </tr>\n",
       "    <tr>\n",
       "      <th>91</th>\n",
       "      <td>1.590538e+09</td>\n",
       "      <td>3.080</td>\n",
       "      <td>83.833514</td>\n",
       "      <td>2020-05-27 08:00:00+08:00</td>\n",
       "      <td>-0.000007</td>\n",
       "      <td>9.991241e-07</td>\n",
       "      <td>2020-05-15 08:00:00+08:00</td>\n",
       "      <td>85.497338</td>\n",
       "      <td>2.31</td>\n",
       "      <td>19.155844</td>\n",
       "      <td>3.67</td>\n",
       "      <td>-0.151886</td>\n",
       "    </tr>\n",
       "    <tr>\n",
       "      <th>97</th>\n",
       "      <td>1.591229e+09</td>\n",
       "      <td>3.670</td>\n",
       "      <td>66.175588</td>\n",
       "      <td>2020-06-04 08:00:00+08:00</td>\n",
       "      <td>-0.000031</td>\n",
       "      <td>3.444333e-07</td>\n",
       "      <td>2020-05-27 08:00:00+08:00</td>\n",
       "      <td>83.833514</td>\n",
       "      <td>3.08</td>\n",
       "      <td>-29.972752</td>\n",
       "      <td>2.57</td>\n",
       "      <td>-0.011209</td>\n",
       "    </tr>\n",
       "  </tbody>\n",
       "</table>\n",
       "</div>"
      ],
      "text/plain": [
       "              ts  end_price_7  end_RSI_7            end_datetime_7  \\\n",
       "51  1.585094e+09        0.705  42.543466 2020-03-25 08:00:00+08:00   \n",
       "76  1.588118e+09        1.350  81.294613 2020-04-29 08:00:00+08:00   \n",
       "77  1.588205e+09        1.410  83.317694 2020-04-30 08:00:00+08:00   \n",
       "87  1.589846e+09        2.050  69.067275 2020-05-19 08:00:00+08:00   \n",
       "90  1.590106e+09        2.860  81.693990 2020-05-22 08:00:00+08:00   \n",
       "91  1.590538e+09        3.080  83.833514 2020-05-27 08:00:00+08:00   \n",
       "97  1.591229e+09        3.670  66.175588 2020-06-04 08:00:00+08:00   \n",
       "\n",
       "    coef_rsi_7  coef_price_7          start_datetime_7  start_RSI_7  \\\n",
       "51    0.000008 -4.122953e-08 2020-03-17 08:00:00+08:00    31.359568   \n",
       "76   -0.000003  1.495192e-07 2020-04-21 08:00:00+08:00    83.548664   \n",
       "77   -0.000004  1.492079e-07 2020-04-22 08:00:00+08:00    84.764263   \n",
       "87   -0.000012  5.745203e-07 2020-05-08 08:00:00+08:00    89.323433   \n",
       "90   -0.000022  3.601375e-07 2020-05-14 08:00:00+08:00    90.613778   \n",
       "91   -0.000007  9.991241e-07 2020-05-15 08:00:00+08:00    85.497338   \n",
       "97   -0.000031  3.444333e-07 2020-05-27 08:00:00+08:00    83.833514   \n",
       "\n",
       "    start_price_7  future_price_change_7  future_price_7  divergence  \n",
       "51           0.69              23.404255            0.87   -0.005081  \n",
       "76           1.23              68.148148            2.27   -0.043031  \n",
       "77           1.27              56.737589            2.21   -0.040999  \n",
       "87           1.75              76.585366            3.62   -0.049568  \n",
       "90           2.38               3.846154            2.97   -0.016461  \n",
       "91           2.31              19.155844            3.67   -0.151886  \n",
       "97           3.08             -29.972752            2.57   -0.011209  "
      ]
     },
     "execution_count": 60,
     "metadata": {},
     "output_type": "execute_result"
    }
   ],
   "source": [
    "df_divergence"
   ]
  },
  {
   "cell_type": "code",
   "execution_count": 69,
   "metadata": {},
   "outputs": [
    {
     "name": "stdout",
     "output_type": "stream",
     "text": [
      "https://www.klsescreener.com/v2/trading_view/history?symbol=0166&resolution=D&from=1578909600&to=1594429200\n"
     ]
    },
    {
     "data": {
      "text/html": [
       "<div>\n",
       "<style scoped>\n",
       "    .dataframe tbody tr th:only-of-type {\n",
       "        vertical-align: middle;\n",
       "    }\n",
       "\n",
       "    .dataframe tbody tr th {\n",
       "        vertical-align: top;\n",
       "    }\n",
       "\n",
       "    .dataframe thead th {\n",
       "        text-align: right;\n",
       "    }\n",
       "</style>\n",
       "<table border=\"1\" class=\"dataframe\">\n",
       "  <thead>\n",
       "    <tr style=\"text-align: right;\">\n",
       "      <th></th>\n",
       "      <th>ts</th>\n",
       "      <th>end_price_7</th>\n",
       "      <th>end_RSI_7</th>\n",
       "      <th>end_datetime_7</th>\n",
       "      <th>coef_rsi_7</th>\n",
       "      <th>coef_price_7</th>\n",
       "      <th>start_datetime_7</th>\n",
       "      <th>start_RSI_7</th>\n",
       "      <th>start_price_7</th>\n",
       "      <th>future_price_change_7</th>\n",
       "      <th>future_price_7</th>\n",
       "      <th>divergence</th>\n",
       "    </tr>\n",
       "  </thead>\n",
       "  <tbody>\n",
       "    <tr>\n",
       "      <th>20</th>\n",
       "      <td>1.581379e+09</td>\n",
       "      <td>1.73</td>\n",
       "      <td>48.536325</td>\n",
       "      <td>2020-02-11 08:00:00+08:00</td>\n",
       "      <td>-1.569709e-06</td>\n",
       "      <td>7.507508e-09</td>\n",
       "      <td>2020-02-03 08:00:00+08:00</td>\n",
       "      <td>49.152542</td>\n",
       "      <td>1.72</td>\n",
       "      <td>-4.624277</td>\n",
       "      <td>1.65</td>\n",
       "      <td>-4.782739e-03</td>\n",
       "    </tr>\n",
       "    <tr>\n",
       "      <th>38</th>\n",
       "      <td>1.583453e+09</td>\n",
       "      <td>1.41</td>\n",
       "      <td>30.222273</td>\n",
       "      <td>2020-03-06 08:00:00+08:00</td>\n",
       "      <td>2.763595e-06</td>\n",
       "      <td>-7.649817e-08</td>\n",
       "      <td>2020-02-27 08:00:00+08:00</td>\n",
       "      <td>32.847017</td>\n",
       "      <td>1.52</td>\n",
       "      <td>-21.276596</td>\n",
       "      <td>1.11</td>\n",
       "      <td>-2.768067e-02</td>\n",
       "    </tr>\n",
       "    <tr>\n",
       "      <th>44</th>\n",
       "      <td>1.584317e+09</td>\n",
       "      <td>1.11</td>\n",
       "      <td>21.598456</td>\n",
       "      <td>2020-03-16 08:00:00+08:00</td>\n",
       "      <td>1.436696e-06</td>\n",
       "      <td>-1.720470e-07</td>\n",
       "      <td>2020-03-06 08:00:00+08:00</td>\n",
       "      <td>30.222273</td>\n",
       "      <td>1.41</td>\n",
       "      <td>0.900901</td>\n",
       "      <td>1.12</td>\n",
       "      <td>-1.197519e-01</td>\n",
       "    </tr>\n",
       "    <tr>\n",
       "      <th>50</th>\n",
       "      <td>1.585008e+09</td>\n",
       "      <td>1.12</td>\n",
       "      <td>34.839189</td>\n",
       "      <td>2020-03-24 08:00:00+08:00</td>\n",
       "      <td>1.381216e-05</td>\n",
       "      <td>-8.633634e-08</td>\n",
       "      <td>2020-03-16 08:00:00+08:00</td>\n",
       "      <td>21.598456</td>\n",
       "      <td>1.11</td>\n",
       "      <td>8.035714</td>\n",
       "      <td>1.21</td>\n",
       "      <td>-6.250750e-03</td>\n",
       "    </tr>\n",
       "    <tr>\n",
       "      <th>51</th>\n",
       "      <td>1.585094e+09</td>\n",
       "      <td>1.13</td>\n",
       "      <td>35.727638</td>\n",
       "      <td>2020-03-25 08:00:00+08:00</td>\n",
       "      <td>2.083566e-05</td>\n",
       "      <td>-9.438086e-09</td>\n",
       "      <td>2020-03-17 08:00:00+08:00</td>\n",
       "      <td>21.270055</td>\n",
       "      <td>1.10</td>\n",
       "      <td>12.389381</td>\n",
       "      <td>1.27</td>\n",
       "      <td>-4.529775e-04</td>\n",
       "    </tr>\n",
       "    <tr>\n",
       "      <th>71</th>\n",
       "      <td>1.587514e+09</td>\n",
       "      <td>1.39</td>\n",
       "      <td>54.248813</td>\n",
       "      <td>2020-04-22 08:00:00+08:00</td>\n",
       "      <td>-1.703417e-06</td>\n",
       "      <td>3.179145e-08</td>\n",
       "      <td>2020-04-14 08:00:00+08:00</td>\n",
       "      <td>55.661283</td>\n",
       "      <td>1.37</td>\n",
       "      <td>2.158273</td>\n",
       "      <td>1.42</td>\n",
       "      <td>-1.866333e-02</td>\n",
       "    </tr>\n",
       "    <tr>\n",
       "      <th>80</th>\n",
       "      <td>1.588723e+09</td>\n",
       "      <td>1.38</td>\n",
       "      <td>51.524400</td>\n",
       "      <td>2020-05-06 08:00:00+08:00</td>\n",
       "      <td>-1.457593e-07</td>\n",
       "      <td>1.189858e-08</td>\n",
       "      <td>2020-04-27 08:00:00+08:00</td>\n",
       "      <td>54.617797</td>\n",
       "      <td>1.40</td>\n",
       "      <td>-1.449275</td>\n",
       "      <td>1.36</td>\n",
       "      <td>-8.163172e-02</td>\n",
       "    </tr>\n",
       "    <tr>\n",
       "      <th>85</th>\n",
       "      <td>1.589501e+09</td>\n",
       "      <td>1.39</td>\n",
       "      <td>52.112570</td>\n",
       "      <td>2020-05-15 08:00:00+08:00</td>\n",
       "      <td>-6.101870e-07</td>\n",
       "      <td>1.504257e-22</td>\n",
       "      <td>2020-05-05 08:00:00+08:00</td>\n",
       "      <td>53.628933</td>\n",
       "      <td>1.40</td>\n",
       "      <td>0.719424</td>\n",
       "      <td>1.40</td>\n",
       "      <td>-2.465240e-16</td>\n",
       "    </tr>\n",
       "    <tr>\n",
       "      <th>93</th>\n",
       "      <td>1.590710e+09</td>\n",
       "      <td>1.49</td>\n",
       "      <td>62.026905</td>\n",
       "      <td>2020-05-29 08:00:00+08:00</td>\n",
       "      <td>-2.186713e-07</td>\n",
       "      <td>8.169935e-09</td>\n",
       "      <td>2020-05-19 08:00:00+08:00</td>\n",
       "      <td>50.938276</td>\n",
       "      <td>1.38</td>\n",
       "      <td>6.711409</td>\n",
       "      <td>1.59</td>\n",
       "      <td>-3.736172e-02</td>\n",
       "    </tr>\n",
       "    <tr>\n",
       "      <th>100</th>\n",
       "      <td>1.591747e+09</td>\n",
       "      <td>1.71</td>\n",
       "      <td>73.939642</td>\n",
       "      <td>2020-06-10 08:00:00+08:00</td>\n",
       "      <td>-9.215526e-07</td>\n",
       "      <td>7.233796e-08</td>\n",
       "      <td>2020-06-01 08:00:00+08:00</td>\n",
       "      <td>65.464745</td>\n",
       "      <td>1.53</td>\n",
       "      <td>-4.093567</td>\n",
       "      <td>1.64</td>\n",
       "      <td>-7.849575e-02</td>\n",
       "    </tr>\n",
       "    <tr>\n",
       "      <th>104</th>\n",
       "      <td>1.592266e+09</td>\n",
       "      <td>1.68</td>\n",
       "      <td>63.756611</td>\n",
       "      <td>2020-06-16 08:00:00+08:00</td>\n",
       "      <td>-2.279212e-06</td>\n",
       "      <td>9.342927e-08</td>\n",
       "      <td>2020-06-05 08:00:00+08:00</td>\n",
       "      <td>63.063748</td>\n",
       "      <td>1.55</td>\n",
       "      <td>-0.595238</td>\n",
       "      <td>1.67</td>\n",
       "      <td>-4.099191e-02</td>\n",
       "    </tr>\n",
       "    <tr>\n",
       "      <th>109</th>\n",
       "      <td>1.592870e+09</td>\n",
       "      <td>1.62</td>\n",
       "      <td>56.795148</td>\n",
       "      <td>2020-06-23 08:00:00+08:00</td>\n",
       "      <td>-2.624770e-06</td>\n",
       "      <td>1.313814e-08</td>\n",
       "      <td>2020-06-15 08:00:00+08:00</td>\n",
       "      <td>57.541471</td>\n",
       "      <td>1.59</td>\n",
       "      <td>6.790123</td>\n",
       "      <td>1.73</td>\n",
       "      <td>-5.005443e-03</td>\n",
       "    </tr>\n",
       "    <tr>\n",
       "      <th>112</th>\n",
       "      <td>1.593130e+09</td>\n",
       "      <td>1.68</td>\n",
       "      <td>61.241714</td>\n",
       "      <td>2020-06-26 08:00:00+08:00</td>\n",
       "      <td>-2.674227e-07</td>\n",
       "      <td>2.185662e-08</td>\n",
       "      <td>2020-06-18 08:00:00+08:00</td>\n",
       "      <td>59.283529</td>\n",
       "      <td>1.64</td>\n",
       "      <td>10.119048</td>\n",
       "      <td>1.85</td>\n",
       "      <td>-8.173062e-02</td>\n",
       "    </tr>\n",
       "    <tr>\n",
       "      <th>114</th>\n",
       "      <td>1.593475e+09</td>\n",
       "      <td>1.69</td>\n",
       "      <td>60.914540</td>\n",
       "      <td>2020-06-30 08:00:00+08:00</td>\n",
       "      <td>-1.124725e-06</td>\n",
       "      <td>3.816316e-08</td>\n",
       "      <td>2020-06-22 08:00:00+08:00</td>\n",
       "      <td>59.283529</td>\n",
       "      <td>1.64</td>\n",
       "      <td>9.467456</td>\n",
       "      <td>1.85</td>\n",
       "      <td>-3.393111e-02</td>\n",
       "    </tr>\n",
       "  </tbody>\n",
       "</table>\n",
       "</div>"
      ],
      "text/plain": [
       "               ts  end_price_7  end_RSI_7            end_datetime_7  \\\n",
       "20   1.581379e+09         1.73  48.536325 2020-02-11 08:00:00+08:00   \n",
       "38   1.583453e+09         1.41  30.222273 2020-03-06 08:00:00+08:00   \n",
       "44   1.584317e+09         1.11  21.598456 2020-03-16 08:00:00+08:00   \n",
       "50   1.585008e+09         1.12  34.839189 2020-03-24 08:00:00+08:00   \n",
       "51   1.585094e+09         1.13  35.727638 2020-03-25 08:00:00+08:00   \n",
       "71   1.587514e+09         1.39  54.248813 2020-04-22 08:00:00+08:00   \n",
       "80   1.588723e+09         1.38  51.524400 2020-05-06 08:00:00+08:00   \n",
       "85   1.589501e+09         1.39  52.112570 2020-05-15 08:00:00+08:00   \n",
       "93   1.590710e+09         1.49  62.026905 2020-05-29 08:00:00+08:00   \n",
       "100  1.591747e+09         1.71  73.939642 2020-06-10 08:00:00+08:00   \n",
       "104  1.592266e+09         1.68  63.756611 2020-06-16 08:00:00+08:00   \n",
       "109  1.592870e+09         1.62  56.795148 2020-06-23 08:00:00+08:00   \n",
       "112  1.593130e+09         1.68  61.241714 2020-06-26 08:00:00+08:00   \n",
       "114  1.593475e+09         1.69  60.914540 2020-06-30 08:00:00+08:00   \n",
       "\n",
       "       coef_rsi_7  coef_price_7          start_datetime_7  start_RSI_7  \\\n",
       "20  -1.569709e-06  7.507508e-09 2020-02-03 08:00:00+08:00    49.152542   \n",
       "38   2.763595e-06 -7.649817e-08 2020-02-27 08:00:00+08:00    32.847017   \n",
       "44   1.436696e-06 -1.720470e-07 2020-03-06 08:00:00+08:00    30.222273   \n",
       "50   1.381216e-05 -8.633634e-08 2020-03-16 08:00:00+08:00    21.598456   \n",
       "51   2.083566e-05 -9.438086e-09 2020-03-17 08:00:00+08:00    21.270055   \n",
       "71  -1.703417e-06  3.179145e-08 2020-04-14 08:00:00+08:00    55.661283   \n",
       "80  -1.457593e-07  1.189858e-08 2020-04-27 08:00:00+08:00    54.617797   \n",
       "85  -6.101870e-07  1.504257e-22 2020-05-05 08:00:00+08:00    53.628933   \n",
       "93  -2.186713e-07  8.169935e-09 2020-05-19 08:00:00+08:00    50.938276   \n",
       "100 -9.215526e-07  7.233796e-08 2020-06-01 08:00:00+08:00    65.464745   \n",
       "104 -2.279212e-06  9.342927e-08 2020-06-05 08:00:00+08:00    63.063748   \n",
       "109 -2.624770e-06  1.313814e-08 2020-06-15 08:00:00+08:00    57.541471   \n",
       "112 -2.674227e-07  2.185662e-08 2020-06-18 08:00:00+08:00    59.283529   \n",
       "114 -1.124725e-06  3.816316e-08 2020-06-22 08:00:00+08:00    59.283529   \n",
       "\n",
       "     start_price_7  future_price_change_7  future_price_7    divergence  \n",
       "20            1.72              -4.624277            1.65 -4.782739e-03  \n",
       "38            1.52             -21.276596            1.11 -2.768067e-02  \n",
       "44            1.41               0.900901            1.12 -1.197519e-01  \n",
       "50            1.11               8.035714            1.21 -6.250750e-03  \n",
       "51            1.10              12.389381            1.27 -4.529775e-04  \n",
       "71            1.37               2.158273            1.42 -1.866333e-02  \n",
       "80            1.40              -1.449275            1.36 -8.163172e-02  \n",
       "85            1.40               0.719424            1.40 -2.465240e-16  \n",
       "93            1.38               6.711409            1.59 -3.736172e-02  \n",
       "100           1.53              -4.093567            1.64 -7.849575e-02  \n",
       "104           1.55              -0.595238            1.67 -4.099191e-02  \n",
       "109           1.59               6.790123            1.73 -5.005443e-03  \n",
       "112           1.64              10.119048            1.85 -8.173062e-02  \n",
       "114           1.64               9.467456            1.85 -3.393111e-02  "
      ]
     },
     "execution_count": 69,
     "metadata": {},
     "output_type": "execute_result"
    }
   ],
   "source": [
    "from_=datetime.combine(date.today()-timedelta(days=180), time(18)).timestamp()\n",
    "to_=datetime.combine(date.today(), time(9)).timestamp()\n",
    "event={'symbol':'INARI','counter':'0166','from':int(from_),'to':int(to_),'resolution':'D'}\n",
    "df=klse_price_data(event)\n",
    "df['Datetime']=pd.to_datetime(df['Datetime'])\n",
    "df['Close']=df['Close'].astype(float)\n",
    "df['ts']=df['Datetime'].apply(lambda x: x.timestamp())\n",
    "df['RSI'] = ta.RSI(df['Close'])\n",
    "interval=7\n",
    "df_coef=model_lin_reg(interval,df)\n",
    "df_coef['divergence']=df_coef['coef_rsi_'+str(interval)] * df_coef['coef_price_'+str(interval)]\n",
    "df_coef['divergence']=df_coef['coef_price_'+str(interval)] / df_coef['coef_rsi_'+str(interval)] \n",
    "df_divergence=df_coef[df_coef['divergence']<0]\n",
    "df_divergence"
   ]
  },
  {
   "cell_type": "code",
   "execution_count": 70,
   "metadata": {},
   "outputs": [
    {
     "data": {
      "application/vnd.plotly.v1+json": {
       "config": {
        "plotlyServerURL": "https://plotly.com"
       },
       "data": [
        {
         "name": "RSI",
         "type": "scatter",
         "x": [
          "2020-01-13T08:00:00+08:00",
          "2020-01-14T08:00:00+08:00",
          "2020-01-15T08:00:00+08:00",
          "2020-01-16T08:00:00+08:00",
          "2020-01-17T08:00:00+08:00",
          "2020-01-20T08:00:00+08:00",
          "2020-01-21T08:00:00+08:00",
          "2020-01-22T08:00:00+08:00",
          "2020-01-23T08:00:00+08:00",
          "2020-01-24T08:00:00+08:00",
          "2020-01-28T08:00:00+08:00",
          "2020-01-29T08:00:00+08:00",
          "2020-01-30T08:00:00+08:00",
          "2020-01-31T08:00:00+08:00",
          "2020-02-03T08:00:00+08:00",
          "2020-02-04T08:00:00+08:00",
          "2020-02-05T08:00:00+08:00",
          "2020-02-06T08:00:00+08:00",
          "2020-02-07T08:00:00+08:00",
          "2020-02-10T08:00:00+08:00",
          "2020-02-11T08:00:00+08:00",
          "2020-02-12T08:00:00+08:00",
          "2020-02-13T08:00:00+08:00",
          "2020-02-14T08:00:00+08:00",
          "2020-02-17T08:00:00+08:00",
          "2020-02-18T08:00:00+08:00",
          "2020-02-19T08:00:00+08:00",
          "2020-02-20T08:00:00+08:00",
          "2020-02-21T08:00:00+08:00",
          "2020-02-24T08:00:00+08:00",
          "2020-02-25T08:00:00+08:00",
          "2020-02-26T08:00:00+08:00",
          "2020-02-27T08:00:00+08:00",
          "2020-02-28T08:00:00+08:00",
          "2020-03-02T08:00:00+08:00",
          "2020-03-03T08:00:00+08:00",
          "2020-03-04T08:00:00+08:00",
          "2020-03-05T08:00:00+08:00",
          "2020-03-06T08:00:00+08:00",
          "2020-03-09T08:00:00+08:00",
          "2020-03-10T08:00:00+08:00",
          "2020-03-11T08:00:00+08:00",
          "2020-03-12T08:00:00+08:00",
          "2020-03-13T08:00:00+08:00",
          "2020-03-16T08:00:00+08:00",
          "2020-03-17T08:00:00+08:00",
          "2020-03-18T08:00:00+08:00",
          "2020-03-19T08:00:00+08:00",
          "2020-03-20T08:00:00+08:00",
          "2020-03-23T08:00:00+08:00",
          "2020-03-24T08:00:00+08:00",
          "2020-03-25T08:00:00+08:00",
          "2020-03-26T08:00:00+08:00",
          "2020-03-27T08:00:00+08:00",
          "2020-03-30T08:00:00+08:00",
          "2020-03-31T08:00:00+08:00",
          "2020-04-01T08:00:00+08:00",
          "2020-04-02T08:00:00+08:00",
          "2020-04-03T08:00:00+08:00",
          "2020-04-06T08:00:00+08:00",
          "2020-04-07T08:00:00+08:00",
          "2020-04-08T08:00:00+08:00",
          "2020-04-09T08:00:00+08:00",
          "2020-04-10T08:00:00+08:00",
          "2020-04-13T08:00:00+08:00",
          "2020-04-14T08:00:00+08:00",
          "2020-04-15T08:00:00+08:00",
          "2020-04-16T08:00:00+08:00",
          "2020-04-17T08:00:00+08:00",
          "2020-04-20T08:00:00+08:00",
          "2020-04-21T08:00:00+08:00",
          "2020-04-22T08:00:00+08:00",
          "2020-04-23T08:00:00+08:00",
          "2020-04-24T08:00:00+08:00",
          "2020-04-27T08:00:00+08:00",
          "2020-04-28T08:00:00+08:00",
          "2020-04-29T08:00:00+08:00",
          "2020-04-30T08:00:00+08:00",
          "2020-05-04T08:00:00+08:00",
          "2020-05-05T08:00:00+08:00",
          "2020-05-06T08:00:00+08:00",
          "2020-05-08T08:00:00+08:00",
          "2020-05-12T08:00:00+08:00",
          "2020-05-13T08:00:00+08:00",
          "2020-05-14T08:00:00+08:00",
          "2020-05-15T08:00:00+08:00",
          "2020-05-18T08:00:00+08:00",
          "2020-05-19T08:00:00+08:00",
          "2020-05-20T08:00:00+08:00",
          "2020-05-21T08:00:00+08:00",
          "2020-05-22T08:00:00+08:00",
          "2020-05-27T08:00:00+08:00",
          "2020-05-28T08:00:00+08:00",
          "2020-05-29T08:00:00+08:00",
          "2020-06-01T08:00:00+08:00",
          "2020-06-02T08:00:00+08:00",
          "2020-06-03T08:00:00+08:00",
          "2020-06-04T08:00:00+08:00",
          "2020-06-05T08:00:00+08:00",
          "2020-06-09T08:00:00+08:00",
          "2020-06-10T08:00:00+08:00",
          "2020-06-11T08:00:00+08:00",
          "2020-06-12T08:00:00+08:00",
          "2020-06-15T08:00:00+08:00",
          "2020-06-16T08:00:00+08:00",
          "2020-06-17T08:00:00+08:00",
          "2020-06-18T08:00:00+08:00",
          "2020-06-19T08:00:00+08:00",
          "2020-06-22T08:00:00+08:00",
          "2020-06-23T08:00:00+08:00",
          "2020-06-24T08:00:00+08:00",
          "2020-06-25T08:00:00+08:00",
          "2020-06-26T08:00:00+08:00",
          "2020-06-29T08:00:00+08:00",
          "2020-06-30T08:00:00+08:00",
          "2020-07-01T08:00:00+08:00",
          "2020-07-02T08:00:00+08:00",
          "2020-07-03T08:00:00+08:00",
          "2020-07-06T08:00:00+08:00",
          "2020-07-07T08:00:00+08:00",
          "2020-07-08T08:00:00+08:00",
          "2020-07-09T08:00:00+08:00",
          "2020-07-10T08:00:00+08:00"
         ],
         "xaxis": "x",
         "y": [
          null,
          null,
          null,
          null,
          null,
          null,
          null,
          null,
          null,
          null,
          null,
          null,
          null,
          null,
          49.15254237288135,
          53.40501792114696,
          55.79387915249805,
          55.79387915249805,
          54.70954536325359,
          49.5266755656792,
          48.53632542905875,
          50.661291708934705,
          52.76182257240502,
          49.366730184967636,
          49.366730184967636,
          44.89909691074126,
          40.02324859019326,
          43.955840448278025,
          41.05672865470685,
          36.710862063489074,
          42.000109585222695,
          36.28511359346505,
          32.84701688893255,
          26.825059714601313,
          26.825059714601313,
          33.273934333523385,
          31.481227991148707,
          31.481227991148707,
          30.222272922651012,
          24.0164053399408,
          29.23280426149173,
          32.95065092270806,
          29.601131650754155,
          28.55899462518319,
          21.598456255912325,
          21.2700553852462,
          21.270055385246202,
          19.234923031313254,
          32.06784485944604,
          27.38233275073619,
          34.83918878223734,
          35.72763762102796,
          35.72763762102795,
          40.436997651713035,
          38.03591989267529,
          46.57644880823544,
          44.59082834932585,
          49.25070635293899,
          46.44632134837715,
          50.957344850904626,
          56.24906143073704,
          55.44373897790439,
          55.4437389779044,
          54.53816401282643,
          50.953175044416184,
          55.66128262686245,
          59.17796815342956,
          57.22288674423245,
          61.3484019216652,
          60.30452321983887,
          53.448601471582556,
          54.248813306984665,
          54.248813306984665,
          56.83070385025132,
          54.61779732492374,
          49.43526960555009,
          51.42091396550944,
          56.06585922186764,
          50.83166013539825,
          53.62893266957166,
          51.52440031751225,
          51.52440031751225,
          54.62224797033819,
          53.397294624191716,
          49.78987275822411,
          52.11257015099664,
          48.48912571073291,
          50.9382755011266,
          55.49582943432223,
          57.6158830036745,
          52.25441417191063,
          52.25441417191063,
          54.69891152707882,
          62.026904929018315,
          65.46474546707297,
          65.46474546707297,
          70.82544418604853,
          66.0905934949378,
          63.0637484585333,
          66.38010744476207,
          73.9396416675935,
          72.47711745079847,
          73.05116828217561,
          57.541470955968066,
          63.75661081581653,
          63.756610815816515,
          59.28352883783703,
          59.28352883783702,
          59.28352883783702,
          56.795147579825155,
          61.18188835484795,
          58.61807914606919,
          61.24171365910076,
          57.32753503133019,
          60.91453981835691,
          64.15904506948591,
          67.76153147652398,
          67.76153147652398,
          72.28467310233523,
          72.28467310233523,
          72.28467310233523,
          75.36782271503381,
          64.54266554043208
         ],
         "yaxis": "y"
        },
        {
         "line": {
          "color": "red",
          "dash": "dash",
          "width": 2
         },
         "type": "scatter",
         "x": [
          "2020-02-03T08:00:00+08:00",
          "2020-02-11T08:00:00+08:00"
         ],
         "xaxis": "x",
         "y": [
          49.15254237288135,
          48.53632542905875
         ],
         "yaxis": "y"
        },
        {
         "line": {
          "color": "red",
          "dash": "dash",
          "width": 2
         },
         "type": "scatter",
         "x": [
          "2020-02-27T08:00:00+08:00",
          "2020-03-06T08:00:00+08:00"
         ],
         "xaxis": "x",
         "y": [
          32.84701688893255,
          30.222272922651012
         ],
         "yaxis": "y"
        },
        {
         "line": {
          "color": "red",
          "dash": "dash",
          "width": 2
         },
         "type": "scatter",
         "x": [
          "2020-03-06T08:00:00+08:00",
          "2020-03-16T08:00:00+08:00"
         ],
         "xaxis": "x",
         "y": [
          30.222272922651012,
          21.598456255912325
         ],
         "yaxis": "y"
        },
        {
         "line": {
          "color": "red",
          "dash": "dash",
          "width": 2
         },
         "type": "scatter",
         "x": [
          "2020-03-16T08:00:00+08:00",
          "2020-03-24T08:00:00+08:00"
         ],
         "xaxis": "x",
         "y": [
          21.598456255912325,
          34.83918878223734
         ],
         "yaxis": "y"
        },
        {
         "line": {
          "color": "red",
          "dash": "dash",
          "width": 2
         },
         "type": "scatter",
         "x": [
          "2020-03-17T08:00:00+08:00",
          "2020-03-25T08:00:00+08:00"
         ],
         "xaxis": "x",
         "y": [
          21.2700553852462,
          35.72763762102796
         ],
         "yaxis": "y"
        },
        {
         "line": {
          "color": "red",
          "dash": "dash",
          "width": 2
         },
         "type": "scatter",
         "x": [
          "2020-04-14T08:00:00+08:00",
          "2020-04-22T08:00:00+08:00"
         ],
         "xaxis": "x",
         "y": [
          55.66128262686245,
          54.248813306984665
         ],
         "yaxis": "y"
        },
        {
         "line": {
          "color": "red",
          "dash": "dash",
          "width": 2
         },
         "type": "scatter",
         "x": [
          "2020-04-27T08:00:00+08:00",
          "2020-05-06T08:00:00+08:00"
         ],
         "xaxis": "x",
         "y": [
          54.61779732492374,
          51.52440031751225
         ],
         "yaxis": "y"
        },
        {
         "line": {
          "color": "red",
          "dash": "dash",
          "width": 2
         },
         "type": "scatter",
         "x": [
          "2020-05-05T08:00:00+08:00",
          "2020-05-15T08:00:00+08:00"
         ],
         "xaxis": "x",
         "y": [
          53.62893266957166,
          52.11257015099664
         ],
         "yaxis": "y"
        },
        {
         "line": {
          "color": "red",
          "dash": "dash",
          "width": 2
         },
         "type": "scatter",
         "x": [
          "2020-05-19T08:00:00+08:00",
          "2020-05-29T08:00:00+08:00"
         ],
         "xaxis": "x",
         "y": [
          50.9382755011266,
          62.026904929018315
         ],
         "yaxis": "y"
        },
        {
         "line": {
          "color": "red",
          "dash": "dash",
          "width": 2
         },
         "type": "scatter",
         "x": [
          "2020-06-01T08:00:00+08:00",
          "2020-06-10T08:00:00+08:00"
         ],
         "xaxis": "x",
         "y": [
          65.46474546707297,
          73.9396416675935
         ],
         "yaxis": "y"
        },
        {
         "line": {
          "color": "red",
          "dash": "dash",
          "width": 2
         },
         "type": "scatter",
         "x": [
          "2020-06-05T08:00:00+08:00",
          "2020-06-16T08:00:00+08:00"
         ],
         "xaxis": "x",
         "y": [
          63.0637484585333,
          63.75661081581653
         ],
         "yaxis": "y"
        },
        {
         "line": {
          "color": "red",
          "dash": "dash",
          "width": 2
         },
         "type": "scatter",
         "x": [
          "2020-06-15T08:00:00+08:00",
          "2020-06-23T08:00:00+08:00"
         ],
         "xaxis": "x",
         "y": [
          57.541470955968066,
          56.795147579825155
         ],
         "yaxis": "y"
        },
        {
         "line": {
          "color": "red",
          "dash": "dash",
          "width": 2
         },
         "type": "scatter",
         "x": [
          "2020-06-18T08:00:00+08:00",
          "2020-06-26T08:00:00+08:00"
         ],
         "xaxis": "x",
         "y": [
          59.28352883783703,
          61.24171365910076
         ],
         "yaxis": "y"
        },
        {
         "line": {
          "color": "red",
          "dash": "dash",
          "width": 2
         },
         "type": "scatter",
         "x": [
          "2020-06-22T08:00:00+08:00",
          "2020-06-30T08:00:00+08:00"
         ],
         "xaxis": "x",
         "y": [
          59.28352883783702,
          60.91453981835691
         ],
         "yaxis": "y"
        },
        {
         "line": {
          "color": "green"
         },
         "name": "Price",
         "type": "scatter",
         "x": [
          "2020-01-13T08:00:00+08:00",
          "2020-01-14T08:00:00+08:00",
          "2020-01-15T08:00:00+08:00",
          "2020-01-16T08:00:00+08:00",
          "2020-01-17T08:00:00+08:00",
          "2020-01-20T08:00:00+08:00",
          "2020-01-21T08:00:00+08:00",
          "2020-01-22T08:00:00+08:00",
          "2020-01-23T08:00:00+08:00",
          "2020-01-24T08:00:00+08:00",
          "2020-01-28T08:00:00+08:00",
          "2020-01-29T08:00:00+08:00",
          "2020-01-30T08:00:00+08:00",
          "2020-01-31T08:00:00+08:00",
          "2020-02-03T08:00:00+08:00",
          "2020-02-04T08:00:00+08:00",
          "2020-02-05T08:00:00+08:00",
          "2020-02-06T08:00:00+08:00",
          "2020-02-07T08:00:00+08:00",
          "2020-02-10T08:00:00+08:00",
          "2020-02-11T08:00:00+08:00",
          "2020-02-12T08:00:00+08:00",
          "2020-02-13T08:00:00+08:00",
          "2020-02-14T08:00:00+08:00",
          "2020-02-17T08:00:00+08:00",
          "2020-02-18T08:00:00+08:00",
          "2020-02-19T08:00:00+08:00",
          "2020-02-20T08:00:00+08:00",
          "2020-02-21T08:00:00+08:00",
          "2020-02-24T08:00:00+08:00",
          "2020-02-25T08:00:00+08:00",
          "2020-02-26T08:00:00+08:00",
          "2020-02-27T08:00:00+08:00",
          "2020-02-28T08:00:00+08:00",
          "2020-03-02T08:00:00+08:00",
          "2020-03-03T08:00:00+08:00",
          "2020-03-04T08:00:00+08:00",
          "2020-03-05T08:00:00+08:00",
          "2020-03-06T08:00:00+08:00",
          "2020-03-09T08:00:00+08:00",
          "2020-03-10T08:00:00+08:00",
          "2020-03-11T08:00:00+08:00",
          "2020-03-12T08:00:00+08:00",
          "2020-03-13T08:00:00+08:00",
          "2020-03-16T08:00:00+08:00",
          "2020-03-17T08:00:00+08:00",
          "2020-03-18T08:00:00+08:00",
          "2020-03-19T08:00:00+08:00",
          "2020-03-20T08:00:00+08:00",
          "2020-03-23T08:00:00+08:00",
          "2020-03-24T08:00:00+08:00",
          "2020-03-25T08:00:00+08:00",
          "2020-03-26T08:00:00+08:00",
          "2020-03-27T08:00:00+08:00",
          "2020-03-30T08:00:00+08:00",
          "2020-03-31T08:00:00+08:00",
          "2020-04-01T08:00:00+08:00",
          "2020-04-02T08:00:00+08:00",
          "2020-04-03T08:00:00+08:00",
          "2020-04-06T08:00:00+08:00",
          "2020-04-07T08:00:00+08:00",
          "2020-04-08T08:00:00+08:00",
          "2020-04-09T08:00:00+08:00",
          "2020-04-10T08:00:00+08:00",
          "2020-04-13T08:00:00+08:00",
          "2020-04-14T08:00:00+08:00",
          "2020-04-15T08:00:00+08:00",
          "2020-04-16T08:00:00+08:00",
          "2020-04-17T08:00:00+08:00",
          "2020-04-20T08:00:00+08:00",
          "2020-04-21T08:00:00+08:00",
          "2020-04-22T08:00:00+08:00",
          "2020-04-23T08:00:00+08:00",
          "2020-04-24T08:00:00+08:00",
          "2020-04-27T08:00:00+08:00",
          "2020-04-28T08:00:00+08:00",
          "2020-04-29T08:00:00+08:00",
          "2020-04-30T08:00:00+08:00",
          "2020-05-04T08:00:00+08:00",
          "2020-05-05T08:00:00+08:00",
          "2020-05-06T08:00:00+08:00",
          "2020-05-08T08:00:00+08:00",
          "2020-05-12T08:00:00+08:00",
          "2020-05-13T08:00:00+08:00",
          "2020-05-14T08:00:00+08:00",
          "2020-05-15T08:00:00+08:00",
          "2020-05-18T08:00:00+08:00",
          "2020-05-19T08:00:00+08:00",
          "2020-05-20T08:00:00+08:00",
          "2020-05-21T08:00:00+08:00",
          "2020-05-22T08:00:00+08:00",
          "2020-05-27T08:00:00+08:00",
          "2020-05-28T08:00:00+08:00",
          "2020-05-29T08:00:00+08:00",
          "2020-06-01T08:00:00+08:00",
          "2020-06-02T08:00:00+08:00",
          "2020-06-03T08:00:00+08:00",
          "2020-06-04T08:00:00+08:00",
          "2020-06-05T08:00:00+08:00",
          "2020-06-09T08:00:00+08:00",
          "2020-06-10T08:00:00+08:00",
          "2020-06-11T08:00:00+08:00",
          "2020-06-12T08:00:00+08:00",
          "2020-06-15T08:00:00+08:00",
          "2020-06-16T08:00:00+08:00",
          "2020-06-17T08:00:00+08:00",
          "2020-06-18T08:00:00+08:00",
          "2020-06-19T08:00:00+08:00",
          "2020-06-22T08:00:00+08:00",
          "2020-06-23T08:00:00+08:00",
          "2020-06-24T08:00:00+08:00",
          "2020-06-25T08:00:00+08:00",
          "2020-06-26T08:00:00+08:00",
          "2020-06-29T08:00:00+08:00",
          "2020-06-30T08:00:00+08:00",
          "2020-07-01T08:00:00+08:00",
          "2020-07-02T08:00:00+08:00",
          "2020-07-03T08:00:00+08:00",
          "2020-07-06T08:00:00+08:00",
          "2020-07-07T08:00:00+08:00",
          "2020-07-08T08:00:00+08:00",
          "2020-07-09T08:00:00+08:00",
          "2020-07-10T08:00:00+08:00"
         ],
         "xaxis": "x",
         "y": [
          1.73,
          1.74,
          1.72,
          1.72,
          1.71,
          1.73,
          1.73,
          1.77,
          1.76,
          1.9,
          1.81,
          1.89,
          1.81,
          1.76,
          1.72,
          1.77,
          1.8,
          1.8,
          1.79,
          1.74,
          1.73,
          1.75,
          1.77,
          1.74,
          1.74,
          1.7,
          1.65,
          1.68,
          1.65,
          1.6,
          1.64,
          1.57,
          1.52,
          1.41,
          1.41,
          1.46,
          1.43,
          1.43,
          1.41,
          1.29,
          1.33,
          1.36,
          1.3,
          1.28,
          1.11,
          1.1,
          1.1,
          1.04,
          1.15,
          1.04,
          1.12,
          1.13,
          1.13,
          1.18,
          1.14,
          1.24,
          1.21,
          1.27,
          1.23,
          1.29,
          1.37,
          1.36,
          1.36,
          1.35,
          1.31,
          1.37,
          1.42,
          1.4,
          1.46,
          1.45,
          1.38,
          1.39,
          1.39,
          1.42,
          1.4,
          1.35,
          1.37,
          1.42,
          1.37,
          1.4,
          1.38,
          1.38,
          1.41,
          1.4,
          1.37,
          1.39,
          1.36,
          1.38,
          1.42,
          1.44,
          1.4,
          1.4,
          1.42,
          1.49,
          1.53,
          1.53,
          1.6,
          1.57,
          1.55,
          1.59,
          1.71,
          1.7,
          1.71,
          1.59,
          1.68,
          1.68,
          1.64,
          1.64,
          1.64,
          1.62,
          1.67,
          1.65,
          1.68,
          1.65,
          1.69,
          1.73,
          1.78,
          1.78,
          1.85,
          1.85,
          1.85,
          1.9,
          1.83
         ],
         "yaxis": "y2"
        },
        {
         "line": {
          "color": "yellow",
          "dash": "dash",
          "width": 2
         },
         "type": "scatter",
         "x": [
          "2020-02-03T08:00:00+08:00",
          "2020-02-11T08:00:00+08:00"
         ],
         "xaxis": "x",
         "y": [
          1.72,
          1.73
         ],
         "yaxis": "y2"
        },
        {
         "line": {
          "color": "yellow",
          "dash": "dash",
          "width": 2
         },
         "type": "scatter",
         "x": [
          "2020-02-27T08:00:00+08:00",
          "2020-03-06T08:00:00+08:00"
         ],
         "xaxis": "x",
         "y": [
          1.52,
          1.41
         ],
         "yaxis": "y2"
        },
        {
         "line": {
          "color": "yellow",
          "dash": "dash",
          "width": 2
         },
         "type": "scatter",
         "x": [
          "2020-03-06T08:00:00+08:00",
          "2020-03-16T08:00:00+08:00"
         ],
         "xaxis": "x",
         "y": [
          1.41,
          1.11
         ],
         "yaxis": "y2"
        },
        {
         "line": {
          "color": "yellow",
          "dash": "dash",
          "width": 2
         },
         "type": "scatter",
         "x": [
          "2020-03-16T08:00:00+08:00",
          "2020-03-24T08:00:00+08:00"
         ],
         "xaxis": "x",
         "y": [
          1.11,
          1.12
         ],
         "yaxis": "y2"
        },
        {
         "line": {
          "color": "yellow",
          "dash": "dash",
          "width": 2
         },
         "type": "scatter",
         "x": [
          "2020-03-17T08:00:00+08:00",
          "2020-03-25T08:00:00+08:00"
         ],
         "xaxis": "x",
         "y": [
          1.1,
          1.13
         ],
         "yaxis": "y2"
        },
        {
         "line": {
          "color": "yellow",
          "dash": "dash",
          "width": 2
         },
         "type": "scatter",
         "x": [
          "2020-04-14T08:00:00+08:00",
          "2020-04-22T08:00:00+08:00"
         ],
         "xaxis": "x",
         "y": [
          1.37,
          1.39
         ],
         "yaxis": "y2"
        },
        {
         "line": {
          "color": "yellow",
          "dash": "dash",
          "width": 2
         },
         "type": "scatter",
         "x": [
          "2020-04-27T08:00:00+08:00",
          "2020-05-06T08:00:00+08:00"
         ],
         "xaxis": "x",
         "y": [
          1.4,
          1.38
         ],
         "yaxis": "y2"
        },
        {
         "line": {
          "color": "yellow",
          "dash": "dash",
          "width": 2
         },
         "type": "scatter",
         "x": [
          "2020-05-05T08:00:00+08:00",
          "2020-05-15T08:00:00+08:00"
         ],
         "xaxis": "x",
         "y": [
          1.4,
          1.39
         ],
         "yaxis": "y2"
        },
        {
         "line": {
          "color": "yellow",
          "dash": "dash",
          "width": 2
         },
         "type": "scatter",
         "x": [
          "2020-05-19T08:00:00+08:00",
          "2020-05-29T08:00:00+08:00"
         ],
         "xaxis": "x",
         "y": [
          1.38,
          1.49
         ],
         "yaxis": "y2"
        },
        {
         "line": {
          "color": "yellow",
          "dash": "dash",
          "width": 2
         },
         "type": "scatter",
         "x": [
          "2020-06-01T08:00:00+08:00",
          "2020-06-10T08:00:00+08:00"
         ],
         "xaxis": "x",
         "y": [
          1.53,
          1.71
         ],
         "yaxis": "y2"
        },
        {
         "line": {
          "color": "yellow",
          "dash": "dash",
          "width": 2
         },
         "type": "scatter",
         "x": [
          "2020-06-05T08:00:00+08:00",
          "2020-06-16T08:00:00+08:00"
         ],
         "xaxis": "x",
         "y": [
          1.55,
          1.68
         ],
         "yaxis": "y2"
        },
        {
         "line": {
          "color": "yellow",
          "dash": "dash",
          "width": 2
         },
         "type": "scatter",
         "x": [
          "2020-06-15T08:00:00+08:00",
          "2020-06-23T08:00:00+08:00"
         ],
         "xaxis": "x",
         "y": [
          1.59,
          1.62
         ],
         "yaxis": "y2"
        },
        {
         "line": {
          "color": "yellow",
          "dash": "dash",
          "width": 2
         },
         "type": "scatter",
         "x": [
          "2020-06-18T08:00:00+08:00",
          "2020-06-26T08:00:00+08:00"
         ],
         "xaxis": "x",
         "y": [
          1.64,
          1.68
         ],
         "yaxis": "y2"
        },
        {
         "line": {
          "color": "yellow",
          "dash": "dash",
          "width": 2
         },
         "type": "scatter",
         "x": [
          "2020-06-22T08:00:00+08:00",
          "2020-06-30T08:00:00+08:00"
         ],
         "xaxis": "x",
         "y": [
          1.64,
          1.69
         ],
         "yaxis": "y2"
        }
       ],
       "layout": {
        "template": {
         "data": {
          "bar": [
           {
            "error_x": {
             "color": "#2a3f5f"
            },
            "error_y": {
             "color": "#2a3f5f"
            },
            "marker": {
             "line": {
              "color": "#E5ECF6",
              "width": 0.5
             }
            },
            "type": "bar"
           }
          ],
          "barpolar": [
           {
            "marker": {
             "line": {
              "color": "#E5ECF6",
              "width": 0.5
             }
            },
            "type": "barpolar"
           }
          ],
          "carpet": [
           {
            "aaxis": {
             "endlinecolor": "#2a3f5f",
             "gridcolor": "white",
             "linecolor": "white",
             "minorgridcolor": "white",
             "startlinecolor": "#2a3f5f"
            },
            "baxis": {
             "endlinecolor": "#2a3f5f",
             "gridcolor": "white",
             "linecolor": "white",
             "minorgridcolor": "white",
             "startlinecolor": "#2a3f5f"
            },
            "type": "carpet"
           }
          ],
          "choropleth": [
           {
            "colorbar": {
             "outlinewidth": 0,
             "ticks": ""
            },
            "type": "choropleth"
           }
          ],
          "contour": [
           {
            "colorbar": {
             "outlinewidth": 0,
             "ticks": ""
            },
            "colorscale": [
             [
              0,
              "#0d0887"
             ],
             [
              0.1111111111111111,
              "#46039f"
             ],
             [
              0.2222222222222222,
              "#7201a8"
             ],
             [
              0.3333333333333333,
              "#9c179e"
             ],
             [
              0.4444444444444444,
              "#bd3786"
             ],
             [
              0.5555555555555556,
              "#d8576b"
             ],
             [
              0.6666666666666666,
              "#ed7953"
             ],
             [
              0.7777777777777778,
              "#fb9f3a"
             ],
             [
              0.8888888888888888,
              "#fdca26"
             ],
             [
              1,
              "#f0f921"
             ]
            ],
            "type": "contour"
           }
          ],
          "contourcarpet": [
           {
            "colorbar": {
             "outlinewidth": 0,
             "ticks": ""
            },
            "type": "contourcarpet"
           }
          ],
          "heatmap": [
           {
            "colorbar": {
             "outlinewidth": 0,
             "ticks": ""
            },
            "colorscale": [
             [
              0,
              "#0d0887"
             ],
             [
              0.1111111111111111,
              "#46039f"
             ],
             [
              0.2222222222222222,
              "#7201a8"
             ],
             [
              0.3333333333333333,
              "#9c179e"
             ],
             [
              0.4444444444444444,
              "#bd3786"
             ],
             [
              0.5555555555555556,
              "#d8576b"
             ],
             [
              0.6666666666666666,
              "#ed7953"
             ],
             [
              0.7777777777777778,
              "#fb9f3a"
             ],
             [
              0.8888888888888888,
              "#fdca26"
             ],
             [
              1,
              "#f0f921"
             ]
            ],
            "type": "heatmap"
           }
          ],
          "heatmapgl": [
           {
            "colorbar": {
             "outlinewidth": 0,
             "ticks": ""
            },
            "colorscale": [
             [
              0,
              "#0d0887"
             ],
             [
              0.1111111111111111,
              "#46039f"
             ],
             [
              0.2222222222222222,
              "#7201a8"
             ],
             [
              0.3333333333333333,
              "#9c179e"
             ],
             [
              0.4444444444444444,
              "#bd3786"
             ],
             [
              0.5555555555555556,
              "#d8576b"
             ],
             [
              0.6666666666666666,
              "#ed7953"
             ],
             [
              0.7777777777777778,
              "#fb9f3a"
             ],
             [
              0.8888888888888888,
              "#fdca26"
             ],
             [
              1,
              "#f0f921"
             ]
            ],
            "type": "heatmapgl"
           }
          ],
          "histogram": [
           {
            "marker": {
             "colorbar": {
              "outlinewidth": 0,
              "ticks": ""
             }
            },
            "type": "histogram"
           }
          ],
          "histogram2d": [
           {
            "colorbar": {
             "outlinewidth": 0,
             "ticks": ""
            },
            "colorscale": [
             [
              0,
              "#0d0887"
             ],
             [
              0.1111111111111111,
              "#46039f"
             ],
             [
              0.2222222222222222,
              "#7201a8"
             ],
             [
              0.3333333333333333,
              "#9c179e"
             ],
             [
              0.4444444444444444,
              "#bd3786"
             ],
             [
              0.5555555555555556,
              "#d8576b"
             ],
             [
              0.6666666666666666,
              "#ed7953"
             ],
             [
              0.7777777777777778,
              "#fb9f3a"
             ],
             [
              0.8888888888888888,
              "#fdca26"
             ],
             [
              1,
              "#f0f921"
             ]
            ],
            "type": "histogram2d"
           }
          ],
          "histogram2dcontour": [
           {
            "colorbar": {
             "outlinewidth": 0,
             "ticks": ""
            },
            "colorscale": [
             [
              0,
              "#0d0887"
             ],
             [
              0.1111111111111111,
              "#46039f"
             ],
             [
              0.2222222222222222,
              "#7201a8"
             ],
             [
              0.3333333333333333,
              "#9c179e"
             ],
             [
              0.4444444444444444,
              "#bd3786"
             ],
             [
              0.5555555555555556,
              "#d8576b"
             ],
             [
              0.6666666666666666,
              "#ed7953"
             ],
             [
              0.7777777777777778,
              "#fb9f3a"
             ],
             [
              0.8888888888888888,
              "#fdca26"
             ],
             [
              1,
              "#f0f921"
             ]
            ],
            "type": "histogram2dcontour"
           }
          ],
          "mesh3d": [
           {
            "colorbar": {
             "outlinewidth": 0,
             "ticks": ""
            },
            "type": "mesh3d"
           }
          ],
          "parcoords": [
           {
            "line": {
             "colorbar": {
              "outlinewidth": 0,
              "ticks": ""
             }
            },
            "type": "parcoords"
           }
          ],
          "pie": [
           {
            "automargin": true,
            "type": "pie"
           }
          ],
          "scatter": [
           {
            "marker": {
             "colorbar": {
              "outlinewidth": 0,
              "ticks": ""
             }
            },
            "type": "scatter"
           }
          ],
          "scatter3d": [
           {
            "line": {
             "colorbar": {
              "outlinewidth": 0,
              "ticks": ""
             }
            },
            "marker": {
             "colorbar": {
              "outlinewidth": 0,
              "ticks": ""
             }
            },
            "type": "scatter3d"
           }
          ],
          "scattercarpet": [
           {
            "marker": {
             "colorbar": {
              "outlinewidth": 0,
              "ticks": ""
             }
            },
            "type": "scattercarpet"
           }
          ],
          "scattergeo": [
           {
            "marker": {
             "colorbar": {
              "outlinewidth": 0,
              "ticks": ""
             }
            },
            "type": "scattergeo"
           }
          ],
          "scattergl": [
           {
            "marker": {
             "colorbar": {
              "outlinewidth": 0,
              "ticks": ""
             }
            },
            "type": "scattergl"
           }
          ],
          "scattermapbox": [
           {
            "marker": {
             "colorbar": {
              "outlinewidth": 0,
              "ticks": ""
             }
            },
            "type": "scattermapbox"
           }
          ],
          "scatterpolar": [
           {
            "marker": {
             "colorbar": {
              "outlinewidth": 0,
              "ticks": ""
             }
            },
            "type": "scatterpolar"
           }
          ],
          "scatterpolargl": [
           {
            "marker": {
             "colorbar": {
              "outlinewidth": 0,
              "ticks": ""
             }
            },
            "type": "scatterpolargl"
           }
          ],
          "scatterternary": [
           {
            "marker": {
             "colorbar": {
              "outlinewidth": 0,
              "ticks": ""
             }
            },
            "type": "scatterternary"
           }
          ],
          "surface": [
           {
            "colorbar": {
             "outlinewidth": 0,
             "ticks": ""
            },
            "colorscale": [
             [
              0,
              "#0d0887"
             ],
             [
              0.1111111111111111,
              "#46039f"
             ],
             [
              0.2222222222222222,
              "#7201a8"
             ],
             [
              0.3333333333333333,
              "#9c179e"
             ],
             [
              0.4444444444444444,
              "#bd3786"
             ],
             [
              0.5555555555555556,
              "#d8576b"
             ],
             [
              0.6666666666666666,
              "#ed7953"
             ],
             [
              0.7777777777777778,
              "#fb9f3a"
             ],
             [
              0.8888888888888888,
              "#fdca26"
             ],
             [
              1,
              "#f0f921"
             ]
            ],
            "type": "surface"
           }
          ],
          "table": [
           {
            "cells": {
             "fill": {
              "color": "#EBF0F8"
             },
             "line": {
              "color": "white"
             }
            },
            "header": {
             "fill": {
              "color": "#C8D4E3"
             },
             "line": {
              "color": "white"
             }
            },
            "type": "table"
           }
          ]
         },
         "layout": {
          "annotationdefaults": {
           "arrowcolor": "#2a3f5f",
           "arrowhead": 0,
           "arrowwidth": 1
          },
          "coloraxis": {
           "colorbar": {
            "outlinewidth": 0,
            "ticks": ""
           }
          },
          "colorscale": {
           "diverging": [
            [
             0,
             "#8e0152"
            ],
            [
             0.1,
             "#c51b7d"
            ],
            [
             0.2,
             "#de77ae"
            ],
            [
             0.3,
             "#f1b6da"
            ],
            [
             0.4,
             "#fde0ef"
            ],
            [
             0.5,
             "#f7f7f7"
            ],
            [
             0.6,
             "#e6f5d0"
            ],
            [
             0.7,
             "#b8e186"
            ],
            [
             0.8,
             "#7fbc41"
            ],
            [
             0.9,
             "#4d9221"
            ],
            [
             1,
             "#276419"
            ]
           ],
           "sequential": [
            [
             0,
             "#0d0887"
            ],
            [
             0.1111111111111111,
             "#46039f"
            ],
            [
             0.2222222222222222,
             "#7201a8"
            ],
            [
             0.3333333333333333,
             "#9c179e"
            ],
            [
             0.4444444444444444,
             "#bd3786"
            ],
            [
             0.5555555555555556,
             "#d8576b"
            ],
            [
             0.6666666666666666,
             "#ed7953"
            ],
            [
             0.7777777777777778,
             "#fb9f3a"
            ],
            [
             0.8888888888888888,
             "#fdca26"
            ],
            [
             1,
             "#f0f921"
            ]
           ],
           "sequentialminus": [
            [
             0,
             "#0d0887"
            ],
            [
             0.1111111111111111,
             "#46039f"
            ],
            [
             0.2222222222222222,
             "#7201a8"
            ],
            [
             0.3333333333333333,
             "#9c179e"
            ],
            [
             0.4444444444444444,
             "#bd3786"
            ],
            [
             0.5555555555555556,
             "#d8576b"
            ],
            [
             0.6666666666666666,
             "#ed7953"
            ],
            [
             0.7777777777777778,
             "#fb9f3a"
            ],
            [
             0.8888888888888888,
             "#fdca26"
            ],
            [
             1,
             "#f0f921"
            ]
           ]
          },
          "colorway": [
           "#636efa",
           "#EF553B",
           "#00cc96",
           "#ab63fa",
           "#FFA15A",
           "#19d3f3",
           "#FF6692",
           "#B6E880",
           "#FF97FF",
           "#FECB52"
          ],
          "font": {
           "color": "#2a3f5f"
          },
          "geo": {
           "bgcolor": "white",
           "lakecolor": "white",
           "landcolor": "#E5ECF6",
           "showlakes": true,
           "showland": true,
           "subunitcolor": "white"
          },
          "hoverlabel": {
           "align": "left"
          },
          "hovermode": "closest",
          "mapbox": {
           "style": "light"
          },
          "paper_bgcolor": "white",
          "plot_bgcolor": "#E5ECF6",
          "polar": {
           "angularaxis": {
            "gridcolor": "white",
            "linecolor": "white",
            "ticks": ""
           },
           "bgcolor": "#E5ECF6",
           "radialaxis": {
            "gridcolor": "white",
            "linecolor": "white",
            "ticks": ""
           }
          },
          "scene": {
           "xaxis": {
            "backgroundcolor": "#E5ECF6",
            "gridcolor": "white",
            "gridwidth": 2,
            "linecolor": "white",
            "showbackground": true,
            "ticks": "",
            "zerolinecolor": "white"
           },
           "yaxis": {
            "backgroundcolor": "#E5ECF6",
            "gridcolor": "white",
            "gridwidth": 2,
            "linecolor": "white",
            "showbackground": true,
            "ticks": "",
            "zerolinecolor": "white"
           },
           "zaxis": {
            "backgroundcolor": "#E5ECF6",
            "gridcolor": "white",
            "gridwidth": 2,
            "linecolor": "white",
            "showbackground": true,
            "ticks": "",
            "zerolinecolor": "white"
           }
          },
          "shapedefaults": {
           "line": {
            "color": "#2a3f5f"
           }
          },
          "ternary": {
           "aaxis": {
            "gridcolor": "white",
            "linecolor": "white",
            "ticks": ""
           },
           "baxis": {
            "gridcolor": "white",
            "linecolor": "white",
            "ticks": ""
           },
           "bgcolor": "#E5ECF6",
           "caxis": {
            "gridcolor": "white",
            "linecolor": "white",
            "ticks": ""
           }
          },
          "title": {
           "x": 0.05
          },
          "xaxis": {
           "automargin": true,
           "gridcolor": "white",
           "linecolor": "white",
           "ticks": "",
           "title": {
            "standoff": 15
           },
           "zerolinecolor": "white",
           "zerolinewidth": 2
          },
          "yaxis": {
           "automargin": true,
           "gridcolor": "white",
           "linecolor": "white",
           "ticks": "",
           "title": {
            "standoff": 15
           },
           "zerolinecolor": "white",
           "zerolinewidth": 2
          }
         }
        },
        "xaxis": {
         "anchor": "y",
         "domain": [
          0,
          0.94
         ]
        },
        "yaxis": {
         "anchor": "x",
         "domain": [
          0,
          1
         ]
        },
        "yaxis2": {
         "anchor": "x",
         "overlaying": "y",
         "side": "right"
        }
       }
      },
      "text/html": [
       "<div>\n",
       "        \n",
       "        \n",
       "            <div id=\"fdffb5db-272b-46ff-91ad-dfc7e11af31f\" class=\"plotly-graph-div\" style=\"height:525px; width:100%;\"></div>\n",
       "            <script type=\"text/javascript\">\n",
       "                require([\"plotly\"], function(Plotly) {\n",
       "                    window.PLOTLYENV=window.PLOTLYENV || {};\n",
       "                    \n",
       "                if (document.getElementById(\"fdffb5db-272b-46ff-91ad-dfc7e11af31f\")) {\n",
       "                    Plotly.newPlot(\n",
       "                        'fdffb5db-272b-46ff-91ad-dfc7e11af31f',\n",
       "                        [{\"name\": \"RSI\", \"type\": \"scatter\", \"x\": [\"2020-01-13T08:00:00+08:00\", \"2020-01-14T08:00:00+08:00\", \"2020-01-15T08:00:00+08:00\", \"2020-01-16T08:00:00+08:00\", \"2020-01-17T08:00:00+08:00\", \"2020-01-20T08:00:00+08:00\", \"2020-01-21T08:00:00+08:00\", \"2020-01-22T08:00:00+08:00\", \"2020-01-23T08:00:00+08:00\", \"2020-01-24T08:00:00+08:00\", \"2020-01-28T08:00:00+08:00\", \"2020-01-29T08:00:00+08:00\", \"2020-01-30T08:00:00+08:00\", \"2020-01-31T08:00:00+08:00\", \"2020-02-03T08:00:00+08:00\", \"2020-02-04T08:00:00+08:00\", \"2020-02-05T08:00:00+08:00\", \"2020-02-06T08:00:00+08:00\", \"2020-02-07T08:00:00+08:00\", \"2020-02-10T08:00:00+08:00\", \"2020-02-11T08:00:00+08:00\", \"2020-02-12T08:00:00+08:00\", \"2020-02-13T08:00:00+08:00\", \"2020-02-14T08:00:00+08:00\", \"2020-02-17T08:00:00+08:00\", \"2020-02-18T08:00:00+08:00\", \"2020-02-19T08:00:00+08:00\", \"2020-02-20T08:00:00+08:00\", \"2020-02-21T08:00:00+08:00\", \"2020-02-24T08:00:00+08:00\", \"2020-02-25T08:00:00+08:00\", \"2020-02-26T08:00:00+08:00\", \"2020-02-27T08:00:00+08:00\", \"2020-02-28T08:00:00+08:00\", \"2020-03-02T08:00:00+08:00\", \"2020-03-03T08:00:00+08:00\", \"2020-03-04T08:00:00+08:00\", \"2020-03-05T08:00:00+08:00\", \"2020-03-06T08:00:00+08:00\", \"2020-03-09T08:00:00+08:00\", \"2020-03-10T08:00:00+08:00\", \"2020-03-11T08:00:00+08:00\", \"2020-03-12T08:00:00+08:00\", \"2020-03-13T08:00:00+08:00\", \"2020-03-16T08:00:00+08:00\", \"2020-03-17T08:00:00+08:00\", \"2020-03-18T08:00:00+08:00\", \"2020-03-19T08:00:00+08:00\", \"2020-03-20T08:00:00+08:00\", \"2020-03-23T08:00:00+08:00\", \"2020-03-24T08:00:00+08:00\", \"2020-03-25T08:00:00+08:00\", \"2020-03-26T08:00:00+08:00\", \"2020-03-27T08:00:00+08:00\", \"2020-03-30T08:00:00+08:00\", \"2020-03-31T08:00:00+08:00\", \"2020-04-01T08:00:00+08:00\", \"2020-04-02T08:00:00+08:00\", \"2020-04-03T08:00:00+08:00\", \"2020-04-06T08:00:00+08:00\", \"2020-04-07T08:00:00+08:00\", \"2020-04-08T08:00:00+08:00\", \"2020-04-09T08:00:00+08:00\", \"2020-04-10T08:00:00+08:00\", \"2020-04-13T08:00:00+08:00\", \"2020-04-14T08:00:00+08:00\", \"2020-04-15T08:00:00+08:00\", \"2020-04-16T08:00:00+08:00\", \"2020-04-17T08:00:00+08:00\", \"2020-04-20T08:00:00+08:00\", \"2020-04-21T08:00:00+08:00\", \"2020-04-22T08:00:00+08:00\", \"2020-04-23T08:00:00+08:00\", \"2020-04-24T08:00:00+08:00\", \"2020-04-27T08:00:00+08:00\", \"2020-04-28T08:00:00+08:00\", \"2020-04-29T08:00:00+08:00\", \"2020-04-30T08:00:00+08:00\", \"2020-05-04T08:00:00+08:00\", \"2020-05-05T08:00:00+08:00\", \"2020-05-06T08:00:00+08:00\", \"2020-05-08T08:00:00+08:00\", \"2020-05-12T08:00:00+08:00\", \"2020-05-13T08:00:00+08:00\", \"2020-05-14T08:00:00+08:00\", \"2020-05-15T08:00:00+08:00\", \"2020-05-18T08:00:00+08:00\", \"2020-05-19T08:00:00+08:00\", \"2020-05-20T08:00:00+08:00\", \"2020-05-21T08:00:00+08:00\", \"2020-05-22T08:00:00+08:00\", \"2020-05-27T08:00:00+08:00\", \"2020-05-28T08:00:00+08:00\", \"2020-05-29T08:00:00+08:00\", \"2020-06-01T08:00:00+08:00\", \"2020-06-02T08:00:00+08:00\", \"2020-06-03T08:00:00+08:00\", \"2020-06-04T08:00:00+08:00\", \"2020-06-05T08:00:00+08:00\", \"2020-06-09T08:00:00+08:00\", \"2020-06-10T08:00:00+08:00\", \"2020-06-11T08:00:00+08:00\", \"2020-06-12T08:00:00+08:00\", \"2020-06-15T08:00:00+08:00\", \"2020-06-16T08:00:00+08:00\", \"2020-06-17T08:00:00+08:00\", \"2020-06-18T08:00:00+08:00\", \"2020-06-19T08:00:00+08:00\", \"2020-06-22T08:00:00+08:00\", \"2020-06-23T08:00:00+08:00\", \"2020-06-24T08:00:00+08:00\", \"2020-06-25T08:00:00+08:00\", \"2020-06-26T08:00:00+08:00\", \"2020-06-29T08:00:00+08:00\", \"2020-06-30T08:00:00+08:00\", \"2020-07-01T08:00:00+08:00\", \"2020-07-02T08:00:00+08:00\", \"2020-07-03T08:00:00+08:00\", \"2020-07-06T08:00:00+08:00\", \"2020-07-07T08:00:00+08:00\", \"2020-07-08T08:00:00+08:00\", \"2020-07-09T08:00:00+08:00\", \"2020-07-10T08:00:00+08:00\"], \"xaxis\": \"x\", \"y\": [null, null, null, null, null, null, null, null, null, null, null, null, null, null, 49.15254237288135, 53.40501792114696, 55.79387915249805, 55.79387915249805, 54.70954536325359, 49.5266755656792, 48.53632542905875, 50.661291708934705, 52.76182257240502, 49.366730184967636, 49.366730184967636, 44.89909691074126, 40.02324859019326, 43.955840448278025, 41.05672865470685, 36.710862063489074, 42.000109585222695, 36.28511359346505, 32.84701688893255, 26.825059714601313, 26.825059714601313, 33.273934333523385, 31.481227991148707, 31.481227991148707, 30.222272922651012, 24.0164053399408, 29.23280426149173, 32.95065092270806, 29.601131650754155, 28.55899462518319, 21.598456255912325, 21.2700553852462, 21.270055385246202, 19.234923031313254, 32.06784485944604, 27.38233275073619, 34.83918878223734, 35.72763762102796, 35.72763762102795, 40.436997651713035, 38.03591989267529, 46.57644880823544, 44.59082834932585, 49.25070635293899, 46.44632134837715, 50.957344850904626, 56.24906143073704, 55.44373897790439, 55.4437389779044, 54.53816401282643, 50.953175044416184, 55.66128262686245, 59.17796815342956, 57.22288674423245, 61.3484019216652, 60.30452321983887, 53.448601471582556, 54.248813306984665, 54.248813306984665, 56.83070385025132, 54.61779732492374, 49.43526960555009, 51.42091396550944, 56.06585922186764, 50.83166013539825, 53.62893266957166, 51.52440031751225, 51.52440031751225, 54.62224797033819, 53.397294624191716, 49.78987275822411, 52.11257015099664, 48.48912571073291, 50.9382755011266, 55.49582943432223, 57.6158830036745, 52.25441417191063, 52.25441417191063, 54.69891152707882, 62.026904929018315, 65.46474546707297, 65.46474546707297, 70.82544418604853, 66.0905934949378, 63.0637484585333, 66.38010744476207, 73.9396416675935, 72.47711745079847, 73.05116828217561, 57.541470955968066, 63.75661081581653, 63.756610815816515, 59.28352883783703, 59.28352883783702, 59.28352883783702, 56.795147579825155, 61.18188835484795, 58.61807914606919, 61.24171365910076, 57.32753503133019, 60.91453981835691, 64.15904506948591, 67.76153147652398, 67.76153147652398, 72.28467310233523, 72.28467310233523, 72.28467310233523, 75.36782271503381, 64.54266554043208], \"yaxis\": \"y\"}, {\"line\": {\"color\": \"red\", \"dash\": \"dash\", \"width\": 2}, \"type\": \"scatter\", \"x\": [\"2020-02-03T08:00:00+08:00\", \"2020-02-11T08:00:00+08:00\"], \"xaxis\": \"x\", \"y\": [49.15254237288135, 48.53632542905875], \"yaxis\": \"y\"}, {\"line\": {\"color\": \"red\", \"dash\": \"dash\", \"width\": 2}, \"type\": \"scatter\", \"x\": [\"2020-02-27T08:00:00+08:00\", \"2020-03-06T08:00:00+08:00\"], \"xaxis\": \"x\", \"y\": [32.84701688893255, 30.222272922651012], \"yaxis\": \"y\"}, {\"line\": {\"color\": \"red\", \"dash\": \"dash\", \"width\": 2}, \"type\": \"scatter\", \"x\": [\"2020-03-06T08:00:00+08:00\", \"2020-03-16T08:00:00+08:00\"], \"xaxis\": \"x\", \"y\": [30.222272922651012, 21.598456255912325], \"yaxis\": \"y\"}, {\"line\": {\"color\": \"red\", \"dash\": \"dash\", \"width\": 2}, \"type\": \"scatter\", \"x\": [\"2020-03-16T08:00:00+08:00\", \"2020-03-24T08:00:00+08:00\"], \"xaxis\": \"x\", \"y\": [21.598456255912325, 34.83918878223734], \"yaxis\": \"y\"}, {\"line\": {\"color\": \"red\", \"dash\": \"dash\", \"width\": 2}, \"type\": \"scatter\", \"x\": [\"2020-03-17T08:00:00+08:00\", \"2020-03-25T08:00:00+08:00\"], \"xaxis\": \"x\", \"y\": [21.2700553852462, 35.72763762102796], \"yaxis\": \"y\"}, {\"line\": {\"color\": \"red\", \"dash\": \"dash\", \"width\": 2}, \"type\": \"scatter\", \"x\": [\"2020-04-14T08:00:00+08:00\", \"2020-04-22T08:00:00+08:00\"], \"xaxis\": \"x\", \"y\": [55.66128262686245, 54.248813306984665], \"yaxis\": \"y\"}, {\"line\": {\"color\": \"red\", \"dash\": \"dash\", \"width\": 2}, \"type\": \"scatter\", \"x\": [\"2020-04-27T08:00:00+08:00\", \"2020-05-06T08:00:00+08:00\"], \"xaxis\": \"x\", \"y\": [54.61779732492374, 51.52440031751225], \"yaxis\": \"y\"}, {\"line\": {\"color\": \"red\", \"dash\": \"dash\", \"width\": 2}, \"type\": \"scatter\", \"x\": [\"2020-05-05T08:00:00+08:00\", \"2020-05-15T08:00:00+08:00\"], \"xaxis\": \"x\", \"y\": [53.62893266957166, 52.11257015099664], \"yaxis\": \"y\"}, {\"line\": {\"color\": \"red\", \"dash\": \"dash\", \"width\": 2}, \"type\": \"scatter\", \"x\": [\"2020-05-19T08:00:00+08:00\", \"2020-05-29T08:00:00+08:00\"], \"xaxis\": \"x\", \"y\": [50.9382755011266, 62.026904929018315], \"yaxis\": \"y\"}, {\"line\": {\"color\": \"red\", \"dash\": \"dash\", \"width\": 2}, \"type\": \"scatter\", \"x\": [\"2020-06-01T08:00:00+08:00\", \"2020-06-10T08:00:00+08:00\"], \"xaxis\": \"x\", \"y\": [65.46474546707297, 73.9396416675935], \"yaxis\": \"y\"}, {\"line\": {\"color\": \"red\", \"dash\": \"dash\", \"width\": 2}, \"type\": \"scatter\", \"x\": [\"2020-06-05T08:00:00+08:00\", \"2020-06-16T08:00:00+08:00\"], \"xaxis\": \"x\", \"y\": [63.0637484585333, 63.75661081581653], \"yaxis\": \"y\"}, {\"line\": {\"color\": \"red\", \"dash\": \"dash\", \"width\": 2}, \"type\": \"scatter\", \"x\": [\"2020-06-15T08:00:00+08:00\", \"2020-06-23T08:00:00+08:00\"], \"xaxis\": \"x\", \"y\": [57.541470955968066, 56.795147579825155], \"yaxis\": \"y\"}, {\"line\": {\"color\": \"red\", \"dash\": \"dash\", \"width\": 2}, \"type\": \"scatter\", \"x\": [\"2020-06-18T08:00:00+08:00\", \"2020-06-26T08:00:00+08:00\"], \"xaxis\": \"x\", \"y\": [59.28352883783703, 61.24171365910076], \"yaxis\": \"y\"}, {\"line\": {\"color\": \"red\", \"dash\": \"dash\", \"width\": 2}, \"type\": \"scatter\", \"x\": [\"2020-06-22T08:00:00+08:00\", \"2020-06-30T08:00:00+08:00\"], \"xaxis\": \"x\", \"y\": [59.28352883783702, 60.91453981835691], \"yaxis\": \"y\"}, {\"line\": {\"color\": \"green\"}, \"name\": \"Price\", \"type\": \"scatter\", \"x\": [\"2020-01-13T08:00:00+08:00\", \"2020-01-14T08:00:00+08:00\", \"2020-01-15T08:00:00+08:00\", \"2020-01-16T08:00:00+08:00\", \"2020-01-17T08:00:00+08:00\", \"2020-01-20T08:00:00+08:00\", \"2020-01-21T08:00:00+08:00\", \"2020-01-22T08:00:00+08:00\", \"2020-01-23T08:00:00+08:00\", \"2020-01-24T08:00:00+08:00\", \"2020-01-28T08:00:00+08:00\", \"2020-01-29T08:00:00+08:00\", \"2020-01-30T08:00:00+08:00\", \"2020-01-31T08:00:00+08:00\", \"2020-02-03T08:00:00+08:00\", \"2020-02-04T08:00:00+08:00\", \"2020-02-05T08:00:00+08:00\", \"2020-02-06T08:00:00+08:00\", \"2020-02-07T08:00:00+08:00\", \"2020-02-10T08:00:00+08:00\", \"2020-02-11T08:00:00+08:00\", \"2020-02-12T08:00:00+08:00\", \"2020-02-13T08:00:00+08:00\", \"2020-02-14T08:00:00+08:00\", \"2020-02-17T08:00:00+08:00\", \"2020-02-18T08:00:00+08:00\", \"2020-02-19T08:00:00+08:00\", \"2020-02-20T08:00:00+08:00\", \"2020-02-21T08:00:00+08:00\", \"2020-02-24T08:00:00+08:00\", \"2020-02-25T08:00:00+08:00\", \"2020-02-26T08:00:00+08:00\", \"2020-02-27T08:00:00+08:00\", \"2020-02-28T08:00:00+08:00\", \"2020-03-02T08:00:00+08:00\", \"2020-03-03T08:00:00+08:00\", \"2020-03-04T08:00:00+08:00\", \"2020-03-05T08:00:00+08:00\", \"2020-03-06T08:00:00+08:00\", \"2020-03-09T08:00:00+08:00\", \"2020-03-10T08:00:00+08:00\", \"2020-03-11T08:00:00+08:00\", \"2020-03-12T08:00:00+08:00\", \"2020-03-13T08:00:00+08:00\", \"2020-03-16T08:00:00+08:00\", \"2020-03-17T08:00:00+08:00\", \"2020-03-18T08:00:00+08:00\", \"2020-03-19T08:00:00+08:00\", \"2020-03-20T08:00:00+08:00\", \"2020-03-23T08:00:00+08:00\", \"2020-03-24T08:00:00+08:00\", \"2020-03-25T08:00:00+08:00\", \"2020-03-26T08:00:00+08:00\", \"2020-03-27T08:00:00+08:00\", \"2020-03-30T08:00:00+08:00\", \"2020-03-31T08:00:00+08:00\", \"2020-04-01T08:00:00+08:00\", \"2020-04-02T08:00:00+08:00\", \"2020-04-03T08:00:00+08:00\", \"2020-04-06T08:00:00+08:00\", \"2020-04-07T08:00:00+08:00\", \"2020-04-08T08:00:00+08:00\", \"2020-04-09T08:00:00+08:00\", \"2020-04-10T08:00:00+08:00\", \"2020-04-13T08:00:00+08:00\", \"2020-04-14T08:00:00+08:00\", \"2020-04-15T08:00:00+08:00\", \"2020-04-16T08:00:00+08:00\", \"2020-04-17T08:00:00+08:00\", \"2020-04-20T08:00:00+08:00\", \"2020-04-21T08:00:00+08:00\", \"2020-04-22T08:00:00+08:00\", \"2020-04-23T08:00:00+08:00\", \"2020-04-24T08:00:00+08:00\", \"2020-04-27T08:00:00+08:00\", \"2020-04-28T08:00:00+08:00\", \"2020-04-29T08:00:00+08:00\", \"2020-04-30T08:00:00+08:00\", \"2020-05-04T08:00:00+08:00\", \"2020-05-05T08:00:00+08:00\", \"2020-05-06T08:00:00+08:00\", \"2020-05-08T08:00:00+08:00\", \"2020-05-12T08:00:00+08:00\", \"2020-05-13T08:00:00+08:00\", \"2020-05-14T08:00:00+08:00\", \"2020-05-15T08:00:00+08:00\", \"2020-05-18T08:00:00+08:00\", \"2020-05-19T08:00:00+08:00\", \"2020-05-20T08:00:00+08:00\", \"2020-05-21T08:00:00+08:00\", \"2020-05-22T08:00:00+08:00\", \"2020-05-27T08:00:00+08:00\", \"2020-05-28T08:00:00+08:00\", \"2020-05-29T08:00:00+08:00\", \"2020-06-01T08:00:00+08:00\", \"2020-06-02T08:00:00+08:00\", \"2020-06-03T08:00:00+08:00\", \"2020-06-04T08:00:00+08:00\", \"2020-06-05T08:00:00+08:00\", \"2020-06-09T08:00:00+08:00\", \"2020-06-10T08:00:00+08:00\", \"2020-06-11T08:00:00+08:00\", \"2020-06-12T08:00:00+08:00\", \"2020-06-15T08:00:00+08:00\", \"2020-06-16T08:00:00+08:00\", \"2020-06-17T08:00:00+08:00\", \"2020-06-18T08:00:00+08:00\", \"2020-06-19T08:00:00+08:00\", \"2020-06-22T08:00:00+08:00\", \"2020-06-23T08:00:00+08:00\", \"2020-06-24T08:00:00+08:00\", \"2020-06-25T08:00:00+08:00\", \"2020-06-26T08:00:00+08:00\", \"2020-06-29T08:00:00+08:00\", \"2020-06-30T08:00:00+08:00\", \"2020-07-01T08:00:00+08:00\", \"2020-07-02T08:00:00+08:00\", \"2020-07-03T08:00:00+08:00\", \"2020-07-06T08:00:00+08:00\", \"2020-07-07T08:00:00+08:00\", \"2020-07-08T08:00:00+08:00\", \"2020-07-09T08:00:00+08:00\", \"2020-07-10T08:00:00+08:00\"], \"xaxis\": \"x\", \"y\": [1.73, 1.74, 1.72, 1.72, 1.71, 1.73, 1.73, 1.77, 1.76, 1.9, 1.81, 1.89, 1.81, 1.76, 1.72, 1.77, 1.8, 1.8, 1.79, 1.74, 1.73, 1.75, 1.77, 1.74, 1.74, 1.7, 1.65, 1.68, 1.65, 1.6, 1.64, 1.57, 1.52, 1.41, 1.41, 1.46, 1.43, 1.43, 1.41, 1.29, 1.33, 1.36, 1.3, 1.28, 1.11, 1.1, 1.1, 1.04, 1.15, 1.04, 1.12, 1.13, 1.13, 1.18, 1.14, 1.24, 1.21, 1.27, 1.23, 1.29, 1.37, 1.36, 1.36, 1.35, 1.31, 1.37, 1.42, 1.4, 1.46, 1.45, 1.38, 1.39, 1.39, 1.42, 1.4, 1.35, 1.37, 1.42, 1.37, 1.4, 1.38, 1.38, 1.41, 1.4, 1.37, 1.39, 1.36, 1.38, 1.42, 1.44, 1.4, 1.4, 1.42, 1.49, 1.53, 1.53, 1.6, 1.57, 1.55, 1.59, 1.71, 1.7, 1.71, 1.59, 1.68, 1.68, 1.64, 1.64, 1.64, 1.62, 1.67, 1.65, 1.68, 1.65, 1.69, 1.73, 1.78, 1.78, 1.85, 1.85, 1.85, 1.9, 1.83], \"yaxis\": \"y2\"}, {\"line\": {\"color\": \"yellow\", \"dash\": \"dash\", \"width\": 2}, \"type\": \"scatter\", \"x\": [\"2020-02-03T08:00:00+08:00\", \"2020-02-11T08:00:00+08:00\"], \"xaxis\": \"x\", \"y\": [1.72, 1.73], \"yaxis\": \"y2\"}, {\"line\": {\"color\": \"yellow\", \"dash\": \"dash\", \"width\": 2}, \"type\": \"scatter\", \"x\": [\"2020-02-27T08:00:00+08:00\", \"2020-03-06T08:00:00+08:00\"], \"xaxis\": \"x\", \"y\": [1.52, 1.41], \"yaxis\": \"y2\"}, {\"line\": {\"color\": \"yellow\", \"dash\": \"dash\", \"width\": 2}, \"type\": \"scatter\", \"x\": [\"2020-03-06T08:00:00+08:00\", \"2020-03-16T08:00:00+08:00\"], \"xaxis\": \"x\", \"y\": [1.41, 1.11], \"yaxis\": \"y2\"}, {\"line\": {\"color\": \"yellow\", \"dash\": \"dash\", \"width\": 2}, \"type\": \"scatter\", \"x\": [\"2020-03-16T08:00:00+08:00\", \"2020-03-24T08:00:00+08:00\"], \"xaxis\": \"x\", \"y\": [1.11, 1.12], \"yaxis\": \"y2\"}, {\"line\": {\"color\": \"yellow\", \"dash\": \"dash\", \"width\": 2}, \"type\": \"scatter\", \"x\": [\"2020-03-17T08:00:00+08:00\", \"2020-03-25T08:00:00+08:00\"], \"xaxis\": \"x\", \"y\": [1.1, 1.13], \"yaxis\": \"y2\"}, {\"line\": {\"color\": \"yellow\", \"dash\": \"dash\", \"width\": 2}, \"type\": \"scatter\", \"x\": [\"2020-04-14T08:00:00+08:00\", \"2020-04-22T08:00:00+08:00\"], \"xaxis\": \"x\", \"y\": [1.37, 1.39], \"yaxis\": \"y2\"}, {\"line\": {\"color\": \"yellow\", \"dash\": \"dash\", \"width\": 2}, \"type\": \"scatter\", \"x\": [\"2020-04-27T08:00:00+08:00\", \"2020-05-06T08:00:00+08:00\"], \"xaxis\": \"x\", \"y\": [1.4, 1.38], \"yaxis\": \"y2\"}, {\"line\": {\"color\": \"yellow\", \"dash\": \"dash\", \"width\": 2}, \"type\": \"scatter\", \"x\": [\"2020-05-05T08:00:00+08:00\", \"2020-05-15T08:00:00+08:00\"], \"xaxis\": \"x\", \"y\": [1.4, 1.39], \"yaxis\": \"y2\"}, {\"line\": {\"color\": \"yellow\", \"dash\": \"dash\", \"width\": 2}, \"type\": \"scatter\", \"x\": [\"2020-05-19T08:00:00+08:00\", \"2020-05-29T08:00:00+08:00\"], \"xaxis\": \"x\", \"y\": [1.38, 1.49], \"yaxis\": \"y2\"}, {\"line\": {\"color\": \"yellow\", \"dash\": \"dash\", \"width\": 2}, \"type\": \"scatter\", \"x\": [\"2020-06-01T08:00:00+08:00\", \"2020-06-10T08:00:00+08:00\"], \"xaxis\": \"x\", \"y\": [1.53, 1.71], \"yaxis\": \"y2\"}, {\"line\": {\"color\": \"yellow\", \"dash\": \"dash\", \"width\": 2}, \"type\": \"scatter\", \"x\": [\"2020-06-05T08:00:00+08:00\", \"2020-06-16T08:00:00+08:00\"], \"xaxis\": \"x\", \"y\": [1.55, 1.68], \"yaxis\": \"y2\"}, {\"line\": {\"color\": \"yellow\", \"dash\": \"dash\", \"width\": 2}, \"type\": \"scatter\", \"x\": [\"2020-06-15T08:00:00+08:00\", \"2020-06-23T08:00:00+08:00\"], \"xaxis\": \"x\", \"y\": [1.59, 1.62], \"yaxis\": \"y2\"}, {\"line\": {\"color\": \"yellow\", \"dash\": \"dash\", \"width\": 2}, \"type\": \"scatter\", \"x\": [\"2020-06-18T08:00:00+08:00\", \"2020-06-26T08:00:00+08:00\"], \"xaxis\": \"x\", \"y\": [1.64, 1.68], \"yaxis\": \"y2\"}, {\"line\": {\"color\": \"yellow\", \"dash\": \"dash\", \"width\": 2}, \"type\": \"scatter\", \"x\": [\"2020-06-22T08:00:00+08:00\", \"2020-06-30T08:00:00+08:00\"], \"xaxis\": \"x\", \"y\": [1.64, 1.69], \"yaxis\": \"y2\"}],\n",
       "                        {\"template\": {\"data\": {\"bar\": [{\"error_x\": {\"color\": \"#2a3f5f\"}, \"error_y\": {\"color\": \"#2a3f5f\"}, \"marker\": {\"line\": {\"color\": \"#E5ECF6\", \"width\": 0.5}}, \"type\": \"bar\"}], \"barpolar\": [{\"marker\": {\"line\": {\"color\": \"#E5ECF6\", \"width\": 0.5}}, \"type\": \"barpolar\"}], \"carpet\": [{\"aaxis\": {\"endlinecolor\": \"#2a3f5f\", \"gridcolor\": \"white\", \"linecolor\": \"white\", \"minorgridcolor\": \"white\", \"startlinecolor\": \"#2a3f5f\"}, \"baxis\": {\"endlinecolor\": \"#2a3f5f\", \"gridcolor\": \"white\", \"linecolor\": \"white\", \"minorgridcolor\": \"white\", \"startlinecolor\": \"#2a3f5f\"}, \"type\": \"carpet\"}], \"choropleth\": [{\"colorbar\": {\"outlinewidth\": 0, \"ticks\": \"\"}, \"type\": \"choropleth\"}], \"contour\": [{\"colorbar\": {\"outlinewidth\": 0, \"ticks\": \"\"}, \"colorscale\": [[0.0, \"#0d0887\"], [0.1111111111111111, \"#46039f\"], [0.2222222222222222, \"#7201a8\"], [0.3333333333333333, \"#9c179e\"], [0.4444444444444444, \"#bd3786\"], [0.5555555555555556, \"#d8576b\"], [0.6666666666666666, \"#ed7953\"], [0.7777777777777778, \"#fb9f3a\"], [0.8888888888888888, \"#fdca26\"], [1.0, \"#f0f921\"]], \"type\": \"contour\"}], \"contourcarpet\": [{\"colorbar\": {\"outlinewidth\": 0, \"ticks\": \"\"}, \"type\": \"contourcarpet\"}], \"heatmap\": [{\"colorbar\": {\"outlinewidth\": 0, \"ticks\": \"\"}, \"colorscale\": [[0.0, \"#0d0887\"], [0.1111111111111111, \"#46039f\"], [0.2222222222222222, \"#7201a8\"], [0.3333333333333333, \"#9c179e\"], [0.4444444444444444, \"#bd3786\"], [0.5555555555555556, \"#d8576b\"], [0.6666666666666666, \"#ed7953\"], [0.7777777777777778, \"#fb9f3a\"], [0.8888888888888888, \"#fdca26\"], [1.0, \"#f0f921\"]], \"type\": \"heatmap\"}], \"heatmapgl\": [{\"colorbar\": {\"outlinewidth\": 0, \"ticks\": \"\"}, \"colorscale\": [[0.0, \"#0d0887\"], [0.1111111111111111, \"#46039f\"], [0.2222222222222222, \"#7201a8\"], [0.3333333333333333, \"#9c179e\"], [0.4444444444444444, \"#bd3786\"], [0.5555555555555556, \"#d8576b\"], [0.6666666666666666, \"#ed7953\"], [0.7777777777777778, \"#fb9f3a\"], [0.8888888888888888, \"#fdca26\"], [1.0, \"#f0f921\"]], \"type\": \"heatmapgl\"}], \"histogram\": [{\"marker\": {\"colorbar\": {\"outlinewidth\": 0, \"ticks\": \"\"}}, \"type\": \"histogram\"}], \"histogram2d\": [{\"colorbar\": {\"outlinewidth\": 0, \"ticks\": \"\"}, \"colorscale\": [[0.0, \"#0d0887\"], [0.1111111111111111, \"#46039f\"], [0.2222222222222222, \"#7201a8\"], [0.3333333333333333, \"#9c179e\"], [0.4444444444444444, \"#bd3786\"], [0.5555555555555556, \"#d8576b\"], [0.6666666666666666, \"#ed7953\"], [0.7777777777777778, \"#fb9f3a\"], [0.8888888888888888, \"#fdca26\"], [1.0, \"#f0f921\"]], \"type\": \"histogram2d\"}], \"histogram2dcontour\": [{\"colorbar\": {\"outlinewidth\": 0, \"ticks\": \"\"}, \"colorscale\": [[0.0, \"#0d0887\"], [0.1111111111111111, \"#46039f\"], [0.2222222222222222, \"#7201a8\"], [0.3333333333333333, \"#9c179e\"], [0.4444444444444444, \"#bd3786\"], [0.5555555555555556, \"#d8576b\"], [0.6666666666666666, \"#ed7953\"], [0.7777777777777778, \"#fb9f3a\"], [0.8888888888888888, \"#fdca26\"], [1.0, \"#f0f921\"]], \"type\": \"histogram2dcontour\"}], \"mesh3d\": [{\"colorbar\": {\"outlinewidth\": 0, \"ticks\": \"\"}, \"type\": \"mesh3d\"}], \"parcoords\": [{\"line\": {\"colorbar\": {\"outlinewidth\": 0, \"ticks\": \"\"}}, \"type\": \"parcoords\"}], \"pie\": [{\"automargin\": true, \"type\": \"pie\"}], \"scatter\": [{\"marker\": {\"colorbar\": {\"outlinewidth\": 0, \"ticks\": \"\"}}, \"type\": \"scatter\"}], \"scatter3d\": [{\"line\": {\"colorbar\": {\"outlinewidth\": 0, \"ticks\": \"\"}}, \"marker\": {\"colorbar\": {\"outlinewidth\": 0, \"ticks\": \"\"}}, \"type\": \"scatter3d\"}], \"scattercarpet\": [{\"marker\": {\"colorbar\": {\"outlinewidth\": 0, \"ticks\": \"\"}}, \"type\": \"scattercarpet\"}], \"scattergeo\": [{\"marker\": {\"colorbar\": {\"outlinewidth\": 0, \"ticks\": \"\"}}, \"type\": \"scattergeo\"}], \"scattergl\": [{\"marker\": {\"colorbar\": {\"outlinewidth\": 0, \"ticks\": \"\"}}, \"type\": \"scattergl\"}], \"scattermapbox\": [{\"marker\": {\"colorbar\": {\"outlinewidth\": 0, \"ticks\": \"\"}}, \"type\": \"scattermapbox\"}], \"scatterpolar\": [{\"marker\": {\"colorbar\": {\"outlinewidth\": 0, \"ticks\": \"\"}}, \"type\": \"scatterpolar\"}], \"scatterpolargl\": [{\"marker\": {\"colorbar\": {\"outlinewidth\": 0, \"ticks\": \"\"}}, \"type\": \"scatterpolargl\"}], \"scatterternary\": [{\"marker\": {\"colorbar\": {\"outlinewidth\": 0, \"ticks\": \"\"}}, \"type\": \"scatterternary\"}], \"surface\": [{\"colorbar\": {\"outlinewidth\": 0, \"ticks\": \"\"}, \"colorscale\": [[0.0, \"#0d0887\"], [0.1111111111111111, \"#46039f\"], [0.2222222222222222, \"#7201a8\"], [0.3333333333333333, \"#9c179e\"], [0.4444444444444444, \"#bd3786\"], [0.5555555555555556, \"#d8576b\"], [0.6666666666666666, \"#ed7953\"], [0.7777777777777778, \"#fb9f3a\"], [0.8888888888888888, \"#fdca26\"], [1.0, \"#f0f921\"]], \"type\": \"surface\"}], \"table\": [{\"cells\": {\"fill\": {\"color\": \"#EBF0F8\"}, \"line\": {\"color\": \"white\"}}, \"header\": {\"fill\": {\"color\": \"#C8D4E3\"}, \"line\": {\"color\": \"white\"}}, \"type\": \"table\"}]}, \"layout\": {\"annotationdefaults\": {\"arrowcolor\": \"#2a3f5f\", \"arrowhead\": 0, \"arrowwidth\": 1}, \"coloraxis\": {\"colorbar\": {\"outlinewidth\": 0, \"ticks\": \"\"}}, \"colorscale\": {\"diverging\": [[0, \"#8e0152\"], [0.1, \"#c51b7d\"], [0.2, \"#de77ae\"], [0.3, \"#f1b6da\"], [0.4, \"#fde0ef\"], [0.5, \"#f7f7f7\"], [0.6, \"#e6f5d0\"], [0.7, \"#b8e186\"], [0.8, \"#7fbc41\"], [0.9, \"#4d9221\"], [1, \"#276419\"]], \"sequential\": [[0.0, \"#0d0887\"], [0.1111111111111111, \"#46039f\"], [0.2222222222222222, \"#7201a8\"], [0.3333333333333333, \"#9c179e\"], [0.4444444444444444, \"#bd3786\"], [0.5555555555555556, \"#d8576b\"], [0.6666666666666666, \"#ed7953\"], [0.7777777777777778, \"#fb9f3a\"], [0.8888888888888888, \"#fdca26\"], [1.0, \"#f0f921\"]], \"sequentialminus\": [[0.0, \"#0d0887\"], [0.1111111111111111, \"#46039f\"], [0.2222222222222222, \"#7201a8\"], [0.3333333333333333, \"#9c179e\"], [0.4444444444444444, \"#bd3786\"], [0.5555555555555556, \"#d8576b\"], [0.6666666666666666, \"#ed7953\"], [0.7777777777777778, \"#fb9f3a\"], [0.8888888888888888, \"#fdca26\"], [1.0, \"#f0f921\"]]}, \"colorway\": [\"#636efa\", \"#EF553B\", \"#00cc96\", \"#ab63fa\", \"#FFA15A\", \"#19d3f3\", \"#FF6692\", \"#B6E880\", \"#FF97FF\", \"#FECB52\"], \"font\": {\"color\": \"#2a3f5f\"}, \"geo\": {\"bgcolor\": \"white\", \"lakecolor\": \"white\", \"landcolor\": \"#E5ECF6\", \"showlakes\": true, \"showland\": true, \"subunitcolor\": \"white\"}, \"hoverlabel\": {\"align\": \"left\"}, \"hovermode\": \"closest\", \"mapbox\": {\"style\": \"light\"}, \"paper_bgcolor\": \"white\", \"plot_bgcolor\": \"#E5ECF6\", \"polar\": {\"angularaxis\": {\"gridcolor\": \"white\", \"linecolor\": \"white\", \"ticks\": \"\"}, \"bgcolor\": \"#E5ECF6\", \"radialaxis\": {\"gridcolor\": \"white\", \"linecolor\": \"white\", \"ticks\": \"\"}}, \"scene\": {\"xaxis\": {\"backgroundcolor\": \"#E5ECF6\", \"gridcolor\": \"white\", \"gridwidth\": 2, \"linecolor\": \"white\", \"showbackground\": true, \"ticks\": \"\", \"zerolinecolor\": \"white\"}, \"yaxis\": {\"backgroundcolor\": \"#E5ECF6\", \"gridcolor\": \"white\", \"gridwidth\": 2, \"linecolor\": \"white\", \"showbackground\": true, \"ticks\": \"\", \"zerolinecolor\": \"white\"}, \"zaxis\": {\"backgroundcolor\": \"#E5ECF6\", \"gridcolor\": \"white\", \"gridwidth\": 2, \"linecolor\": \"white\", \"showbackground\": true, \"ticks\": \"\", \"zerolinecolor\": \"white\"}}, \"shapedefaults\": {\"line\": {\"color\": \"#2a3f5f\"}}, \"ternary\": {\"aaxis\": {\"gridcolor\": \"white\", \"linecolor\": \"white\", \"ticks\": \"\"}, \"baxis\": {\"gridcolor\": \"white\", \"linecolor\": \"white\", \"ticks\": \"\"}, \"bgcolor\": \"#E5ECF6\", \"caxis\": {\"gridcolor\": \"white\", \"linecolor\": \"white\", \"ticks\": \"\"}}, \"title\": {\"x\": 0.05}, \"xaxis\": {\"automargin\": true, \"gridcolor\": \"white\", \"linecolor\": \"white\", \"ticks\": \"\", \"title\": {\"standoff\": 15}, \"zerolinecolor\": \"white\", \"zerolinewidth\": 2}, \"yaxis\": {\"automargin\": true, \"gridcolor\": \"white\", \"linecolor\": \"white\", \"ticks\": \"\", \"title\": {\"standoff\": 15}, \"zerolinecolor\": \"white\", \"zerolinewidth\": 2}}}, \"xaxis\": {\"anchor\": \"y\", \"domain\": [0.0, 0.94]}, \"yaxis\": {\"anchor\": \"x\", \"domain\": [0.0, 1.0]}, \"yaxis2\": {\"anchor\": \"x\", \"overlaying\": \"y\", \"side\": \"right\"}},\n",
       "                        {\"responsive\": true}\n",
       "                    ).then(function(){\n",
       "                            \n",
       "var gd = document.getElementById('fdffb5db-272b-46ff-91ad-dfc7e11af31f');\n",
       "var x = new MutationObserver(function (mutations, observer) {{\n",
       "        var display = window.getComputedStyle(gd).display;\n",
       "        if (!display || display === 'none') {{\n",
       "            console.log([gd, 'removed!']);\n",
       "            Plotly.purge(gd);\n",
       "            observer.disconnect();\n",
       "        }}\n",
       "}});\n",
       "\n",
       "// Listen for the removal of the full notebook cells\n",
       "var notebookContainer = gd.closest('#notebook-container');\n",
       "if (notebookContainer) {{\n",
       "    x.observe(notebookContainer, {childList: true});\n",
       "}}\n",
       "\n",
       "// Listen for the clearing of the current output cell\n",
       "var outputEl = gd.closest('.output');\n",
       "if (outputEl) {{\n",
       "    x.observe(outputEl, {childList: true});\n",
       "}}\n",
       "\n",
       "                        })\n",
       "                };\n",
       "                });\n",
       "            </script>\n",
       "        </div>"
      ]
     },
     "metadata": {},
     "output_type": "display_data"
    }
   ],
   "source": [
    "#Y_pred=reg.predict(X_in)\n",
    "from plotly.subplots import make_subplots\n",
    "#fig = go.Figure()\n",
    "# Create figure with secondary y-axis\n",
    "fig1 = make_subplots(specs=[[{\"secondary_y\": True}]])\n",
    "\n",
    "fig1.add_trace(\n",
    "    go.Scatter(x=df['Datetime'], y=df['RSI'], name='RSI'),secondary_y=False\n",
    ")\n",
    "\n",
    "for index, row in df_divergence.iterrows():\n",
    "    fig1.add_trace(go.Scatter(x=[row['start_datetime_'+str(interval)],row['end_datetime_'+str(interval)]], y=[row['start_RSI_'+str(interval)], row['end_RSI_'+str(interval)]],\n",
    "                         line = dict(color='red', width=2, dash='dash')),secondary_y=False)\n",
    "\n",
    "#fig1.add_trace(\n",
    "#    go.Scatter(x=df_divergence['Datetime'],y=df_divergence['RSI'],marker=dict(color=\"Red\",size=8),mode=\"markers\"),secondary_y=False\n",
    "#)\n",
    "\n",
    "fig1.add_trace(\n",
    "    go.Scatter(x=df['Datetime'], y=df['Close'], name='Price', yaxis=\"y2\",line= dict(color='green')),secondary_y=True\n",
    ")\n",
    "\n",
    "for index, row in df_divergence.iterrows():\n",
    "    fig1.add_trace(go.Scatter(x=[row['start_datetime_'+str(interval)],row['end_datetime_'+str(interval)]], y=[row['start_price_'+str(interval)], row['end_price_'+str(interval)]],\n",
    "                         line = dict(color='yellow', width=2, dash='dash'), yaxis=\"y2\"),secondary_y=True)\n",
    "fig1.show()"
   ]
  },
  {
   "cell_type": "markdown",
   "metadata": {},
   "source": [
    "### RSI Divergence Analysis"
   ]
  },
  {
   "cell_type": "markdown",
   "metadata": {},
   "source": []
  },
  {
   "cell_type": "code",
   "execution_count": null,
   "metadata": {},
   "outputs": [],
   "source": []
  }
 ],
 "metadata": {
  "kernelspec": {
   "display_name": "Python 3",
   "language": "python",
   "name": "python3"
  },
  "language_info": {
   "codemirror_mode": {
    "name": "ipython",
    "version": 3
   },
   "file_extension": ".py",
   "mimetype": "text/x-python",
   "name": "python",
   "nbconvert_exporter": "python",
   "pygments_lexer": "ipython3",
   "version": "3.6.10"
  }
 },
 "nbformat": 4,
 "nbformat_minor": 4
}
