{
 "cells": [
  {
   "cell_type": "code",
   "execution_count": null,
   "metadata": {},
   "outputs": [],
   "source": [
    "from session_handler import *\n",
    "#from counter import Counter\n",
    "from datetime import time as dtime\n",
    "from datetime import date,datetime,timedelta\n",
    "from klse_scrapper import *\n",
    "from shareinvestor_scrapper import *"
   ]
  },
  {
   "cell_type": "code",
   "execution_count": null,
   "metadata": {},
   "outputs": [],
   "source": [
    "generate_session()"
   ]
  },
  {
   "cell_type": "code",
   "execution_count": null,
   "metadata": {},
   "outputs": [],
   "source": [
    "harta=Counter(symbol='HARTA',counter='5168',scheduler_on=True)\n",
    "topglov=Counter(symbol='TOPGLOV',counter='7081',scheduler_on=True)\n",
    "#supermx=Counter(symbol='SUPERMX',counter='7106',scheduler_on=True)"
   ]
  },
  {
   "cell_type": "code",
   "execution_count": null,
   "metadata": {},
   "outputs": [],
   "source": [
    "tomorrow=date.today()+ timedelta(days=1)\n",
    "datetime.combine(tomorrow, dtime(9)).timestamp()"
   ]
  },
  {
   "cell_type": "code",
   "execution_count": 21,
   "metadata": {},
   "outputs": [
    {
     "name": "stdout",
     "output_type": "stream",
     "text": [
      "\"None of ['time'] are in the columns\"\n",
      "\"None of ['time'] are in the columns\"\n",
      "CSV exists. Not going to crawl.\n",
      "CSV exists. Not going to crawl.\n",
      "\"None of ['time'] are in the columns\"\n",
      "\"None of ['time'] are in the columns\"\n",
      "CSV exists. Not going to crawl.\n",
      "CSV exists. Not going to crawl.\n",
      "\"None of ['time'] are in the columns\"\n",
      "\"None of ['time'] are in the columns\"\n",
      "CSV exists. Not going to crawl.\n",
      "CSV exists. Not going to crawl.\n",
      "\"None of ['time'] are in the columns\"\n",
      "\"None of ['time'] are in the columns\"\n",
      "CSV exists. Not going to crawl.\n",
      "CSV exists. Not going to crawl.\n",
      "\"None of ['time'] are in the columns\"\n",
      "\"None of ['time'] are in the columns\"\n",
      "CSV exists. Not going to crawl.\n",
      "CSV exists. Not going to crawl.\n",
      "\"None of ['time'] are in the columns\"\n",
      "\"None of ['time'] are in the columns\"\n",
      "CSV exists. Not going to crawl.\n",
      "\"None of ['time'] are in the columns\"\n",
      "\"None of ['time'] are in the columns\"\n",
      "CSV exists. Not going to crawl.\n",
      "CSV exists. Not going to crawl.\n",
      "\"None of ['time'] are in the columns\"\n",
      "\"None of ['time'] are in the columns\"\n",
      "CSV exists. Not going to crawl.\n",
      "CSV exists. Not going to crawl.\n",
      "\"None of ['time'] are in the columns\"\n",
      "\"None of ['time'] are in the columns\"\n",
      "CSV exists. Not going to crawl.\n",
      "CSV exists. Not going to crawl.\n",
      "\"None of ['time'] are in the columns\"\n",
      "\"None of ['time'] are in the columns\"\n",
      "CSV exists. Not going to crawl.\n",
      "CSV exists. Not going to crawl.\n",
      "\"None of ['time'] are in the columns\"\n",
      "\"None of ['time'] are in the columns\"\n",
      "CSV exists. Not going to crawl.\n",
      "CSV exists. Not going to crawl.\n",
      "\"None of ['time'] are in the columns\"\n",
      "\"None of ['time'] are in the columns\"\n",
      "CSV exists. Not going to crawl.\n",
      "CSV exists. Not going to crawl.\n",
      "\"None of ['time'] are in the columns\"\n",
      "\"None of ['time'] are in the columns\"\n",
      "CSV exists. Not going to crawl.\n",
      "CSV exists. Not going to crawl.\n",
      "Wall time: 31.3 s\n"
     ]
    }
   ],
   "source": [
    "#test case for mine price data\n",
    "session=read_session()\n",
    "category='Health Care'\n",
    "tomorrow=date.today()+ timedelta(days=1)\n",
    "to_=datetime.combine(tomorrow, dtime(9)).timestamp()\n",
    "yesterday=date.today() + timedelta(days=-3)\n",
    "from_=datetime.combine(yesterday, dtime(9)).timestamp()\n",
    "#mine_price_data('Main Market',category,'1m',from_,to_)\n",
    "%time mine_quote_movements(session=session,board='Main Market',category=category,from_=from_,to_=to_)"
   ]
  },
  {
   "cell_type": "code",
   "execution_count": null,
   "metadata": {},
   "outputs": [],
   "source": [
    "session=read_session()\n",
    "\n",
    "\n",
    "%time mine_quote_movements(session=session,board='Main Market',category='Energy',from_=1592180738,to_=1592310338)"
   ]
  },
  {
   "cell_type": "code",
   "execution_count": null,
   "metadata": {},
   "outputs": [],
   "source": [
    "comfort=Counter('COMFORT','2127',scheduler_on=False)"
   ]
  },
  {
   "cell_type": "code",
   "execution_count": null,
   "metadata": {},
   "outputs": [],
   "source": [
    "comfort=Counter('COMFORT','2127')"
   ]
  },
  {
   "cell_type": "code",
   "execution_count": null,
   "metadata": {},
   "outputs": [],
   "source": [
    "print('test')"
   ]
  },
  {
   "cell_type": "code",
   "execution_count": null,
   "metadata": {},
   "outputs": [],
   "source": []
  }
 ],
 "metadata": {
  "kernelspec": {
   "display_name": "Python 3",
   "language": "python",
   "name": "python3"
  },
  "language_info": {
   "codemirror_mode": {
    "name": "ipython",
    "version": 3
   },
   "file_extension": ".py",
   "mimetype": "text/x-python",
   "name": "python",
   "nbconvert_exporter": "python",
   "pygments_lexer": "ipython3",
   "version": "3.6.10"
  }
 },
 "nbformat": 4,
 "nbformat_minor": 4
}
